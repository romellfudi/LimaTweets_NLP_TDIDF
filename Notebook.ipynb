{
 "cells": [
  {
   "cell_type": "code",
   "execution_count": 47,
   "metadata": {},
   "outputs": [],
   "source": [
    "import os\n",
    "import tweepy\n",
    "from tweepy import Stream\n",
    "\n",
    "import netrc\n",
    "\n",
    "from unidecode import unidecode\n",
    "import re\n",
    "\n",
    "from tweepy import StreamListener\n",
    "\n",
    "%matplotlib inline\n",
    "\n",
    "from pprint import pprint\n",
    "import pandas as pd\n",
    "\n",
    "import random\n",
    "from scipy.stats import beta as beta_distribution\n",
    "import numpy as np\n",
    "\n",
    "from nltk.corpus import stopwords \n",
    "from nltk.stem.wordnet import WordNetLemmatizer\n",
    "import string\n",
    "\n",
    "import gensim\n",
    "from gensim import corpora\n",
    "\n",
    "import pyLDAvis\n",
    "import pyLDAvis.gensim  # don't skip this\n",
    "\n",
    "from gensim.models.ldamodel import LdaModel\n",
    "import nltk\n",
    "from nltk.corpus import stopwords\n",
    "from nltk import word_tokenize\n",
    "from nltk.data import load\n",
    "from nltk.stem import SnowballStemmer\n",
    "from string import punctuation\n",
    "from sklearn.feature_extraction.text import CountVectorizer\n",
    "\n",
    "from sklearn.pipeline import Pipeline\n",
    "from sklearn.svm import LinearSVC\n",
    "from sklearn.model_selection import GridSearchCV\n",
    "\n",
    "from textblob import Word\n",
    "from textblob import TextBlob\n",
    "\n",
    "from sklearn.feature_extraction.text import TfidfVectorizer\n",
    "import warnings\n",
    "warnings.simplefilter('ignore' )\n",
    "\n",
    "from sklearn.manifold import TSNE\n",
    "import matplotlib.pyplot as plt"
   ]
  },
  {
   "cell_type": "code",
   "execution_count": 2,
   "metadata": {},
   "outputs": [],
   "source": [
    "auth = netrc.netrc()\n",
    "ckey,_,csecret=auth.authenticators('tweet_api')\n",
    "atoken,_,asecret=auth.authenticators('tweet_secret')"
   ]
  },
  {
   "cell_type": "markdown",
   "metadata": {},
   "source": [
    "[BoundingBox](https://boundingbox.klokantech.com/)\n",
    "CSV RAW"
   ]
  },
  {
   "cell_type": "code",
   "execution_count": 3,
   "metadata": {},
   "outputs": [],
   "source": [
    "LIMA_GEO_LOCATION_BOUNDING_BOX = [-77.1785277831,-12.1531578397,-76.8967618806,-11.9288928156]\n",
    "auth = tweepy.OAuthHandler(ckey, csecret)\n",
    "auth.set_access_token(atoken, asecret)\n",
    "api = tweepy.API(auth)"
   ]
  },
  {
   "cell_type": "code",
   "execution_count": 4,
   "metadata": {},
   "outputs": [],
   "source": [
    "class FiniteStreamListener(StreamListener):\n",
    "    \n",
    "    def __init__(self, number_of_tweets):\n",
    "        self.number_of_tweets = number_of_tweets\n",
    "        self.tweets = []\n",
    "        super(FiniteStreamListener,self).__init__()\n",
    "        \n",
    "    def on_status(self, status):\n",
    "        if len(self.tweets) < self.number_of_tweets:\n",
    "            self.tweets.append({'date':status.created_at,\n",
    "                                'text':status.text,\n",
    "                                'location':status._json['place']['name'],\n",
    "                                'followers':status._json['user']['followers_count']})\n",
    "        else:\n",
    "            return False\n",
    "        "
   ]
  },
  {
   "cell_type": "code",
   "execution_count": 5,
   "metadata": {},
   "outputs": [],
   "source": [
    "NUMBER_OF_TWEETS = 1000\n",
    "finite_stream_listener = FiniteStreamListener(number_of_tweets=NUMBER_OF_TWEETS)\n",
    "streaming_api = Stream(auth=auth, listener=finite_stream_listener,timeout=60)"
   ]
  },
  {
   "cell_type": "code",
   "execution_count": 6,
   "metadata": {},
   "outputs": [
    {
     "name": "stderr",
     "output_type": "stream",
     "text": [
      "<input>:4: DeprecationWarning: 'async' and 'await' will become reserved keywords in Python 3.7\n",
      "<input>:4: DeprecationWarning: 'async' and 'await' will become reserved keywords in Python 3.7\n",
      "<input>:4: DeprecationWarning: 'async' and 'await' will become reserved keywords in Python 3.7\n",
      "<ipython-input-6-34255b71a6df>:4: DeprecationWarning: 'async' and 'await' will become reserved keywords in Python 3.7\n",
      "  streaming_api.filter(locations=LIMA_GEO_LOCATION_BOUNDING_BOX,async=True)\n"
     ]
    }
   ],
   "source": [
    "EMOTICONS = \">:] :-) :) :o) :] :3 :c) :> =] 8) =) :} :^) \"\n",
    "EMOTICONS = EMOTICONS.strip().split(' ')\n",
    "# streaming_api.filter(track=EMOTICONS,locations=LIMA_GEO_LOCATION_BOUNDING_BOX)\n",
    "streaming_api.filter(locations=LIMA_GEO_LOCATION_BOUNDING_BOX,async=True)"
   ]
  },
  {
   "cell_type": "code",
   "execution_count": 7,
   "metadata": {},
   "outputs": [],
   "source": [
    "def make_lowercase(tweet):\n",
    "    return tweet.lower()\n",
    "\n",
    "def remove_diacritics(tweet):\n",
    "    return unidecode(tweet)\n",
    "\n",
    "def remove_non_alpha_characters(tweet):\n",
    "    return ''.join(character for character in tweet if character.isalpha() or character == ' ')\n",
    "\n",
    "def remove_web_site(tweet):\n",
    "    return re.sub(r'http\\w+', '', tweet)#, flags=re.MULTILINE)"
   ]
  },
  {
   "cell_type": "code",
   "execution_count": 924,
   "metadata": {},
   "outputs": [
    {
     "name": "stdout",
     "output_type": "stream",
     "text": [
      "942\n"
     ]
    }
   ],
   "source": [
    "print(len(finite_stream_listener.tweets))"
   ]
  },
  {
   "cell_type": "code",
   "execution_count": 925,
   "metadata": {},
   "outputs": [],
   "source": [
    "tweets_df = pd.DataFrame.from_dict(finite_stream_listener.tweets)\n",
    "tweets_df.rename(columns={'text':'Tweets'},inplace=True)"
   ]
  },
  {
   "cell_type": "code",
   "execution_count": 926,
   "metadata": {},
   "outputs": [],
   "source": [
    "tweets_df['word_count'] = tweets_df['Tweets'].apply(lambda x: len(str(x).split(\" \")))\n",
    "tweets_df['char_count'] = tweets_df['Tweets'].str.len()\n",
    "\n",
    "def avg_word(sentence):\n",
    "    words = sentence.split()\n",
    "    return (sum(len(word) for word in words)/len(words))\n",
    "\n",
    "tweets_df['avg_word'] = tweets_df['Tweets'].apply(lambda x: avg_word(x))\n",
    "tweets_df['hastags'] = tweets_df['Tweets'].apply(lambda x: len([x for x in x.split() if x.startswith('#')]))\n",
    "tweets_df['numerics'] = tweets_df['Tweets'].apply(lambda x: len([x for x in x.split() if x.isdigit()]))"
   ]
  },
  {
   "cell_type": "code",
   "execution_count": 927,
   "metadata": {},
   "outputs": [],
   "source": [
    "cleaned_tweets = list(tweets_df['Tweets'])\n",
    "for cleaning_function in \\\n",
    "    [make_lowercase, \n",
    "#      remove_diacritics,\n",
    "     remove_non_alpha_characters,\n",
    "     remove_web_site]:\n",
    "    cleaned_tweets = [cleaning_function(tweet) for tweet in cleaned_tweets]"
   ]
  },
  {
   "cell_type": "code",
   "execution_count": 928,
   "metadata": {},
   "outputs": [
    {
     "data": {
      "text/plain": [
       "['segundo día consecutivo que veo este vehículo donando alimentos a los refugiados que esperan afuera de migraciones ',\n",
       " 'bonattidi no te das cuenta que la policía no kiere cuidar para tirarse esa plata de los operativos',\n",
       " 'hay  palabras que te abren las puertas en esta vida             jale y empuje',\n",
       " 'wynnsummoner por los esteroides anabólicos más bien ',\n",
       " 'el papi ya podrá visitar la tiendita de mi papicha mariogu es un buen daaaaaaaato']"
      ]
     },
     "execution_count": 928,
     "metadata": {},
     "output_type": "execute_result"
    }
   ],
   "source": [
    "random.sample(cleaned_tweets,5)"
   ]
  },
  {
   "cell_type": "code",
   "execution_count": 929,
   "metadata": {},
   "outputs": [
    {
     "name": "stdout",
     "output_type": "stream",
     "text": [
      "Nuestra palabra clave aparece: 73 veces\n",
      "Nuestra palabra clave apareció en: 7.3% de los tweets\n"
     ]
    }
   ],
   "source": [
    "KEYWORD='lima'\n",
    "number_of_occurences = sum(KEYWORD in tweet for tweet in cleaned_tweets)\n",
    "print('Nuestra palabra clave aparece: {} veces'.format(number_of_occurences))\n",
    "print('Nuestra palabra clave apareció en: {}% de los tweets'.format(100 * number_of_occurences/NUMBER_OF_TWEETS))"
   ]
  },
  {
   "cell_type": "code",
   "execution_count": 930,
   "metadata": {},
   "outputs": [
    {
     "name": "stdout",
     "output_type": "stream",
     "text": [
      "['im at tacna  emancipación in lima  ',\n",
      " 'im at ministerio de la mujer y poblaciones vulnerables in cercado de lima '\n",
      " 'lima ',\n",
      " 'navidad en el cielo y la tierra   mibanco in surquillo lima ',\n",
      " 'el partido en moyobamba hace rato que se terminó lo gana bien alianza lima '\n",
      " 'tendrían que suceder dos milagros de e ',\n",
      " 'campaña panetones  ogilvy amp mather  ogilvype in lima ']\n"
     ]
    }
   ],
   "source": [
    "pprint([tweet for tweet in cleaned_tweets if KEYWORD in tweet][:5])"
   ]
  },
  {
   "cell_type": "code",
   "execution_count": 931,
   "metadata": {},
   "outputs": [
    {
     "name": "stdout",
     "output_type": "stream",
     "text": [
      "index de los 10 tweets:[9, 13, 24, 35, 54, 86, 97, 100, 105, 111, 112, 121, 148, 167, 176, 219, 227, 243, 246, 247, 273, 278, 280, 286, 304, 320, 322, 330, 361, 365, 376, 382, 385, 396, 410, 418, 423, 440, 450, 484, 486, 495, 499, 501, 507, 529, 535, 544, 608, 636, 637, 638, 645, 663, 670, 681, 686, 705, 744, 754, 761, 765, 789, 799, 846, 863, 869, 879, 890, 909, 925, 933, 941]\n"
     ]
    }
   ],
   "source": [
    "indices_of_tweets_containing_keyword=[index for index, tweet in enumerate(cleaned_tweets) if KEYWORD in tweet]\n",
    "print('index de los 10 tweets:%s'%(indices_of_tweets_containing_keyword))"
   ]
  },
  {
   "cell_type": "code",
   "execution_count": 932,
   "metadata": {},
   "outputs": [],
   "source": [
    "distances_between_indices_of_tweets_containing_keyword = [\n",
    "    second_index - first_index for first_index, second_index in \\\n",
    "        zip(indices_of_tweets_containing_keyword[:-1], indices_of_tweets_containing_keyword[1:])\n",
    "]"
   ]
  },
  {
   "cell_type": "code",
   "execution_count": 933,
   "metadata": {},
   "outputs": [
    {
     "data": {
      "image/png": "[encoded data removed]",
      "text/plain": [
       "<Figure size 432x288 with 1 Axes>"
      ]
     },
     "metadata": {},
     "output_type": "display_data"
    }
   ],
   "source": [
    "pd.Series(distances_between_indices_of_tweets_containing_keyword).hist()\n",
    "plt.savefig('lima_tweets_hist.png')"
   ]
  },
  {
   "cell_type": "code",
   "execution_count": 934,
   "metadata": {},
   "outputs": [],
   "source": [
    "alpha = 1 + number_of_occurences\n",
    "beta = 1 + (NUMBER_OF_TWEETS - number_of_occurences)\n",
    "\n",
    "x_values = np.linspace(0, 1, 1002)[1:-1]\n",
    "pdf_y_values = beta_distribution(alpha, beta).pdf(x_values)\n",
    "cdf_y_values = np.cumsum(pdf_y_values) / np.sum(pdf_y_values)"
   ]
  },
  {
   "cell_type": "code",
   "execution_count": 935,
   "metadata": {},
   "outputs": [
    {
     "data": {
      "image/png": "[encoded data removed]",
      "text/plain": [
       "<Figure size 1296x432 with 2 Axes>"
      ]
     },
     "metadata": {},
     "output_type": "display_data"
    }
   ],
   "source": [
    "plt.figure(figsize=(18, 6))\n",
    "plt.subplot(121)\n",
    "plt.plot(x_values, pdf_y_values, label=(r'$\\alpha=%.1f,\\ \\beta=%.1f$' % (alpha, beta)))\n",
    "\n",
    "plt.xlim(0, 1)\n",
    "plt.xlabel('Probability of tweet containing keyword')\n",
    "plt.ylabel('Probability density')\n",
    "plt.title('Beta Distribution PDF')\n",
    "plt.legend(loc=1)\n",
    "\n",
    "plt.subplot(122)\n",
    "plt.plot(x_values, cdf_y_values)\n",
    "plt.xlim(0, 1)\n",
    "plt.ylim(0, 1.005)\n",
    "plt.yticks(np.linspace(0, 1, 21))\n",
    "plt.xlabel('Probability of tweet containing keyword')\n",
    "plt.ylabel('Cumulative probability')\n",
    "plt.title('Beta Distribution CDF')\n",
    "plt.savefig('Beta Distribution CDF.png');"
   ]
  },
  {
   "cell_type": "code",
   "execution_count": 936,
   "metadata": {},
   "outputs": [],
   "source": [
    "ix = [n for n,b in enumerate((cdf_y_values>.5)&(cdf_y_values<.95)) if b]"
   ]
  },
  {
   "cell_type": "code",
   "execution_count": 937,
   "metadata": {},
   "outputs": [],
   "source": [
    "range_ =cdf_y_values[ix]"
   ]
  },
  {
   "cell_type": "code",
   "execution_count": 938,
   "metadata": {},
   "outputs": [],
   "source": [
    "a=np.c_[x_values[ix],cdf_y_values[ix]]\n",
    "max_ix,_ = np.unravel_index(a.argmax(), a.shape)\n",
    "min_ix,_ = np.unravel_index(a.argmin(), a.shape)\n",
    "fifth_percentile, ninety_fifth_percentile = x_values[max_ix],x_values[min_ix]"
   ]
  },
  {
   "cell_type": "code",
   "execution_count": 939,
   "metadata": {},
   "outputs": [
    {
     "name": "stdout",
     "output_type": "stream",
     "text": [
      "Con 90% de certeza digamos que la verdadera probabilidad se encuentra entre: 0.013986014 y 0.000999001\n"
     ]
    }
   ],
   "source": [
    "print('Con 90% de certeza digamos que la verdadera probabilidad se encuentra entre: {} y {}'.format(\n",
    "    round(fifth_percentile, 10), round(ninety_fifth_percentile, 10)))"
   ]
  },
  {
   "cell_type": "code",
   "execution_count": 940,
   "metadata": {},
   "outputs": [
    {
     "name": "stdout",
     "output_type": "stream",
     "text": [
      "La probabilidad que la verdadera probabilidad es > .1 es: 0.0015664324813199348\n"
     ]
    }
   ],
   "source": [
    "def compute_total_probability_that_probability_less_than_p(p):\n",
    "    return max(cumulative_prob for cumulative_prob, x_value in zip(cdf_y_values, x_values) if x_value < p)\n",
    "\n",
    "print('La probabilidad que la verdadera probabilidad es > .1 es: {}'.format(\n",
    "    1 - compute_total_probability_that_probability_less_than_p(.1)))"
   ]
  },
  {
   "cell_type": "code",
   "execution_count": 941,
   "metadata": {},
   "outputs": [
    {
     "data": {
      "image/png": "[encoded data removed]",
      "text/plain": [
       "<Figure size 432x288 with 1 Axes>"
      ]
     },
     "metadata": {},
     "output_type": "display_data"
    }
   ],
   "source": [
    "tweets_df.groupby('location').agg({'location':len}).sort_values('location').iloc[-15:].plot(kind='barh')\n",
    "plt.title('Most Frequent locations')\n",
    "plt.xlabel('Cantidad')\n",
    "plt.tight_layout()\n",
    "plt.savefig('most Frequent locations.png');"
   ]
  },
  {
   "cell_type": "code",
   "execution_count": 942,
   "metadata": {},
   "outputs": [],
   "source": [
    "tweets_df.to_csv('lima_tweets.csv',index=None)"
   ]
  },
  {
   "cell_type": "code",
   "execution_count": 960,
   "metadata": {},
   "outputs": [],
   "source": [
    "tweets_df = pd.read_csv('lima_tweets.csv')"
   ]
  },
  {
   "cell_type": "code",
   "execution_count": 1006,
   "metadata": {},
   "outputs": [],
   "source": [
    "doc_complete = tweets_df.Tweets.values\n",
    "exclude = set(string.punctuation) \n",
    "lemma = WordNetLemmatizer()\n",
    "def clean(doc):\n",
    "    stop_free = \" \".join([i for i in doc.lower().split() if i not in stop])\n",
    "    punc_free = ''.join(ch for ch in stop_free if ch not in exclude)\n",
    "    normalized = \" \".join(lemma.lemmatize(word) for word in punc_free.split())\n",
    "    return normalized\n",
    "\n",
    "doc_clean = [clean(doc).split() for doc in doc_complete]   \n",
    "tweets_df.dropna(inplace=True)"
   ]
  },
  {
   "cell_type": "code",
   "execution_count": 1007,
   "metadata": {},
   "outputs": [],
   "source": [
    "tweets_df['Tweets_clean'] = pd.Series(doc_clean).apply(lambda x:' '.join(x))\n",
    "tweets_df['word_count'] = tweets_df['Tweets_clean'].apply(lambda x: len(str(x).split(\" \")))\n",
    "tweets_df['char_count'] = tweets_df['Tweets_clean'].str.len()"
   ]
  },
  {
   "cell_type": "code",
   "execution_count": 1036,
   "metadata": {},
   "outputs": [
    {
     "data": {
      "text/html": [
       "<div>\n",
       "<style scoped>\n",
       "    .dataframe tbody tr th:only-of-type {\n",
       "        vertical-align: middle;\n",
       "    }\n",
       "\n",
       "    .dataframe tbody tr th {\n",
       "        vertical-align: top;\n",
       "    }\n",
       "\n",
       "    .dataframe thead th {\n",
       "        text-align: right;\n",
       "    }\n",
       "</style>\n",
       "<table border=\"1\" class=\"dataframe\">\n",
       "  <thead>\n",
       "    <tr style=\"text-align: right;\">\n",
       "      <th></th>\n",
       "      <th>date</th>\n",
       "      <th>followers</th>\n",
       "      <th>location</th>\n",
       "      <th>Tweets</th>\n",
       "      <th>word_count</th>\n",
       "      <th>char_count</th>\n",
       "      <th>avg_word</th>\n",
       "      <th>hastags</th>\n",
       "      <th>numerics</th>\n",
       "      <th>Tweets_clean</th>\n",
       "      <th>ACTIONS</th>\n",
       "      <th>NOUNS</th>\n",
       "    </tr>\n",
       "  </thead>\n",
       "  <tbody>\n",
       "    <tr>\n",
       "      <th>0</th>\n",
       "      <td>2018-09-21 22:03:22</td>\n",
       "      <td>279</td>\n",
       "      <td>Magdalena Vieja</td>\n",
       "      <td>Cachito si la vas a seguir perdiendo al menos haz el esfuerzo de recuperarla</td>\n",
       "      <td>8</td>\n",
       "      <td>58</td>\n",
       "      <td>6.375000</td>\n",
       "      <td>0</td>\n",
       "      <td>0</td>\n",
       "      <td>cachito va seguir perdiendo menos haz esfuerzo recuperarla</td>\n",
       "      <td>perdiendo, haz</td>\n",
       "      <td>esfuerzo</td>\n",
       "    </tr>\n",
       "    <tr>\n",
       "      <th>1</th>\n",
       "      <td>2018-09-21 22:03:27</td>\n",
       "      <td>2664</td>\n",
       "      <td>Lima</td>\n",
       "      <td>obrigada meu Deus pela terceira viagem internacional em menos de um ano! Há uns dois anos atrás eu não acharia isso ...</td>\n",
       "      <td>13</td>\n",
       "      <td>106</td>\n",
       "      <td>7.230769</td>\n",
       "      <td>0</td>\n",
       "      <td>0</td>\n",
       "      <td>edusobrino claro facilidad q transita comercio preocupante sucede xq jugamos volante c… httpstcotampwuzwlx</td>\n",
       "      <td>leao</td>\n",
       "      <td>veces</td>\n",
       "    </tr>\n",
       "    <tr>\n",
       "      <th>2</th>\n",
       "      <td>2018-09-21 22:03:33</td>\n",
       "      <td>74</td>\n",
       "      <td>Independencia</td>\n",
       "      <td>@Edu_Sobrino Claro la facilidad con la q transita comercio es preocupante, y eso sucede xq jugamos sin volante de C…...</td>\n",
       "      <td>3</td>\n",
       "      <td>18</td>\n",
       "      <td>5.333333</td>\n",
       "      <td>0</td>\n",
       "      <td>0</td>\n",
       "      <td>cuantas veces leao</td>\n",
       "      <td>colocan, sé</td>\n",
       "      <td>leninguari</td>\n",
       "    </tr>\n",
       "    <tr>\n",
       "      <th>3</th>\n",
       "      <td>2018-09-21 22:03:35</td>\n",
       "      <td>497</td>\n",
       "      <td>San isidro</td>\n",
       "      <td>Cuantas veces Leao</td>\n",
       "      <td>12</td>\n",
       "      <td>96</td>\n",
       "      <td>7.083333</td>\n",
       "      <td>0</td>\n",
       "      <td>0</td>\n",
       "      <td>leninguari alexdar228 bueno sé sé colocan excusa contratarte consabido ptp p… httpstcofs7kqpnbp7</td>\n",
       "      <td>matar, httpstcogoztpltwtz, anulado, engañar</td>\n",
       "      <td>inmunidad</td>\n",
       "    </tr>\n",
       "    <tr>\n",
       "      <th>4</th>\n",
       "      <td>2018-09-21 22:03:50</td>\n",
       "      <td>42266</td>\n",
       "      <td>Peru</td>\n",
       "      <td>@Leninguari @AlexDar228 Bueno yo no sé. Lo que si sé es que colocan como excusa para contratarte el consabido PTP p…...</td>\n",
       "      <td>10</td>\n",
       "      <td>89</td>\n",
       "      <td>8.000000</td>\n",
       "      <td>0</td>\n",
       "      <td>0</td>\n",
       "      <td>inmunidad debe anulado inmunidad robar matar engañar inmunidad jueces… httpstcogoztpltwtz</td>\n",
       "      <td>informó, iniciar</td>\n",
       "      <td>atención</td>\n",
       "    </tr>\n",
       "  </tbody>\n",
       "</table>\n",
       "</div>"
      ],
      "text/plain": [
       "                  date  followers         location  \\\n",
       "0  2018-09-21 22:03:22        279  Magdalena Vieja   \n",
       "1  2018-09-21 22:03:27       2664             Lima   \n",
       "2  2018-09-21 22:03:33         74    Independencia   \n",
       "3  2018-09-21 22:03:35        497       San isidro   \n",
       "4  2018-09-21 22:03:50      42266             Peru   \n",
       "\n",
       "                                                                                                                    Tweets  \\\n",
       "0                                             Cachito si la vas a seguir perdiendo al menos haz el esfuerzo de recuperarla   \n",
       "1  obrigada meu Deus pela terceira viagem internacional em menos de um ano! Há uns dois anos atrás eu não acharia isso ...   \n",
       "2  @Edu_Sobrino Claro la facilidad con la q transita comercio es preocupante, y eso sucede xq jugamos sin volante de C…...   \n",
       "3                                                                                                       Cuantas veces Leao   \n",
       "4  @Leninguari @AlexDar228 Bueno yo no sé. Lo que si sé es que colocan como excusa para contratarte el consabido PTP p…...   \n",
       "\n",
       "   word_count  char_count  avg_word  hastags  numerics  \\\n",
       "0           8          58  6.375000        0         0   \n",
       "1          13         106  7.230769        0         0   \n",
       "2           3          18  5.333333        0         0   \n",
       "3          12          96  7.083333        0         0   \n",
       "4          10          89  8.000000        0         0   \n",
       "\n",
       "                                                                                                 Tweets_clean  \\\n",
       "0                                                  cachito va seguir perdiendo menos haz esfuerzo recuperarla   \n",
       "1  edusobrino claro facilidad q transita comercio preocupante sucede xq jugamos volante c… httpstcotampwuzwlx   \n",
       "2                                                                                          cuantas veces leao   \n",
       "3            leninguari alexdar228 bueno sé sé colocan excusa contratarte consabido ptp p… httpstcofs7kqpnbp7   \n",
       "4                   inmunidad debe anulado inmunidad robar matar engañar inmunidad jueces… httpstcogoztpltwtz   \n",
       "\n",
       "                                       ACTIONS       NOUNS  \n",
       "0                               perdiendo, haz    esfuerzo  \n",
       "1                                         leao       veces  \n",
       "2                                  colocan, sé  leninguari  \n",
       "3  matar, httpstcogoztpltwtz, anulado, engañar   inmunidad  \n",
       "4                             informó, iniciar    atención  "
      ]
     },
     "execution_count": 1036,
     "metadata": {},
     "output_type": "execute_result"
    }
   ],
   "source": [
    "def avg_word(sentence):\n",
    "    words = sentence.split()\n",
    "    if len(words)==0:\n",
    "        return 0\n",
    "    return (sum(len(word) for word in words)/len(words))\n",
    "\n",
    "tweets_df['avg_word'] = tweets_df['Tweets_clean'].apply(lambda x: avg_word(x))\n",
    "tweets_df['hastags'] = tweets_df['Tweets'].apply(lambda x: len([x for x in x.split() if x.startswith('#')]))\n",
    "tweets_df['numerics'] = tweets_df['Tweets'].apply(lambda x: len([x for x in x.split() if x.isdigit()]))\n",
    "tweets_df.head()"
   ]
  },
  {
   "cell_type": "code",
   "execution_count": 1037,
   "metadata": {},
   "outputs": [
    {
     "data": {
      "image/png": "[encoded data removed]",
      "text/plain": [
       "<Figure size 432x288 with 1 Axes>"
      ]
     },
     "metadata": {},
     "output_type": "display_data"
    }
   ],
   "source": [
    "freq = pd.Series(' '.join(tweets_df['Tweets_clean']).split()).value_counts()[:10]\n",
    "freq.plot(kind='barh')\n",
    "plt.title('Most Frequent words')\n",
    "plt.xlabel('Count')\n",
    "plt.tight_layout()\n",
    "plt.savefig('most Frequent words.png');"
   ]
  },
  {
   "cell_type": "code",
   "execution_count": 1038,
   "metadata": {},
   "outputs": [
    {
     "name": "stdout",
     "output_type": "stream",
     "text": [
      "0                                                    cachito va seguir perdiendo menos haz esfuerzo recuperarla\n",
      "1    edusobrino claro facilidad q transita comercio preocupante sucede xq jugamos volante c… httpstcotampwuzwlx\n",
      "Name: Tweets_clean, dtype: object\n"
     ]
    }
   ],
   "source": [
    "pprint(tweets_df['Tweets_clean'][:2])"
   ]
  },
  {
   "cell_type": "code",
   "execution_count": 1039,
   "metadata": {},
   "outputs": [],
   "source": [
    "dictionary = corpora.Dictionary(tweets_df['Tweets_clean'].apply(lambda x:x.split()))\n",
    "\n",
    "# Converting list of documents (corpus) into Document Term Matrix using dictionary prepared above.\n",
    "doc_term_matrix = [dictionary.doc2bow(doc) for doc in doc_clean]"
   ]
  },
  {
   "cell_type": "code",
   "execution_count": 1040,
   "metadata": {},
   "outputs": [
    {
     "name": "stdout",
     "output_type": "stream",
     "text": [
      "[[(0, 1), (1, 1), (2, 1), (3, 1), (4, 1), (5, 1), (6, 1), (7, 1)], [(3, 1)]]\n"
     ]
    }
   ],
   "source": [
    "pprint(doc_term_matrix[:2])"
   ]
  },
  {
   "cell_type": "code",
   "execution_count": 1041,
   "metadata": {},
   "outputs": [],
   "source": [
    "Lda = gensim.models.ldamodel.LdaModel\n",
    "ldamodel = Lda(doc_term_matrix, num_topics=3, id2word = dictionary, passes=50)"
   ]
  },
  {
   "cell_type": "code",
   "execution_count": 1042,
   "metadata": {},
   "outputs": [
    {
     "name": "stdout",
     "output_type": "stream",
     "text": [
      "[(0, '0.023*\"lima\" + 0.014*\"peru\" + 0.011*\"mejor\"'),\n",
      " (1, '0.016*\"quiero\" + 0.014*\"bien\" + 0.013*\"phillbutters\"'),\n",
      " (2, '0.011*\"ver\" + 0.009*\"perú\" + 0.009*\"no\"')]\n"
     ]
    }
   ],
   "source": [
    "from pprint import pprint\n",
    "pprint(ldamodel.print_topics(num_topics=3, num_words=3))"
   ]
  },
  {
   "cell_type": "code",
   "execution_count": 1043,
   "metadata": {},
   "outputs": [],
   "source": [
    "# from gensim.test.utils import datapath\n",
    "# fname = datapath(\"lda_lima_tweet_model\")\n",
    "ldamodel.save(\"lda_lima_tweet_model\")"
   ]
  },
  {
   "cell_type": "code",
   "execution_count": 1044,
   "metadata": {},
   "outputs": [],
   "source": [
    "from gensim.models.ldamodel import LdaModel\n",
    "ldamodel = LdaModel.load(\"lda_lima_tweet_model\")"
   ]
  },
  {
   "cell_type": "code",
   "execution_count": 1045,
   "metadata": {},
   "outputs": [],
   "source": [
    "doc_lda = ldamodel[doc_term_matrix]"
   ]
  },
  {
   "cell_type": "code",
   "execution_count": 1046,
   "metadata": {},
   "outputs": [
    {
     "name": "stdout",
     "output_type": "stream",
     "text": [
      "Perplexity:  -7.264388394159867\n"
     ]
    }
   ],
   "source": [
    "print('Perplexity: ', ldamodel.log_perplexity(doc_term_matrix))  # a measure of how good the model is. lower the better"
   ]
  },
  {
   "cell_type": "code",
   "execution_count": 1047,
   "metadata": {},
   "outputs": [
    {
     "data": {
      "text/html": [
       "\n",
       "<link rel=\"stylesheet\" type=\"text/css\" href=\"https://cdn.rawgit.com/bmabey/pyLDAvis/files/ldavis.v1.0.0.css\">\n",
       "\n",
       "\n",
       "<div id=\"ldavis_el78411123279491928893035966\"></div>\n",
       "<script type=\"text/javascript\">\n",
       "\n",
       "var ldavis_el78411123279491928893035966_data = {\"mdsDat\": {\"x\": [-0.1337511354493587, 0.08913423909188628, 0.044616896357472395], \"y\": [-0.02354954592871669, -0.09435617445339098, 0.11790572038210767], \"topics\": [1, 2, 3], \"cluster\": [1, 1, 1], \"Freq\": [37.88867950439453, 32.13981246948242, 29.971508026123047]}, \"tinfo\": {\"Category\": [\"Default\", \"Default\", \"Default\", \"Default\", \"Default\", \"Default\", \"Default\", \"Default\", \"Default\", \"Default\", \"Default\", \"Default\", \"Default\", \"Default\", \"Default\", \"Default\", \"Default\", \"Default\", \"Default\", \"Default\", \"Default\", \"Default\", \"Default\", \"Default\", \"Default\", \"Default\", \"Default\", \"Default\", \"Default\", \"Default\", \"Topic1\", \"Topic1\", \"Topic1\", \"Topic1\", \"Topic1\", \"Topic1\", \"Topic1\", \"Topic1\", \"Topic1\", \"Topic1\", \"Topic1\", \"Topic1\", \"Topic1\", \"Topic1\", \"Topic1\", \"Topic1\", \"Topic1\", \"Topic1\", \"Topic1\", \"Topic1\", \"Topic1\", \"Topic1\", \"Topic1\", \"Topic1\", \"Topic1\", \"Topic1\", \"Topic1\", \"Topic1\", \"Topic1\", \"Topic1\", \"Topic1\", \"Topic1\", \"Topic1\", \"Topic1\", \"Topic1\", \"Topic1\", \"Topic1\", \"Topic1\", \"Topic1\", \"Topic1\", \"Topic1\", \"Topic1\", \"Topic1\", \"Topic1\", \"Topic1\", \"Topic1\", \"Topic1\", \"Topic2\", \"Topic2\", \"Topic2\", \"Topic2\", \"Topic2\", \"Topic2\", \"Topic2\", \"Topic2\", \"Topic2\", \"Topic2\", \"Topic2\", \"Topic2\", \"Topic2\", \"Topic2\", \"Topic2\", \"Topic2\", \"Topic2\", \"Topic2\", \"Topic2\", \"Topic2\", \"Topic2\", \"Topic2\", \"Topic2\", \"Topic2\", \"Topic2\", \"Topic2\", \"Topic2\", \"Topic2\", \"Topic2\", \"Topic2\", \"Topic2\", \"Topic2\", \"Topic2\", \"Topic2\", \"Topic2\", \"Topic2\", \"Topic2\", \"Topic2\", \"Topic2\", \"Topic2\", \"Topic3\", \"Topic3\", \"Topic3\", \"Topic3\", \"Topic3\", \"Topic3\", \"Topic3\", \"Topic3\", \"Topic3\", \"Topic3\", \"Topic3\", \"Topic3\", \"Topic3\", \"Topic3\", \"Topic3\", \"Topic3\", \"Topic3\", \"Topic3\", \"Topic3\", \"Topic3\", \"Topic3\", \"Topic3\", \"Topic3\", \"Topic3\", \"Topic3\", \"Topic3\", \"Topic3\", \"Topic3\", \"Topic3\", \"Topic3\", \"Topic3\", \"Topic3\", \"Topic3\", \"Topic3\", \"Topic3\", \"Topic3\", \"Topic3\", \"Topic3\", \"Topic3\", \"Topic3\", \"Topic3\", \"Topic3\", \"Topic3\", \"Topic3\", \"Topic3\", \"Topic3\"], \"Freq\": [15.0, 14.0, 9.0, 12.0, 10.0, 8.0, 7.0, 8.0, 6.0, 8.0, 13.0, 15.0, 14.0, 11.0, 5.0, 10.0, 6.0, 6.0, 6.0, 5.0, 7.0, 6.0, 4.0, 4.0, 4.0, 4.0, 5.0, 5.0, 10.0, 3.0, 13.7288179397583, 11.741385459899902, 10.369288444519043, 7.694020748138428, 7.6742939949035645, 5.654485702514648, 5.64420747756958, 5.631661891937256, 4.980408668518066, 4.967397689819336, 4.293220520019531, 4.292084693908691, 3.6195406913757324, 3.607081651687622, 3.600231885910034, 2.942967414855957, 2.9429190158843994, 2.942854166030884, 2.9428422451019287, 2.942429542541504, 2.94204044342041, 2.941481113433838, 2.9400999546051025, 2.9314675331115723, 4.100869655609131, 2.9212512969970703, 3.4030370712280273, 2.263986825942993, 2.2637710571289062, 2.2636091709136963, 10.87105941772461, 4.97994327545166, 4.305544853210449, 10.044541358947754, 9.69095230102539, 4.27574348449707, 4.979020595550537, 4.3311028480529785, 6.257969379425049, 4.320441722869873, 4.524137496948242, 3.619473695755005, 5.577817916870117, 4.289396286010742, 4.891900539398193, 4.330996036529541, 3.662738800048828, 8.223837852478027, 6.2213521003723145, 4.874797344207764, 4.232588768005371, 4.212451934814453, 4.207046985626221, 4.179914474487305, 3.5710771083831787, 3.5710482597351074, 3.5645813941955566, 3.511366605758667, 2.901468515396118, 2.901468515396118, 2.901468515396118, 2.901468515396118, 2.901468515396118, 2.8882482051849365, 2.8729710578918457, 2.864061117172241, 2.2319185733795166, 2.231898784637451, 2.2312259674072266, 2.231081962585449, 2.2308647632598877, 2.230832099914551, 2.2218339443206787, 2.198436975479126, 5.433986663818359, 4.244716167449951, 1.5622559785842896, 5.520162105560303, 6.832627296447754, 3.589189291000366, 3.797116279602051, 4.281515598297119, 2.876391649246216, 4.850785255432129, 2.9269468784332275, 4.631753921508789, 2.9210991859436035, 15.23660945892334, 9.334988594055176, 7.399020671844482, 3.4836666584014893, 3.480210304260254, 3.4791550636291504, 3.429276466369629, 2.8323171138763428, 2.831874132156372, 2.831667423248291, 2.8299055099487305, 2.828782558441162, 2.8281192779541016, 2.7926812171936035, 2.1785292625427246, 2.1783902645111084, 2.177251100540161, 2.171426773071289, 2.171492338180542, 2.16871976852417, 2.1521835327148438, 4.758492469787598, 2.06020450592041, 1.5251096487045288, 1.5249425172805786, 1.5249412059783936, 1.5249377489089966, 1.5249322652816772, 1.5249297618865967, 1.5248388051986694, 1.5248388051986694, 2.849174737930298, 3.6235928535461426, 6.704696178436279, 2.7395317554473877, 3.038475275039673, 4.033327102661133, 3.522768974304199, 3.507554054260254, 5.135715484619141, 4.21631383895874, 4.823845863342285, 2.774287462234497, 3.4980504512786865, 2.986266851425171, 2.774195671081543], \"Term\": [\"lima\", \"quiero\", \"peru\", \"bien\", \"exitosape\", \"ver\", \"mejor\", \"solo\", \"no\", \"vida\", \"phillbutters\", \"hoy\", \"ahora\", \"in\", \"buena\", \"per\\u00fa\", \"tener\", \"at\", \"alvarezrodrich\", \"debe\", \"creo\", \"pasa\", \"hacer\", \"s\\u2026\", \"trabajo\", \"s\\u00e9\", \"im\", \"familia\", \"q\", \"sido\", \"quiero\", \"bien\", \"exitosape\", \"solo\", \"vida\", \"tener\", \"at\", \"alvarezrodrich\", \"im\", \"familia\", \"puede\", \"pa\", \"exitosa\", \"foto\", \"pone\", \"corrupci\\u00f3n\", \"tomar\", \"cuellos\", \"pedir\", \"izquierda\", \"canaln\", \"cuenta\", \"nicolaslucar\", \"c\\u00f3mo\", \"clubaloficial\", \"e\\u2026\", \"alguien\", \"caviar\", \"fue\", \"tenia\", \"phillbutters\", \"gracias\", \"d\\u00edas\", \"hoy\", \"ahora\", \"amigo\", \"butter\", \"casa\", \"q\", \"viernes\", \"alianza\", \"claro\", \"va\", \"miraflores\", \"as\\u00ed\", \"in\", \"lemos\", \"ver\", \"no\", \"buena\", \"hacer\", \"s\\u2026\", \"trabajo\", \"s\\u00e9\", \"veo\", \"veh\\u00edculo\", \"bueno\", \"p\\u2026\", \"alimentos\", \"afuera\", \"refugiados\", \"esperan\", \"donando\", \"llega\", \"tan\", \"despu\\u00e9s\", \"ja\", \"evento\", \"raz\\u00f3n\", \"octubre\", \"visitar\", \"2018\", \"cosas\", \"ag\", \"pasa\", \"aqu\\u00ed\", \"mrd\", \"creo\", \"per\\u00fa\", \"parece\", \"verdad\", \"hace\", \"hombre\", \"d\\u00eda\", \"i\", \"as\\u00ed\", \"vamos\", \"lima\", \"peru\", \"mejor\", \"sido\", \"ojal\\u00e1\", \"san\", \"ley\", \"or\", \"confianza\", \"mismo\", \"torrescassano\", \"from\", \"nunca\", \"alice200023\", \"by\", \"to\", \"piensa\", \"u\", \"p\\u00fablico\", \"nueva\", \"saben\", \"debe\", \"aun\", \"borja\", \"this\", \"dicen\", \"sunset\", \"sector\", \"josemartsn\", \"travel\", \"sun\", \"3\", \"ma\\u00f1ana\", \"in\", \"do\", \"of\", \"seguir\", \"styloycolor\", \"politicalr\", \"hoy\", \"q\", \"ahora\", \"tiempo\", \"miraflores\", \"va\", \"hace\"], \"Total\": [15.0, 14.0, 9.0, 12.0, 10.0, 8.0, 7.0, 8.0, 6.0, 8.0, 13.0, 15.0, 14.0, 11.0, 5.0, 10.0, 6.0, 6.0, 6.0, 5.0, 7.0, 6.0, 4.0, 4.0, 4.0, 4.0, 5.0, 5.0, 10.0, 3.0, 14.250579833984375, 12.214882850646973, 10.855329513549805, 8.139619827270508, 8.139127731323242, 6.101759910583496, 6.10125732421875, 6.100951194763184, 5.422549724578857, 5.422364711761475, 4.743146896362305, 4.742921352386475, 4.063880443572998, 4.063695430755615, 4.06345796585083, 3.384690999984741, 3.3846898078918457, 3.384688138961792, 3.384687900543213, 3.384676933288574, 3.384666681289673, 3.3846521377563477, 3.3845934867858887, 3.3845131397247314, 4.740293502807617, 3.383882522583008, 4.0594658851623535, 2.7054085731506348, 2.705402374267578, 2.7053987979888916, 13.541888236999512, 6.091946601867676, 5.4129509925842285, 15.419242858886719, 14.752182960510254, 5.412537097930908, 6.72992467880249, 6.067496299743652, 10.70037841796875, 6.066997528076172, 6.75437068939209, 4.717602252960205, 10.051057815551758, 8.011359214782715, 12.061168670654297, 11.281993865966797, 5.403700351715088, 8.702877044677734, 6.6943511962890625, 5.354740619659424, 4.685488700866699, 4.6850996017456055, 4.684844970703125, 4.684554100036621, 4.015742301940918, 4.015742301940918, 4.015813827514648, 4.014340400695801, 3.3461031913757324, 3.3461031913757324, 3.3461031913757324, 3.3461031913757324, 3.3461029529571533, 3.3460092544555664, 3.345876693725586, 3.3456101417541504, 2.6764636039733887, 2.6764636039733887, 2.676461935043335, 2.6764585971832275, 2.676456928253174, 2.6764612197875977, 2.6763954162597656, 2.6769144535064697, 6.686418056488037, 5.339384078979492, 2.006824016571045, 7.331205368041992, 10.082316398620605, 5.373773097991943, 5.982356071472168, 7.3019208908081055, 3.9995131492614746, 10.042539596557617, 4.654154300689697, 12.061168670654297, 4.6542181968688965, 15.703446388244629, 9.820422172546387, 7.858607292175293, 3.9361538887023926, 3.936316967010498, 3.936311721801758, 3.937485694885254, 3.2823872566223145, 3.2824008464813232, 3.282409191131592, 3.282447576522827, 3.2824771404266357, 3.2825193405151367, 3.283590078353882, 2.6286823749542236, 2.6286869049072266, 2.62872052192688, 2.628856897354126, 2.628950834274292, 2.6290621757507324, 2.6297056674957275, 5.914787292480469, 2.6333045959472656, 1.9749667644500732, 1.9749717712402344, 1.9749720096588135, 1.9749720096588135, 1.9749717712402344, 1.9749722480773926, 1.9749751091003418, 1.9749752283096313, 3.9609358310699463, 5.280282974243164, 11.281993865966797, 3.954442262649536, 4.61665153503418, 6.601975440979004, 5.972496032714844, 6.642589092254639, 15.419242858886719, 10.70037841796875, 14.752182960510254, 4.6235575675964355, 8.011359214782715, 10.051057815551758, 7.3019208908081055], \"loglift\": [30.0, 29.0, 28.0, 27.0, 26.0, 25.0, 24.0, 23.0, 22.0, 21.0, 20.0, 19.0, 18.0, 17.0, 16.0, 15.0, 14.0, 13.0, 12.0, 11.0, 10.0, 9.0, 8.0, 7.0, 6.0, 5.0, 4.0, 3.0, 2.0, 1.0, 0.9332000017166138, 0.9309999942779541, 0.9247000217437744, 0.9142000079154968, 0.9117000102996826, 0.8944000005722046, 0.8927000164985657, 0.890500009059906, 0.8855000138282776, 0.8828999996185303, 0.8708999752998352, 0.8705999851226807, 0.8547000288963318, 0.8513000011444092, 0.8495000004768372, 0.8306999802589417, 0.8306999802589417, 0.8306000232696533, 0.8306000232696533, 0.8305000066757202, 0.8303999900817871, 0.8302000164985657, 0.8296999931335449, 0.8267999887466431, 0.8256000280380249, 0.8234999775886536, 0.7940999865531921, 0.7924000024795532, 0.7922999858856201, 0.7922000288963318, 0.7508000135421753, 0.7689999938011169, 0.741599977016449, 0.5418999791145325, 0.5503000020980835, 0.7347999811172485, 0.6692000031471252, 0.633400022983551, 0.4341000020503998, 0.6309999823570251, 0.5698000192642212, 0.7055000066757202, 0.3815999925136566, 0.3458000123500824, 0.06809999793767929, 0.013100000098347664, 0.58160001039505, 1.0785000324249268, 1.0618000030517578, 1.041200041770935, 1.033400058746338, 1.0286999940872192, 1.027500033378601, 1.0211000442504883, 1.017699956893921, 1.017699956893921, 1.0159000158309937, 1.0011999607086182, 0.9925000071525574, 0.9925000071525574, 0.9925000071525574, 0.9925000071525574, 0.9925000071525574, 0.9879999756813049, 0.982699990272522, 0.9797000288963318, 0.9534000158309937, 0.9534000158309937, 0.9531000256538391, 0.9531000256538391, 0.953000009059906, 0.953000009059906, 0.9488999843597412, 0.9381999969482422, 0.9276999831199646, 0.9056000113487244, 0.8847000002861023, 0.8513000011444092, 0.7459999918937683, 0.7315000295639038, 0.6804999709129333, 0.6011999845504761, 0.805400013923645, 0.4074000120162964, 0.6712999939918518, 0.17800000309944153, 0.6693000197410583, 1.1747000217437744, 1.1541999578475952, 1.144700050354004, 1.082800030708313, 1.0817999839782715, 1.0815000534057617, 1.0666999816894531, 1.0573999881744385, 1.0572999715805054, 1.0571999549865723, 1.0565999746322632, 1.0562000274658203, 1.055899977684021, 1.0429999828338623, 1.0170999765396118, 1.0169999599456787, 1.0164999961853027, 1.013800024986267, 1.013800024986267, 1.0124000310897827, 1.0045000314712524, 0.9873999953269958, 0.9595000147819519, 0.946399986743927, 0.9463000297546387, 0.9463000297546387, 0.9463000297546387, 0.9463000297546387, 0.9463000297546387, 0.9463000297546387, 0.9463000297546387, 0.8755000233650208, 0.8284000158309937, 0.684499979019165, 0.8378999829292297, 0.7865999937057495, 0.7121000289916992, 0.6769999861717224, 0.5662999749183655, 0.1054999977350235, 0.2736000120639801, 0.08709999918937683, 0.6941999793052673, 0.37630000710487366, -0.008700000122189522, 0.2371000051498413], \"logprob\": [30.0, 29.0, 28.0, 27.0, 26.0, 25.0, 24.0, 23.0, 22.0, 21.0, 20.0, 19.0, 18.0, 17.0, 16.0, 15.0, 14.0, 13.0, 12.0, 11.0, 10.0, 9.0, 8.0, 7.0, 6.0, 5.0, 4.0, 3.0, 2.0, 1.0, -4.1255998611450195, -4.281899929046631, -4.406199932098389, -4.704599857330322, -4.707200050354004, -5.012599945068359, -5.014400005340576, -5.016600131988525, -5.139500141143799, -5.142199993133545, -5.288000106811523, -5.288300037384033, -5.458700180053711, -5.462200164794922, -5.464099884033203, -5.665599822998047, -5.665599822998047, -5.6656999588012695, -5.6656999588012695, -5.665800094604492, -5.665900230407715, -5.666100025177002, -5.666600227355957, -5.66949987411499, -5.333899974822998, -5.672999858856201, -5.520400047302246, -5.9278998374938965, -5.927999973297119, -5.928100109100342, -4.35890007019043, -5.139599800109863, -5.285099983215332, -4.438000202178955, -4.473899841308594, -5.292099952697754, -5.139800071716309, -5.279200077056885, -4.911200046539307, -5.281700134277344, -5.235599994659424, -5.458700180053711, -5.026299953460693, -5.288899898529053, -5.15749979019165, -5.279300212860107, -5.446800231933594, -4.473499774932861, -4.752500057220459, -4.996399879455566, -5.137700080871582, -5.142399787902832, -5.143700122833252, -5.150199890136719, -5.307600021362305, -5.307600021362305, -5.3094000816345215, -5.32450008392334, -5.5152997970581055, -5.5152997970581055, -5.5152997970581055, -5.5152997970581055, -5.5152997970581055, -5.519800186157227, -5.525100231170654, -5.528299808502197, -5.777599811553955, -5.777599811553955, -5.777900218963623, -5.7779998779296875, -5.77810001373291, -5.77810001373291, -5.782199859619141, -5.792699813842773, -4.887800216674805, -5.134799957275391, -6.134399890899658, -4.872099876403809, -4.65880012512207, -5.302599906921387, -5.246300220489502, -5.126200199127197, -5.52400016784668, -5.001399993896484, -5.506499767303467, -5.047599792480469, -5.508500099182129, -3.786900043487549, -4.276899814605713, -4.509300231933594, -5.262599945068359, -5.263599872589111, -5.263899803161621, -5.278299808502197, -5.469600200653076, -5.469699859619141, -5.469799995422363, -5.470399856567383, -5.470799922943115, -5.4710001945495605, -5.48360013961792, -5.73199987411499, -5.732100009918213, -5.732600212097168, -5.735300064086914, -5.735199928283691, -5.736499786376953, -5.744200229644775, -4.950699806213379, -5.787799835205078, -6.088600158691406, -6.088699817657471, -6.088699817657471, -6.088699817657471, -6.088699817657471, -6.088699817657471, -6.088799953460693, -6.088799953460693, -5.463600158691406, -5.223199844360352, -4.607800006866455, -5.502900123596191, -5.3993000984191895, -5.116099834442139, -5.251399993896484, -5.25570011138916, -4.8744001388549805, -5.071700096130371, -4.937099933624268, -5.490300178527832, -5.258399963378906, -5.416600227355957, -5.490300178527832]}, \"token.table\": {\"Topic\": [2, 1, 3, 2, 2, 1, 3, 1, 1, 2, 3, 2, 1, 1, 2, 2, 3, 1, 2, 3, 1, 3, 1, 3, 2, 2, 1, 3, 3, 1, 1, 2, 3, 1, 1, 3, 1, 3, 1, 2, 2, 3, 1, 1, 1, 2, 3, 2, 3, 2, 3, 2, 1, 2, 3, 1, 2, 2, 2, 1, 1, 1, 1, 1, 3, 1, 1, 2, 2, 3, 2, 2, 3, 1, 3, 2, 3, 1, 1, 3, 1, 2, 3, 1, 2, 3, 3, 2, 1, 2, 3, 3, 1, 3, 3, 2, 1, 2, 3, 3, 2, 2, 3, 3, 3, 1, 1, 2, 1, 2, 3, 1, 3, 1, 2, 1, 2, 3, 1, 2, 3, 1, 1, 3, 2, 1, 3, 1, 2, 2, 3, 3, 3, 2, 3, 3, 1, 1, 3, 3, 3, 2, 2, 2, 1, 1, 3, 2, 3, 3, 1, 3, 2, 3, 3, 1, 2, 3, 2, 3, 2, 2, 2, 2, 3, 1, 1, 2, 3, 2], \"Freq\": [0.7472553849220276, 0.2524655759334564, 0.7573967576026917, 0.896565318107605, 0.7471288442611694, 0.6778658032417297, 0.33893290162086487, 0.7390134930610657, 0.740261435508728, 0.2961045801639557, 0.9136341214179993, 0.896565318107605, 0.9834532141685486, 0.7390249371528625, 0.18475623428821564, 0.7491500973701477, 0.18728752434253693, 0.41455352306365967, 0.41455352306365967, 0.24873211979866028, 0.9834038615226746, 0.7595019340515137, 0.9824081063270569, 1.0126752853393555, 0.9337520599365234, 0.9960620999336243, 0.7429503798484802, 0.2971801459789276, 0.7608374357223511, 0.8863502144813538, 0.6592504978179932, 0.1648126244544983, 0.1648126244544983, 0.7392598986625671, 0.8478883504867554, 0.21197208762168884, 0.8438296318054199, 0.9139651656150818, 0.8863438367843628, 0.7472737431526184, 0.8184192776679993, 0.27280643582344055, 0.8863446116447449, 0.8863540291786194, 0.8863903880119324, 0.16906778514385223, 0.8453389406204224, 0.8966974020004272, 1.0126725435256958, 0.25288015604019165, 0.758640468120575, 0.8965653777122498, 0.29872921109199524, 0.49788203835487366, 0.19915281236171722, 0.7389684319496155, 0.18474210798740387, 0.896565318107605, 0.7472546696662903, 0.9842809438705444, 0.9212064743041992, 0.8865556120872498, 0.922106921672821, 0.9843257665634155, 0.913943886756897, 0.7392615675926208, 0.8207557201385498, 0.1641511470079422, 0.5478010773658752, 0.41085079312324524, 0.8536996245384216, 0.7500913143157959, 0.25003042817115784, 0.6485402584075928, 0.3242701292037964, 0.6445854306221008, 0.21486181020736694, 0.9220754504203796, 0.35454726219177246, 0.6204577088356018, 0.8863475322723389, 0.7472546696662903, 1.0126724243164062, 0.7402334809303284, 0.3701167404651642, 0.7619075179100037, 0.9552043080329895, 0.8965904712677002, 0.18938378989696503, 0.18938378989696503, 0.7575351595878601, 0.8907430768013, 0.4992910623550415, 0.37446829676628113, 0.9139628410339355, 0.9965996146202087, 0.8863693475723267, 0.8962780237197876, 0.7607275247573853, 0.9139321446418762, 0.7472561001777649, 0.2166072130203247, 0.6498216390609741, 0.7621337175369263, 0.9139689207077026, 0.8433620929718018, 0.37217798829078674, 0.7443559765815735, 0.14955690503120422, 0.7477845549583435, 0.14955690503120422, 0.8863446712493896, 0.9164575338363647, 0.29755067825317383, 0.6942849159240723, 0.8122944235801697, 0.14768989384174347, 0.7608264088630676, 0.3010874092578888, 0.1505437046289444, 0.6021748185157776, 0.9843832850456238, 0.8433219790458679, 0.7607597708702087, 0.9964277148246765, 0.5607278347015381, 0.3738185465335846, 0.9824161529541016, 0.7472551465034485, 0.896565318107605, 0.7605413794517517, 0.7621347904205322, 1.0126726627349854, 0.30293962359428406, 0.6058792471885681, 0.7621653079986572, 0.9828469157218933, 0.3348683714866638, 0.6697367429733276, 1.012670874595642, 1.0126725435256958, 0.8538699746131897, 0.8537705540657043, 0.8966259956359863, 0.9833228588104248, 0.7392625212669373, 1.0126726627349854, 0.4325673282146454, 0.6488510370254517, 0.760836124420166, 0.8863441348075867, 0.9139521718025208, 0.8538169264793396, 1.0126709938049316, 0.7607869505882263, 0.5969520807266235, 0.09949201345443726, 0.29847604036331177, 0.6445765495300293, 0.4297177195549011, 0.9960798621177673, 0.9960798621177673, 0.9192362427711487, 0.6686328649520874, 0.3343164324760437, 0.9829062819480896, 0.659304678440094, 0.1648261696100235, 0.1648261696100235, 0.7472565770149231], \"Term\": [\"2018\", \"3\", \"3\", \"afuera\", \"ag\", \"ahora\", \"ahora\", \"alguien\", \"alianza\", \"alianza\", \"alice200023\", \"alimentos\", \"alvarezrodrich\", \"amigo\", \"amigo\", \"aqu\\u00ed\", \"aqu\\u00ed\", \"as\\u00ed\", \"as\\u00ed\", \"as\\u00ed\", \"at\", \"aun\", \"bien\", \"borja\", \"buena\", \"bueno\", \"butter\", \"butter\", \"by\", \"canaln\", \"casa\", \"casa\", \"casa\", \"caviar\", \"claro\", \"claro\", \"clubaloficial\", \"confianza\", \"corrupci\\u00f3n\", \"cosas\", \"creo\", \"creo\", \"cuellos\", \"cuenta\", \"c\\u00f3mo\", \"debe\", \"debe\", \"despu\\u00e9s\", \"dicen\", \"do\", \"do\", \"donando\", \"d\\u00eda\", \"d\\u00eda\", \"d\\u00eda\", \"d\\u00edas\", \"d\\u00edas\", \"esperan\", \"evento\", \"exitosa\", \"exitosape\", \"e\\u2026\", \"familia\", \"foto\", \"from\", \"fue\", \"gracias\", \"gracias\", \"hace\", \"hace\", \"hacer\", \"hombre\", \"hombre\", \"hoy\", \"hoy\", \"i\", \"i\", \"im\", \"in\", \"in\", \"izquierda\", \"ja\", \"josemartsn\", \"lemos\", \"lemos\", \"ley\", \"lima\", \"llega\", \"ma\\u00f1ana\", \"ma\\u00f1ana\", \"ma\\u00f1ana\", \"mejor\", \"miraflores\", \"miraflores\", \"mismo\", \"mrd\", \"nicolaslucar\", \"no\", \"nueva\", \"nunca\", \"octubre\", \"of\", \"of\", \"ojal\\u00e1\", \"or\", \"pa\", \"parece\", \"parece\", \"pasa\", \"pasa\", \"pasa\", \"pedir\", \"peru\", \"per\\u00fa\", \"per\\u00fa\", \"phillbutters\", \"phillbutters\", \"piensa\", \"politicalr\", \"politicalr\", \"politicalr\", \"pone\", \"puede\", \"p\\u00fablico\", \"p\\u2026\", \"q\", \"q\", \"quiero\", \"raz\\u00f3n\", \"refugiados\", \"saben\", \"san\", \"sector\", \"seguir\", \"seguir\", \"sido\", \"solo\", \"styloycolor\", \"styloycolor\", \"sun\", \"sunset\", \"s\\u00e9\", \"s\\u2026\", \"tan\", \"tener\", \"tenia\", \"this\", \"tiempo\", \"tiempo\", \"to\", \"tomar\", \"torrescassano\", \"trabajo\", \"travel\", \"u\", \"va\", \"va\", \"va\", \"vamos\", \"vamos\", \"veh\\u00edculo\", \"veo\", \"ver\", \"verdad\", \"verdad\", \"vida\", \"viernes\", \"viernes\", \"viernes\", \"visitar\"]}, \"R\": 30, \"lambda.step\": 0.01, \"plot.opts\": {\"xlab\": \"PC1\", \"ylab\": \"PC2\"}, \"topic.order\": [2, 3, 1]};\n",
       "\n",
       "function LDAvis_load_lib(url, callback){\n",
       "  var s = document.createElement('script');\n",
       "  s.src = url;\n",
       "  s.async = true;\n",
       "  s.onreadystatechange = s.onload = callback;\n",
       "  s.onerror = function(){console.warn(\"failed to load library \" + url);};\n",
       "  document.getElementsByTagName(\"head\")[0].appendChild(s);\n",
       "}\n",
       "\n",
       "if(typeof(LDAvis) !== \"undefined\"){\n",
       "   // already loaded: just create the visualization\n",
       "   !function(LDAvis){\n",
       "       new LDAvis(\"#\" + \"ldavis_el78411123279491928893035966\", ldavis_el78411123279491928893035966_data);\n",
       "   }(LDAvis);\n",
       "}else if(typeof define === \"function\" && define.amd){\n",
       "   // require.js is available: use it to load d3/LDAvis\n",
       "   require.config({paths: {d3: \"https://cdnjs.cloudflare.com/ajax/libs/d3/3.5.5/d3.min\"}});\n",
       "   require([\"d3\"], function(d3){\n",
       "      window.d3 = d3;\n",
       "      LDAvis_load_lib(\"https://cdn.rawgit.com/bmabey/pyLDAvis/files/ldavis.v1.0.0.js\", function(){\n",
       "        new LDAvis(\"#\" + \"ldavis_el78411123279491928893035966\", ldavis_el78411123279491928893035966_data);\n",
       "      });\n",
       "    });\n",
       "}else{\n",
       "    // require.js not available: dynamically load d3 & LDAvis\n",
       "    LDAvis_load_lib(\"https://cdnjs.cloudflare.com/ajax/libs/d3/3.5.5/d3.min.js\", function(){\n",
       "         LDAvis_load_lib(\"https://cdn.rawgit.com/bmabey/pyLDAvis/files/ldavis.v1.0.0.js\", function(){\n",
       "                 new LDAvis(\"#\" + \"ldavis_el78411123279491928893035966\", ldavis_el78411123279491928893035966_data);\n",
       "            })\n",
       "         });\n",
       "}\n",
       "</script>"
      ],
      "text/plain": [
       "PreparedData(topic_coordinates=              x         y  topics  cluster       Freq\n",
       "topic                                                \n",
       "1     -0.133751 -0.023550       1        1  37.888680\n",
       "2      0.089134 -0.094356       2        1  32.139812\n",
       "0      0.044617  0.117906       3        1  29.971508, topic_info=     Category       Freq            Term      Total  loglift  logprob\n",
       "term                                                                 \n",
       "281   Default  15.000000            lima  15.000000  30.0000  30.0000\n",
       "219   Default  14.000000          quiero  14.000000  29.0000  29.0000\n",
       "638   Default   9.000000            peru   9.000000  28.0000  28.0000\n",
       "591   Default  12.000000            bien  12.000000  27.0000  27.0000\n",
       "549   Default  10.000000       exitosape  10.000000  26.0000  26.0000\n",
       "842   Default   8.000000             ver   8.000000  25.0000  25.0000\n",
       "348   Default   7.000000           mejor   7.000000  24.0000  24.0000\n",
       "69    Default   8.000000            solo   8.000000  23.0000  23.0000\n",
       "287   Default   6.000000              no   6.000000  22.0000  22.0000\n",
       "534   Default   8.000000            vida   8.000000  21.0000  21.0000\n",
       "113   Default  13.000000    phillbutters  13.000000  20.0000  20.0000\n",
       "159   Default  15.000000             hoy  15.000000  19.0000  19.0000\n",
       "312   Default  14.000000           ahora  14.000000  18.0000  18.0000\n",
       "280   Default  11.000000              in  11.000000  17.0000  17.0000\n",
       "108   Default   5.000000           buena   5.000000  16.0000  16.0000\n",
       "670   Default  10.000000            perú  10.000000  15.0000  15.0000\n",
       "71    Default   6.000000           tener   6.000000  14.0000  14.0000\n",
       "804   Default   6.000000              at   6.000000  13.0000  13.0000\n",
       "230   Default   6.000000  alvarezrodrich   6.000000  12.0000  12.0000\n",
       "36    Default   5.000000            debe   5.000000  11.0000  11.0000\n",
       "984   Default   7.000000            creo   7.000000  10.0000  10.0000\n",
       "226   Default   6.000000            pasa   6.000000   9.0000   9.0000\n",
       "131   Default   4.000000           hacer   4.000000   8.0000   8.0000\n",
       "290   Default   4.000000              s…   4.000000   7.0000   7.0000\n",
       "626   Default   4.000000         trabajo   4.000000   6.0000   6.0000\n",
       "34    Default   4.000000              sé   4.000000   5.0000   5.0000\n",
       "806   Default   5.000000              im   5.000000   4.0000   4.0000\n",
       "567   Default   5.000000         familia   5.000000   3.0000   3.0000\n",
       "16    Default  10.000000               q  10.000000   2.0000   2.0000\n",
       "1063  Default   3.000000            sido   3.000000   1.0000   1.0000\n",
       "...       ...        ...             ...        ...      ...      ...\n",
       "703    Topic3   2.177251          piensa   2.628721   1.0165  -5.7326\n",
       "874    Topic3   2.171427               u   2.628857   1.0138  -5.7353\n",
       "923    Topic3   2.171492         público   2.628951   1.0138  -5.7352\n",
       "497    Topic3   2.168720           nueva   2.629062   1.0124  -5.7365\n",
       "184    Topic3   2.152184           saben   2.629706   1.0045  -5.7442\n",
       "36     Topic3   4.758492            debe   5.914787   0.9874  -4.9507\n",
       "248    Topic3   2.060205             aun   2.633305   0.9595  -5.7878\n",
       "275    Topic3   1.525110           borja   1.974967   0.9464  -6.0886\n",
       "911    Topic3   1.524943            this   1.974972   0.9463  -6.0887\n",
       "537    Topic3   1.524941           dicen   1.974972   0.9463  -6.0887\n",
       "765    Topic3   1.524938          sunset   1.974972   0.9463  -6.0887\n",
       "750    Topic3   1.524932          sector   1.974972   0.9463  -6.0887\n",
       "180    Topic3   1.524930      josemartsn   1.974972   0.9463  -6.0887\n",
       "1084   Topic3   1.524839          travel   1.974975   0.9463  -6.0888\n",
       "1083   Topic3   1.524839             sun   1.974975   0.9463  -6.0888\n",
       "266    Topic3   2.849175               3   3.960936   0.8755  -5.4636\n",
       "367    Topic3   3.623593          mañana   5.280283   0.8284  -5.2232\n",
       "280    Topic3   6.704696              in  11.281994   0.6845  -4.6078\n",
       "687    Topic3   2.739532              do   3.954442   0.8379  -5.5029\n",
       "58     Topic3   3.038475              of   4.616652   0.7866  -5.3993\n",
       "6      Topic3   4.033327          seguir   6.601975   0.7121  -5.1161\n",
       "185    Topic3   3.522769     styloycolor   5.972496   0.6770  -5.2514\n",
       "182    Topic3   3.507554      politicalr   6.642589   0.5663  -5.2557\n",
       "159    Topic3   5.135715             hoy  15.419243   0.1055  -4.8744\n",
       "16     Topic3   4.216314               q  10.700378   0.2736  -5.0717\n",
       "312    Topic3   4.823846           ahora  14.752183   0.0871  -4.9371\n",
       "1020   Topic3   2.774287          tiempo   4.623558   0.6942  -5.4903\n",
       "175    Topic3   3.498050      miraflores   8.011359   0.3763  -5.2584\n",
       "7      Topic3   2.986267              va  10.051058  -0.0087  -5.4166\n",
       "538    Topic3   2.774196            hace   7.301921   0.2371  -5.4903\n",
       "\n",
       "[163 rows x 6 columns], token_table=      Topic      Freq            Term\n",
       "term                                 \n",
       "938       2  0.747255            2018\n",
       "266       1  0.252466               3\n",
       "266       3  0.757397               3\n",
       "1021      2  0.896565          afuera\n",
       "106       2  0.747129              ag\n",
       "312       1  0.677866           ahora\n",
       "312       3  0.338933           ahora\n",
       "261       1  0.739013         alguien\n",
       "302       1  0.740261         alianza\n",
       "302       2  0.296105         alianza\n",
       "628       3  0.913634     alice200023\n",
       "1022      2  0.896565       alimentos\n",
       "230       1  0.983453  alvarezrodrich\n",
       "222       1  0.739025           amigo\n",
       "222       2  0.184756           amigo\n",
       "492       2  0.749150            aquí\n",
       "492       3  0.187288            aquí\n",
       "187       1  0.414554             así\n",
       "187       2  0.414554             así\n",
       "187       3  0.248732             así\n",
       "804       1  0.983404              at\n",
       "248       3  0.759502             aun\n",
       "591       1  0.982408            bien\n",
       "275       3  1.012675           borja\n",
       "108       2  0.933752           buena\n",
       "25        2  0.996062           bueno\n",
       "556       1  0.742950          butter\n",
       "556       3  0.297180          butter\n",
       "672       3  0.760837              by\n",
       "232       1  0.886350          canaln\n",
       "...     ...       ...             ...\n",
       "765       3  1.012673          sunset\n",
       "34        2  0.853870              sé\n",
       "290       2  0.853771              s…\n",
       "373       2  0.896626             tan\n",
       "71        1  0.983323           tener\n",
       "574       1  0.739263           tenia\n",
       "911       3  1.012673            this\n",
       "1020      2  0.432567          tiempo\n",
       "1020      3  0.648851          tiempo\n",
       "912       3  0.760836              to\n",
       "523       1  0.886344           tomar\n",
       "186       3  0.913952   torrescassano\n",
       "626       2  0.853817         trabajo\n",
       "1084      3  1.012671          travel\n",
       "874       3  0.760787               u\n",
       "7         1  0.596952              va\n",
       "7         2  0.099492              va\n",
       "7         3  0.298476              va\n",
       "273       2  0.644577           vamos\n",
       "273       3  0.429718           vamos\n",
       "1030      2  0.996080        vehículo\n",
       "1031      2  0.996080             veo\n",
       "842       2  0.919236             ver\n",
       "407       2  0.668633          verdad\n",
       "407       3  0.334316          verdad\n",
       "534       1  0.982906            vida\n",
       "456       1  0.659305         viernes\n",
       "456       2  0.164826         viernes\n",
       "456       3  0.164826         viernes\n",
       "300       2  0.747257         visitar\n",
       "\n",
       "[170 rows x 3 columns], R=30, lambda_step=0.01, plot_opts={'xlab': 'PC1', 'ylab': 'PC2'}, topic_order=[2, 3, 1])"
      ]
     },
     "execution_count": 1047,
     "metadata": {},
     "output_type": "execute_result"
    }
   ],
   "source": [
    "pyLDAvis.enable_notebook()\n",
    "vis = pyLDAvis.gensim.prepare(ldamodel, doc_term_matrix, dictionary)\n",
    "vis"
   ]
  },
  {
   "cell_type": "code",
   "execution_count": 1048,
   "metadata": {},
   "outputs": [],
   "source": [
    "import spacy\n",
    "nlp = spacy.load('es')"
   ]
  },
  {
   "cell_type": "code",
   "execution_count": 1049,
   "metadata": {},
   "outputs": [
    {
     "data": {
      "text/plain": [
       "[['perdiendo', 'haz'],\n",
       " ['sucede'],\n",
       " ['leao'],\n",
       " ['colocan', 'sé'],\n",
       " ['matar', 'httpstcogoztpltwtz', 'anulado', 'engañar']]"
      ]
     },
     "execution_count": 1049,
     "metadata": {},
     "output_type": "execute_result"
    }
   ],
   "source": [
    "def lemmatization(texts, allowed_postags=['NOUN', 'ADJ', 'VERB', 'ADV']):\n",
    "    texts_out = []\n",
    "    for sent in texts:\n",
    "        doc_ = nlp(sent)\n",
    "        texts_out.append(list(set([str(c.head) for c in doc_ if c.head.tag_.startswith(tuple(allowed_postags))])))\n",
    "    return texts_out\n",
    "\n",
    "lemmatization(tweets_df['Tweets_clean'][:5],['VERB'])"
   ]
  },
  {
   "cell_type": "code",
   "execution_count": 1050,
   "metadata": {},
   "outputs": [],
   "source": [
    "def join_comma(row_list):\n",
    "    if row_list == []:\n",
    "        return np.NaN\n",
    "    else:\n",
    "        return ', '.join(row_list)\n",
    "\n",
    "tweets_df['ACTIONS']=pd.Series(lemmatization(tweets_df['Tweets_clean'],['VERB'])).apply(join_comma)\n",
    "tweets_df['NOUNS']=pd.Series(lemmatization(tweets_df['Tweets_clean'],['NOUN'])).apply(join_comma)"
   ]
  },
  {
   "cell_type": "code",
   "execution_count": 1051,
   "metadata": {},
   "outputs": [
    {
     "data": {
      "text/html": [
       "<div>\n",
       "<style scoped>\n",
       "    .dataframe tbody tr th:only-of-type {\n",
       "        vertical-align: middle;\n",
       "    }\n",
       "\n",
       "    .dataframe tbody tr th {\n",
       "        vertical-align: top;\n",
       "    }\n",
       "\n",
       "    .dataframe thead th {\n",
       "        text-align: right;\n",
       "    }\n",
       "</style>\n",
       "<table border=\"1\" class=\"dataframe\">\n",
       "  <thead>\n",
       "    <tr style=\"text-align: right;\">\n",
       "      <th></th>\n",
       "      <th>Tweets_clean</th>\n",
       "      <th>NOUNS</th>\n",
       "      <th>ACTIONS</th>\n",
       "    </tr>\n",
       "  </thead>\n",
       "  <tbody>\n",
       "    <tr>\n",
       "      <th>0</th>\n",
       "      <td>cachito va seguir perdiendo menos haz esfuerzo recuperarla</td>\n",
       "      <td>esfuerzo</td>\n",
       "      <td>perdiendo, haz</td>\n",
       "    </tr>\n",
       "    <tr>\n",
       "      <th>1</th>\n",
       "      <td>edusobrino claro facilidad q transita comercio preocupante sucede xq jugamos volante c… httpstcotampwuzwlx</td>\n",
       "      <td>transita, jugamos, facilidad</td>\n",
       "      <td>sucede</td>\n",
       "    </tr>\n",
       "    <tr>\n",
       "      <th>2</th>\n",
       "      <td>cuantas veces leao</td>\n",
       "      <td>veces</td>\n",
       "      <td>leao</td>\n",
       "    </tr>\n",
       "    <tr>\n",
       "      <th>3</th>\n",
       "      <td>leninguari alexdar228 bueno sé sé colocan excusa contratarte consabido ptp p… httpstcofs7kqpnbp7</td>\n",
       "      <td>leninguari</td>\n",
       "      <td>colocan, sé</td>\n",
       "    </tr>\n",
       "    <tr>\n",
       "      <th>4</th>\n",
       "      <td>inmunidad debe anulado inmunidad robar matar engañar inmunidad jueces… httpstcogoztpltwtz</td>\n",
       "      <td>inmunidad</td>\n",
       "      <td>matar, httpstcogoztpltwtz, anulado, engañar</td>\n",
       "    </tr>\n",
       "  </tbody>\n",
       "</table>\n",
       "</div>"
      ],
      "text/plain": [
       "                                                                                                 Tweets_clean  \\\n",
       "0                                                  cachito va seguir perdiendo menos haz esfuerzo recuperarla   \n",
       "1  edusobrino claro facilidad q transita comercio preocupante sucede xq jugamos volante c… httpstcotampwuzwlx   \n",
       "2                                                                                          cuantas veces leao   \n",
       "3            leninguari alexdar228 bueno sé sé colocan excusa contratarte consabido ptp p… httpstcofs7kqpnbp7   \n",
       "4                   inmunidad debe anulado inmunidad robar matar engañar inmunidad jueces… httpstcogoztpltwtz   \n",
       "\n",
       "                          NOUNS                                      ACTIONS  \n",
       "0                      esfuerzo                               perdiendo, haz  \n",
       "1  transita, jugamos, facilidad                                       sucede  \n",
       "2                         veces                                         leao  \n",
       "3                    leninguari                                  colocan, sé  \n",
       "4                     inmunidad  matar, httpstcogoztpltwtz, anulado, engañar  "
      ]
     },
     "execution_count": 1051,
     "metadata": {},
     "output_type": "execute_result"
    }
   ],
   "source": [
    "tweets_df[['Tweets_clean','NOUNS','ACTIONS']].head()"
   ]
  },
  {
   "cell_type": "code",
   "execution_count": 1052,
   "metadata": {},
   "outputs": [
    {
     "data": {
      "text/html": [
       "<div>\n",
       "<style scoped>\n",
       "    .dataframe tbody tr th:only-of-type {\n",
       "        vertical-align: middle;\n",
       "    }\n",
       "\n",
       "    .dataframe tbody tr th {\n",
       "        vertical-align: top;\n",
       "    }\n",
       "\n",
       "    .dataframe thead th {\n",
       "        text-align: right;\n",
       "    }\n",
       "</style>\n",
       "<table border=\"1\" class=\"dataframe\">\n",
       "  <thead>\n",
       "    <tr style=\"text-align: right;\">\n",
       "      <th></th>\n",
       "      <th>date</th>\n",
       "      <th>followers</th>\n",
       "      <th>location</th>\n",
       "      <th>Tweets</th>\n",
       "      <th>word_count</th>\n",
       "      <th>char_count</th>\n",
       "      <th>avg_word</th>\n",
       "      <th>hastags</th>\n",
       "      <th>numerics</th>\n",
       "      <th>Tweets_clean</th>\n",
       "      <th>ACTIONS</th>\n",
       "      <th>NOUNS</th>\n",
       "    </tr>\n",
       "  </thead>\n",
       "  <tbody>\n",
       "    <tr>\n",
       "      <th>0</th>\n",
       "      <td>2018-09-21 22:03:22</td>\n",
       "      <td>279</td>\n",
       "      <td>Magdalena Vieja</td>\n",
       "      <td>Cachito si la vas a seguir perdiendo al menos haz el esfuerzo de recuperarla</td>\n",
       "      <td>8</td>\n",
       "      <td>58</td>\n",
       "      <td>6.375000</td>\n",
       "      <td>0</td>\n",
       "      <td>0</td>\n",
       "      <td>cachito va seguir perdiendo menos haz esfuerzo recuperarla</td>\n",
       "      <td>perdiendo, haz</td>\n",
       "      <td>esfuerzo</td>\n",
       "    </tr>\n",
       "    <tr>\n",
       "      <th>1</th>\n",
       "      <td>2018-09-21 22:03:27</td>\n",
       "      <td>2664</td>\n",
       "      <td>Lima</td>\n",
       "      <td>obrigada meu Deus pela terceira viagem internacional em menos de um ano! Há uns dois anos atrás eu não acharia isso ...</td>\n",
       "      <td>13</td>\n",
       "      <td>106</td>\n",
       "      <td>7.230769</td>\n",
       "      <td>0</td>\n",
       "      <td>0</td>\n",
       "      <td>edusobrino claro facilidad q transita comercio preocupante sucede xq jugamos volante c… httpstcotampwuzwlx</td>\n",
       "      <td>sucede</td>\n",
       "      <td>transita, jugamos, facilidad</td>\n",
       "    </tr>\n",
       "    <tr>\n",
       "      <th>2</th>\n",
       "      <td>2018-09-21 22:03:33</td>\n",
       "      <td>74</td>\n",
       "      <td>Independencia</td>\n",
       "      <td>@Edu_Sobrino Claro la facilidad con la q transita comercio es preocupante, y eso sucede xq jugamos sin volante de C…...</td>\n",
       "      <td>3</td>\n",
       "      <td>18</td>\n",
       "      <td>5.333333</td>\n",
       "      <td>0</td>\n",
       "      <td>0</td>\n",
       "      <td>cuantas veces leao</td>\n",
       "      <td>leao</td>\n",
       "      <td>veces</td>\n",
       "    </tr>\n",
       "    <tr>\n",
       "      <th>3</th>\n",
       "      <td>2018-09-21 22:03:35</td>\n",
       "      <td>497</td>\n",
       "      <td>San isidro</td>\n",
       "      <td>Cuantas veces Leao</td>\n",
       "      <td>12</td>\n",
       "      <td>96</td>\n",
       "      <td>7.083333</td>\n",
       "      <td>0</td>\n",
       "      <td>0</td>\n",
       "      <td>leninguari alexdar228 bueno sé sé colocan excusa contratarte consabido ptp p… httpstcofs7kqpnbp7</td>\n",
       "      <td>colocan, sé</td>\n",
       "      <td>leninguari</td>\n",
       "    </tr>\n",
       "    <tr>\n",
       "      <th>4</th>\n",
       "      <td>2018-09-21 22:03:50</td>\n",
       "      <td>42266</td>\n",
       "      <td>Peru</td>\n",
       "      <td>@Leninguari @AlexDar228 Bueno yo no sé. Lo que si sé es que colocan como excusa para contratarte el consabido PTP p…...</td>\n",
       "      <td>10</td>\n",
       "      <td>89</td>\n",
       "      <td>8.000000</td>\n",
       "      <td>0</td>\n",
       "      <td>0</td>\n",
       "      <td>inmunidad debe anulado inmunidad robar matar engañar inmunidad jueces… httpstcogoztpltwtz</td>\n",
       "      <td>matar, httpstcogoztpltwtz, anulado, engañar</td>\n",
       "      <td>inmunidad</td>\n",
       "    </tr>\n",
       "  </tbody>\n",
       "</table>\n",
       "</div>"
      ],
      "text/plain": [
       "                  date  followers         location  \\\n",
       "0  2018-09-21 22:03:22        279  Magdalena Vieja   \n",
       "1  2018-09-21 22:03:27       2664             Lima   \n",
       "2  2018-09-21 22:03:33         74    Independencia   \n",
       "3  2018-09-21 22:03:35        497       San isidro   \n",
       "4  2018-09-21 22:03:50      42266             Peru   \n",
       "\n",
       "                                                                                                                    Tweets  \\\n",
       "0                                             Cachito si la vas a seguir perdiendo al menos haz el esfuerzo de recuperarla   \n",
       "1  obrigada meu Deus pela terceira viagem internacional em menos de um ano! Há uns dois anos atrás eu não acharia isso ...   \n",
       "2  @Edu_Sobrino Claro la facilidad con la q transita comercio es preocupante, y eso sucede xq jugamos sin volante de C…...   \n",
       "3                                                                                                       Cuantas veces Leao   \n",
       "4  @Leninguari @AlexDar228 Bueno yo no sé. Lo que si sé es que colocan como excusa para contratarte el consabido PTP p…...   \n",
       "\n",
       "   word_count  char_count  avg_word  hastags  numerics  \\\n",
       "0           8          58  6.375000        0         0   \n",
       "1          13         106  7.230769        0         0   \n",
       "2           3          18  5.333333        0         0   \n",
       "3          12          96  7.083333        0         0   \n",
       "4          10          89  8.000000        0         0   \n",
       "\n",
       "                                                                                                 Tweets_clean  \\\n",
       "0                                                  cachito va seguir perdiendo menos haz esfuerzo recuperarla   \n",
       "1  edusobrino claro facilidad q transita comercio preocupante sucede xq jugamos volante c… httpstcotampwuzwlx   \n",
       "2                                                                                          cuantas veces leao   \n",
       "3            leninguari alexdar228 bueno sé sé colocan excusa contratarte consabido ptp p… httpstcofs7kqpnbp7   \n",
       "4                   inmunidad debe anulado inmunidad robar matar engañar inmunidad jueces… httpstcogoztpltwtz   \n",
       "\n",
       "                                       ACTIONS                         NOUNS  \n",
       "0                               perdiendo, haz                      esfuerzo  \n",
       "1                                       sucede  transita, jugamos, facilidad  \n",
       "2                                         leao                         veces  \n",
       "3                                  colocan, sé                    leninguari  \n",
       "4  matar, httpstcogoztpltwtz, anulado, engañar                     inmunidad  "
      ]
     },
     "execution_count": 1052,
     "metadata": {},
     "output_type": "execute_result"
    }
   ],
   "source": [
    "tweets_df.head()"
   ]
  },
  {
   "cell_type": "code",
   "execution_count": 1053,
   "metadata": {},
   "outputs": [],
   "source": [
    "tweets_df.to_csv('tweets_solutions.csv',index=None)"
   ]
  },
  {
   "cell_type": "code",
   "execution_count": 20,
   "metadata": {},
   "outputs": [],
   "source": [
    "tweets_df = pd.read_csv('tweets_solutions.csv')\n",
    "# tweets_df.dropna(inplace=True)"
   ]
  },
  {
   "cell_type": "code",
   "execution_count": 21,
   "metadata": {},
   "outputs": [
    {
     "name": "stdout",
     "output_type": "stream",
     "text": [
      "(144, 12)\n"
     ]
    },
    {
     "data": {
      "text/plain": [
       "0                                                    cachito va seguir perdiendo menos haz esfuerzo recuperarla\n",
       "1    edusobrino claro facilidad q transita comercio preocupante sucede xq jugamos volante c… httpstcotampwuzwlx\n",
       "2                                                                                            cuantas veces leao\n",
       "3              leninguari alexdar228 bueno sé sé colocan excusa contratarte consabido ptp p… httpstcofs7kqpnbp7\n",
       "4                     inmunidad debe anulado inmunidad robar matar engañar inmunidad jueces… httpstcogoztpltwtz\n",
       "Name: Tweets_clean, dtype: object"
      ]
     },
     "execution_count": 21,
     "metadata": {},
     "output_type": "execute_result"
    }
   ],
   "source": [
    "tweets_df['Tweets_clean'] = tweets_df['Tweets_clean'].apply(lambda x: \" \".join([Word(word).lemmatize() for word in x.split()]))\n",
    "print(tweets_df.shape)\n",
    "tweets_df['Tweets_clean'].head()"
   ]
  },
  {
   "cell_type": "code",
   "execution_count": 22,
   "metadata": {},
   "outputs": [
    {
     "data": {
      "text/plain": [
       "[WordList(['cachito', 'va']),\n",
       " WordList(['va', 'seguir']),\n",
       " WordList(['seguir', 'perdiendo']),\n",
       " WordList(['perdiendo', 'menos']),\n",
       " WordList(['menos', 'haz']),\n",
       " WordList(['haz', 'esfuerzo']),\n",
       " WordList(['esfuerzo', 'recuperarla'])]"
      ]
     },
     "execution_count": 22,
     "metadata": {},
     "output_type": "execute_result"
    }
   ],
   "source": [
    "TextBlob(tweets_df['Tweets_clean'][0]).ngrams(2)"
   ]
  },
  {
   "cell_type": "code",
   "execution_count": 23,
   "metadata": {},
   "outputs": [
    {
     "name": "stdout",
     "output_type": "stream",
     "text": [
      "(1113, 4)\n"
     ]
    },
    {
     "data": {
      "text/html": [
       "<div>\n",
       "<style scoped>\n",
       "    .dataframe tbody tr th:only-of-type {\n",
       "        vertical-align: middle;\n",
       "    }\n",
       "\n",
       "    .dataframe tbody tr th {\n",
       "        vertical-align: top;\n",
       "    }\n",
       "\n",
       "    .dataframe thead th {\n",
       "        text-align: right;\n",
       "    }\n",
       "</style>\n",
       "<table border=\"1\" class=\"dataframe\">\n",
       "  <thead>\n",
       "    <tr style=\"text-align: right;\">\n",
       "      <th></th>\n",
       "      <th>words</th>\n",
       "      <th>tf</th>\n",
       "      <th>idf</th>\n",
       "      <th>tfidf</th>\n",
       "    </tr>\n",
       "  </thead>\n",
       "  <tbody>\n",
       "    <tr>\n",
       "      <th>0</th>\n",
       "      <td>menos</td>\n",
       "      <td>3.0</td>\n",
       "      <td>3.871201</td>\n",
       "      <td>11.613603</td>\n",
       "    </tr>\n",
       "    <tr>\n",
       "      <th>1</th>\n",
       "      <td>seguir</td>\n",
       "      <td>2.0</td>\n",
       "      <td>4.276666</td>\n",
       "      <td>8.553332</td>\n",
       "    </tr>\n",
       "    <tr>\n",
       "      <th>2</th>\n",
       "      <td>haz</td>\n",
       "      <td>2.0</td>\n",
       "      <td>4.276666</td>\n",
       "      <td>8.553332</td>\n",
       "    </tr>\n",
       "    <tr>\n",
       "      <th>3</th>\n",
       "      <td>recuperarla</td>\n",
       "      <td>1.0</td>\n",
       "      <td>4.969813</td>\n",
       "      <td>4.969813</td>\n",
       "    </tr>\n",
       "    <tr>\n",
       "      <th>4</th>\n",
       "      <td>perdiendo</td>\n",
       "      <td>1.0</td>\n",
       "      <td>4.969813</td>\n",
       "      <td>4.969813</td>\n",
       "    </tr>\n",
       "    <tr>\n",
       "      <th>5</th>\n",
       "      <td>cachito</td>\n",
       "      <td>1.0</td>\n",
       "      <td>4.969813</td>\n",
       "      <td>4.969813</td>\n",
       "    </tr>\n",
       "    <tr>\n",
       "      <th>6</th>\n",
       "      <td>va</td>\n",
       "      <td>2.0</td>\n",
       "      <td>2.025374</td>\n",
       "      <td>4.050749</td>\n",
       "    </tr>\n",
       "    <tr>\n",
       "      <th>7</th>\n",
       "      <td>esfuerzo</td>\n",
       "      <td>2.0</td>\n",
       "      <td>4.276666</td>\n",
       "      <td>8.553332</td>\n",
       "    </tr>\n",
       "    <tr>\n",
       "      <th>8</th>\n",
       "      <td>q</td>\n",
       "      <td>7.0</td>\n",
       "      <td>1.037988</td>\n",
       "      <td>7.265914</td>\n",
       "    </tr>\n",
       "    <tr>\n",
       "      <th>9</th>\n",
       "      <td>transita</td>\n",
       "      <td>1.0</td>\n",
       "      <td>4.969813</td>\n",
       "      <td>4.969813</td>\n",
       "    </tr>\n",
       "  </tbody>\n",
       "</table>\n",
       "</div>"
      ],
      "text/plain": [
       "         words   tf       idf      tfidf\n",
       "0        menos  3.0  3.871201  11.613603\n",
       "1       seguir  2.0  4.276666   8.553332\n",
       "2          haz  2.0  4.276666   8.553332\n",
       "3  recuperarla  1.0  4.969813   4.969813\n",
       "4    perdiendo  1.0  4.969813   4.969813\n",
       "5      cachito  1.0  4.969813   4.969813\n",
       "6           va  2.0  2.025374   4.050749\n",
       "7     esfuerzo  2.0  4.276666   8.553332\n",
       "8            q  7.0  1.037988   7.265914\n",
       "9     transita  1.0  4.969813   4.969813"
      ]
     },
     "execution_count": 23,
     "metadata": {},
     "output_type": "execute_result"
    }
   ],
   "source": [
    "tf1 = (tweets_df['Tweets_clean']).apply(lambda x: pd.value_counts(x.split(\" \"))).sum(axis = 0).reset_index()\n",
    "tf1.columns = ['words','tf']\n",
    "for i,word in enumerate(tf1['words']):\n",
    "    tf1.loc[i, 'idf'] = np.log(tweets_df.shape[0]/(len(tweets_df[tweets_df['Tweets_clean'].str.contains(word)])))\n",
    "\n",
    "tf1['tfidf'] = tf1['tf'] * tf1['idf']\n",
    "print(tf1.shape)\n",
    "tf1.head(10)"
   ]
  },
  {
   "cell_type": "code",
   "execution_count": 24,
   "metadata": {},
   "outputs": [],
   "source": [
    "stop = set(stopwords.words('spanish'))\n",
    "stop |= set(['lima','si','ser'])"
   ]
  },
  {
   "cell_type": "code",
   "execution_count": 25,
   "metadata": {},
   "outputs": [
    {
     "data": {
      "text/plain": [
       "<144x1000 sparse matrix of type '<class 'numpy.float64'>'\n",
       "\twith 1193 stored elements in Compressed Sparse Row format>"
      ]
     },
     "execution_count": 25,
     "metadata": {},
     "output_type": "execute_result"
    }
   ],
   "source": [
    "tfidf = TfidfVectorizer(max_features=1000, lowercase=True, analyzer='word', stop_words= stop,ngram_range=(1,1))\n",
    "train_vect = tfidf.fit_transform(tweets_df['Tweets_clean'])\n",
    "train_vect"
   ]
  },
  {
   "cell_type": "code",
   "execution_count": 26,
   "metadata": {},
   "outputs": [
    {
     "name": "stdout",
     "output_type": "stream",
     "text": [
      "(144, 1000)\n"
     ]
    },
    {
     "data": {
      "text/plain": [
       "<144x1000 sparse matrix of type '<class 'numpy.int64'>'\n",
       "\twith 1205 stored elements in Compressed Sparse Row format>"
      ]
     },
     "execution_count": 26,
     "metadata": {},
     "output_type": "execute_result"
    }
   ],
   "source": [
    "from sklearn.feature_extraction.text import CountVectorizer\n",
    "bow = CountVectorizer(max_features=1000, lowercase=True, ngram_range=(1,1),analyzer = \"word\")\n",
    "train_bow = bow.fit_transform(tweets_df['Tweets_clean'])\n",
    "print(train_bow.shape)\n",
    "train_bow"
   ]
  },
  {
   "cell_type": "code",
   "execution_count": 27,
   "metadata": {},
   "outputs": [],
   "source": [
    "from sklearn.metrics.pairwise import linear_kernel\n",
    "\n",
    "def find_similar(tfidf_matrix, index, top_n = 5):\n",
    "    cosine_similarities = linear_kernel(tfidf_matrix[index:index+1], tfidf_matrix).flatten()\n",
    "    related_docs_indices = [i for i in cosine_similarities.argsort()[::-1] if i != index]\n",
    "    return [(index, cosine_similarities[index]) for index in related_docs_indices][0:top_n]"
   ]
  },
  {
   "cell_type": "code",
   "execution_count": 31,
   "metadata": {},
   "outputs": [
    {
     "data": {
      "text/html": [
       "<div>\n",
       "<style scoped>\n",
       "    .dataframe tbody tr th:only-of-type {\n",
       "        vertical-align: middle;\n",
       "    }\n",
       "\n",
       "    .dataframe tbody tr th {\n",
       "        vertical-align: top;\n",
       "    }\n",
       "\n",
       "    .dataframe thead th {\n",
       "        text-align: right;\n",
       "    }\n",
       "</style>\n",
       "<table border=\"1\" class=\"dataframe\">\n",
       "  <thead>\n",
       "    <tr style=\"text-align: right;\">\n",
       "      <th></th>\n",
       "      <th>date</th>\n",
       "      <th>followers</th>\n",
       "      <th>location</th>\n",
       "      <th>Tweets</th>\n",
       "      <th>word_count</th>\n",
       "      <th>char_count</th>\n",
       "      <th>avg_word</th>\n",
       "      <th>hastags</th>\n",
       "      <th>numerics</th>\n",
       "      <th>Tweets_clean</th>\n",
       "      <th>ACTIONS</th>\n",
       "      <th>NOUNS</th>\n",
       "    </tr>\n",
       "  </thead>\n",
       "  <tbody>\n",
       "    <tr>\n",
       "      <th>143</th>\n",
       "      <td>2018-09-21 22:51:04</td>\n",
       "      <td>1420</td>\n",
       "      <td>Ate</td>\n",
       "      <td>#UnidosContraElFriaje. Juntos podemos hacer más. 👏🏻👏🏻 @YTSF_sep_org @aeaperu @BolivarPeru</td>\n",
       "      <td>7</td>\n",
       "      <td>53</td>\n",
       "      <td>6.714286</td>\n",
       "      <td>1</td>\n",
       "      <td>0</td>\n",
       "      <td>mentagatuna jajajajaja vamos correr mañana dromingo 🤸</td>\n",
       "      <td>NaN</td>\n",
       "      <td>NaN</td>\n",
       "    </tr>\n",
       "  </tbody>\n",
       "</table>\n",
       "</div>"
      ],
      "text/plain": [
       "                    date  followers location  \\\n",
       "143  2018-09-21 22:51:04       1420      Ate   \n",
       "\n",
       "                                                                                        Tweets  \\\n",
       "143  #UnidosContraElFriaje. Juntos podemos hacer más. 👏🏻👏🏻 @YTSF_sep_org @aeaperu @BolivarPeru   \n",
       "\n",
       "     word_count  char_count  avg_word  hastags  numerics  \\\n",
       "143           7          53  6.714286        1         0   \n",
       "\n",
       "                                              Tweets_clean ACTIONS NOUNS  \n",
       "143  mentagatuna jajajajaja vamos correr mañana dromingo 🤸     NaN   NaN  "
      ]
     },
     "execution_count": 31,
     "metadata": {},
     "output_type": "execute_result"
    }
   ],
   "source": [
    "tweet = tweets_df.sample(1)\n",
    "tweet"
   ]
  },
  {
   "cell_type": "code",
   "execution_count": 32,
   "metadata": {},
   "outputs": [
    {
     "name": "stdout",
     "output_type": "stream",
     "text": [
      "['#UnidosContraElFriaje. Juntos podemos hacer más. 👏🏻👏🏻 @YTSF_sep_org @aeaperu @BolivarPeru']\n"
     ]
    }
   ],
   "source": [
    "print(tweet['Tweets'].values)"
   ]
  },
  {
   "cell_type": "code",
   "execution_count": 33,
   "metadata": {},
   "outputs": [
    {
     "name": "stderr",
     "output_type": "stream",
     "text": [
      "/Users/romelldominguez/anaconda3/lib/python3.6/site-packages/pandas/core/frame.py:6211: FutureWarning: Sorting because non-concatenation axis is not aligned. A future version\n",
      "of pandas will change to not sort by default.\n",
      "\n",
      "To accept the future behavior, pass 'sort=False'.\n",
      "\n",
      "To retain the current behavior and silence the warning, pass 'sort=True'.\n",
      "\n",
      "  sort=sort)\n"
     ]
    },
    {
     "data": {
      "text/html": [
       "<div>\n",
       "<style scoped>\n",
       "    .dataframe tbody tr th:only-of-type {\n",
       "        vertical-align: middle;\n",
       "    }\n",
       "\n",
       "    .dataframe tbody tr th {\n",
       "        vertical-align: top;\n",
       "    }\n",
       "\n",
       "    .dataframe thead th {\n",
       "        text-align: right;\n",
       "    }\n",
       "</style>\n",
       "<table border=\"1\" class=\"dataframe\">\n",
       "  <thead>\n",
       "    <tr style=\"text-align: right;\">\n",
       "      <th></th>\n",
       "      <th>Tweets</th>\n",
       "      <th>score</th>\n",
       "    </tr>\n",
       "  </thead>\n",
       "  <tbody>\n",
       "    <tr>\n",
       "      <th>38</th>\n",
       "      <td>Resulta que hoy me pagaron como debe ser, junto con el pago de los demás. Cuando quiero ser intenso lo soy y mucho… ...</td>\n",
       "      <td>0.268772</td>\n",
       "    </tr>\n",
       "    <tr>\n",
       "      <th>30</th>\n",
       "      <td>@esthervargasc Me sentiré satisfecha cuando tenga la confianza de que mis congresistas legislan, no que pierden el… ...</td>\n",
       "      <td>0.125421</td>\n",
       "    </tr>\n",
       "    <tr>\n",
       "      <th>41</th>\n",
       "      <td>Lu también aplicara el “lo qué pasa es que tengo más amigos como tú?” 😏😂🙊  @dannapaola</td>\n",
       "      <td>0.110023</td>\n",
       "    </tr>\n",
       "    <tr>\n",
       "      <th>46</th>\n",
       "      <td>@sergiotej En base a èstas corruptelas , Nø se podría revisar fallos?</td>\n",
       "      <td>0.000000</td>\n",
       "    </tr>\n",
       "    <tr>\n",
       "      <th>51</th>\n",
       "      <td>Desde hace cuanto tiempo que no ganábamos de visita en provincia</td>\n",
       "      <td>0.000000</td>\n",
       "    </tr>\n",
       "  </tbody>\n",
       "</table>\n",
       "</div>"
      ],
      "text/plain": [
       "                                                                                                                     Tweets  \\\n",
       "38  Resulta que hoy me pagaron como debe ser, junto con el pago de los demás. Cuando quiero ser intenso lo soy y mucho… ...   \n",
       "30  @esthervargasc Me sentiré satisfecha cuando tenga la confianza de que mis congresistas legislan, no que pierden el… ...   \n",
       "41                                   Lu también aplicara el “lo qué pasa es que tengo más amigos como tú?” 😏😂🙊  @dannapaola   \n",
       "46                                                    @sergiotej En base a èstas corruptelas , Nø se podría revisar fallos?   \n",
       "51                                                         Desde hace cuanto tiempo que no ganábamos de visita en provincia   \n",
       "\n",
       "       score  \n",
       "38  0.268772  \n",
       "30  0.125421  \n",
       "41  0.110023  \n",
       "46  0.000000  \n",
       "51  0.000000  "
      ]
     },
     "execution_count": 33,
     "metadata": {},
     "output_type": "execute_result"
    }
   ],
   "source": [
    "pd.options.display.max_colwidth = 120\n",
    "vals = pd.DataFrame()\n",
    "for index, score in find_similar(train_vect, tweet.index[0],top_n = 5):\n",
    "    vals = vals.append(tweets_df.iloc[index:index+1,:])\n",
    "    vals.loc[index,'score'] = score\n",
    "    \n",
    "vals[['Tweets','score']].head()"
   ]
  },
  {
   "cell_type": "code",
   "execution_count": 56,
   "metadata": {},
   "outputs": [],
   "source": [
    "import spacy\n",
    "nlp = spacy.load('es')\n",
    "corpus = nlp('\\n'.join(tweets_df['NOUNS'].dropna()))"
   ]
  },
  {
   "cell_type": "code",
   "execution_count": 57,
   "metadata": {},
   "outputs": [
    {
     "data": {
      "text/html": [
       "<div>\n",
       "<style scoped>\n",
       "    .dataframe tbody tr th:only-of-type {\n",
       "        vertical-align: middle;\n",
       "    }\n",
       "\n",
       "    .dataframe tbody tr th {\n",
       "        vertical-align: top;\n",
       "    }\n",
       "\n",
       "    .dataframe thead th {\n",
       "        text-align: right;\n",
       "    }\n",
       "</style>\n",
       "<table border=\"1\" class=\"dataframe\">\n",
       "  <thead>\n",
       "    <tr style=\"text-align: right;\">\n",
       "      <th></th>\n",
       "      <th>Noun</th>\n",
       "      <th>Freq</th>\n",
       "    </tr>\n",
       "  </thead>\n",
       "  <tbody>\n",
       "    <tr>\n",
       "      <th>0</th>\n",
       "      <td>congresista</td>\n",
       "      <td>3</td>\n",
       "    </tr>\n",
       "    <tr>\n",
       "      <th>1</th>\n",
       "      <td>veces</td>\n",
       "      <td>2</td>\n",
       "    </tr>\n",
       "    <tr>\n",
       "      <th>2</th>\n",
       "      <td>atención</td>\n",
       "      <td>2</td>\n",
       "    </tr>\n",
       "    <tr>\n",
       "      <th>3</th>\n",
       "      <td>red</td>\n",
       "      <td>2</td>\n",
       "    </tr>\n",
       "    <tr>\n",
       "      <th>4</th>\n",
       "      <td>gracias</td>\n",
       "      <td>2</td>\n",
       "    </tr>\n",
       "    <tr>\n",
       "      <th>5</th>\n",
       "      <td>hora</td>\n",
       "      <td>2</td>\n",
       "    </tr>\n",
       "    <tr>\n",
       "      <th>6</th>\n",
       "      <td>alianza</td>\n",
       "      <td>2</td>\n",
       "    </tr>\n",
       "    <tr>\n",
       "      <th>7</th>\n",
       "      <td>estación</td>\n",
       "      <td>2</td>\n",
       "    </tr>\n",
       "    <tr>\n",
       "      <th>8</th>\n",
       "      <td>casa</td>\n",
       "      <td>2</td>\n",
       "    </tr>\n",
       "    <tr>\n",
       "      <th>9</th>\n",
       "      <td>conciencia</td>\n",
       "      <td>2</td>\n",
       "    </tr>\n",
       "    <tr>\n",
       "      <th>10</th>\n",
       "      <td>felicidades</td>\n",
       "      <td>2</td>\n",
       "    </tr>\n",
       "    <tr>\n",
       "      <th>11</th>\n",
       "      <td>fecha</td>\n",
       "      <td>2</td>\n",
       "    </tr>\n",
       "    <tr>\n",
       "      <th>12</th>\n",
       "      <td>barranco</td>\n",
       "      <td>2</td>\n",
       "    </tr>\n",
       "    <tr>\n",
       "      <th>13</th>\n",
       "      <td>mano</td>\n",
       "      <td>2</td>\n",
       "    </tr>\n",
       "    <tr>\n",
       "      <th>14</th>\n",
       "      <td>corrupción</td>\n",
       "      <td>2</td>\n",
       "    </tr>\n",
       "    <tr>\n",
       "      <th>15</th>\n",
       "      <td>gobierno</td>\n",
       "      <td>2</td>\n",
       "    </tr>\n",
       "    <tr>\n",
       "      <th>16</th>\n",
       "      <td>persona</td>\n",
       "      <td>2</td>\n",
       "    </tr>\n",
       "    <tr>\n",
       "      <th>17</th>\n",
       "      <td>evento</td>\n",
       "      <td>2</td>\n",
       "    </tr>\n",
       "    <tr>\n",
       "      <th>18</th>\n",
       "      <td>miraflores</td>\n",
       "      <td>2</td>\n",
       "    </tr>\n",
       "    <tr>\n",
       "      <th>19</th>\n",
       "      <td>gestionpe</td>\n",
       "      <td>2</td>\n",
       "    </tr>\n",
       "    <tr>\n",
       "      <th>20</th>\n",
       "      <td>styloycolor</td>\n",
       "      <td>2</td>\n",
       "    </tr>\n",
       "    <tr>\n",
       "      <th>21</th>\n",
       "      <td>esfuerzo</td>\n",
       "      <td>1</td>\n",
       "    </tr>\n",
       "    <tr>\n",
       "      <th>22</th>\n",
       "      <td>transita</td>\n",
       "      <td>1</td>\n",
       "    </tr>\n",
       "    <tr>\n",
       "      <th>23</th>\n",
       "      <td>jugamos</td>\n",
       "      <td>1</td>\n",
       "    </tr>\n",
       "    <tr>\n",
       "      <th>24</th>\n",
       "      <td>facilidad</td>\n",
       "      <td>1</td>\n",
       "    </tr>\n",
       "    <tr>\n",
       "      <th>25</th>\n",
       "      <td>inmunidad</td>\n",
       "      <td>1</td>\n",
       "    </tr>\n",
       "    <tr>\n",
       "      <th>26</th>\n",
       "      <td>lado</td>\n",
       "      <td>1</td>\n",
       "    </tr>\n",
       "    <tr>\n",
       "      <th>27</th>\n",
       "      <td>música</td>\n",
       "      <td>1</td>\n",
       "    </tr>\n",
       "    <tr>\n",
       "      <th>28</th>\n",
       "      <td>ppk</td>\n",
       "      <td>1</td>\n",
       "    </tr>\n",
       "    <tr>\n",
       "      <th>29</th>\n",
       "      <td>premios</td>\n",
       "      <td>1</td>\n",
       "    </tr>\n",
       "    <tr>\n",
       "      <th>...</th>\n",
       "      <td>...</td>\n",
       "      <td>...</td>\n",
       "    </tr>\n",
       "    <tr>\n",
       "      <th>120</th>\n",
       "      <td>puente</td>\n",
       "      <td>1</td>\n",
       "    </tr>\n",
       "    <tr>\n",
       "      <th>121</th>\n",
       "      <td>macho</td>\n",
       "      <td>1</td>\n",
       "    </tr>\n",
       "    <tr>\n",
       "      <th>122</th>\n",
       "      <td>mensajes</td>\n",
       "      <td>1</td>\n",
       "    </tr>\n",
       "    <tr>\n",
       "      <th>123</th>\n",
       "      <td>cuellos</td>\n",
       "      <td>1</td>\n",
       "    </tr>\n",
       "    <tr>\n",
       "      <th>124</th>\n",
       "      <td>familia</td>\n",
       "      <td>1</td>\n",
       "    </tr>\n",
       "    <tr>\n",
       "      <th>125</th>\n",
       "      <td>huachaferia</td>\n",
       "      <td>1</td>\n",
       "    </tr>\n",
       "    <tr>\n",
       "      <th>126</th>\n",
       "      <td>requisitos</td>\n",
       "      <td>1</td>\n",
       "    </tr>\n",
       "    <tr>\n",
       "      <th>127</th>\n",
       "      <td>mtr</td>\n",
       "      <td>1</td>\n",
       "    </tr>\n",
       "    <tr>\n",
       "      <th>128</th>\n",
       "      <td>metro</td>\n",
       "      <td>1</td>\n",
       "    </tr>\n",
       "    <tr>\n",
       "      <th>129</th>\n",
       "      <td>pozo</td>\n",
       "      <td>1</td>\n",
       "    </tr>\n",
       "    <tr>\n",
       "      <th>130</th>\n",
       "      <td>condon</td>\n",
       "      <td>1</td>\n",
       "    </tr>\n",
       "    <tr>\n",
       "      <th>131</th>\n",
       "      <td>oscarsignus</td>\n",
       "      <td>1</td>\n",
       "    </tr>\n",
       "    <tr>\n",
       "      <th>132</th>\n",
       "      <td>par</td>\n",
       "      <td>1</td>\n",
       "    </tr>\n",
       "    <tr>\n",
       "      <th>133</th>\n",
       "      <td>this</td>\n",
       "      <td>1</td>\n",
       "    </tr>\n",
       "    <tr>\n",
       "      <th>134</th>\n",
       "      <td>sobrinos</td>\n",
       "      <td>1</td>\n",
       "    </tr>\n",
       "    <tr>\n",
       "      <th>135</th>\n",
       "      <td>vida</td>\n",
       "      <td>1</td>\n",
       "    </tr>\n",
       "    <tr>\n",
       "      <th>136</th>\n",
       "      <td>sector</td>\n",
       "      <td>1</td>\n",
       "    </tr>\n",
       "    <tr>\n",
       "      <th>137</th>\n",
       "      <td>presidente</td>\n",
       "      <td>1</td>\n",
       "    </tr>\n",
       "    <tr>\n",
       "      <th>138</th>\n",
       "      <td>estudio</td>\n",
       "      <td>1</td>\n",
       "    </tr>\n",
       "    <tr>\n",
       "      <th>139</th>\n",
       "      <td>voto</td>\n",
       "      <td>1</td>\n",
       "    </tr>\n",
       "    <tr>\n",
       "      <th>140</th>\n",
       "      <td>reformas</td>\n",
       "      <td>1</td>\n",
       "    </tr>\n",
       "    <tr>\n",
       "      <th>141</th>\n",
       "      <td>octubre</td>\n",
       "      <td>1</td>\n",
       "    </tr>\n",
       "    <tr>\n",
       "      <th>142</th>\n",
       "      <td>tema</td>\n",
       "      <td>1</td>\n",
       "    </tr>\n",
       "    <tr>\n",
       "      <th>143</th>\n",
       "      <td>ordenanzas</td>\n",
       "      <td>1</td>\n",
       "    </tr>\n",
       "    <tr>\n",
       "      <th>144</th>\n",
       "      <td>batalla</td>\n",
       "      <td>1</td>\n",
       "    </tr>\n",
       "    <tr>\n",
       "      <th>145</th>\n",
       "      <td>septiembre</td>\n",
       "      <td>1</td>\n",
       "    </tr>\n",
       "    <tr>\n",
       "      <th>146</th>\n",
       "      <td>grupos</td>\n",
       "      <td>1</td>\n",
       "    </tr>\n",
       "    <tr>\n",
       "      <th>147</th>\n",
       "      <td>comentario</td>\n",
       "      <td>1</td>\n",
       "    </tr>\n",
       "    <tr>\n",
       "      <th>148</th>\n",
       "      <td>votación</td>\n",
       "      <td>1</td>\n",
       "    </tr>\n",
       "    <tr>\n",
       "      <th>149</th>\n",
       "      <td>congresistas</td>\n",
       "      <td>1</td>\n",
       "    </tr>\n",
       "  </tbody>\n",
       "</table>\n",
       "<p>150 rows × 2 columns</p>\n",
       "</div>"
      ],
      "text/plain": [
       "             Noun  Freq\n",
       "0     congresista     3\n",
       "1           veces     2\n",
       "2        atención     2\n",
       "3             red     2\n",
       "4         gracias     2\n",
       "5            hora     2\n",
       "6         alianza     2\n",
       "7        estación     2\n",
       "8            casa     2\n",
       "9      conciencia     2\n",
       "10    felicidades     2\n",
       "11          fecha     2\n",
       "12       barranco     2\n",
       "13           mano     2\n",
       "14     corrupción     2\n",
       "15       gobierno     2\n",
       "16        persona     2\n",
       "17         evento     2\n",
       "18     miraflores     2\n",
       "19      gestionpe     2\n",
       "20    styloycolor     2\n",
       "21       esfuerzo     1\n",
       "22       transita     1\n",
       "23        jugamos     1\n",
       "24      facilidad     1\n",
       "25      inmunidad     1\n",
       "26           lado     1\n",
       "27         música     1\n",
       "28            ppk     1\n",
       "29        premios     1\n",
       "..            ...   ...\n",
       "120        puente     1\n",
       "121         macho     1\n",
       "122      mensajes     1\n",
       "123       cuellos     1\n",
       "124       familia     1\n",
       "125   huachaferia     1\n",
       "126    requisitos     1\n",
       "127           mtr     1\n",
       "128         metro     1\n",
       "129          pozo     1\n",
       "130        condon     1\n",
       "131   oscarsignus     1\n",
       "132           par     1\n",
       "133          this     1\n",
       "134      sobrinos     1\n",
       "135          vida     1\n",
       "136        sector     1\n",
       "137    presidente     1\n",
       "138       estudio     1\n",
       "139          voto     1\n",
       "140      reformas     1\n",
       "141       octubre     1\n",
       "142          tema     1\n",
       "143    ordenanzas     1\n",
       "144       batalla     1\n",
       "145    septiembre     1\n",
       "146        grupos     1\n",
       "147    comentario     1\n",
       "148      votación     1\n",
       "149  congresistas     1\n",
       "\n",
       "[150 rows x 2 columns]"
      ]
     },
     "execution_count": 57,
     "metadata": {},
     "output_type": "execute_result"
    }
   ],
   "source": [
    "visited = {}\n",
    "nouns = []\n",
    "for word in corpus:\n",
    "    if word.pos_.startswith('N') and len(word.string) < 15 and len(word.string) > 2:\n",
    "        token = word.string.strip().lower()\n",
    "        if token in visited:\n",
    "            visited[token] += 1\n",
    "            continue\n",
    "        else:\n",
    "            visited[token] = 1\n",
    "            nouns.append(word)\n",
    "nouns = sorted(nouns, key=lambda w: -visited[w.string.strip().lower()])[:150]\n",
    "pd.DataFrame([[w.text, visited[w.string.strip().lower()]] for w in nouns], columns=['Noun', 'Freq'])"
   ]
  },
  {
   "cell_type": "code",
   "execution_count": 60,
   "metadata": {},
   "outputs": [
    {
     "data": {
      "image/png": "[encoded data removed]",
      "text/plain": [
       "<Figure size 1296x1296 with 1 Axes>"
      ]
     },
     "metadata": {},
     "output_type": "display_data"
    }
   ],
   "source": [
    "def plot_with_labels(low_dim_embs, labels, filename='tsne.png'):\n",
    "    assert low_dim_embs.shape[0] >= len(labels), \"More labels than embeddings\"\n",
    "    plt.figure(figsize=(18, 18))  # in inches\n",
    "    for i, label in enumerate(labels):\n",
    "        x, y = low_dim_embs[i, :]\n",
    "        plt.scatter(x, y, s=2.0)\n",
    "        plt.annotate(label, xy=(x, y), xytext=(5, 2),\n",
    "                 textcoords='offset points',ha='right',va='bottom')\n",
    "    plt.tight_layout()\n",
    "    plt.savefig('lima_words_TSNE.png')\n",
    "    plt.show()\n",
    "\n",
    "# Creating the tsne plot [Warning: will take time]\n",
    "tsne = TSNE(perplexity=50.0, n_components=2, init='pca', n_iter=10000)\n",
    "\n",
    "low_dim_embedding = tsne.fit_transform(np.array([word.vector for word in nouns]))\n",
    "\n",
    "# Finally plotting and saving the fig \n",
    "plot_with_labels(low_dim_embedding, [word.text for word in nouns])"
   ]
  },
  {
   "cell_type": "code",
   "execution_count": null,
   "metadata": {},
   "outputs": [],
   "source": []
  }
 ],
 "metadata": {
  "kernelspec": {
   "display_name": "Python 3",
   "language": "python",
   "name": "python3"
  },
  "language_info": {
   "codemirror_mode": {
    "name": "ipython",
    "version": 3
   },
   "file_extension": ".py",
   "mimetype": "text/x-python",
   "name": "python",
   "nbconvert_exporter": "python",
   "pygments_lexer": "ipython3",
   "version": "3.6.5"
  }
 },
 "nbformat": 4,
 "nbformat_minor": 2
}
