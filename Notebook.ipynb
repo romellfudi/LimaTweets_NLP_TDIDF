{
 "cells": [
  {
   "cell_type": "code",
   "execution_count": 12,
   "metadata": {},
   "outputs": [
    {
     "name": "stdout",
     "output_type": "stream",
     "text": [
      "The watermark extension is already loaded. To reload it, use:\n",
      "  %reload_ext watermark\n",
      "Romell D.Z. \n",
      "last updated: 2019-08-25 \n",
      "\n",
      "tweepy 3.6.0\n",
      "scipy 1.1.0\n",
      "nltk 3.2.5\n",
      "gensim 3.4.0\n",
      "sklearn 0.20.0\n",
      "networkx 2.3\n",
      "textblob 0.15.1\n",
      "spacy 2.0.12\n"
     ]
    }
   ],
   "source": [
    "%load_ext watermark\n",
    "%watermark -a \"Romell D.Z.\" -u -d -p tweepy,scipy,nltk,gensim,sklearn,networkx,textblob,spacy"
   ]
  },
  {
   "cell_type": "code",
   "execution_count": 48,
   "metadata": {},
   "outputs": [],
   "source": [
    "import os\n",
    "import tweepy\n",
    "from tweepy import Stream\n",
    "\n",
    "import netrc\n",
    "\n",
    "from unidecode import unidecode\n",
    "import re\n",
    "\n",
    "from tweepy import StreamListener\n",
    "\n",
    "%matplotlib inline\n",
    "\n",
    "from pprint import pprint\n",
    "import pyprind\n",
    "import pandas as pd\n",
    "\n",
    "import random\n",
    "from scipy.stats import beta as beta_distribution\n",
    "import numpy as np\n",
    "\n",
    "from nltk.corpus import stopwords \n",
    "from nltk import word_tokenize\n",
    "from nltk.data import load\n",
    "from nltk.stem import SnowballStemmer\n",
    "from nltk.stem.wordnet import WordNetLemmatizer\n",
    "import string\n",
    "\n",
    "import gensim\n",
    "from gensim import corpora\n",
    "\n",
    "import pyLDAvis\n",
    "import pyLDAvis.gensim  # don't skip this\n",
    "\n",
    "from gensim.models.ldamodel import LdaModel\n",
    "from string import punctuation\n",
    "from sklearn.feature_extraction.text import CountVectorizer\n",
    "\n",
    "from sklearn.pipeline import Pipeline\n",
    "from sklearn.svm import LinearSVC\n",
    "from sklearn.model_selection import GridSearchCV\n",
    "\n",
    "from textblob import Word\n",
    "from textblob import TextBlob\n",
    "\n",
    "from sklearn.feature_extraction.text import TfidfVectorizer\n",
    "import warnings\n",
    "warnings.simplefilter('ignore')\n",
    "\n",
    "from sklearn.manifold import TSNE\n",
    "import matplotlib.pyplot as plt\n",
    "\n",
    "import advertools as adv\n",
    "\n",
    "import networkx as nx\n",
    "\n",
    "import spacy\n",
    "from spacy import displacy\n",
    "nlp = spacy.load('es_core_news_sm')"
   ]
  },
  {
   "cell_type": "code",
   "execution_count": 3,
   "metadata": {},
   "outputs": [],
   "source": [
    "auth = netrc.netrc()\n",
    "ckey,_,csecret=auth.authenticators('tweet_api')\n",
    "atoken,_,asecret=auth.authenticators('tweet_secret')"
   ]
  },
  {
   "cell_type": "markdown",
   "metadata": {},
   "source": [
    "# [BoundingBox](https://boundingbox.klokantech.com/) CSV RAW"
   ]
  },
  {
   "cell_type": "code",
   "execution_count": 4,
   "metadata": {},
   "outputs": [],
   "source": [
    "# LIMA_GEO_LOCATION_BOUNDING_BOX = [-77.1785277831,-12.1531578397,-76.8967618806,-11.9288928156]\n",
    "LIMA_GEO_LOCATION_BOUNDING_BOX = [ -81.802362,-17.525482, -69.774343,-3.226278]\n",
    "auth = tweepy.OAuthHandler(ckey, csecret)\n",
    "auth.set_access_token(atoken, asecret)\n",
    "api = tweepy.API(auth)"
   ]
  },
  {
   "cell_type": "code",
   "execution_count": 5,
   "metadata": {},
   "outputs": [],
   "source": [
    "NUMBER_OF_TWEETS = 1000\n",
    "pbar = pyprind.ProgBar(NUMBER_OF_TWEETS)"
   ]
  },
  {
   "cell_type": "code",
   "execution_count": 6,
   "metadata": {},
   "outputs": [],
   "source": [
    "class FiniteStreamListener(StreamListener):\n",
    "    \n",
    "    def __init__(self, number_of_tweets):\n",
    "        self.number_of_tweets = number_of_tweets\n",
    "        self.tweets = []\n",
    "        self.tweets_dict = []\n",
    "        super(FiniteStreamListener,self).__init__()\n",
    "        \n",
    "    def on_status(self, status):\n",
    "        if len(self.tweets) < self.number_of_tweets:\n",
    "            self.tweets_dict.append(status._json)\n",
    "            place = status._json['place']['name'] if(status._json['place']) else \"\"\n",
    "            self.tweets.append({'date':status.created_at,\n",
    "                                'text':status.text,\n",
    "                                'location':place,\n",
    "                                'followers':status._json['user']['followers_count']})\n",
    "            pbar.update()\n",
    "        else:\n",
    "            return False"
   ]
  },
  {
   "cell_type": "code",
   "execution_count": 7,
   "metadata": {},
   "outputs": [],
   "source": [
    "finite_stream_listener = FiniteStreamListener(number_of_tweets=NUMBER_OF_TWEETS)\n",
    "streaming_api = Stream(auth=auth, listener=finite_stream_listener,timeout=60)"
   ]
  },
  {
   "cell_type": "markdown",
   "metadata": {},
   "source": [
    "### The streaming API doesn't allow to filter by location AND keyword simultaneously."
   ]
  },
  {
   "cell_type": "code",
   "execution_count": 8,
   "metadata": {},
   "outputs": [],
   "source": [
    "EMOTICONS = \">:] :-) :) :o) :] :3 :c) :> =] 8) =) :} :^) \"\n",
    "EMOTICONS = EMOTICONS.strip().split(' ')\n",
    "# streaming_api.filter(track=EMOTICONS,async=True)\n",
    "streaming_api.filter(locations=LIMA_GEO_LOCATION_BOUNDING_BOX,async=True)"
   ]
  },
  {
   "cell_type": "code",
   "execution_count": 12,
   "metadata": {},
   "outputs": [
    {
     "name": "stdout",
     "output_type": "stream",
     "text": [
      "56\n"
     ]
    },
    {
     "name": "stderr",
     "output_type": "stream",
     "text": [
      "0% [##############################] 100% | ETA: 00:00:00\n",
      "Total time elapsed: 01:05:42\n"
     ]
    }
   ],
   "source": [
    "print(len(finite_stream_listener.tweets))"
   ]
  },
  {
   "cell_type": "code",
   "execution_count": 13,
   "metadata": {},
   "outputs": [],
   "source": [
    "np.save('tweets_dict',finite_stream_listener.tweets_dict)"
   ]
  },
  {
   "cell_type": "code",
   "execution_count": 17,
   "metadata": {},
   "outputs": [],
   "source": [
    "def make_lowercase(tweet):\n",
    "    return tweet.lower()\n",
    "\n",
    "def remove_diacritics(tweet):\n",
    "    return unidecode(tweet)\n",
    "\n",
    "def remove_non_alpha_characters(tweet):\n",
    "    return ''.join(character for character in tweet if character.isalpha() or character == ' ')\n",
    "\n",
    "def remove_web_site(tweet):\n",
    "    return re.sub(r'http\\w+', '', tweet)#, flags=re.MULTILINE)"
   ]
  },
  {
   "cell_type": "code",
   "execution_count": 18,
   "metadata": {},
   "outputs": [],
   "source": [
    "tweets_df = pd.DataFrame.from_dict(finite_stream_listener.tweets)\n",
    "tweets_df.rename(columns={'text':'Tweets'},inplace=True)"
   ]
  },
  {
   "cell_type": "code",
   "execution_count": 19,
   "metadata": {},
   "outputs": [],
   "source": [
    "tweets_df['word_count'] = tweets_df['Tweets'].apply(lambda x: len(str(x).split(\" \")))\n",
    "tweets_df['char_count'] = tweets_df['Tweets'].str.len()\n",
    "\n",
    "def avg_word(sentence):\n",
    "    words = sentence.split()\n",
    "    return (sum(len(word) for word in words)/len(words))\n",
    "\n",
    "tweets_df['avg_word'] = tweets_df['Tweets'].apply(lambda x: avg_word(x))\n",
    "tweets_df['hastags'] = tweets_df['Tweets'].apply(lambda x: len([x for x in x.split() if x.startswith('#')]))\n",
    "tweets_df['numerics'] = tweets_df['Tweets'].apply(lambda x: len([x for x in x.split() if x.isdigit()]))"
   ]
  },
  {
   "cell_type": "code",
   "execution_count": 20,
   "metadata": {},
   "outputs": [],
   "source": [
    "cleaned_tweets = list(tweets_df['Tweets'])\n",
    "for cleaning_function in \\\n",
    "    [make_lowercase, \n",
    "#      remove_diacritics,\n",
    "     remove_non_alpha_characters,\n",
    "     remove_web_site]:\n",
    "    cleaned_tweets = [cleaning_function(tweet) for tweet in cleaned_tweets]"
   ]
  },
  {
   "cell_type": "code",
   "execution_count": 21,
   "metadata": {},
   "outputs": [
    {
     "data": {
      "text/plain": [
       "['ultima noche de semanademayordomia en la iasdesperanza aprendiendo sobre la importancia de ser fiel a dios con l ',\n",
       " 'não existe boy legal em salvador asklgbt',\n",
       " 'movistarvoleype vamos perú no podemos flaquear más adelante los equipos son más fuertes sabemos de su espíritu de lucha arriba perú',\n",
       " 'noticiamerica tanto lío por ese pequeño lapsus',\n",
       " 'pobre chica la cuerda siempre se rompe por el lado mas débil']"
      ]
     },
     "execution_count": 21,
     "metadata": {},
     "output_type": "execute_result"
    }
   ],
   "source": [
    "random.sample(cleaned_tweets,5)"
   ]
  },
  {
   "cell_type": "code",
   "execution_count": 22,
   "metadata": {},
   "outputs": [
    {
     "name": "stdout",
     "output_type": "stream",
     "text": [
      "Nuestra palabra clave aparece: 41 veces\n",
      "Nuestra palabra clave apareció en: 4.1% de los tweets\n"
     ]
    }
   ],
   "source": [
    "KEYWORD='lima'\n",
    "number_of_occurences = sum(KEYWORD in tweet for tweet in cleaned_tweets)\n",
    "print('Nuestra palabra clave aparece: {} veces'.format(number_of_occurences))\n",
    "print('Nuestra palabra clave apareció en: {}% de los tweets'.format(100 * number_of_occurences/NUMBER_OF_TWEETS))"
   ]
  },
  {
   "cell_type": "code",
   "execution_count": 23,
   "metadata": {},
   "outputs": [
    {
     "name": "stdout",
     "output_type": "stream",
     "text": [
      "['cooking with fire in peru today cookingclass seerundo lima peru '\n",
      " 'southamerica  lima peru ',\n",
      " 'shopping for our cooking class today mercado seerundo lima peru '\n",
      " 'southamerica  mercado n de surquillo ',\n",
      " 'im at the beer place in lima  ',\n",
      " 'im at centro cultural ricardo palma  munimiraflores in miraflores lima ',\n",
      " 'estoy listo y esperándote barbon amado  una nueva jornada juntos hsmn '\n",
      " 'octubremesmorado en sheraton lima hot ']\n"
     ]
    }
   ],
   "source": [
    "pprint([tweet for tweet in cleaned_tweets if KEYWORD in tweet][:5])"
   ]
  },
  {
   "cell_type": "code",
   "execution_count": 24,
   "metadata": {},
   "outputs": [
    {
     "name": "stdout",
     "output_type": "stream",
     "text": [
      "index de los 10 tweets:[6, 23, 103, 107, 116, 144, 149, 173, 211, 219, 237, 252, 254, 260, 277, 330, 373, 389, 392, 411, 421, 512, 522, 550, 653, 667, 684, 726, 727, 736, 743, 749, 821, 867, 877, 879, 884, 907, 912, 927, 969]\n"
     ]
    }
   ],
   "source": [
    "indices_of_tweets_containing_keyword=[index for index, tweet in enumerate(cleaned_tweets) if KEYWORD in tweet]\n",
    "print('index de los 10 tweets:%s'%(indices_of_tweets_containing_keyword))"
   ]
  },
  {
   "cell_type": "code",
   "execution_count": 25,
   "metadata": {},
   "outputs": [],
   "source": [
    "distances_between_indices_of_tweets_containing_keyword = [\n",
    "    second_index - first_index for first_index, second_index in \\\n",
    "        zip(indices_of_tweets_containing_keyword[:-1], indices_of_tweets_containing_keyword[1:])\n",
    "]"
   ]
  },
  {
   "cell_type": "code",
   "execution_count": 26,
   "metadata": {},
   "outputs": [
    {
     "data": {
      "image/png": "[encoded data removed]",
      "text/plain": [
       "<Figure size 432x288 with 1 Axes>"
      ]
     },
     "metadata": {},
     "output_type": "display_data"
    }
   ],
   "source": [
    "pd.Series(distances_between_indices_of_tweets_containing_keyword).hist()\n",
    "plt.savefig('snapshot/lima_tweets_hist.png')"
   ]
  },
  {
   "cell_type": "code",
   "execution_count": 27,
   "metadata": {},
   "outputs": [],
   "source": [
    "alpha = 1 + number_of_occurences\n",
    "beta = 1 + (NUMBER_OF_TWEETS - number_of_occurences)\n",
    "\n",
    "x_values = np.linspace(0, 1, 1002)[1:-1]\n",
    "pdf_y_values = beta_distribution(alpha, beta).pdf(x_values)\n",
    "cdf_y_values = np.cumsum(pdf_y_values) / np.sum(pdf_y_values)"
   ]
  },
  {
   "cell_type": "code",
   "execution_count": 28,
   "metadata": {},
   "outputs": [
    {
     "data": {
      "image/png": "[encoded data removed]",
      "text/plain": [
       "<Figure size 1296x432 with 2 Axes>"
      ]
     },
     "metadata": {},
     "output_type": "display_data"
    }
   ],
   "source": [
    "plt.figure(figsize=(18, 6))\n",
    "plt.subplot(121)\n",
    "plt.plot(x_values, pdf_y_values, label=(r'$\\alpha=%.1f,\\ \\beta=%.1f$' % (alpha, beta)))\n",
    "\n",
    "plt.xlim(0, 1)\n",
    "plt.xlabel('Probability of tweet containing keyword')\n",
    "plt.ylabel('Probability density')\n",
    "plt.title('Beta Distribution PDF')\n",
    "plt.legend(loc=1)\n",
    "\n",
    "plt.subplot(122)\n",
    "plt.plot(x_values, cdf_y_values)\n",
    "plt.xlim(0, 1)\n",
    "plt.ylim(0, 1.005)\n",
    "plt.yticks(np.linspace(0, 1, 21))\n",
    "plt.xlabel('Probability of tweet containing keyword')\n",
    "plt.ylabel('Cumulative probability')\n",
    "plt.title('Beta Distribution CDF')\n",
    "plt.savefig('snapshot/Beta Distribution CDF.png');"
   ]
  },
  {
   "cell_type": "code",
   "execution_count": 29,
   "metadata": {},
   "outputs": [],
   "source": [
    "ix = [n for n,b in enumerate((cdf_y_values>.5)&(cdf_y_values<.95)) if b]"
   ]
  },
  {
   "cell_type": "code",
   "execution_count": 30,
   "metadata": {},
   "outputs": [],
   "source": [
    "range_ =cdf_y_values[ix]"
   ]
  },
  {
   "cell_type": "code",
   "execution_count": 31,
   "metadata": {},
   "outputs": [],
   "source": [
    "a=np.c_[x_values[ix],cdf_y_values[ix]]\n",
    "max_ix,_ = np.unravel_index(a.argmax(), a.shape)\n",
    "min_ix,_ = np.unravel_index(a.argmin(), a.shape)\n",
    "fifth_percentile, ninety_fifth_percentile = x_values[max_ix],x_values[min_ix]"
   ]
  },
  {
   "cell_type": "code",
   "execution_count": 32,
   "metadata": {},
   "outputs": [
    {
     "name": "stdout",
     "output_type": "stream",
     "text": [
      "Con 90% de certeza digamos que la verdadera probabilidad se encuentra entre: 0.010989011 y 0.000999001\n"
     ]
    }
   ],
   "source": [
    "print('Con 90% de certeza digamos que la verdadera probabilidad se encuentra entre: {} y {}'.format(\n",
    "    round(fifth_percentile, 10), round(ninety_fifth_percentile, 10)))"
   ]
  },
  {
   "cell_type": "code",
   "execution_count": 33,
   "metadata": {},
   "outputs": [
    {
     "name": "stdout",
     "output_type": "stream",
     "text": [
      "La probabilidad que la verdadera probabilidad es > .1 es: 1.9441115384211116e-12\n"
     ]
    }
   ],
   "source": [
    "def compute_total_probability_that_probability_less_than_p(p):\n",
    "    return max(cumulative_prob for cumulative_prob, x_value in zip(cdf_y_values, x_values) if x_value < p)\n",
    "\n",
    "print('La probabilidad que la verdadera probabilidad es > .1 es: {}'.format(\n",
    "    1 - compute_total_probability_that_probability_less_than_p(.1)))"
   ]
  },
  {
   "cell_type": "code",
   "execution_count": 34,
   "metadata": {},
   "outputs": [
    {
     "data": {
      "image/png": "[encoded data removed]",
      "text/plain": [
       "<Figure size 432x288 with 1 Axes>"
      ]
     },
     "metadata": {},
     "output_type": "display_data"
    }
   ],
   "source": [
    "tweets_df.groupby('location').agg({'location':len}).sort_values('location').iloc[-15:].plot(kind='barh')\n",
    "plt.title('Most Frequent locations')\n",
    "plt.xlabel('Cantidad')\n",
    "plt.tight_layout()\n",
    "plt.savefig('snapshot/most Frequent locations.png');"
   ]
  },
  {
   "cell_type": "code",
   "execution_count": 35,
   "metadata": {},
   "outputs": [],
   "source": [
    "tweets_df.to_csv('lima_tweets.csv',index=None)"
   ]
  },
  {
   "cell_type": "code",
   "execution_count": 36,
   "metadata": {},
   "outputs": [],
   "source": [
    "tweets_df = pd.read_csv('lima_tweets.csv')"
   ]
  },
  {
   "cell_type": "code",
   "execution_count": 39,
   "metadata": {},
   "outputs": [],
   "source": [
    "stop =stopwords.words('spanish') "
   ]
  },
  {
   "cell_type": "code",
   "execution_count": 40,
   "metadata": {},
   "outputs": [],
   "source": [
    "doc_complete = tweets_df.Tweets.values\n",
    "exclude = set(string.punctuation) \n",
    "lemma = WordNetLemmatizer()\n",
    "def clean(doc):\n",
    "    stop_free = \" \".join([i for i in doc.lower().split() if i not in stop])\n",
    "    punc_free = ''.join(ch for ch in stop_free if ch not in exclude)\n",
    "    normalized = \" \".join(lemma.lemmatize(word) for word in punc_free.split())\n",
    "    return normalized\n",
    "\n",
    "doc_clean = [clean(doc).split() for doc in doc_complete]   \n",
    "tweets_df.dropna(inplace=True)"
   ]
  },
  {
   "cell_type": "code",
   "execution_count": 41,
   "metadata": {},
   "outputs": [],
   "source": [
    "tweets_df['Tweets_clean'] = pd.Series(doc_clean).apply(lambda x:' '.join(x))\n",
    "tweets_df['word_count'] = tweets_df['Tweets_clean'].apply(lambda x: len(str(x).split(\" \")))\n",
    "tweets_df['char_count'] = tweets_df['Tweets_clean'].str.len()"
   ]
  },
  {
   "cell_type": "code",
   "execution_count": 42,
   "metadata": {},
   "outputs": [
    {
     "data": {
      "text/html": [
       "<div>\n",
       "<style scoped>\n",
       "    .dataframe tbody tr th:only-of-type {\n",
       "        vertical-align: middle;\n",
       "    }\n",
       "\n",
       "    .dataframe tbody tr th {\n",
       "        vertical-align: top;\n",
       "    }\n",
       "\n",
       "    .dataframe thead th {\n",
       "        text-align: right;\n",
       "    }\n",
       "</style>\n",
       "<table border=\"1\" class=\"dataframe\">\n",
       "  <thead>\n",
       "    <tr style=\"text-align: right;\">\n",
       "      <th></th>\n",
       "      <th>date</th>\n",
       "      <th>followers</th>\n",
       "      <th>location</th>\n",
       "      <th>Tweets</th>\n",
       "      <th>word_count</th>\n",
       "      <th>char_count</th>\n",
       "      <th>avg_word</th>\n",
       "      <th>hastags</th>\n",
       "      <th>numerics</th>\n",
       "      <th>Tweets_clean</th>\n",
       "    </tr>\n",
       "  </thead>\n",
       "  <tbody>\n",
       "    <tr>\n",
       "      <th>0</th>\n",
       "      <td>2018-10-20 01:57:03</td>\n",
       "      <td>92</td>\n",
       "      <td>Lima</td>\n",
       "      <td>@elpanfletope @AlanGarciaPeru chancho no come ...</td>\n",
       "      <td>5</td>\n",
       "      <td>48</td>\n",
       "      <td>8.800000</td>\n",
       "      <td>0</td>\n",
       "      <td>0</td>\n",
       "      <td>elpanfletope alangarciaperu chancho come chancho</td>\n",
       "    </tr>\n",
       "    <tr>\n",
       "      <th>1</th>\n",
       "      <td>2018-10-20 01:57:10</td>\n",
       "      <td>32</td>\n",
       "      <td>Lince</td>\n",
       "      <td>@exitosape @JulianaOxenford A DONDE DICE ...</td>\n",
       "      <td>3</td>\n",
       "      <td>30</td>\n",
       "      <td>9.333333</td>\n",
       "      <td>0</td>\n",
       "      <td>0</td>\n",
       "      <td>exitosape julianaoxenford dice</td>\n",
       "    </tr>\n",
       "    <tr>\n",
       "      <th>2</th>\n",
       "      <td>2018-10-20 01:57:12</td>\n",
       "      <td>195</td>\n",
       "      <td>Brasil</td>\n",
       "      <td>@anajuliachs kkkk 1 mês</td>\n",
       "      <td>4</td>\n",
       "      <td>22</td>\n",
       "      <td>4.750000</td>\n",
       "      <td>0</td>\n",
       "      <td>1</td>\n",
       "      <td>anajuliachs kkkk 1 mês</td>\n",
       "    </tr>\n",
       "    <tr>\n",
       "      <th>3</th>\n",
       "      <td>2018-10-20 01:57:17</td>\n",
       "      <td>228</td>\n",
       "      <td>Chimbote</td>\n",
       "      <td>Ultima noche de #SemanaDeMayordomia en la @IAS...</td>\n",
       "      <td>11</td>\n",
       "      <td>105</td>\n",
       "      <td>8.636364</td>\n",
       "      <td>1</td>\n",
       "      <td>0</td>\n",
       "      <td>ultima noche semanademayordomia iasdesperanza ...</td>\n",
       "    </tr>\n",
       "    <tr>\n",
       "      <th>4</th>\n",
       "      <td>2018-10-20 01:57:18</td>\n",
       "      <td>123</td>\n",
       "      <td>San Miguel</td>\n",
       "      <td>@fernando_roman1 Jajaja</td>\n",
       "      <td>2</td>\n",
       "      <td>21</td>\n",
       "      <td>10.000000</td>\n",
       "      <td>0</td>\n",
       "      <td>0</td>\n",
       "      <td>fernandoroman1 jajaja</td>\n",
       "    </tr>\n",
       "  </tbody>\n",
       "</table>\n",
       "</div>"
      ],
      "text/plain": [
       "                  date  followers    location  \\\n",
       "0  2018-10-20 01:57:03         92        Lima   \n",
       "1  2018-10-20 01:57:10         32       Lince   \n",
       "2  2018-10-20 01:57:12        195      Brasil   \n",
       "3  2018-10-20 01:57:17        228    Chimbote   \n",
       "4  2018-10-20 01:57:18        123  San Miguel   \n",
       "\n",
       "                                              Tweets  word_count  char_count  \\\n",
       "0  @elpanfletope @AlanGarciaPeru chancho no come ...           5          48   \n",
       "1       @exitosape @JulianaOxenford A DONDE DICE ...           3          30   \n",
       "2                            @anajuliachs kkkk 1 mês           4          22   \n",
       "3  Ultima noche de #SemanaDeMayordomia en la @IAS...          11         105   \n",
       "4                            @fernando_roman1 Jajaja           2          21   \n",
       "\n",
       "    avg_word  hastags  numerics  \\\n",
       "0   8.800000        0         0   \n",
       "1   9.333333        0         0   \n",
       "2   4.750000        0         1   \n",
       "3   8.636364        1         0   \n",
       "4  10.000000        0         0   \n",
       "\n",
       "                                        Tweets_clean  \n",
       "0   elpanfletope alangarciaperu chancho come chancho  \n",
       "1                     exitosape julianaoxenford dice  \n",
       "2                             anajuliachs kkkk 1 mês  \n",
       "3  ultima noche semanademayordomia iasdesperanza ...  \n",
       "4                              fernandoroman1 jajaja  "
      ]
     },
     "execution_count": 42,
     "metadata": {},
     "output_type": "execute_result"
    }
   ],
   "source": [
    "def avg_word(sentence):\n",
    "    words = sentence.split()\n",
    "    if len(words)==0:\n",
    "        return 0\n",
    "    return (sum(len(word) for word in words)/len(words))\n",
    "\n",
    "tweets_df['avg_word'] = tweets_df['Tweets_clean'].apply(lambda x: avg_word(x))\n",
    "tweets_df['hastags'] = tweets_df['Tweets'].apply(lambda x: len([x for x in x.split() if x.startswith('#')]))\n",
    "tweets_df['numerics'] = tweets_df['Tweets'].apply(lambda x: len([x for x in x.split() if x.isdigit()]))\n",
    "tweets_df.head()"
   ]
  },
  {
   "cell_type": "code",
   "execution_count": 43,
   "metadata": {},
   "outputs": [
    {
     "data": {
      "image/png": "[encoded data removed]",
      "text/plain": [
       "<Figure size 432x288 with 1 Axes>"
      ]
     },
     "metadata": {},
     "output_type": "display_data"
    }
   ],
   "source": [
    "freq = pd.Series(' '.join(tweets_df['Tweets_clean']).split()).value_counts()[:10]\n",
    "freq.plot(kind='barh')\n",
    "plt.title('Most Frequent words')\n",
    "plt.xlabel('Count')\n",
    "plt.tight_layout()\n",
    "plt.savefig('snapshot/most Frequent words.png');"
   ]
  },
  {
   "cell_type": "code",
   "execution_count": 44,
   "metadata": {},
   "outputs": [
    {
     "name": "stdout",
     "output_type": "stream",
     "text": [
      "0    elpanfletope alangarciaperu chancho come chancho\n",
      "1                      exitosape julianaoxenford dice\n",
      "Name: Tweets_clean, dtype: object\n"
     ]
    }
   ],
   "source": [
    "pprint(tweets_df['Tweets_clean'][:2])"
   ]
  },
  {
   "cell_type": "code",
   "execution_count": 45,
   "metadata": {},
   "outputs": [],
   "source": [
    "dictionary = corpora.Dictionary(tweets_df['Tweets_clean'].apply(lambda x:x.split()))\n",
    "\n",
    "# Converting list of documents (corpus) into Document Term Matrix using dictionary prepared above.\n",
    "doc_term_matrix = [dictionary.doc2bow(doc) for doc in doc_clean]"
   ]
  },
  {
   "cell_type": "code",
   "execution_count": 46,
   "metadata": {},
   "outputs": [
    {
     "name": "stdout",
     "output_type": "stream",
     "text": [
      "[[(0, 1), (1, 2), (2, 1), (3, 1)], [(4, 1), (5, 1), (6, 1)]]\n"
     ]
    }
   ],
   "source": [
    "pprint(doc_term_matrix[:2])"
   ]
  },
  {
   "cell_type": "code",
   "execution_count": 47,
   "metadata": {},
   "outputs": [],
   "source": [
    "Lda = gensim.models.ldamodel.LdaModel\n",
    "ldamodel = Lda(doc_term_matrix, num_topics=3, id2word = dictionary, passes=50)"
   ]
  },
  {
   "cell_type": "code",
   "execution_count": 48,
   "metadata": {},
   "outputs": [
    {
     "name": "stdout",
     "output_type": "stream",
     "text": [
      "[(0, '0.006*\"peru\" + 0.006*\"lima\" + 0.005*\"–\"'),\n",
      " (1, '0.004*\"lima\" + 0.004*\"in\" + 0.003*\"fiscal\"'),\n",
      " (2, '0.005*\"si\" + 0.003*\"canaln\" + 0.002*\"amor\"')]\n"
     ]
    }
   ],
   "source": [
    "from pprint import pprint\n",
    "pprint(ldamodel.print_topics(num_topics=3, num_words=3))"
   ]
  },
  {
   "cell_type": "code",
   "execution_count": 49,
   "metadata": {},
   "outputs": [],
   "source": [
    "# from gensim.test.utils import datapath\n",
    "# fname = datapath(\"lda_lima_tweet_model\")\n",
    "ldamodel.save(\"lda_lima_tweet_model\")"
   ]
  },
  {
   "cell_type": "code",
   "execution_count": 50,
   "metadata": {},
   "outputs": [],
   "source": [
    "from gensim.models.ldamodel import LdaModel\n",
    "ldamodel = LdaModel.load(\"lda_lima_tweet_model\")"
   ]
  },
  {
   "cell_type": "code",
   "execution_count": 51,
   "metadata": {},
   "outputs": [],
   "source": [
    "doc_lda = ldamodel[doc_term_matrix]"
   ]
  },
  {
   "cell_type": "code",
   "execution_count": 52,
   "metadata": {},
   "outputs": [
    {
     "name": "stdout",
     "output_type": "stream",
     "text": [
      "Perplexity:  -8.825555626039103\n"
     ]
    }
   ],
   "source": [
    "print('Perplexity: ', ldamodel.log_perplexity(doc_term_matrix))  # a measure of how good the model is. lower the better"
   ]
  },
  {
   "cell_type": "code",
   "execution_count": 53,
   "metadata": {},
   "outputs": [
    {
     "data": {
      "text/html": [
       "\n",
       "<link rel=\"stylesheet\" type=\"text/css\" href=\"https://cdn.rawgit.com/bmabey/pyLDAvis/files/ldavis.v1.0.0.css\">\n",
       "\n",
       "\n",
       "<div id=\"ldavis_el210151123328097041571391880\"></div>\n",
       "<script type=\"text/javascript\">\n",
       "\n",
       "var ldavis_el210151123328097041571391880_data = {\"mdsDat\": {\"x\": [-0.10261701354195464, 0.027390428351925556, 0.07522658519002914], \"y\": [0.026478764488629812, -0.09844182889883797, 0.07196306441020817], \"topics\": [1, 2, 3], \"cluster\": [1, 1, 1], \"Freq\": [34.787315368652344, 32.8559455871582, 32.356746673583984]}, \"tinfo\": {\"Category\": [\"Default\", \"Default\", \"Default\", \"Default\", \"Default\", \"Default\", \"Default\", \"Default\", \"Default\", \"Default\", \"Default\", \"Default\", \"Default\", \"Default\", \"Default\", \"Default\", \"Default\", \"Default\", \"Default\", \"Default\", \"Default\", \"Default\", \"Default\", \"Default\", \"Default\", \"Default\", \"Default\", \"Default\", \"Default\", \"Default\", \"Topic1\", \"Topic1\", \"Topic1\", \"Topic1\", \"Topic1\", \"Topic1\", \"Topic1\", \"Topic1\", \"Topic1\", \"Topic1\", \"Topic1\", \"Topic1\", \"Topic1\", \"Topic1\", \"Topic1\", \"Topic1\", \"Topic1\", \"Topic1\", \"Topic1\", \"Topic1\", \"Topic1\", \"Topic1\", \"Topic1\", \"Topic1\", \"Topic1\", \"Topic1\", \"Topic1\", \"Topic1\", \"Topic1\", \"Topic1\", \"Topic1\", \"Topic1\", \"Topic1\", \"Topic1\", \"Topic1\", \"Topic1\", \"Topic1\", \"Topic1\", \"Topic1\", \"Topic1\", \"Topic1\", \"Topic1\", \"Topic1\", \"Topic1\", \"Topic1\", \"Topic1\", \"Topic1\", \"Topic1\", \"Topic1\", \"Topic1\", \"Topic1\", \"Topic1\", \"Topic2\", \"Topic2\", \"Topic2\", \"Topic2\", \"Topic2\", \"Topic2\", \"Topic2\", \"Topic2\", \"Topic2\", \"Topic2\", \"Topic2\", \"Topic2\", \"Topic2\", \"Topic2\", \"Topic2\", \"Topic2\", \"Topic2\", \"Topic2\", \"Topic2\", \"Topic2\", \"Topic2\", \"Topic2\", \"Topic2\", \"Topic2\", \"Topic2\", \"Topic2\", \"Topic2\", \"Topic2\", \"Topic2\", \"Topic2\", \"Topic2\", \"Topic2\", \"Topic2\", \"Topic2\", \"Topic2\", \"Topic2\", \"Topic2\", \"Topic2\", \"Topic2\", \"Topic2\", \"Topic2\", \"Topic2\", \"Topic2\", \"Topic2\", \"Topic2\", \"Topic2\", \"Topic2\", \"Topic2\", \"Topic2\", \"Topic2\", \"Topic2\", \"Topic2\", \"Topic2\", \"Topic2\", \"Topic2\", \"Topic2\", \"Topic2\", \"Topic3\", \"Topic3\", \"Topic3\", \"Topic3\", \"Topic3\", \"Topic3\", \"Topic3\", \"Topic3\", \"Topic3\", \"Topic3\", \"Topic3\", \"Topic3\", \"Topic3\", \"Topic3\", \"Topic3\", \"Topic3\", \"Topic3\", \"Topic3\", \"Topic3\", \"Topic3\", \"Topic3\", \"Topic3\", \"Topic3\", \"Topic3\", \"Topic3\", \"Topic3\", \"Topic3\", \"Topic3\", \"Topic3\", \"Topic3\", \"Topic3\", \"Topic3\", \"Topic3\", \"Topic3\", \"Topic3\", \"Topic3\", \"Topic3\", \"Topic3\", \"Topic3\", \"Topic3\", \"Topic3\", \"Topic3\", \"Topic3\", \"Topic3\", \"Topic3\", \"Topic3\", \"Topic3\", \"Topic3\", \"Topic3\", \"Topic3\", \"Topic3\", \"Topic3\", \"Topic3\"], \"Freq\": [18.0, 13.0, 27.0, 12.0, 10.0, 12.0, 6.0, 6.0, 6.0, 7.0, 6.0, 5.0, 5.0, 8.0, 4.0, 4.0, 4.0, 4.0, 4.0, 4.0, 9.0, 4.0, 4.0, 4.0, 4.0, 4.0, 4.0, 4.0, 4.0, 4.0, 12.652583122253418, 17.13968849182129, 5.8123626708984375, 5.1945414543151855, 4.571554183959961, 3.9481616020202637, 3.9481613636016846, 3.9481616020202637, 3.9481616020202637, 3.9481616020202637, 3.9480507373809814, 3.9480507373809814, 3.9480507373809814, 3.9480507373809814, 3.9480507373809814, 3.9480507373809814, 3.9480507373809814, 3.9480504989624023, 3.9480397701263428, 3.940493106842041, 3.9404919147491455, 3.9363772869110107, 3.9249563217163086, 3.3247478008270264, 3.3246347904205322, 3.3246347904205322, 3.3246347904205322, 3.3246347904205322, 3.3246347904205322, 3.3132739067077637, 9.659418106079102, 16.2463321685791, 8.488513946533203, 8.365230560302734, 5.206930637359619, 3.6651642322540283, 3.9629392623901367, 3.9607715606689453, 7.682716369628906, 5.212766647338867, 6.458961486816406, 5.170449256896973, 5.20665979385376, 4.579370498657227, 4.687711715698242, 4.460280895233154, 3.9886555671691895, 3.971461772918701, 3.9647629261016846, 3.953535556793213, 3.953216075897217, 3.951838493347168, 6.286693572998047, 5.113445281982422, 4.495104789733887, 3.8856401443481445, 3.8534040451049805, 3.2724838256835938, 3.2724838256835938, 3.2723376750946045, 3.263054370880127, 2.6590194702148438, 2.6589584350585938, 2.6588656902313232, 2.658858299255371, 2.6588401794433594, 2.6588401794433594, 2.6586477756500244, 2.658491611480713, 6.3608012199401855, 2.646669387817383, 2.6466691493988037, 8.880658149719238, 2.0452890396118164, 2.0452868938446045, 2.0452616214752197, 2.045257568359375, 2.045253038406372, 2.0452492237091064, 2.0452489852905273, 2.0452494621276855, 2.0452489852905273, 2.0452489852905273, 9.847193717956543, 3.299687623977661, 3.2896411418914795, 3.2833027839660645, 3.2804722785949707, 3.2885560989379883, 3.248983383178711, 3.9115829467773438, 4.545038223266602, 5.733423709869385, 8.874135971069336, 10.797555923461914, 8.211223602294922, 3.927450180053711, 8.17578125, 5.3692193031311035, 6.327768802642822, 3.841869831085205, 3.943033456802368, 3.877532482147217, 3.9003820419311523, 3.9138455390930176, 3.87195086479187, 3.729945421218872, 3.307023525238037, 3.3145995140075684, 6.2300262451171875, 5.654491901397705, 4.454402923583984, 4.454038143157959, 4.435034275054932, 4.414758205413818, 3.8467140197753906, 3.239574909210205, 3.2395401000976562, 3.2392966747283936, 3.2387490272521973, 3.23455810546875, 3.725379467010498, 2.6320157051086426, 2.631964683532715, 2.6319220066070557, 2.6255741119384766, 2.624922752380371, 2.024707555770874, 2.024658679962158, 2.0246448516845703, 2.024644613265991, 2.0246448516845703, 2.024630546569824, 2.024623155593872, 2.024603843688965, 2.024585247039795, 2.0245821475982666, 2.0245699882507324, 2.0245676040649414, 3.857558250427246, 3.8604280948638916, 6.3056416511535645, 3.2474958896636963, 3.8965837955474854, 13.073942184448242, 3.8351447582244873, 4.463662624359131, 5.111762046813965, 5.846061706542969, 4.492486476898193, 3.892910957336426, 5.736735820770264, 6.881175994873047, 3.278217077255249, 3.278217315673828, 3.278217077255249, 4.493968486785889, 5.034445762634277, 3.859592914581299, 3.840937376022339, 3.8242788314819336, 3.4813549518585205], \"Term\": [\"peru\", \"\\u2013\", \"lima\", \"in\", \"fiscal\", \"\\u00e9\", \"sabe\", \"jos\\u00e9\", \"quiero\", \"san\", \"as\\u00ed\", \"at\", \"mulderrctm\", \"amor\", \"dia\", \"jajaja\", \"p\\u00e9rez\", \"irvingtabares\", \"vamos\", \"vizcarra\", \"domingo\", \"tal\", \"viernes\", \"seguridad\", \"patas\", \"zacapa\", \"almuerzo\", \"ron\", \"borracho\", \"abacojuridico\", \"\\u2013\", \"peru\", \"as\\u00ed\", \"mulderrctm\", \"vizcarra\", \"patas\", \"borracho\", \"zacapa\", \"ron\", \"almuerzo\", \"nettoaqa\", \"jefersonine9\", \"frankazeredo\", \"abacojuridico\", \"marcelonevesmor\", \"yuridivinicius\", \"andrizek\", \"rafaelsatim\", \"se\\u00f1ordelosmilagros\", \"sigam\", \"anapaularenault\", \"t\\u00e1\", \"siento\", \"medina\", \"mesmorado\", \"\\ud83d\\udc9c\", \"turrondedo\\u00f1apepa\", \"procesion\", \"anticuchos\", \"voc\\u00ea\", \"\\u00e9\", \"lima\", \"gracias\", \"va\", \"poder\", \"final\", \"video\", \"mauro\", \"q\", \"ma\", \"canaln\", \"solo\", \"da\", \"ser\", \"ahora\", \"si\", \"mart\\u00edn\", \"viendo\", \"idlr\", \"casa\", \"of\", \"haces\", \"jos\\u00e9\", \"at\", \"p\\u00e9rez\", \"viernes\", \"seguridad\", \"alvarosarco\", \"milibrujita\", \"bueno\", \"\\u2764\\ufe0f\", \"\\u00b7\", \"quando\", \"mama\", \"esperamos\", \"pbodigital\\u2026\", \"arimborgotammy\", \"tae\", \"record\", \"san\", \"\\ud83d\\udc95\\u2728\", \"calleypocheoffi\", \"fiscal\", \"rio\", \"c\\u00e1ncer\", \"pueden\", \"evaluar\", \"en\\u2026\", \"sunset\\ud83c\\udf05\", \"buggy\", \"experienciasunicas\", \"jhersin091\", \"paopps\", \"in\", \"gabrielitaaa10\", \"22d\\u00edasparaveracach\\u00e9\", \"mininterperu\", \"im\", \"msalazarcongres\", \"lucha\", \"tan\", \"rppnoticias\", \"domingo\", \"do\", \"lima\", \"q\", \"hoy\", \"si\", \"ahora\", \"canaln\", \"puede\", \"i\", \"franpetrozzi\", \"ma\", \"ver\", \"eu\", \"gracias\", \"rosamariabartra\", \"aqu\\u00ed\", \"sabe\", \"quiero\", \"dia\", \"jajaja\", \"irvingtabares\", \"vamos\", \"tal\", \"fujimoristas\", \"apristas\", \"mira\", \"alvarezrodrich\", \"gusta\", \"despu\\u00e9s\", \"cesarnakazaki\", \"s\\u00f3\", \"cnnee\", \"\\ud83d\\ude44\", \"iogrr\", \"gt\", \"qua\", \"cola\", \"furg\\u00f3n\", \"retuit\", \"movistarvoleype\", \"nombre\", \"beb\\u00e9s\", \"jaja\", \"veromendozaf\", \"pocos\", \"prisi\\u00f3n\", \"caso\", \"vez\", \"amor\", \"alguien\", \"favor\", \"si\", \"keikofujimori\", \"amigo\", \"em\", \"ver\", \"per\\u00fa\", \"bien\", \"da\", \"canaln\", \"httpstcogcgczwtd4z\", \"perfeito\", \"acordo\", \"eu\", \"do\", \"solo\", \"va\", \"q\", \"ahora\"], \"Total\": [18.0, 13.0, 27.0, 12.0, 10.0, 12.0, 6.0, 6.0, 6.0, 7.0, 6.0, 5.0, 5.0, 8.0, 4.0, 4.0, 4.0, 4.0, 4.0, 4.0, 9.0, 4.0, 4.0, 4.0, 4.0, 4.0, 4.0, 4.0, 4.0, 4.0, 13.082608222961426, 18.060523986816406, 6.225451469421387, 5.602177143096924, 4.978768348693848, 4.355350494384766, 4.355350494384766, 4.355350971221924, 4.355350971221924, 4.355350971221924, 4.355347633361816, 4.355347633361816, 4.355347633361816, 4.355347633361816, 4.355347633361816, 4.355347633361816, 4.355347633361816, 4.355347633361816, 4.355348110198975, 4.355228424072266, 4.355227947235107, 4.355051517486572, 4.35498046875, 3.7319328784942627, 3.7319297790527344, 3.7319297790527344, 3.7319297790527344, 3.7319297790527344, 3.7319297790527344, 3.7316408157348633, 12.398539543151855, 27.253026962280273, 13.619037628173828, 13.59224796295166, 7.424904823303223, 4.35091495513916, 4.969205379486084, 4.969196796417236, 19.718219757080078, 9.89214038848877, 19.667905807495117, 10.473749160766602, 12.296142578125, 10.477130889892578, 13.538285255432129, 25.710004806518555, 5.577335357666016, 5.570873737335205, 6.804294586181641, 7.410883903503418, 6.196378231048584, 5.57039737701416, 6.751765251159668, 5.524041652679443, 4.910345554351807, 4.296737194061279, 4.2972612380981445, 3.6830923557281494, 3.6830925941467285, 3.683093309402466, 3.683241367340088, 3.0694425106048584, 3.0694422721862793, 3.0694429874420166, 3.0694429874420166, 3.0694427490234375, 3.0694427490234375, 3.069443702697754, 3.069444179534912, 7.374436378479004, 3.0696358680725098, 3.0696358680725098, 10.451150894165039, 2.4557929039001465, 2.4557929039001465, 2.4557926654815674, 2.4557931423187256, 2.4557931423187256, 2.4557929039001465, 2.4557926654815674, 2.4557931423187256, 2.4557929039001465, 2.4557929039001465, 12.255077362060547, 4.290832996368408, 4.291032314300537, 4.293546676635742, 4.290637016296387, 4.3062520027160645, 4.291522026062012, 5.5431718826293945, 6.779786109924316, 9.175067901611328, 16.558788299560547, 27.253026962280273, 19.718219757080078, 6.134835720062256, 25.710004806518555, 13.538285255432129, 19.667905807495117, 6.72661828994751, 7.398629665374756, 7.413964748382568, 9.89214038848877, 10.382247924804688, 11.041849136352539, 13.619037628173828, 5.537345886230469, 6.752467155456543, 6.690042972564697, 6.082273483276367, 4.8670830726623535, 4.86708927154541, 4.867410182952881, 4.867489814758301, 4.25962495803833, 3.6521573066711426, 3.652157783508301, 3.652162551879883, 3.6521780490875244, 3.652287244796753, 4.260861873626709, 3.044696807861328, 3.0446982383728027, 3.044698715209961, 3.0448641777038574, 3.0448801517486572, 2.437232255935669, 2.437232732772827, 2.4372332096099854, 2.4372329711914062, 2.4372332096099854, 2.4372332096099854, 2.4372339248657227, 2.4372341632843018, 2.437234401702881, 2.4372341632843018, 2.43723464012146, 2.43723464012146, 4.8733320236206055, 4.882683277130127, 8.5589599609375, 4.265805721282959, 5.495749473571777, 25.710004806518555, 5.48734188079834, 6.707939624786377, 8.561710357666016, 10.382247924804688, 7.340538501739502, 6.119231224060059, 12.296142578125, 19.667905807495117, 4.879064559936523, 4.879065036773682, 4.879065036773682, 11.041849136352539, 16.558788299560547, 10.473749160766602, 13.59224796295166, 19.718219757080078, 13.538285255432129], \"loglift\": [30.0, 29.0, 28.0, 27.0, 26.0, 25.0, 24.0, 23.0, 22.0, 21.0, 20.0, 19.0, 18.0, 17.0, 16.0, 15.0, 14.0, 13.0, 12.0, 11.0, 10.0, 9.0, 8.0, 7.0, 6.0, 5.0, 4.0, 3.0, 2.0, 1.0, 1.0225000381469727, 1.003600001335144, 0.9872999787330627, 0.980400025844574, 0.9706000089645386, 0.9577999711036682, 0.9577999711036682, 0.9577999711036682, 0.9577999711036682, 0.9577999711036682, 0.9577000141143799, 0.9577000141143799, 0.9577000141143799, 0.9577000141143799, 0.9577000141143799, 0.9577000141143799, 0.9577000141143799, 0.9577000141143799, 0.9577000141143799, 0.9557999968528748, 0.9557999968528748, 0.954800009727478, 0.9520000219345093, 0.9404000043869019, 0.9404000043869019, 0.9404000043869019, 0.9404000043869019, 0.9404000043869019, 0.9404000043869019, 0.9369999766349792, 0.8062999844551086, 0.5386000275611877, 0.5831999778747559, 0.5705000162124634, 0.7010999917984009, 0.8844000101089478, 0.8295999765396118, 0.8291000127792358, 0.11330000311136246, 0.41530001163482666, -0.0575999990105629, 0.3499999940395355, 0.19660000503063202, 0.22830000519752502, -0.004699999932199717, -0.6958000063896179, 0.7207000255584717, 0.7174999713897705, 0.5157999992370605, 0.4275999963283539, 0.6065000295639038, 0.7125999927520752, 1.041700005531311, 1.0357999801635742, 1.0247000455856323, 1.0125000476837158, 1.003999948501587, 0.9947999715805054, 0.9947999715805054, 0.9947999715805054, 0.9919000267982483, 0.9695000052452087, 0.9695000052452087, 0.9693999886512756, 0.9693999886512756, 0.9693999886512756, 0.9693999886512756, 0.9693999886512756, 0.9692999720573425, 0.9652000069618225, 0.9648000001907349, 0.9648000001907349, 0.9502000212669373, 0.9301000237464905, 0.9301000237464905, 0.9301000237464905, 0.9301000237464905, 0.9301000237464905, 0.9301000237464905, 0.9301000237464905, 0.9301000237464905, 0.9301000237464905, 0.9301000237464905, 0.8942999839782715, 0.8503999710083008, 0.8472999930381775, 0.8447999954223633, 0.8446000218391418, 0.8434000015258789, 0.8346999883651733, 0.7644000053405762, 0.713100016117096, 0.6428999900817871, 0.489300012588501, 0.18719999492168427, 0.2370000034570694, 0.6669999957084656, -0.03269999846816063, 0.1881999969482422, -0.020999999716877937, 0.5529000163078308, 0.4837000072002411, 0.4648999869823456, 0.18240000307559967, 0.13750000298023224, 0.06509999930858612, -0.18199999630451202, 0.597599983215332, 0.40149998664855957, 1.0571000576019287, 1.055400013923645, 1.0397000312805176, 1.0397000312805176, 1.0353000164031982, 1.0306999683380127, 1.0263999700546265, 1.0084999799728394, 1.0084999799728394, 1.0083999633789062, 1.0082000494003296, 1.0068999528884888, 0.9940000176429749, 0.982699990272522, 0.982699990272522, 0.982699990272522, 0.9801999926567078, 0.9799000024795532, 0.9429000020027161, 0.9429000020027161, 0.9429000020027161, 0.9429000020027161, 0.9429000020027161, 0.9429000020027161, 0.9429000020027161, 0.9429000020027161, 0.942799985408783, 0.942799985408783, 0.942799985408783, 0.942799985408783, 0.894599974155426, 0.8934000134468079, 0.8227999806404114, 0.8555999994277954, 0.784500002861023, 0.45210000872612, 0.7700999975204468, 0.7210000157356262, 0.6126000285148621, 0.5540000200271606, 0.6373000144958496, 0.6761000156402588, 0.3659999966621399, 0.07810000330209732, 0.7307000160217285, 0.7307000160217285, 0.7307000160217285, 0.22939999401569366, -0.062300000339746475, 0.12999999523162842, -0.13539999723434448, -0.5117999911308289, -0.2298000007867813], \"logprob\": [30.0, 29.0, 28.0, 27.0, 26.0, 25.0, 24.0, 23.0, 22.0, 21.0, 20.0, 19.0, 18.0, 17.0, 16.0, 15.0, 14.0, 13.0, 12.0, 11.0, 10.0, 9.0, 8.0, 7.0, 6.0, 5.0, 4.0, 3.0, 2.0, 1.0, -5.375800132751465, -5.072199821472168, -6.153600215911865, -6.265999794006348, -6.393799781799316, -6.54040002822876, -6.54040002822876, -6.54040002822876, -6.54040002822876, -6.54040002822876, -6.54040002822876, -6.54040002822876, -6.54040002822876, -6.54040002822876, -6.54040002822876, -6.54040002822876, -6.54040002822876, -6.54040002822876, -6.54040002822876, -6.542300224304199, -6.542300224304199, -6.543399810791016, -6.546299934387207, -6.712200164794922, -6.712299823760986, -6.712299823760986, -6.712299823760986, -6.712299823760986, -6.712299823760986, -6.715700149536133, -5.645699977874756, -5.125800132751465, -5.774899959564209, -5.7895002365112305, -6.263599872589111, -6.614799976348877, -6.536600112915039, -6.537199974060059, -5.87470006942749, -6.262499809265137, -6.0482001304626465, -6.270699977874756, -6.263700008392334, -6.392099857330322, -6.36870002746582, -6.418399810791016, -6.530200004577637, -6.5345001220703125, -6.536200046539307, -6.539000034332275, -6.539100170135498, -6.539400100708008, -6.018099784851074, -6.224599838256836, -6.353499889373779, -6.499199867248535, -6.507500171661377, -6.671000003814697, -6.671000003814697, -6.671000003814697, -6.673799991607666, -6.878499984741211, -6.878600120544434, -6.878600120544434, -6.878600120544434, -6.878600120544434, -6.878600120544434, -6.878699779510498, -6.878699779510498, -6.00629997253418, -6.883200168609619, -6.883200168609619, -5.672599792480469, -7.140999794006348, -7.140999794006348, -7.140999794006348, -7.140999794006348, -7.140999794006348, -7.140999794006348, -7.140999794006348, -7.140999794006348, -7.140999794006348, -7.140999794006348, -5.569300174713135, -6.662700176239014, -6.6656999588012695, -6.667699813842773, -6.668499946594238, -6.666100025177002, -6.678199768066406, -6.492599964141846, -6.34250020980835, -6.110199928283691, -5.673399925231934, -5.477200031280518, -5.750999927520752, -6.488500118255615, -5.755300045013428, -6.17579984664917, -6.011600017547607, -6.510499954223633, -6.484600067138672, -6.501299858093262, -6.4953999519348145, -6.492000102996826, -6.502699851989746, -6.54010009765625, -6.6605000495910645, -6.658199787139893, -6.0117998123168945, -6.108699798583984, -6.347300052642822, -6.347400188446045, -6.3516998291015625, -6.356200218200684, -6.49399995803833, -6.665800094604492, -6.665800094604492, -6.665800094604492, -6.665999889373779, -6.667300224304199, -6.526000022888184, -6.8734002113342285, -6.873499870300293, -6.873499870300293, -6.875899791717529, -6.876100063323975, -7.135799884796143, -7.135799884796143, -7.135799884796143, -7.135799884796143, -7.135799884796143, -7.135799884796143, -7.135799884796143, -7.135799884796143, -7.135799884796143, -7.135799884796143, -7.135799884796143, -7.135799884796143, -6.491199970245361, -6.4903998374938965, -5.99970006942749, -6.663300037384033, -6.481100082397461, -5.270599842071533, -6.497000217437744, -6.345200061798096, -6.20959997177124, -6.075399875640869, -6.338799953460693, -6.48199987411499, -6.094299793243408, -5.912399768829346, -6.653900146484375, -6.653900146484375, -6.653900146484375, -6.338500022888184, -6.224899768829346, -6.490600109100342, -6.495500087738037, -6.499800205230713, -6.593800067901611]}, \"token.table\": {\"Topic\": [2, 3, 1, 2, 3, 1, 2, 3, 2, 3, 1, 3, 2, 2, 3, 1, 3, 1, 1, 1, 3, 1, 2, 3, 2, 1, 2, 3, 1, 2, 3, 1, 2, 2, 2, 1, 2, 3, 1, 2, 3, 2, 3, 3, 3, 3, 2, 1, 2, 3, 3, 3, 1, 2, 3, 2, 3, 1, 2, 3, 2, 2, 1, 2, 3, 2, 2, 1, 2, 3, 1, 1, 2, 1, 1, 2, 3, 3, 2, 3, 1, 2, 3, 3, 3, 1, 3, 1, 2, 3, 2, 3, 1, 2, 3, 1, 2, 3, 2, 3, 2, 3, 3, 3, 3, 3, 1, 2, 2, 2, 3, 1, 2, 2, 3, 1, 2, 3, 2, 1, 1, 2, 3, 1, 2, 1, 1, 2, 2, 3, 3, 3, 1, 2, 1, 1, 3, 1, 2, 2, 1, 2, 2, 3, 1, 2, 1, 2, 3, 3, 1, 3, 3, 1, 2, 3, 2, 2, 1, 2, 3, 3, 2, 3, 1, 2, 3, 2, 1, 1, 2, 3, 1, 2, 3, 1, 2, 2, 1, 2, 3, 1, 1, 2, 3, 1, 1, 1, 2, 3, 2, 3, 2, 3, 1, 2, 1, 1, 1, 2, 3, 3, 1, 2, 3, 3, 1, 3, 1, 2, 1, 3, 2, 1, 1, 1, 1, 2, 1, 3, 1, 2, 2, 1, 3], \"Freq\": [0.6991324424743652, 0.23304416239261627, 0.9184111952781677, 0.20495730638504028, 0.6148719191551208, 0.3693229854106903, 0.3693229854106903, 0.22159379720687866, 0.23442229628562927, 0.7032669186592102, 0.9184104800224304, 0.8214276432991028, 0.8145329356193542, 0.29815414547920227, 0.5963082909584045, 0.23367324471473694, 0.7010197639465332, 0.9184364080429077, 0.9184111952781677, 0.8038736581802368, 0.8214321732521057, 0.14809401333332062, 0.44428205490112305, 0.29618802666664124, 0.9773761034011841, 0.9637855291366577, 0.905134379863739, 0.820602297782898, 0.1634192168712616, 0.1634192168712616, 0.6536768674850464, 0.91841059923172, 0.8145326972007751, 0.8144009709358215, 0.9773145914077759, 0.3050655126571655, 0.3050655126571655, 0.3559097647666931, 0.5397467017173767, 0.26987335085868835, 0.13493667542934418, 0.20519840717315674, 0.820793628692627, 0.9853197932243347, 0.9853191375732422, 0.8206026554107666, 0.8144009113311768, 0.40663158893585205, 0.08132632076740265, 0.4879578948020935, 0.9387772083282471, 0.8218474984169006, 0.1811726838350296, 0.5435180068016052, 0.301954448223114, 0.6539461016654968, 0.3269730508327484, 0.11679909378290176, 0.23359818756580353, 0.5839954614639282, 0.814400851726532, 0.9773760437965393, 0.271693617105484, 0.3622581660747528, 0.3622581660747528, 0.814400851726532, 0.814400851726532, 0.18195880949497223, 0.18195880949497223, 0.7278352379798889, 0.9193468689918518, 0.09568323940038681, 0.8611491918563843, 0.9184111952781677, 0.4046418070793152, 0.5395224094390869, 0.8214322924613953, 0.8206027150154114, 0.6991649270057678, 0.233054980635643, 0.5874130129814148, 0.2937065064907074, 0.07342662662267685, 0.8206029534339905, 0.8214030861854553, 0.7180816531181335, 0.1795204132795334, 0.16300354897975922, 0.6520141959190369, 0.16300354897975922, 0.20495732128620148, 0.6148719787597656, 0.4054805040359497, 0.540640652179718, 0.1351601630449295, 0.5878640413284302, 0.2939320206642151, 0.14696601033210754, 0.6991968750953674, 0.2330656200647354, 0.815988302230835, 0.16319766640663147, 0.9852604269981384, 0.8217922449111938, 0.8206022381782532, 0.8218464255332947, 0.9184111952781677, 0.8144009113311768, 0.888656497001648, 0.18223759531974792, 0.7289503812789917, 0.5870907306671143, 0.40362489223480225, 0.6990526914596558, 0.23301756381988525, 0.5054517984390259, 0.40436142683029175, 0.10109035670757294, 0.9773760437965393, 0.9184111952781677, 0.7171883583068848, 0.1792970895767212, 0.1792970895767212, 0.8049590587615967, 0.20123976469039917, 0.8038730025291443, 0.8038736581802368, 0.8145328760147095, 0.6987230181694031, 0.23290768265724182, 0.8214311003684998, 0.8206026554107666, 0.23222050070762634, 0.6966615319252014, 0.892510175704956, 0.9184111952781677, 0.8206024169921875, 0.6455383896827698, 0.3227691948413849, 0.8144009113311768, 0.91841059923172, 0.9773761034011841, 0.20495730638504028, 0.6148719191551208, 0.9412794709205627, 0.05536938086152077, 0.13622978329658508, 0.13622978329658508, 0.5449191331863403, 0.8206021785736084, 0.6734092831611633, 0.26936373114585876, 0.8206021785736084, 0.8038736581802368, 0.5946524143218994, 0.44598934054374695, 0.8144009709358215, 0.8146066069602966, 0.4057161509990692, 0.4057161509990692, 0.2028580754995346, 0.8206027746200562, 0.9773762822151184, 0.9864732623100281, 0.9184111952781677, 0.9773756265640259, 0.8206026554107666, 0.8144009113311768, 0.9184104800224304, 0.18059194087982178, 0.5417758226394653, 0.18059194087982178, 0.2949945628643036, 0.7374864220619202, 0.8968552350997925, 0.13560357689857483, 0.8136215209960938, 0.930825412273407, 0.47722989320755005, 0.2863379418849945, 0.2863379418849945, 0.9184110760688782, 0.15558145940303802, 0.31116291880607605, 0.5056397318840027, 0.918488621711731, 0.9184363484382629, 0.47738397121429443, 0.09547679126262665, 0.3819071650505066, 0.8144009113311768, 0.9853193163871765, 0.9773758053779602, 0.9390497803688049, 0.18040212988853455, 0.7216085195541382, 0.8038736581802368, 0.9184736609458923, 0.588570773601532, 0.0735713467001915, 0.294285386800766, 0.8217788338661194, 0.09631825238466263, 0.3852730095386505, 0.577909529209137, 0.820602297782898, 0.2048054188489914, 0.8192216753959656, 0.8049576878547668, 0.2012394219636917, 0.7180202007293701, 0.17950505018234253, 0.9309389591217041, 1.0042644739151, 0.8039358854293823, 0.9184111952781677, 0.9184104800224304, 0.9773761630058289, 0.8065466284751892, 0.24196398258209229, 0.9936856627464294, 0.8144999742507935, 0.9773145914077759, 0.8038736581802368, 0.9852656126022339], \"Term\": [\"22d\\u00edasparaveracach\\u00e9\", \"22d\\u00edasparaveracach\\u00e9\", \"abacojuridico\", \"acordo\", \"acordo\", \"ahora\", \"ahora\", \"ahora\", \"alguien\", \"alguien\", \"almuerzo\", \"alvarezrodrich\", \"alvarosarco\", \"amigo\", \"amigo\", \"amor\", \"amor\", \"anapaularenault\", \"andrizek\", \"anticuchos\", \"apristas\", \"aqu\\u00ed\", \"aqu\\u00ed\", \"aqu\\u00ed\", \"arimborgotammy\", \"as\\u00ed\", \"at\", \"beb\\u00e9s\", \"bien\", \"bien\", \"bien\", \"borracho\", \"bueno\", \"buggy\", \"calleypocheoffi\", \"canaln\", \"canaln\", \"canaln\", \"casa\", \"casa\", \"casa\", \"caso\", \"caso\", \"cesarnakazaki\", \"cnnee\", \"cola\", \"c\\u00e1ncer\", \"da\", \"da\", \"da\", \"despu\\u00e9s\", \"dia\", \"do\", \"do\", \"do\", \"domingo\", \"domingo\", \"em\", \"em\", \"em\", \"en\\u2026\", \"esperamos\", \"eu\", \"eu\", \"eu\", \"evaluar\", \"experienciasunicas\", \"favor\", \"favor\", \"favor\", \"final\", \"fiscal\", \"fiscal\", \"frankazeredo\", \"franpetrozzi\", \"franpetrozzi\", \"fujimoristas\", \"furg\\u00f3n\", \"gabrielitaaa10\", \"gabrielitaaa10\", \"gracias\", \"gracias\", \"gracias\", \"gt\", \"gusta\", \"haces\", \"haces\", \"hoy\", \"hoy\", \"hoy\", \"httpstcogcgczwtd4z\", \"httpstcogcgczwtd4z\", \"i\", \"i\", \"i\", \"idlr\", \"idlr\", \"idlr\", \"im\", \"im\", \"in\", \"in\", \"iogrr\", \"irvingtabares\", \"jaja\", \"jajaja\", \"jefersonine9\", \"jhersin091\", \"jos\\u00e9\", \"keikofujimori\", \"keikofujimori\", \"lima\", \"lima\", \"lucha\", \"lucha\", \"ma\", \"ma\", \"ma\", \"mama\", \"marcelonevesmor\", \"mart\\u00edn\", \"mart\\u00edn\", \"mart\\u00edn\", \"mauro\", \"mauro\", \"medina\", \"mesmorado\", \"milibrujita\", \"mininterperu\", \"mininterperu\", \"mira\", \"movistarvoleype\", \"msalazarcongres\", \"msalazarcongres\", \"mulderrctm\", \"nettoaqa\", \"nombre\", \"of\", \"of\", \"paopps\", \"patas\", \"pbodigital\\u2026\", \"perfeito\", \"perfeito\", \"peru\", \"peru\", \"per\\u00fa\", \"per\\u00fa\", \"per\\u00fa\", \"pocos\", \"poder\", \"poder\", \"prisi\\u00f3n\", \"procesion\", \"puede\", \"puede\", \"pueden\", \"p\\u00e9rez\", \"q\", \"q\", \"q\", \"qua\", \"quando\", \"quiero\", \"rafaelsatim\", \"record\", \"retuit\", \"rio\", \"ron\", \"rosamariabartra\", \"rosamariabartra\", \"rosamariabartra\", \"rppnoticias\", \"rppnoticias\", \"sabe\", \"san\", \"san\", \"seguridad\", \"ser\", \"ser\", \"ser\", \"se\\u00f1ordelosmilagros\", \"si\", \"si\", \"si\", \"siento\", \"sigam\", \"solo\", \"solo\", \"solo\", \"sunset\\ud83c\\udf05\", \"s\\u00f3\", \"tae\", \"tal\", \"tan\", \"tan\", \"turrondedo\\u00f1apepa\", \"t\\u00e1\", \"va\", \"va\", \"va\", \"vamos\", \"ver\", \"ver\", \"ver\", \"veromendozaf\", \"vez\", \"vez\", \"video\", \"video\", \"viendo\", \"viendo\", \"viernes\", \"vizcarra\", \"voc\\u00ea\", \"yuridivinicius\", \"zacapa\", \"\\u00b7\", \"\\u00e9\", \"\\u00e9\", \"\\u2013\", \"\\u2764\\ufe0f\", \"\\ud83d\\udc95\\u2728\", \"\\ud83d\\udc9c\", \"\\ud83d\\ude44\"]}, \"R\": 30, \"lambda.step\": 0.01, \"plot.opts\": {\"xlab\": \"PC1\", \"ylab\": \"PC2\"}, \"topic.order\": [1, 2, 3]};\n",
       "\n",
       "function LDAvis_load_lib(url, callback){\n",
       "  var s = document.createElement('script');\n",
       "  s.src = url;\n",
       "  s.async = true;\n",
       "  s.onreadystatechange = s.onload = callback;\n",
       "  s.onerror = function(){console.warn(\"failed to load library \" + url);};\n",
       "  document.getElementsByTagName(\"head\")[0].appendChild(s);\n",
       "}\n",
       "\n",
       "if(typeof(LDAvis) !== \"undefined\"){\n",
       "   // already loaded: just create the visualization\n",
       "   !function(LDAvis){\n",
       "       new LDAvis(\"#\" + \"ldavis_el210151123328097041571391880\", ldavis_el210151123328097041571391880_data);\n",
       "   }(LDAvis);\n",
       "}else if(typeof define === \"function\" && define.amd){\n",
       "   // require.js is available: use it to load d3/LDAvis\n",
       "   require.config({paths: {d3: \"https://cdnjs.cloudflare.com/ajax/libs/d3/3.5.5/d3.min\"}});\n",
       "   require([\"d3\"], function(d3){\n",
       "      window.d3 = d3;\n",
       "      LDAvis_load_lib(\"https://cdn.rawgit.com/bmabey/pyLDAvis/files/ldavis.v1.0.0.js\", function(){\n",
       "        new LDAvis(\"#\" + \"ldavis_el210151123328097041571391880\", ldavis_el210151123328097041571391880_data);\n",
       "      });\n",
       "    });\n",
       "}else{\n",
       "    // require.js not available: dynamically load d3 & LDAvis\n",
       "    LDAvis_load_lib(\"https://cdnjs.cloudflare.com/ajax/libs/d3/3.5.5/d3.min.js\", function(){\n",
       "         LDAvis_load_lib(\"https://cdn.rawgit.com/bmabey/pyLDAvis/files/ldavis.v1.0.0.js\", function(){\n",
       "                 new LDAvis(\"#\" + \"ldavis_el210151123328097041571391880\", ldavis_el210151123328097041571391880_data);\n",
       "            })\n",
       "         });\n",
       "}\n",
       "</script>"
      ],
      "text/plain": [
       "PreparedData(topic_coordinates=              x         y  topics  cluster       Freq\n",
       "topic                                                \n",
       "0     -0.102617  0.026479       1        1  34.787315\n",
       "1      0.027390 -0.098442       2        1  32.855946\n",
       "2      0.075227  0.071963       3        1  32.356747, topic_info=     Category       Freq                Term      Total  loglift  logprob\n",
       "term                                                                     \n",
       "34    Default  18.000000                peru  18.000000  30.0000  30.0000\n",
       "2257  Default  13.000000                   –  13.000000  29.0000  29.0000\n",
       "33    Default  27.000000                lima  27.000000  28.0000  28.0000\n",
       "32    Default  12.000000                  in  12.000000  27.0000  27.0000\n",
       "57    Default  10.000000              fiscal  10.000000  26.0000  26.0000\n",
       "644   Default  12.000000                   é  12.000000  25.0000  25.0000\n",
       "530   Default   6.000000                sabe   6.000000  24.0000  24.0000\n",
       "570   Default   6.000000                josé   6.000000  23.0000  23.0000\n",
       "455   Default   6.000000              quiero   6.000000  22.0000  22.0000\n",
       "162   Default   7.000000                 san   7.000000  21.0000  21.0000\n",
       "1727  Default   6.000000                 así   6.000000  20.0000  20.0000\n",
       "779   Default   5.000000                  at   5.000000  19.0000  19.0000\n",
       "887   Default   5.000000          mulderrctm   5.000000  18.0000  18.0000\n",
       "658   Default   8.000000                amor   8.000000  17.0000  17.0000\n",
       "1020  Default   4.000000                 dia   4.000000  16.0000  16.0000\n",
       "23    Default   4.000000              jajaja   4.000000  15.0000  15.0000\n",
       "2099  Default   4.000000               pérez   4.000000  14.0000  14.0000\n",
       "2784  Default   4.000000       irvingtabares   4.000000  13.0000  13.0000\n",
       "882   Default   4.000000               vamos   4.000000  12.0000  12.0000\n",
       "2378  Default   4.000000            vizcarra   4.000000  11.0000  11.0000\n",
       "537   Default   9.000000             domingo   9.000000  10.0000  10.0000\n",
       "1767  Default   4.000000                 tal   4.000000   9.0000   9.0000\n",
       "2081  Default   4.000000             viernes   4.000000   8.0000   8.0000\n",
       "60    Default   4.000000           seguridad   4.000000   7.0000   7.0000\n",
       "2376  Default   4.000000               patas   4.000000   6.0000   6.0000\n",
       "2379  Default   4.000000              zacapa   4.000000   5.0000   5.0000\n",
       "2370  Default   4.000000            almuerzo   4.000000   4.0000   4.0000\n",
       "2377  Default   4.000000                 ron   4.000000   3.0000   3.0000\n",
       "2371  Default   4.000000            borracho   4.000000   2.0000   2.0000\n",
       "1327  Default   4.000000       abacojuridico   4.000000   1.0000   1.0000\n",
       "...       ...        ...                 ...        ...      ...      ...\n",
       "1291   Topic3   2.024631     movistarvoleype   2.437233   0.9429  -7.1358\n",
       "1579   Topic3   2.024623              nombre   2.437234   0.9429  -7.1358\n",
       "2753   Topic3   2.024604               bebés   2.437234   0.9429  -7.1358\n",
       "2431   Topic3   2.024585                jaja   2.437234   0.9428  -7.1358\n",
       "81     Topic3   2.024582        veromendozaf   2.437234   0.9428  -7.1358\n",
       "425    Topic3   2.024570               pocos   2.437235   0.9428  -7.1358\n",
       "540    Topic3   2.024568             prisión   2.437235   0.9428  -7.1358\n",
       "82     Topic3   3.857558                caso   4.873332   0.8946  -6.4912\n",
       "479    Topic3   3.860428                 vez   4.882683   0.8934  -6.4904\n",
       "658    Topic3   6.305642                amor   8.558960   0.8228  -5.9997\n",
       "1473   Topic3   3.247496             alguien   4.265806   0.8556  -6.6633\n",
       "469    Topic3   3.896584               favor   5.495749   0.7845  -6.4811\n",
       "416    Topic3  13.073942                  si  25.710005   0.4521  -5.2706\n",
       "1556   Topic3   3.835145       keikofujimori   5.487342   0.7701  -6.4970\n",
       "405    Topic3   4.463663               amigo   6.707940   0.7210  -6.3452\n",
       "272    Topic3   5.111762                  em   8.561710   0.6126  -6.2096\n",
       "80     Topic3   5.846062                 ver  10.382248   0.5540  -6.0754\n",
       "626    Topic3   4.492486                perú   7.340539   0.6373  -6.3388\n",
       "498    Topic3   3.892911                bien   6.119231   0.6761  -6.4820\n",
       "99     Topic3   5.736736                  da  12.296143   0.3660  -6.0943\n",
       "205    Topic3   6.881176              canaln  19.667906   0.0781  -5.9124\n",
       "3933   Topic3   3.278217  httpstcogcgczwtd4z   4.879065   0.7307  -6.6539\n",
       "3935   Topic3   3.278217            perfeito   4.879065   0.7307  -6.6539\n",
       "3930   Topic3   3.278217              acordo   4.879065   0.7307  -6.6539\n",
       "569    Topic3   4.493968                  eu  11.041849   0.2294  -6.3385\n",
       "568    Topic3   5.034446                  do  16.558788  -0.0623  -6.2249\n",
       "212    Topic3   3.859593                solo  10.473749   0.1300  -6.4906\n",
       "515    Topic3   3.840937                  va  13.592248  -0.1354  -6.4955\n",
       "77     Topic3   3.824279                   q  19.718220  -0.5118  -6.4998\n",
       "480    Topic3   3.481355               ahora  13.538285  -0.2298  -6.5938\n",
       "\n",
       "[192 rows x 6 columns], token_table=      Topic      Freq                 Term\n",
       "term                                      \n",
       "450       2  0.699132  22díasparaveracaché\n",
       "450       3  0.233044  22díasparaveracaché\n",
       "1327      1  0.918411        abacojuridico\n",
       "3930      2  0.204957               acordo\n",
       "3930      3  0.614872               acordo\n",
       "480       1  0.369323                ahora\n",
       "480       2  0.369323                ahora\n",
       "480       3  0.221594                ahora\n",
       "1473      2  0.234422              alguien\n",
       "1473      3  0.703267              alguien\n",
       "2370      1  0.918410             almuerzo\n",
       "2493      3  0.821428       alvarezrodrich\n",
       "2185      2  0.814533          alvarosarco\n",
       "405       2  0.298154                amigo\n",
       "405       3  0.596308                amigo\n",
       "658       1  0.233673                 amor\n",
       "658       3  0.701020                 amor\n",
       "180       1  0.918436      anapaularenault\n",
       "1328      1  0.918411             andrizek\n",
       "4433      1  0.803874           anticuchos\n",
       "2473      3  0.821432             apristas\n",
       "880       1  0.148094                 aquí\n",
       "880       2  0.444282                 aquí\n",
       "880       3  0.296188                 aquí\n",
       "2186      2  0.977376       arimborgotammy\n",
       "1727      1  0.963786                  así\n",
       "779       2  0.905134                   at\n",
       "2753      3  0.820602                bebés\n",
       "498       1  0.163419                 bien\n",
       "498       2  0.163419                 bien\n",
       "...     ...       ...                  ...\n",
       "322       2  0.721609                  tan\n",
       "4437      1  0.803874     turrondedoñapepa\n",
       "839       1  0.918474                   tá\n",
       "515       1  0.588571                   va\n",
       "515       2  0.073571                   va\n",
       "515       3  0.294285                   va\n",
       "882       3  0.821779                vamos\n",
       "80        1  0.096318                  ver\n",
       "80        2  0.385273                  ver\n",
       "80        3  0.577910                  ver\n",
       "81        3  0.820602         veromendozaf\n",
       "479       1  0.204805                  vez\n",
       "479       3  0.819222                  vez\n",
       "146       1  0.804958                video\n",
       "146       2  0.201239                video\n",
       "1248      1  0.718020               viendo\n",
       "1248      3  0.179505               viendo\n",
       "2081      2  0.930939              viernes\n",
       "2378      1  1.004264             vizcarra\n",
       "1130      1  0.803936                 você\n",
       "1336      1  0.918411       yuridivinicius\n",
       "2379      1  0.918410               zacapa\n",
       "1410      2  0.977376                    ·\n",
       "644       1  0.806547                    é\n",
       "644       3  0.241964                    é\n",
       "2257      1  0.993686                    –\n",
       "1504      2  0.814500                   ❤️\n",
       "1664      2  0.977315                   💕✨\n",
       "4438      1  0.803874                    💜\n",
       "983       3  0.985266                    🙄\n",
       "\n",
       "[225 rows x 3 columns], R=30, lambda_step=0.01, plot_opts={'xlab': 'PC1', 'ylab': 'PC2'}, topic_order=[1, 2, 3])"
      ]
     },
     "execution_count": 53,
     "metadata": {},
     "output_type": "execute_result"
    }
   ],
   "source": [
    "pyLDAvis.enable_notebook()\n",
    "vis = pyLDAvis.gensim.prepare(ldamodel, doc_term_matrix, dictionary)\n",
    "vis"
   ]
  },
  {
   "cell_type": "code",
   "execution_count": 55,
   "metadata": {},
   "outputs": [
    {
     "data": {
      "text/plain": [
       "[[], ['dice'], [], ['aprendiendo'], []]"
      ]
     },
     "execution_count": 55,
     "metadata": {},
     "output_type": "execute_result"
    }
   ],
   "source": [
    "def lemmatization(texts, allowed_postags=['NOUN', 'ADJ', 'VERB', 'ADV']):\n",
    "    texts_out = []\n",
    "    for sent in texts:\n",
    "        doc_ = nlp(sent)\n",
    "        texts_out.append(list(set([str(c.head) for c in doc_ if c.head.tag_.startswith(tuple(allowed_postags))])))\n",
    "    return texts_out\n",
    "\n",
    "lemmatization(tweets_df['Tweets_clean'][:5],['VERB'])"
   ]
  },
  {
   "cell_type": "code",
   "execution_count": 56,
   "metadata": {},
   "outputs": [],
   "source": [
    "def join_comma(row_list):\n",
    "    if row_list == []:\n",
    "        return np.NaN\n",
    "    else:\n",
    "        return ', '.join(row_list)\n",
    "\n",
    "tweets_df['ACTIONS']=pd.Series(lemmatization(tweets_df['Tweets_clean'],['VERB'])).apply(join_comma)\n",
    "tweets_df['NOUNS']=pd.Series(lemmatization(tweets_df['Tweets_clean'],['NOUN'])).apply(join_comma)"
   ]
  },
  {
   "cell_type": "code",
   "execution_count": 57,
   "metadata": {},
   "outputs": [
    {
     "data": {
      "text/html": [
       "<div>\n",
       "<style scoped>\n",
       "    .dataframe tbody tr th:only-of-type {\n",
       "        vertical-align: middle;\n",
       "    }\n",
       "\n",
       "    .dataframe tbody tr th {\n",
       "        vertical-align: top;\n",
       "    }\n",
       "\n",
       "    .dataframe thead th {\n",
       "        text-align: right;\n",
       "    }\n",
       "</style>\n",
       "<table border=\"1\" class=\"dataframe\">\n",
       "  <thead>\n",
       "    <tr style=\"text-align: right;\">\n",
       "      <th></th>\n",
       "      <th>Tweets_clean</th>\n",
       "      <th>NOUNS</th>\n",
       "      <th>ACTIONS</th>\n",
       "    </tr>\n",
       "  </thead>\n",
       "  <tbody>\n",
       "    <tr>\n",
       "      <th>0</th>\n",
       "      <td>elpanfletope alangarciaperu chancho come chancho</td>\n",
       "      <td>elpanfletope</td>\n",
       "      <td>NaN</td>\n",
       "    </tr>\n",
       "    <tr>\n",
       "      <th>1</th>\n",
       "      <td>exitosape julianaoxenford dice</td>\n",
       "      <td>exitosape</td>\n",
       "      <td>dice</td>\n",
       "    </tr>\n",
       "    <tr>\n",
       "      <th>2</th>\n",
       "      <td>anajuliachs kkkk 1 mês</td>\n",
       "      <td>mês</td>\n",
       "      <td>NaN</td>\n",
       "    </tr>\n",
       "    <tr>\n",
       "      <th>3</th>\n",
       "      <td>ultima noche semanademayordomia iasdesperanza ...</td>\n",
       "      <td>noche</td>\n",
       "      <td>aprendiendo</td>\n",
       "    </tr>\n",
       "    <tr>\n",
       "      <th>4</th>\n",
       "      <td>fernandoroman1 jajaja</td>\n",
       "      <td>jajaja</td>\n",
       "      <td>NaN</td>\n",
       "    </tr>\n",
       "  </tbody>\n",
       "</table>\n",
       "</div>"
      ],
      "text/plain": [
       "                                        Tweets_clean         NOUNS  \\\n",
       "0   elpanfletope alangarciaperu chancho come chancho  elpanfletope   \n",
       "1                     exitosape julianaoxenford dice     exitosape   \n",
       "2                             anajuliachs kkkk 1 mês           mês   \n",
       "3  ultima noche semanademayordomia iasdesperanza ...         noche   \n",
       "4                              fernandoroman1 jajaja        jajaja   \n",
       "\n",
       "       ACTIONS  \n",
       "0          NaN  \n",
       "1         dice  \n",
       "2          NaN  \n",
       "3  aprendiendo  \n",
       "4          NaN  "
      ]
     },
     "execution_count": 57,
     "metadata": {},
     "output_type": "execute_result"
    }
   ],
   "source": [
    "tweets_df[['Tweets_clean','NOUNS','ACTIONS']].head()"
   ]
  },
  {
   "cell_type": "code",
   "execution_count": 58,
   "metadata": {},
   "outputs": [
    {
     "data": {
      "text/html": [
       "<div>\n",
       "<style scoped>\n",
       "    .dataframe tbody tr th:only-of-type {\n",
       "        vertical-align: middle;\n",
       "    }\n",
       "\n",
       "    .dataframe tbody tr th {\n",
       "        vertical-align: top;\n",
       "    }\n",
       "\n",
       "    .dataframe thead th {\n",
       "        text-align: right;\n",
       "    }\n",
       "</style>\n",
       "<table border=\"1\" class=\"dataframe\">\n",
       "  <thead>\n",
       "    <tr style=\"text-align: right;\">\n",
       "      <th></th>\n",
       "      <th>date</th>\n",
       "      <th>followers</th>\n",
       "      <th>location</th>\n",
       "      <th>Tweets</th>\n",
       "      <th>word_count</th>\n",
       "      <th>char_count</th>\n",
       "      <th>avg_word</th>\n",
       "      <th>hastags</th>\n",
       "      <th>numerics</th>\n",
       "      <th>Tweets_clean</th>\n",
       "      <th>ACTIONS</th>\n",
       "      <th>NOUNS</th>\n",
       "    </tr>\n",
       "  </thead>\n",
       "  <tbody>\n",
       "    <tr>\n",
       "      <th>0</th>\n",
       "      <td>2018-10-20 01:57:03</td>\n",
       "      <td>92</td>\n",
       "      <td>Lima</td>\n",
       "      <td>@elpanfletope @AlanGarciaPeru chancho no come ...</td>\n",
       "      <td>5</td>\n",
       "      <td>48</td>\n",
       "      <td>8.800000</td>\n",
       "      <td>0</td>\n",
       "      <td>0</td>\n",
       "      <td>elpanfletope alangarciaperu chancho come chancho</td>\n",
       "      <td>NaN</td>\n",
       "      <td>elpanfletope</td>\n",
       "    </tr>\n",
       "    <tr>\n",
       "      <th>1</th>\n",
       "      <td>2018-10-20 01:57:10</td>\n",
       "      <td>32</td>\n",
       "      <td>Lince</td>\n",
       "      <td>@exitosape @JulianaOxenford A DONDE DICE ...</td>\n",
       "      <td>3</td>\n",
       "      <td>30</td>\n",
       "      <td>9.333333</td>\n",
       "      <td>0</td>\n",
       "      <td>0</td>\n",
       "      <td>exitosape julianaoxenford dice</td>\n",
       "      <td>dice</td>\n",
       "      <td>exitosape</td>\n",
       "    </tr>\n",
       "    <tr>\n",
       "      <th>2</th>\n",
       "      <td>2018-10-20 01:57:12</td>\n",
       "      <td>195</td>\n",
       "      <td>Brasil</td>\n",
       "      <td>@anajuliachs kkkk 1 mês</td>\n",
       "      <td>4</td>\n",
       "      <td>22</td>\n",
       "      <td>4.750000</td>\n",
       "      <td>0</td>\n",
       "      <td>1</td>\n",
       "      <td>anajuliachs kkkk 1 mês</td>\n",
       "      <td>NaN</td>\n",
       "      <td>mês</td>\n",
       "    </tr>\n",
       "    <tr>\n",
       "      <th>3</th>\n",
       "      <td>2018-10-20 01:57:17</td>\n",
       "      <td>228</td>\n",
       "      <td>Chimbote</td>\n",
       "      <td>Ultima noche de #SemanaDeMayordomia en la @IAS...</td>\n",
       "      <td>11</td>\n",
       "      <td>105</td>\n",
       "      <td>8.636364</td>\n",
       "      <td>1</td>\n",
       "      <td>0</td>\n",
       "      <td>ultima noche semanademayordomia iasdesperanza ...</td>\n",
       "      <td>aprendiendo</td>\n",
       "      <td>noche</td>\n",
       "    </tr>\n",
       "    <tr>\n",
       "      <th>4</th>\n",
       "      <td>2018-10-20 01:57:18</td>\n",
       "      <td>123</td>\n",
       "      <td>San Miguel</td>\n",
       "      <td>@fernando_roman1 Jajaja</td>\n",
       "      <td>2</td>\n",
       "      <td>21</td>\n",
       "      <td>10.000000</td>\n",
       "      <td>0</td>\n",
       "      <td>0</td>\n",
       "      <td>fernandoroman1 jajaja</td>\n",
       "      <td>NaN</td>\n",
       "      <td>jajaja</td>\n",
       "    </tr>\n",
       "  </tbody>\n",
       "</table>\n",
       "</div>"
      ],
      "text/plain": [
       "                  date  followers    location  \\\n",
       "0  2018-10-20 01:57:03         92        Lima   \n",
       "1  2018-10-20 01:57:10         32       Lince   \n",
       "2  2018-10-20 01:57:12        195      Brasil   \n",
       "3  2018-10-20 01:57:17        228    Chimbote   \n",
       "4  2018-10-20 01:57:18        123  San Miguel   \n",
       "\n",
       "                                              Tweets  word_count  char_count  \\\n",
       "0  @elpanfletope @AlanGarciaPeru chancho no come ...           5          48   \n",
       "1       @exitosape @JulianaOxenford A DONDE DICE ...           3          30   \n",
       "2                            @anajuliachs kkkk 1 mês           4          22   \n",
       "3  Ultima noche de #SemanaDeMayordomia en la @IAS...          11         105   \n",
       "4                            @fernando_roman1 Jajaja           2          21   \n",
       "\n",
       "    avg_word  hastags  numerics  \\\n",
       "0   8.800000        0         0   \n",
       "1   9.333333        0         0   \n",
       "2   4.750000        0         1   \n",
       "3   8.636364        1         0   \n",
       "4  10.000000        0         0   \n",
       "\n",
       "                                        Tweets_clean      ACTIONS  \\\n",
       "0   elpanfletope alangarciaperu chancho come chancho          NaN   \n",
       "1                     exitosape julianaoxenford dice         dice   \n",
       "2                             anajuliachs kkkk 1 mês          NaN   \n",
       "3  ultima noche semanademayordomia iasdesperanza ...  aprendiendo   \n",
       "4                              fernandoroman1 jajaja          NaN   \n",
       "\n",
       "          NOUNS  \n",
       "0  elpanfletope  \n",
       "1     exitosape  \n",
       "2           mês  \n",
       "3         noche  \n",
       "4        jajaja  "
      ]
     },
     "execution_count": 58,
     "metadata": {},
     "output_type": "execute_result"
    }
   ],
   "source": [
    "tweets_df.head()"
   ]
  },
  {
   "cell_type": "code",
   "execution_count": 59,
   "metadata": {},
   "outputs": [],
   "source": [
    "tweets_df.to_csv('tweets_solutions.csv',index=None)"
   ]
  },
  {
   "cell_type": "code",
   "execution_count": 8,
   "metadata": {},
   "outputs": [],
   "source": [
    "tweets_df = pd.read_csv('tweets_solutions.csv')\n",
    "tweets_df.dropna(inplace=True)"
   ]
  },
  {
   "cell_type": "code",
   "execution_count": 9,
   "metadata": {},
   "outputs": [
    {
     "data": {
      "text/plain": [
       "1                         exitosape julianaoxenford dice\n",
       "3      ultima noche semanademayordomia iasdesperanza ...\n",
       "6      cooking with fire in peru today cookingclass s...\n",
       "7      show música vivo tecnópolis cierra temporada 2...\n",
       "8                      maldita perra perdón alteré 💁🏻‍♀️\n",
       "9      mininterperu pcmperu vizcarrhagan algo denle s...\n",
       "10     🇪🇨🇪🇨quito ecuador 🇪🇨🇪🇨 vemos mañana eslae http...\n",
       "11     sasha71396634 ernestojx hninurta gabospeed94 k...\n",
       "12     ¡conoce proceso exhumación caso mascarilla com...\n",
       "15     ronaldomendes triste fim da baleia bora fazer ...\n",
       "17     mt colrichardkemp pt quinze mulheres disseram ...\n",
       "19     kerch mourns victim of college massacre a surv...\n",
       "21     pensar convento san francisco reposan restos f...\n",
       "22     reaccionando ❌te puse perder ❌ javierramireze ...\n",
       "23     shopping for our cooking class today mercado s...\n",
       "26     acompañamos autores alvarobisama marcelo mella...\n",
       "28     sturt0208 canaln martinvizcarrac arrugador fuj...\n",
       "31     🎗️la prevención mejor tratamiento🎗️🙆‍♀️ cáncer...\n",
       "32     tatahcomenta onde tendo live sigam anapaularen...\n",
       "34     richardacunan tarde reacción sensatez tiempo h...\n",
       "35     tô levando tempo necessário p entender preciso...\n",
       "36     sí devolvió libropero parte cumpliócon debíaah...\n",
       "39     cara palo jc rodríguez preguntando álvaro sala...\n",
       "40     capital967 mauriciomulder vergüenza dan person...\n",
       "41     story time i almost made my mom amp i late for...\n",
       "43     malibulox pra mim não aparece sigam anapaulare...\n",
       "44     210002ws2080 wind225°at00kmh gust00kmh t176°cd...\n",
       "45     sentimientos encontrados respecto quedo 3 cosa...\n",
       "47     emelecmax fefecuador pueden esperar hijoputa n...\n",
       "48     varios días observado sesgo fujimorista optand...\n",
       "                             ...                        \n",
       "946            increíble cantidad bobadas twiteaba ex😂😂😂\n",
       "947             conozco hace poquito tomé cariño solcito\n",
       "948    vale verga gente alguien importa convierto pri...\n",
       "949    gracias queridas amigas rcreadores romanticism...\n",
       "950                                  heyjeans buen viaje\n",
       "951    sirenita 💕🐚🐠 sirena famosa toda posando nosotr...\n",
       "952    diariocorreo do hermanitos hermanita menor car...\n",
       "954    jhueb bradgehlosu troncarternlu exactly right ...\n",
       "955    acordo perfeito httpstcogcgczwtd4z belissima m...\n",
       "959    gabrielitaaa10 rosamariabartra alvarosarco mil...\n",
       "960          tu date cuenta vale va salir toda si quiero\n",
       "961     meyastos salvajedigital pánico sabe cochinaditas\n",
       "962    repost mheremer ・・・ name something hot and wet...\n",
       "964    larryportera idlr puedes adelantar poquito fiz...\n",
       "965    tiowalo9 labandadel86 edad colombia estan viaj...\n",
       "971    kelitagrand2 xileone si pues “tipa” q veas exc...\n",
       "974    acordo perfeito httpstcogcgczwtd4z maisvoce ma...\n",
       "977                    fernandarrocha toda hora nem xuxa\n",
       "978    tubinocarlos ja cómo orinas gente amoral digni...\n",
       "980             dando argumentos solicite asilo político\n",
       "982    ayacucho casi lleva 3 pto huancayo empató 33 v...\n",
       "985    quem diria 20102018 sérgio lobo sessentou ning...\n",
       "987    tiowalo9 labandadel86 tener miedo poner jugado...\n",
       "988    convocape milagrosleivag mulderrctm aún ustede...\n",
       "989    noticiastvperu richardacunan ustedes sarta cor...\n",
       "990                     gente do céu cuzco é muito longe\n",
       "993    xileone luzsalgador tvperupe imagínate q indig...\n",
       "994    abrazo inmenso aquí cielo ¡feliz cumpleaños ab...\n",
       "996    feliz siento orgullosa pertenecer gran familia...\n",
       "997    padre caraquista pedro quiere magallanero pped...\n",
       "Name: Tweets_clean, Length: 523, dtype: object"
      ]
     },
     "execution_count": 9,
     "metadata": {},
     "output_type": "execute_result"
    }
   ],
   "source": [
    "tweets_df['Tweets_clean']"
   ]
  },
  {
   "cell_type": "code",
   "execution_count": 67,
   "metadata": {},
   "outputs": [
    {
     "name": "stdout",
     "output_type": "stream",
     "text": [
      "(523, 12)\n"
     ]
    },
    {
     "data": {
      "text/plain": [
       "1                       exitosape julianaoxenford dice\n",
       "3    ultima noche semanademayordomia iasdesperanza ...\n",
       "6    cooking with fire in peru today cookingclass s...\n",
       "7    show música vivo tecnópolis cierra temporada 2...\n",
       "8                    maldita perra perdón alteré 💁🏻‍♀️\n",
       "Name: Tweets_clean, dtype: object"
      ]
     },
     "execution_count": 67,
     "metadata": {},
     "output_type": "execute_result"
    }
   ],
   "source": [
    "tweets_df['Tweets_clean'] = tweets_df['Tweets_clean'].apply(lambda x: \" \".join([Word(word).lemmatize() for word in x.split()]))\n",
    "print(tweets_df.shape)\n",
    "tweets_df['Tweets_clean'].head()"
   ]
  },
  {
   "cell_type": "code",
   "execution_count": 68,
   "metadata": {},
   "outputs": [],
   "source": [
    "# displacy.serve(doc, style=\"dep\")"
   ]
  },
  {
   "cell_type": "code",
   "execution_count": 74,
   "metadata": {},
   "outputs": [
    {
     "data": {
      "text/html": [
       "<svg xmlns=\"http://www.w3.org/2000/svg\" xmlns:xlink=\"http://www.w3.org/1999/xlink\" id=\"0\" class=\"displacy\" width=\"350\" height=\"237.0\" style=\"max-width: none; height: 237.0px; color: #000000; background: #ffffff; font-family: Arial\">\n",
       "<text class=\"displacy-token\" fill=\"currentColor\" text-anchor=\"middle\" y=\"147.0\">\n",
       "    <tspan class=\"displacy-word\" fill=\"currentColor\" x=\"50\">exitosape</tspan>\n",
       "    <tspan class=\"displacy-tag\" dy=\"2em\" fill=\"currentColor\" x=\"50\">NOUN</tspan>\n",
       "</text>\n",
       "\n",
       "<text class=\"displacy-token\" fill=\"currentColor\" text-anchor=\"middle\" y=\"147.0\">\n",
       "    <tspan class=\"displacy-word\" fill=\"currentColor\" x=\"150\">julianaoxenford</tspan>\n",
       "    <tspan class=\"displacy-tag\" dy=\"2em\" fill=\"currentColor\" x=\"150\">ADJ</tspan>\n",
       "</text>\n",
       "\n",
       "<text class=\"displacy-token\" fill=\"currentColor\" text-anchor=\"middle\" y=\"147.0\">\n",
       "    <tspan class=\"displacy-word\" fill=\"currentColor\" x=\"250\">dice</tspan>\n",
       "    <tspan class=\"displacy-tag\" dy=\"2em\" fill=\"currentColor\" x=\"250\">VERB</tspan>\n",
       "</text>\n",
       "\n",
       "<g class=\"displacy-arrow\">\n",
       "    <path class=\"displacy-arc\" id=\"arrow-0-0\" stroke-width=\"2px\" d=\"M70,102.0 C70,2.0 250.0,2.0 250.0,102.0\" fill=\"none\" stroke=\"currentColor\"/>\n",
       "    <text dy=\"1.25em\" style=\"font-size: 0.8em; letter-spacing: 1px\">\n",
       "        <textPath xlink:href=\"#arrow-0-0\" class=\"displacy-label\" startOffset=\"50%\" fill=\"currentColor\" text-anchor=\"middle\">nsubj</textPath>\n",
       "    </text>\n",
       "    <path class=\"displacy-arrowhead\" d=\"M70,104.0 L62,92.0 78,92.0\" fill=\"currentColor\"/>\n",
       "</g>\n",
       "\n",
       "<g class=\"displacy-arrow\">\n",
       "    <path class=\"displacy-arc\" id=\"arrow-0-1\" stroke-width=\"2px\" d=\"M70,102.0 C70,52.0 145.0,52.0 145.0,102.0\" fill=\"none\" stroke=\"currentColor\"/>\n",
       "    <text dy=\"1.25em\" style=\"font-size: 0.8em; letter-spacing: 1px\">\n",
       "        <textPath xlink:href=\"#arrow-0-1\" class=\"displacy-label\" startOffset=\"50%\" fill=\"currentColor\" text-anchor=\"middle\">amod</textPath>\n",
       "    </text>\n",
       "    <path class=\"displacy-arrowhead\" d=\"M145.0,104.0 L153.0,92.0 137.0,92.0\" fill=\"currentColor\"/>\n",
       "</g>\n",
       "</svg>"
      ],
      "text/plain": [
       "<IPython.core.display.HTML object>"
      ]
     },
     "metadata": {},
     "output_type": "display_data"
    }
   ],
   "source": [
    "doc = nlp(tweets_df['Tweets_clean'][1])\n",
    "from IPython.display import HTML, Image, display\n",
    "displacy.render(doc, style=\"dep\",jupyter=True,options={'distance':100})"
   ]
  },
  {
   "cell_type": "code",
   "execution_count": 75,
   "metadata": {},
   "outputs": [
    {
     "data": {
      "text/html": [
       "<div class=\"entities\" style=\"line-height: 2.5\">exitosape julianaoxenford dice</div>"
      ],
      "text/plain": [
       "<IPython.core.display.HTML object>"
      ]
     },
     "metadata": {},
     "output_type": "display_data"
    }
   ],
   "source": [
    "displacy.render(doc, style=\"ent\",jupyter=True,)"
   ]
  },
  {
   "cell_type": "code",
   "execution_count": 69,
   "metadata": {},
   "outputs": [
    {
     "data": {
      "text/plain": [
       "[WordList(['exitosape', 'julianaoxenford']),\n",
       " WordList(['julianaoxenford', 'dice'])]"
      ]
     },
     "execution_count": 69,
     "metadata": {},
     "output_type": "execute_result"
    }
   ],
   "source": [
    "TextBlob(tweets_df['Tweets_clean'][1]).ngrams(2)"
   ]
  },
  {
   "cell_type": "code",
   "execution_count": 70,
   "metadata": {},
   "outputs": [
    {
     "name": "stdout",
     "output_type": "stream",
     "text": [
      "(3630, 4)\n"
     ]
    },
    {
     "data": {
      "text/html": [
       "<div>\n",
       "<style scoped>\n",
       "    .dataframe tbody tr th:only-of-type {\n",
       "        vertical-align: middle;\n",
       "    }\n",
       "\n",
       "    .dataframe tbody tr th {\n",
       "        vertical-align: top;\n",
       "    }\n",
       "\n",
       "    .dataframe thead th {\n",
       "        text-align: right;\n",
       "    }\n",
       "</style>\n",
       "<table border=\"1\" class=\"dataframe\">\n",
       "  <thead>\n",
       "    <tr style=\"text-align: right;\">\n",
       "      <th></th>\n",
       "      <th>words</th>\n",
       "      <th>tf</th>\n",
       "      <th>idf</th>\n",
       "      <th>tfidf</th>\n",
       "    </tr>\n",
       "  </thead>\n",
       "  <tbody>\n",
       "    <tr>\n",
       "      <th>0</th>\n",
       "      <td>dice</td>\n",
       "      <td>7.0</td>\n",
       "      <td>3.774675</td>\n",
       "      <td>26.422724</td>\n",
       "    </tr>\n",
       "    <tr>\n",
       "      <th>1</th>\n",
       "      <td>julianaoxenford</td>\n",
       "      <td>1.0</td>\n",
       "      <td>6.259581</td>\n",
       "      <td>6.259581</td>\n",
       "    </tr>\n",
       "    <tr>\n",
       "      <th>2</th>\n",
       "      <td>exitosape</td>\n",
       "      <td>2.0</td>\n",
       "      <td>5.566434</td>\n",
       "      <td>11.132869</td>\n",
       "    </tr>\n",
       "    <tr>\n",
       "      <th>3</th>\n",
       "      <td>httpstcogmo19ienh6</td>\n",
       "      <td>1.0</td>\n",
       "      <td>6.259581</td>\n",
       "      <td>6.259581</td>\n",
       "    </tr>\n",
       "    <tr>\n",
       "      <th>4</th>\n",
       "      <td>iasdesperanza</td>\n",
       "      <td>1.0</td>\n",
       "      <td>6.259581</td>\n",
       "      <td>6.259581</td>\n",
       "    </tr>\n",
       "    <tr>\n",
       "      <th>5</th>\n",
       "      <td>l…</td>\n",
       "      <td>1.0</td>\n",
       "      <td>3.551531</td>\n",
       "      <td>3.551531</td>\n",
       "    </tr>\n",
       "    <tr>\n",
       "      <th>6</th>\n",
       "      <td>fiel</td>\n",
       "      <td>1.0</td>\n",
       "      <td>6.259581</td>\n",
       "      <td>6.259581</td>\n",
       "    </tr>\n",
       "    <tr>\n",
       "      <th>7</th>\n",
       "      <td>noche</td>\n",
       "      <td>3.0</td>\n",
       "      <td>4.873287</td>\n",
       "      <td>14.619861</td>\n",
       "    </tr>\n",
       "    <tr>\n",
       "      <th>8</th>\n",
       "      <td>semanademayordomia</td>\n",
       "      <td>1.0</td>\n",
       "      <td>6.259581</td>\n",
       "      <td>6.259581</td>\n",
       "    </tr>\n",
       "    <tr>\n",
       "      <th>9</th>\n",
       "      <td>dios</td>\n",
       "      <td>3.0</td>\n",
       "      <td>4.650144</td>\n",
       "      <td>13.950431</td>\n",
       "    </tr>\n",
       "  </tbody>\n",
       "</table>\n",
       "</div>"
      ],
      "text/plain": [
       "                words   tf       idf      tfidf\n",
       "0                dice  7.0  3.774675  26.422724\n",
       "1     julianaoxenford  1.0  6.259581   6.259581\n",
       "2           exitosape  2.0  5.566434  11.132869\n",
       "3  httpstcogmo19ienh6  1.0  6.259581   6.259581\n",
       "4       iasdesperanza  1.0  6.259581   6.259581\n",
       "5                  l…  1.0  3.551531   3.551531\n",
       "6                fiel  1.0  6.259581   6.259581\n",
       "7               noche  3.0  4.873287  14.619861\n",
       "8  semanademayordomia  1.0  6.259581   6.259581\n",
       "9                dios  3.0  4.650144  13.950431"
      ]
     },
     "execution_count": 70,
     "metadata": {},
     "output_type": "execute_result"
    }
   ],
   "source": [
    "tf1 = (tweets_df['Tweets_clean']).apply(lambda x: pd.value_counts(x.split(\" \"))).sum(axis = 0).reset_index()\n",
    "tf1.columns = ['words','tf']\n",
    "for i,word in enumerate(tf1['words']):\n",
    "    tf1.loc[i, 'idf'] = np.log(tweets_df.shape[0]/(len(tweets_df[tweets_df['Tweets_clean'].str.contains(word)])))\n",
    "\n",
    "tf1['tfidf'] = tf1['tf'] * tf1['idf']\n",
    "print(tf1.shape)\n",
    "tf1.head(10)"
   ]
  },
  {
   "cell_type": "code",
   "execution_count": 71,
   "metadata": {},
   "outputs": [],
   "source": [
    "stop = set(stopwords.words('spanish'))\n",
    "stop |= set(['lima','si','ser'])"
   ]
  },
  {
   "cell_type": "code",
   "execution_count": 72,
   "metadata": {},
   "outputs": [
    {
     "data": {
      "text/plain": [
       "<523x1000 sparse matrix of type '<class 'numpy.float64'>'\n",
       "\twith 2517 stored elements in Compressed Sparse Row format>"
      ]
     },
     "execution_count": 72,
     "metadata": {},
     "output_type": "execute_result"
    }
   ],
   "source": [
    "tfidf = TfidfVectorizer(max_features=1000, lowercase=True, analyzer='word', stop_words= stop,ngram_range=(1,1))\n",
    "train_vect = tfidf.fit_transform(tweets_df['Tweets_clean'])\n",
    "train_vect"
   ]
  },
  {
   "cell_type": "code",
   "execution_count": 73,
   "metadata": {},
   "outputs": [
    {
     "name": "stdout",
     "output_type": "stream",
     "text": [
      "(523, 1000)\n"
     ]
    },
    {
     "data": {
      "text/plain": [
       "<523x1000 sparse matrix of type '<class 'numpy.int64'>'\n",
       "\twith 2618 stored elements in Compressed Sparse Row format>"
      ]
     },
     "execution_count": 73,
     "metadata": {},
     "output_type": "execute_result"
    }
   ],
   "source": [
    "from sklearn.feature_extraction.text import CountVectorizer\n",
    "bow = CountVectorizer(max_features=1000, lowercase=True, ngram_range=(1,1),analyzer = \"word\")\n",
    "train_bow = bow.fit_transform(tweets_df['Tweets_clean'])\n",
    "print(train_bow.shape)\n",
    "train_bow"
   ]
  },
  {
   "cell_type": "code",
   "execution_count": 74,
   "metadata": {},
   "outputs": [],
   "source": [
    "from sklearn.metrics.pairwise import linear_kernel\n",
    "\n",
    "def find_similar(tfidf_matrix, index, top_n = 5):\n",
    "    cosine_similarities = linear_kernel(tfidf_matrix[index:index+1], tfidf_matrix).flatten()\n",
    "    related_docs_indices = [i for i in cosine_similarities.argsort()[::-1] if i != index]\n",
    "    return [(index, cosine_similarities[index]) for index in related_docs_indices][0:top_n]"
   ]
  },
  {
   "cell_type": "code",
   "execution_count": 81,
   "metadata": {},
   "outputs": [
    {
     "data": {
      "text/html": [
       "<div>\n",
       "<style scoped>\n",
       "    .dataframe tbody tr th:only-of-type {\n",
       "        vertical-align: middle;\n",
       "    }\n",
       "\n",
       "    .dataframe tbody tr th {\n",
       "        vertical-align: top;\n",
       "    }\n",
       "\n",
       "    .dataframe thead th {\n",
       "        text-align: right;\n",
       "    }\n",
       "</style>\n",
       "<table border=\"1\" class=\"dataframe\">\n",
       "  <thead>\n",
       "    <tr style=\"text-align: right;\">\n",
       "      <th></th>\n",
       "      <th>date</th>\n",
       "      <th>followers</th>\n",
       "      <th>location</th>\n",
       "      <th>Tweets</th>\n",
       "      <th>word_count</th>\n",
       "      <th>char_count</th>\n",
       "      <th>avg_word</th>\n",
       "      <th>hastags</th>\n",
       "      <th>numerics</th>\n",
       "      <th>Tweets_clean</th>\n",
       "      <th>ACTIONS</th>\n",
       "      <th>NOUNS</th>\n",
       "    </tr>\n",
       "  </thead>\n",
       "  <tbody>\n",
       "    <tr>\n",
       "      <th>542</th>\n",
       "      <td>2018-10-20 02:32:30</td>\n",
       "      <td>159</td>\n",
       "      <td>Brasil</td>\n",
       "      <td>@RogerioVilela @pauloap O problema é, quantos serão mortos???</td>\n",
       "      <td>7</td>\n",
       "      <td>53</td>\n",
       "      <td>6.714286</td>\n",
       "      <td>0</td>\n",
       "      <td>0</td>\n",
       "      <td>rogeriovilela pauloap problema é quantos serão mortos</td>\n",
       "      <td>serão</td>\n",
       "      <td>problema, quantos</td>\n",
       "    </tr>\n",
       "  </tbody>\n",
       "</table>\n",
       "</div>"
      ],
      "text/plain": [
       "                    date  followers location  \\\n",
       "542  2018-10-20 02:32:30        159   Brasil   \n",
       "\n",
       "                                                            Tweets  \\\n",
       "542  @RogerioVilela @pauloap O problema é, quantos serão mortos???   \n",
       "\n",
       "     word_count  char_count  avg_word  hastags  numerics  \\\n",
       "542           7          53  6.714286        0         0   \n",
       "\n",
       "                                              Tweets_clean ACTIONS  \\\n",
       "542  rogeriovilela pauloap problema é quantos serão mortos   serão   \n",
       "\n",
       "                 NOUNS  \n",
       "542  problema, quantos  "
      ]
     },
     "execution_count": 81,
     "metadata": {},
     "output_type": "execute_result"
    }
   ],
   "source": [
    "tweet = tweets_df.sample(1)\n",
    "tweet"
   ]
  },
  {
   "cell_type": "code",
   "execution_count": 82,
   "metadata": {},
   "outputs": [
    {
     "name": "stdout",
     "output_type": "stream",
     "text": [
      "['@RogerioVilela @pauloap O problema é, quantos serão mortos???']\n"
     ]
    }
   ],
   "source": [
    "print(tweet['Tweets'].values)"
   ]
  },
  {
   "cell_type": "code",
   "execution_count": 87,
   "metadata": {},
   "outputs": [],
   "source": [
    "tweet.reset_index(drop=True,inplace=True)"
   ]
  },
  {
   "cell_type": "code",
   "execution_count": 89,
   "metadata": {},
   "outputs": [
    {
     "data": {
      "text/html": [
       "<div>\n",
       "<style scoped>\n",
       "    .dataframe tbody tr th:only-of-type {\n",
       "        vertical-align: middle;\n",
       "    }\n",
       "\n",
       "    .dataframe tbody tr th {\n",
       "        vertical-align: top;\n",
       "    }\n",
       "\n",
       "    .dataframe thead th {\n",
       "        text-align: right;\n",
       "    }\n",
       "</style>\n",
       "<table border=\"1\" class=\"dataframe\">\n",
       "  <thead>\n",
       "    <tr style=\"text-align: right;\">\n",
       "      <th></th>\n",
       "      <th>Tweets</th>\n",
       "      <th>score</th>\n",
       "    </tr>\n",
       "  </thead>\n",
       "  <tbody>\n",
       "    <tr>\n",
       "      <th>845</th>\n",
       "      <td>@sigridbazan Se agranda mi admiración Sigrid. Lo dices porque lo dices.</td>\n",
       "      <td>NaN</td>\n",
       "    </tr>\n",
       "    <tr>\n",
       "      <th>440</th>\n",
       "      <td>NaN</td>\n",
       "      <td>0.565055</td>\n",
       "    </tr>\n",
       "    <tr>\n",
       "      <th>452</th>\n",
       "      <td>@exitosape \\nNo sé qué es lo que sucede en #Exitosa que invitan a adefesios como ese seudoanalista politico de apell...</td>\n",
       "      <td>NaN</td>\n",
       "    </tr>\n",
       "    <tr>\n",
       "      <th>234</th>\n",
       "      <td>NaN</td>\n",
       "      <td>0.535451</td>\n",
       "    </tr>\n",
       "    <tr>\n",
       "      <th>900</th>\n",
       "      <td>Para mí aquí siempre dice \"MI ALMA\"</td>\n",
       "      <td>NaN</td>\n",
       "    </tr>\n",
       "  </tbody>\n",
       "</table>\n",
       "</div>"
      ],
      "text/plain": [
       "                                                                                                                      Tweets  \\\n",
       "845                                                  @sigridbazan Se agranda mi admiración Sigrid. Lo dices porque lo dices.   \n",
       "440                                                                                                                      NaN   \n",
       "452  @exitosape \\nNo sé qué es lo que sucede en #Exitosa que invitan a adefesios como ese seudoanalista politico de apell...   \n",
       "234                                                                                                                      NaN   \n",
       "900                                                                                      Para mí aquí siempre dice \"MI ALMA\"   \n",
       "\n",
       "        score  \n",
       "845       NaN  \n",
       "440  0.565055  \n",
       "452       NaN  \n",
       "234  0.535451  \n",
       "900       NaN  "
      ]
     },
     "execution_count": 89,
     "metadata": {},
     "output_type": "execute_result"
    }
   ],
   "source": [
    "pd.options.display.max_colwidth = 120\n",
    "vals = pd.DataFrame()\n",
    "for index, score in find_similar(train_vect, tweet.index[0],top_n = 5):\n",
    "    vals = vals.append(tweets_df.iloc[index:index+1,:])\n",
    "    vals.loc[index,'score'] = score\n",
    "    \n",
    "vals[['Tweets','score']].head()"
   ]
  },
  {
   "cell_type": "code",
   "execution_count": 90,
   "metadata": {},
   "outputs": [],
   "source": [
    "corpus = nlp('\\n'.join(tweets_df['NOUNS'].dropna()))"
   ]
  },
  {
   "cell_type": "code",
   "execution_count": 91,
   "metadata": {},
   "outputs": [
    {
     "data": {
      "text/html": [
       "<div>\n",
       "<style scoped>\n",
       "    .dataframe tbody tr th:only-of-type {\n",
       "        vertical-align: middle;\n",
       "    }\n",
       "\n",
       "    .dataframe tbody tr th {\n",
       "        vertical-align: top;\n",
       "    }\n",
       "\n",
       "    .dataframe thead th {\n",
       "        text-align: right;\n",
       "    }\n",
       "</style>\n",
       "<table border=\"1\" class=\"dataframe\">\n",
       "  <thead>\n",
       "    <tr style=\"text-align: right;\">\n",
       "      <th></th>\n",
       "      <th>Noun</th>\n",
       "      <th>Freq</th>\n",
       "    </tr>\n",
       "  </thead>\n",
       "  <tbody>\n",
       "    <tr>\n",
       "      <th>0</th>\n",
       "      <td>canaln</td>\n",
       "      <td>13</td>\n",
       "    </tr>\n",
       "    <tr>\n",
       "      <th>1</th>\n",
       "      <td>pra</td>\n",
       "      <td>6</td>\n",
       "    </tr>\n",
       "    <tr>\n",
       "      <th>2</th>\n",
       "      <td>gente</td>\n",
       "      <td>6</td>\n",
       "    </tr>\n",
       "    <tr>\n",
       "      <th>3</th>\n",
       "      <td>amor</td>\n",
       "      <td>6</td>\n",
       "    </tr>\n",
       "    <tr>\n",
       "      <th>4</th>\n",
       "      <td>patas</td>\n",
       "      <td>6</td>\n",
       "    </tr>\n",
       "    <tr>\n",
       "      <th>5</th>\n",
       "      <td>casa</td>\n",
       "      <td>5</td>\n",
       "    </tr>\n",
       "    <tr>\n",
       "      <th>6</th>\n",
       "      <td>franpetrozzi</td>\n",
       "      <td>5</td>\n",
       "    </tr>\n",
       "    <tr>\n",
       "      <th>7</th>\n",
       "      <td>juez</td>\n",
       "      <td>5</td>\n",
       "    </tr>\n",
       "    <tr>\n",
       "      <th>8</th>\n",
       "      <td>seguridad</td>\n",
       "      <td>4</td>\n",
       "    </tr>\n",
       "    <tr>\n",
       "      <th>9</th>\n",
       "      <td>caso</td>\n",
       "      <td>4</td>\n",
       "    </tr>\n",
       "    <tr>\n",
       "      <th>10</th>\n",
       "      <td>mama</td>\n",
       "      <td>4</td>\n",
       "    </tr>\n",
       "    <tr>\n",
       "      <th>11</th>\n",
       "      <td>cosas</td>\n",
       "      <td>4</td>\n",
       "    </tr>\n",
       "    <tr>\n",
       "      <th>12</th>\n",
       "      <td>país</td>\n",
       "      <td>4</td>\n",
       "    </tr>\n",
       "    <tr>\n",
       "      <th>13</th>\n",
       "      <td>día</td>\n",
       "      <td>4</td>\n",
       "    </tr>\n",
       "    <tr>\n",
       "      <th>14</th>\n",
       "      <td>vizcarra</td>\n",
       "      <td>4</td>\n",
       "    </tr>\n",
       "    <tr>\n",
       "      <th>15</th>\n",
       "      <td>persona</td>\n",
       "      <td>4</td>\n",
       "    </tr>\n",
       "    <tr>\n",
       "      <th>16</th>\n",
       "      <td>procesion</td>\n",
       "      <td>4</td>\n",
       "    </tr>\n",
       "    <tr>\n",
       "      <th>17</th>\n",
       "      <td>pueblo</td>\n",
       "      <td>3</td>\n",
       "    </tr>\n",
       "    <tr>\n",
       "      <th>18</th>\n",
       "      <td>señor</td>\n",
       "      <td>3</td>\n",
       "    </tr>\n",
       "    <tr>\n",
       "      <th>19</th>\n",
       "      <td>hora</td>\n",
       "      <td>3</td>\n",
       "    </tr>\n",
       "    <tr>\n",
       "      <th>20</th>\n",
       "      <td>tema</td>\n",
       "      <td>3</td>\n",
       "    </tr>\n",
       "    <tr>\n",
       "      <th>21</th>\n",
       "      <td>fútbol</td>\n",
       "      <td>3</td>\n",
       "    </tr>\n",
       "    <tr>\n",
       "      <th>22</th>\n",
       "      <td>fuerza</td>\n",
       "      <td>3</td>\n",
       "    </tr>\n",
       "    <tr>\n",
       "      <th>23</th>\n",
       "      <td>gracias</td>\n",
       "      <td>3</td>\n",
       "    </tr>\n",
       "    <tr>\n",
       "      <th>24</th>\n",
       "      <td>from</td>\n",
       "      <td>3</td>\n",
       "    </tr>\n",
       "    <tr>\n",
       "      <th>25</th>\n",
       "      <td>equipos</td>\n",
       "      <td>3</td>\n",
       "    </tr>\n",
       "    <tr>\n",
       "      <th>26</th>\n",
       "      <td>años</td>\n",
       "      <td>3</td>\n",
       "    </tr>\n",
       "    <tr>\n",
       "      <th>27</th>\n",
       "      <td>veces</td>\n",
       "      <td>3</td>\n",
       "    </tr>\n",
       "    <tr>\n",
       "      <th>28</th>\n",
       "      <td>presidente</td>\n",
       "      <td>3</td>\n",
       "    </tr>\n",
       "    <tr>\n",
       "      <th>29</th>\n",
       "      <td>milibrujita</td>\n",
       "      <td>3</td>\n",
       "    </tr>\n",
       "    <tr>\n",
       "      <th>...</th>\n",
       "      <td>...</td>\n",
       "      <td>...</td>\n",
       "    </tr>\n",
       "    <tr>\n",
       "      <th>120</th>\n",
       "      <td>tratamiento</td>\n",
       "      <td>1</td>\n",
       "    </tr>\n",
       "    <tr>\n",
       "      <th>121</th>\n",
       "      <td>tumor</td>\n",
       "      <td>1</td>\n",
       "    </tr>\n",
       "    <tr>\n",
       "      <th>122</th>\n",
       "      <td>tatahcomenta</td>\n",
       "      <td>1</td>\n",
       "    </tr>\n",
       "    <tr>\n",
       "      <th>123</th>\n",
       "      <td>reacción</td>\n",
       "      <td>1</td>\n",
       "    </tr>\n",
       "    <tr>\n",
       "      <th>124</th>\n",
       "      <td>voz</td>\n",
       "      <td>1</td>\n",
       "    </tr>\n",
       "    <tr>\n",
       "      <th>125</th>\n",
       "      <td>perdoar</td>\n",
       "      <td>1</td>\n",
       "    </tr>\n",
       "    <tr>\n",
       "      <th>126</th>\n",
       "      <td>tempo</td>\n",
       "      <td>1</td>\n",
       "    </tr>\n",
       "    <tr>\n",
       "      <th>127</th>\n",
       "      <td>minhas</td>\n",
       "      <td>1</td>\n",
       "    </tr>\n",
       "    <tr>\n",
       "      <th>128</th>\n",
       "      <td>orejas</td>\n",
       "      <td>1</td>\n",
       "    </tr>\n",
       "    <tr>\n",
       "      <th>129</th>\n",
       "      <td>rodríguez</td>\n",
       "      <td>1</td>\n",
       "    </tr>\n",
       "    <tr>\n",
       "      <th>130</th>\n",
       "      <td>personajes</td>\n",
       "      <td>1</td>\n",
       "    </tr>\n",
       "    <tr>\n",
       "      <th>131</th>\n",
       "      <td>made</td>\n",
       "      <td>1</td>\n",
       "    </tr>\n",
       "    <tr>\n",
       "      <th>132</th>\n",
       "      <td>they</td>\n",
       "      <td>1</td>\n",
       "    </tr>\n",
       "    <tr>\n",
       "      <th>133</th>\n",
       "      <td>sentimientos</td>\n",
       "      <td>1</td>\n",
       "    </tr>\n",
       "    <tr>\n",
       "      <th>134</th>\n",
       "      <td>narradores</td>\n",
       "      <td>1</td>\n",
       "    </tr>\n",
       "    <tr>\n",
       "      <th>135</th>\n",
       "      <td>emelecmax</td>\n",
       "      <td>1</td>\n",
       "    </tr>\n",
       "    <tr>\n",
       "      <th>136</th>\n",
       "      <td>ghibellini</td>\n",
       "      <td>1</td>\n",
       "    </tr>\n",
       "    <tr>\n",
       "      <th>137</th>\n",
       "      <td>linares</td>\n",
       "      <td>1</td>\n",
       "    </tr>\n",
       "    <tr>\n",
       "      <th>138</th>\n",
       "      <td>chantaje</td>\n",
       "      <td>1</td>\n",
       "    </tr>\n",
       "    <tr>\n",
       "      <th>139</th>\n",
       "      <td>momentos</td>\n",
       "      <td>1</td>\n",
       "    </tr>\n",
       "    <tr>\n",
       "      <th>140</th>\n",
       "      <td>derecho</td>\n",
       "      <td>1</td>\n",
       "    </tr>\n",
       "    <tr>\n",
       "      <th>141</th>\n",
       "      <td>scattered</td>\n",
       "      <td>1</td>\n",
       "    </tr>\n",
       "    <tr>\n",
       "      <th>142</th>\n",
       "      <td>elcomerciocom</td>\n",
       "      <td>1</td>\n",
       "    </tr>\n",
       "    <tr>\n",
       "      <th>143</th>\n",
       "      <td>panoramaptv</td>\n",
       "      <td>1</td>\n",
       "    </tr>\n",
       "    <tr>\n",
       "      <th>144</th>\n",
       "      <td>niñito</td>\n",
       "      <td>1</td>\n",
       "    </tr>\n",
       "    <tr>\n",
       "      <th>145</th>\n",
       "      <td>página</td>\n",
       "      <td>1</td>\n",
       "    </tr>\n",
       "    <tr>\n",
       "      <th>146</th>\n",
       "      <td>video</td>\n",
       "      <td>1</td>\n",
       "    </tr>\n",
       "    <tr>\n",
       "      <th>147</th>\n",
       "      <td>prisión</td>\n",
       "      <td>1</td>\n",
       "    </tr>\n",
       "    <tr>\n",
       "      <th>148</th>\n",
       "      <td>verdad</td>\n",
       "      <td>1</td>\n",
       "    </tr>\n",
       "    <tr>\n",
       "      <th>149</th>\n",
       "      <td>josé</td>\n",
       "      <td>1</td>\n",
       "    </tr>\n",
       "  </tbody>\n",
       "</table>\n",
       "<p>150 rows × 2 columns</p>\n",
       "</div>"
      ],
      "text/plain": [
       "              Noun  Freq\n",
       "0           canaln    13\n",
       "1              pra     6\n",
       "2            gente     6\n",
       "3             amor     6\n",
       "4            patas     6\n",
       "5             casa     5\n",
       "6     franpetrozzi     5\n",
       "7             juez     5\n",
       "8        seguridad     4\n",
       "9             caso     4\n",
       "10            mama     4\n",
       "11           cosas     4\n",
       "12            país     4\n",
       "13             día     4\n",
       "14        vizcarra     4\n",
       "15         persona     4\n",
       "16       procesion     4\n",
       "17          pueblo     3\n",
       "18           señor     3\n",
       "19            hora     3\n",
       "20            tema     3\n",
       "21          fútbol     3\n",
       "22          fuerza     3\n",
       "23         gracias     3\n",
       "24            from     3\n",
       "25         equipos     3\n",
       "26            años     3\n",
       "27           veces     3\n",
       "28      presidente     3\n",
       "29     milibrujita     3\n",
       "..             ...   ...\n",
       "120    tratamiento     1\n",
       "121          tumor     1\n",
       "122   tatahcomenta     1\n",
       "123       reacción     1\n",
       "124            voz     1\n",
       "125        perdoar     1\n",
       "126          tempo     1\n",
       "127         minhas     1\n",
       "128         orejas     1\n",
       "129      rodríguez     1\n",
       "130     personajes     1\n",
       "131           made     1\n",
       "132           they     1\n",
       "133   sentimientos     1\n",
       "134     narradores     1\n",
       "135      emelecmax     1\n",
       "136     ghibellini     1\n",
       "137        linares     1\n",
       "138       chantaje     1\n",
       "139       momentos     1\n",
       "140        derecho     1\n",
       "141      scattered     1\n",
       "142  elcomerciocom     1\n",
       "143    panoramaptv     1\n",
       "144         niñito     1\n",
       "145         página     1\n",
       "146          video     1\n",
       "147        prisión     1\n",
       "148         verdad     1\n",
       "149           josé     1\n",
       "\n",
       "[150 rows x 2 columns]"
      ]
     },
     "execution_count": 91,
     "metadata": {},
     "output_type": "execute_result"
    }
   ],
   "source": [
    "visited = {}\n",
    "nouns = []\n",
    "for word in corpus:\n",
    "    if word.pos_.startswith('N') and len(word.string) < 15 and len(word.string) > 2:\n",
    "        token = word.string.strip().lower()\n",
    "        if token in visited:\n",
    "            visited[token] += 1\n",
    "            continue\n",
    "        else:\n",
    "            visited[token] = 1\n",
    "            nouns.append(word)\n",
    "nouns = sorted(nouns, key=lambda w: -visited[w.string.strip().lower()])[:150]\n",
    "pd.DataFrame([[w.text, visited[w.string.strip().lower()]] for w in nouns], columns=['Noun', 'Freq'])"
   ]
  },
  {
   "cell_type": "code",
   "execution_count": 92,
   "metadata": {},
   "outputs": [
    {
     "data": {
      "image/png": "[encoded data removed]",
      "text/plain": [
       "<Figure size 1296x1296 with 1 Axes>"
      ]
     },
     "metadata": {},
     "output_type": "display_data"
    }
   ],
   "source": [
    "def plot_with_labels(low_dim_embs, labels, filename='tsne.png'):\n",
    "    assert low_dim_embs.shape[0] >= len(labels), \"More labels than embeddings\"\n",
    "    plt.figure(figsize=(18, 18))  # in inches\n",
    "    for i, label in enumerate(labels):\n",
    "        x, y = low_dim_embs[i, :]\n",
    "        plt.scatter(x, y, s=2.0)\n",
    "        plt.annotate(label, xy=(x, y), xytext=(5, 2),\n",
    "                 textcoords='offset points',ha='right',va='bottom')\n",
    "    plt.tight_layout()\n",
    "    plt.savefig('snapshot/lima_words_TSNE.png')\n",
    "    plt.show()\n",
    "\n",
    "# Creating the tsne plot [Warning: will take time]\n",
    "tsne = TSNE(perplexity=50.0, n_components=2, init='pca', n_iter=10000)\n",
    "\n",
    "low_dim_embedding = tsne.fit_transform(np.array([word.vector for word in nouns]))\n",
    "\n",
    "# Finally plotting and saving the fig \n",
    "plot_with_labels(low_dim_embedding, [word.text for word in nouns])"
   ]
  },
  {
   "cell_type": "code",
   "execution_count": 93,
   "metadata": {},
   "outputs": [
    {
     "data": {
      "text/html": [
       "<div>\n",
       "<style scoped>\n",
       "    .dataframe tbody tr th:only-of-type {\n",
       "        vertical-align: middle;\n",
       "    }\n",
       "\n",
       "    .dataframe tbody tr th {\n",
       "        vertical-align: top;\n",
       "    }\n",
       "\n",
       "    .dataframe thead th {\n",
       "        text-align: right;\n",
       "    }\n",
       "</style>\n",
       "<table border=\"1\" class=\"dataframe\">\n",
       "  <thead>\n",
       "    <tr style=\"text-align: right;\">\n",
       "      <th></th>\n",
       "      <th>date</th>\n",
       "      <th>followers</th>\n",
       "      <th>location</th>\n",
       "      <th>Tweets</th>\n",
       "      <th>word_count</th>\n",
       "      <th>char_count</th>\n",
       "      <th>avg_word</th>\n",
       "      <th>hastags</th>\n",
       "      <th>numerics</th>\n",
       "      <th>Tweets_clean</th>\n",
       "      <th>ACTIONS</th>\n",
       "      <th>NOUNS</th>\n",
       "    </tr>\n",
       "  </thead>\n",
       "  <tbody>\n",
       "    <tr>\n",
       "      <th>0</th>\n",
       "      <td>2018-10-20 01:57:03</td>\n",
       "      <td>92</td>\n",
       "      <td>Lima</td>\n",
       "      <td>@elpanfletope @AlanGarciaPeru chancho no come chancho</td>\n",
       "      <td>5</td>\n",
       "      <td>48</td>\n",
       "      <td>8.8</td>\n",
       "      <td>0</td>\n",
       "      <td>0</td>\n",
       "      <td>elpanfletope alangarciaperu chancho come chancho</td>\n",
       "      <td>NaN</td>\n",
       "      <td>elpanfletope</td>\n",
       "    </tr>\n",
       "  </tbody>\n",
       "</table>\n",
       "</div>"
      ],
      "text/plain": [
       "                  date  followers location  \\\n",
       "0  2018-10-20 01:57:03         92     Lima   \n",
       "\n",
       "                                                  Tweets  word_count  \\\n",
       "0  @elpanfletope @AlanGarciaPeru chancho no come chancho           5   \n",
       "\n",
       "   char_count  avg_word  hastags  numerics  \\\n",
       "0          48       8.8        0         0   \n",
       "\n",
       "                                       Tweets_clean ACTIONS         NOUNS  \n",
       "0  elpanfletope alangarciaperu chancho come chancho     NaN  elpanfletope  "
      ]
     },
     "execution_count": 93,
     "metadata": {},
     "output_type": "execute_result"
    }
   ],
   "source": [
    "tweets_df = pd.read_csv('tweets_solutions.csv')\n",
    "tweets_df.head(1)"
   ]
  },
  {
   "cell_type": "code",
   "execution_count": 94,
   "metadata": {},
   "outputs": [
    {
     "data": {
      "text/plain": [
       "dict_keys(['hashtags', 'hashtags_flat', 'hashtag_counts', 'hashtag_freq', 'top_hashtags', 'overview'])"
      ]
     },
     "execution_count": 94,
     "metadata": {},
     "output_type": "execute_result"
    }
   ],
   "source": [
    "hashtag_summary = adv.extract_hashtags(tweets_df['Tweets'])\n",
    "hashtag_summary.keys()"
   ]
  },
  {
   "cell_type": "code",
   "execution_count": 95,
   "metadata": {},
   "outputs": [
    {
     "data": {
      "text/plain": [
       "{'num_posts': 1000,\n",
       " 'num_hashtags': 344,\n",
       " 'hashtags_per_post': 0.344,\n",
       " 'unique_hashtags': 238}"
      ]
     },
     "execution_count": 95,
     "metadata": {},
     "output_type": "execute_result"
    }
   ],
   "source": [
    "hashtag_summary['overview']"
   ]
  },
  {
   "cell_type": "code",
   "execution_count": 96,
   "metadata": {},
   "outputs": [
    {
     "data": {
      "text/plain": [
       "[[],\n",
       " [],\n",
       " [],\n",
       " ['#semanademayordomia'],\n",
       " [],\n",
       " [],\n",
       " ['#cookingclass', '#seerundo', '#lima', '#peru', '#southamerica'],\n",
       " [],\n",
       " [],\n",
       " [],\n",
       " ['#eslae'],\n",
       " [],\n",
       " ['#comprometidosconlaverdad', '#forensesec'],\n",
       " [],\n",
       " [],\n",
       " [],\n",
       " [],\n",
       " [],\n",
       " [],\n",
       " []]"
      ]
     },
     "execution_count": 96,
     "metadata": {},
     "output_type": "execute_result"
    }
   ],
   "source": [
    "hashtag_summary['hashtags'][:20]"
   ]
  },
  {
   "cell_type": "code",
   "execution_count": 97,
   "metadata": {},
   "outputs": [
    {
     "data": {
      "text/plain": [
       "[0, 0, 0, 1, 0, 0, 5, 0, 0, 0, 1, 0, 2, 0, 0, 0, 0, 0, 0, 0]"
      ]
     },
     "execution_count": 97,
     "metadata": {},
     "output_type": "execute_result"
    }
   ],
   "source": [
    "hashtag_summary['hashtag_counts'][:20]"
   ]
  },
  {
   "cell_type": "code",
   "execution_count": 98,
   "metadata": {},
   "outputs": [
    {
     "data": {
      "text/plain": [
       "[(0, 841),\n",
       " (1, 93),\n",
       " (2, 30),\n",
       " (3, 7),\n",
       " (4, 6),\n",
       " (5, 5),\n",
       " (6, 10),\n",
       " (7, 5),\n",
       " (8, 1),\n",
       " (9, 2)]"
      ]
     },
     "execution_count": 98,
     "metadata": {},
     "output_type": "execute_result"
    }
   ],
   "source": [
    "hashtag_summary['hashtag_freq'][:20]"
   ]
  },
  {
   "cell_type": "code",
   "execution_count": 101,
   "metadata": {},
   "outputs": [
    {
     "data": {
      "image/png": "[encoded data removed]",
      "text/plain": [
       "<Figure size 792x576 with 1 Axes>"
      ]
     },
     "metadata": {},
     "output_type": "display_data"
    }
   ],
   "source": [
    "plt.figure(facecolor='#ebebeb', figsize=(11, 8))\n",
    "plt.bar([x[0] for x in hashtag_summary['hashtag_freq'][:15]],\n",
    "        [x[1] for x in hashtag_summary['hashtag_freq'][:15]])\n",
    "plt.title('Hashtag frequency')\n",
    "plt.xlabel('Hashtags per tweet')\n",
    "plt.ylabel('Number of tweets')\n",
    "plt.yscale('log')\n",
    "plt.grid(alpha=0.5)\n",
    "plt.gca().set_frame_on(False)"
   ]
  },
  {
   "cell_type": "code",
   "execution_count": 102,
   "metadata": {},
   "outputs": [
    {
     "data": {
      "text/plain": [
       "[('#lima', 9),\n",
       " ('#mulderrctm', 9),\n",
       " ('#22díasparaveracaché', 6),\n",
       " ('#cristomoreno', 6),\n",
       " ('#señordelosmilagros', 6),\n",
       " ('#elorigendelorigen', 5),\n",
       " ('#esviernesyyonecesito', 5),\n",
       " ('#mesmorado', 5),\n",
       " ('#turrondedoñapepa', 5),\n",
       " ('#anticuchos', 5)]"
      ]
     },
     "execution_count": 102,
     "metadata": {},
     "output_type": "execute_result"
    }
   ],
   "source": [
    "hashtag_summary['top_hashtags'][:10]"
   ]
  },
  {
   "cell_type": "code",
   "execution_count": 103,
   "metadata": {},
   "outputs": [
    {
     "data": {
      "image/png": "[encoded data removed]",
      "text/plain": [
       "<Figure size 576x864 with 1 Axes>"
      ]
     },
     "metadata": {},
     "output_type": "display_data"
    }
   ],
   "source": [
    "plt.figure(facecolor='#ebebeb', figsize=(8, 12))\n",
    "plt.barh([x[0] for x in hashtag_summary['top_hashtags'][2:][:5]][::-1],\n",
    "         [x[1] for x in hashtag_summary['top_hashtags'][2:][:5]][::-1])\n",
    "plt.title('Top Hashtags')\n",
    "# plt.xticks(range(3))\n",
    "plt.grid(alpha=0.5)\n",
    "plt.gca().set_frame_on(False)"
   ]
  },
  {
   "cell_type": "code",
   "execution_count": 104,
   "metadata": {},
   "outputs": [
    {
     "data": {
      "text/plain": [
       "dict_keys(['emoji', 'emoji_text', 'emoji_flat', 'emoji_flat_text', 'emoji_counts', 'emoji_freq', 'top_emoji', 'top_emoji_text', 'overview'])"
      ]
     },
     "execution_count": 104,
     "metadata": {},
     "output_type": "execute_result"
    }
   ],
   "source": [
    "emoji_summary = adv.extract_emoji(tweets_df['Tweets'])\n",
    "emoji_summary.keys()"
   ]
  },
  {
   "cell_type": "code",
   "execution_count": 105,
   "metadata": {},
   "outputs": [
    {
     "data": {
      "text/plain": [
       "{'num_posts': 1000,\n",
       " 'num_emoji': 511,\n",
       " 'emoji_per_post': 0.511,\n",
       " 'unique_emoji': 132}"
      ]
     },
     "execution_count": 105,
     "metadata": {},
     "output_type": "execute_result"
    }
   ],
   "source": [
    "emoji_summary['overview']"
   ]
  },
  {
   "cell_type": "code",
   "execution_count": 106,
   "metadata": {},
   "outputs": [
    {
     "data": {
      "text/plain": [
       "[['📻', '📣'],\n",
       " [],\n",
       " [],\n",
       " [],\n",
       " [],\n",
       " [],\n",
       " ['🤔'],\n",
       " [],\n",
       " [],\n",
       " [],\n",
       " [],\n",
       " [],\n",
       " [],\n",
       " [],\n",
       " [],\n",
       " [],\n",
       " [],\n",
       " [],\n",
       " ['😦'],\n",
       " [],\n",
       " [],\n",
       " [],\n",
       " [],\n",
       " [],\n",
       " [],\n",
       " ['😀'],\n",
       " [],\n",
       " [],\n",
       " [],\n",
       " []]"
      ]
     },
     "execution_count": 106,
     "metadata": {},
     "output_type": "execute_result"
    }
   ],
   "source": [
    "emoji_summary['emoji'][50:80]"
   ]
  },
  {
   "cell_type": "code",
   "execution_count": 107,
   "metadata": {},
   "outputs": [
    {
     "data": {
      "text/plain": [
       "[['radio', 'megaphone'],\n",
       " [],\n",
       " [],\n",
       " [],\n",
       " [],\n",
       " [],\n",
       " ['thinking face'],\n",
       " [],\n",
       " [],\n",
       " [],\n",
       " [],\n",
       " [],\n",
       " [],\n",
       " [],\n",
       " [],\n",
       " [],\n",
       " [],\n",
       " [],\n",
       " ['frowning face with open mouth'],\n",
       " [],\n",
       " [],\n",
       " [],\n",
       " [],\n",
       " [],\n",
       " [],\n",
       " ['grinning face'],\n",
       " [],\n",
       " [],\n",
       " [],\n",
       " []]"
      ]
     },
     "execution_count": 107,
     "metadata": {},
     "output_type": "execute_result"
    }
   ],
   "source": [
    "emoji_summary['emoji_text'][50:80]"
   ]
  },
  {
   "cell_type": "code",
   "execution_count": 108,
   "metadata": {},
   "outputs": [
    {
     "data": {
      "text/plain": [
       "['💁🏻\\u200d♀️', '🇪🇨', '🇪🇨', '🇪🇨', '🇪🇨', '🤔', '😆', '😆', '😆', '😆']"
      ]
     },
     "execution_count": 108,
     "metadata": {},
     "output_type": "execute_result"
    }
   ],
   "source": [
    "emoji_summary['emoji_flat'][:10]"
   ]
  },
  {
   "cell_type": "code",
   "execution_count": 109,
   "metadata": {},
   "outputs": [
    {
     "data": {
      "text/plain": [
       "['woman tipping hand light skin tone',\n",
       " 'Ecuador',\n",
       " 'Ecuador',\n",
       " 'Ecuador',\n",
       " 'Ecuador',\n",
       " 'thinking face',\n",
       " 'grinning squinting face',\n",
       " 'grinning squinting face',\n",
       " 'grinning squinting face',\n",
       " 'grinning squinting face']"
      ]
     },
     "execution_count": 109,
     "metadata": {},
     "output_type": "execute_result"
    }
   ],
   "source": [
    "emoji_summary['emoji_flat_text'][:10]"
   ]
  },
  {
   "cell_type": "code",
   "execution_count": 110,
   "metadata": {},
   "outputs": [
    {
     "data": {
      "text/plain": [
       "[('💁🏻\\u200d♀️', 'woman tipping hand light skin tone'),\n",
       " ('🇪🇨', 'Ecuador'),\n",
       " ('🇪🇨', 'Ecuador'),\n",
       " ('🇪🇨', 'Ecuador'),\n",
       " ('🇪🇨', 'Ecuador'),\n",
       " ('🤔', 'thinking face'),\n",
       " ('😆', 'grinning squinting face'),\n",
       " ('😆', 'grinning squinting face'),\n",
       " ('😆', 'grinning squinting face'),\n",
       " ('😆', 'grinning squinting face')]"
      ]
     },
     "execution_count": 110,
     "metadata": {},
     "output_type": "execute_result"
    }
   ],
   "source": [
    "list(zip(emoji_summary['emoji_flat'][:10], emoji_summary['emoji_flat_text'][:10]))"
   ]
  },
  {
   "cell_type": "code",
   "execution_count": 111,
   "metadata": {},
   "outputs": [
    {
     "data": {
      "text/plain": [
       "[0, 0, 0, 0, 0, 0, 0, 0, 1, 0, 4, 0, 0, 0, 1]"
      ]
     },
     "execution_count": 111,
     "metadata": {},
     "output_type": "execute_result"
    }
   ],
   "source": [
    "emoji_summary['emoji_counts'][:15]"
   ]
  },
  {
   "cell_type": "code",
   "execution_count": 112,
   "metadata": {},
   "outputs": [
    {
     "data": {
      "text/plain": [
       "[(0, 808),\n",
       " (1, 108),\n",
       " (2, 27),\n",
       " (3, 23),\n",
       " (4, 11),\n",
       " (5, 9),\n",
       " (6, 2),\n",
       " (8, 1),\n",
       " (9, 2),\n",
       " (10, 1),\n",
       " (11, 2),\n",
       " (13, 1),\n",
       " (15, 1),\n",
       " (18, 1),\n",
       " (23, 1)]"
      ]
     },
     "execution_count": 112,
     "metadata": {},
     "output_type": "execute_result"
    }
   ],
   "source": [
    "emoji_summary['emoji_freq'][:15]"
   ]
  },
  {
   "cell_type": "code",
   "execution_count": 115,
   "metadata": {},
   "outputs": [
    {
     "data": {
      "image/png": "[encoded data removed]",
      "text/plain": [
       "<Figure size 576x576 with 1 Axes>"
      ]
     },
     "metadata": {},
     "output_type": "display_data"
    }
   ],
   "source": [
    "plt.figure(facecolor='#ebebeb', figsize=(8, 8))\n",
    "plt.bar([x[0] for x in emoji_summary['emoji_freq'][:15]],\n",
    "        [x[1] for x in emoji_summary['emoji_freq'][:15]])\n",
    "plt.title('Emoji frequency')\n",
    "plt.xlabel('Emoji per tweet')\n",
    "plt.ylabel('Number of tweets')\n",
    "plt.yscale('log')\n",
    "plt.grid(alpha=0.5)\n",
    "plt.gca().set_frame_on(False)"
   ]
  },
  {
   "cell_type": "code",
   "execution_count": 116,
   "metadata": {},
   "outputs": [
    {
     "data": {
      "text/plain": [
       "[('😭', 39),\n",
       " ('😂', 37),\n",
       " ('🤣', 32),\n",
       " ('❤', 21),\n",
       " ('♥', 20),\n",
       " ('😍', 17),\n",
       " ('🤤', 14),\n",
       " ('😻', 14)]"
      ]
     },
     "execution_count": 116,
     "metadata": {},
     "output_type": "execute_result"
    }
   ],
   "source": [
    "emoji_summary['top_emoji'][:8]"
   ]
  },
  {
   "cell_type": "code",
   "execution_count": 117,
   "metadata": {},
   "outputs": [
    {
     "data": {
      "text/plain": [
       "[('loudly crying face', 39),\n",
       " ('face with tears of joy', 37),\n",
       " ('rolling on the floor laughing', 32),\n",
       " ('red heart', 21),\n",
       " ('heart suit', 20),\n",
       " ('smiling face with heart-eyes', 17),\n",
       " ('drooling face', 14),\n",
       " ('smiling cat face with heart-eyes', 14)]"
      ]
     },
     "execution_count": 117,
     "metadata": {},
     "output_type": "execute_result"
    }
   ],
   "source": [
    "emoji_summary['top_emoji_text'][:8]"
   ]
  },
  {
   "cell_type": "code",
   "execution_count": 118,
   "metadata": {},
   "outputs": [
    {
     "data": {
      "image/png": "[encoded data removed]",
      "text/plain": [
       "<Figure size 576x576 with 1 Axes>"
      ]
     },
     "metadata": {},
     "output_type": "display_data"
    }
   ],
   "source": [
    "plt.figure(facecolor='#ebebeb', figsize=(8, 8))\n",
    "plt.barh([x[0] for x in emoji_summary['top_emoji_text'][:8]][::-1],\n",
    "         [x[1] for x in emoji_summary['top_emoji_text'][:8]][::-1])\n",
    "plt.title('Top Emoji')\n",
    "plt.grid(alpha=0.5)\n",
    "plt.gca().set_frame_on(False)"
   ]
  },
  {
   "cell_type": "code",
   "execution_count": 119,
   "metadata": {},
   "outputs": [
    {
     "data": {
      "text/plain": [
       "dict_keys(['mentions', 'mentions_flat', 'mention_counts', 'mention_freq', 'top_mentions', 'overview'])"
      ]
     },
     "execution_count": 119,
     "metadata": {},
     "output_type": "execute_result"
    }
   ],
   "source": [
    "mention_summary = adv.extract_mentions(tweets_df.Tweets)\n",
    "mention_summary.keys()"
   ]
  },
  {
   "cell_type": "code",
   "execution_count": 120,
   "metadata": {},
   "outputs": [
    {
     "data": {
      "text/plain": [
       "{'num_posts': 1000,\n",
       " 'num_mentions': 886,\n",
       " 'mentions_per_post': 0.886,\n",
       " 'unique_mentions': 503}"
      ]
     },
     "execution_count": 120,
     "metadata": {},
     "output_type": "execute_result"
    }
   ],
   "source": [
    "mention_summary['overview']"
   ]
  },
  {
   "cell_type": "code",
   "execution_count": 121,
   "metadata": {},
   "outputs": [
    {
     "data": {
      "text/plain": [
       "[['@elpanfletope', '@alangarciaperu'],\n",
       " ['@exitosape', '@julianaoxenford'],\n",
       " ['@anajuliachs'],\n",
       " ['@iasdesperanza'],\n",
       " ['@fernando_roman1'],\n",
       " [],\n",
       " [],\n",
       " [],\n",
       " [],\n",
       " ['@mininterperu', '@pcmperu', '@vizcarrhagan'],\n",
       " [],\n",
       " ['@sasha71396634',\n",
       "  '@ernesto_jx',\n",
       "  '@hninurta',\n",
       "  '@gabospeed94',\n",
       "  '@karla_ugaz',\n",
       "  '@vero_mendoza_f'],\n",
       " [],\n",
       " [],\n",
       " []]"
      ]
     },
     "execution_count": 121,
     "metadata": {},
     "output_type": "execute_result"
    }
   ],
   "source": [
    "mention_summary['mentions'][:15]"
   ]
  },
  {
   "cell_type": "code",
   "execution_count": 122,
   "metadata": {},
   "outputs": [
    {
     "data": {
      "text/plain": [
       "['@elpanfletope',\n",
       " '@alangarciaperu',\n",
       " '@exitosape',\n",
       " '@julianaoxenford',\n",
       " '@anajuliachs',\n",
       " '@iasdesperanza',\n",
       " '@fernando_roman1',\n",
       " '@mininterperu',\n",
       " '@pcmperu',\n",
       " '@vizcarrhagan']"
      ]
     },
     "execution_count": 122,
     "metadata": {},
     "output_type": "execute_result"
    }
   ],
   "source": [
    "mention_summary['mentions_flat'][:10]"
   ]
  },
  {
   "cell_type": "code",
   "execution_count": 123,
   "metadata": {},
   "outputs": [
    {
     "data": {
      "text/plain": [
       "[2, 2, 1, 1, 1, 0, 0, 0, 0, 3, 0, 6, 0, 0, 0, 1, 1, 1, 0, 0]"
      ]
     },
     "execution_count": 123,
     "metadata": {},
     "output_type": "execute_result"
    }
   ],
   "source": [
    "mention_summary['mention_counts'][:20]"
   ]
  },
  {
   "cell_type": "code",
   "execution_count": 124,
   "metadata": {},
   "outputs": [
    {
     "data": {
      "text/plain": [
       "[(0, 484),\n",
       " (1, 341),\n",
       " (2, 105),\n",
       " (3, 29),\n",
       " (4, 11),\n",
       " (5, 6),\n",
       " (6, 4),\n",
       " (7, 10),\n",
       " (8, 10)]"
      ]
     },
     "execution_count": 124,
     "metadata": {},
     "output_type": "execute_result"
    }
   ],
   "source": [
    "mention_summary['mention_freq'][:15]"
   ]
  },
  {
   "cell_type": "code",
   "execution_count": 131,
   "metadata": {},
   "outputs": [
    {
     "data": {
      "image/png": "[encoded data removed]",
      "text/plain": [
       "<Figure size 576x576 with 1 Axes>"
      ]
     },
     "metadata": {},
     "output_type": "display_data"
    }
   ],
   "source": [
    "plt.figure(facecolor='#ebebeb', figsize=(8, 8))\n",
    "plt.bar([x[0] for x in mention_summary['mention_freq'][:15]],\n",
    "        [x[1] for x in mention_summary['mention_freq'][:15]])\n",
    "plt.title('Mention frequency')\n",
    "plt.xlabel('Mention per tweet')\n",
    "plt.ylabel('Number of tweets')\n",
    "plt.grid(alpha=0.5)\n",
    "plt.yscale('log')\n",
    "plt.gca().set_frame_on(False)\n",
    "plt.savefig('snapshot/Mention Frequency.png');"
   ]
  },
  {
   "cell_type": "code",
   "execution_count": 132,
   "metadata": {},
   "outputs": [
    {
     "data": {
      "text/plain": [
       "[('@canaln_', 31),\n",
       " ('@franpetrozzi', 11),\n",
       " ('@idl_r', 10),\n",
       " ('@rppnoticias', 10),\n",
       " ('@rosamariabartra', 9),\n",
       " ('@keikofujimori', 8),\n",
       " ('@ximena_casanova', 7),\n",
       " ('@policiaperu', 7),\n",
       " ('@milagrosleivag', 7),\n",
       " ('@abbu25', 7)]"
      ]
     },
     "execution_count": 132,
     "metadata": {},
     "output_type": "execute_result"
    }
   ],
   "source": [
    "mention_summary['top_mentions'][:10]"
   ]
  },
  {
   "cell_type": "code",
   "execution_count": 137,
   "metadata": {},
   "outputs": [
    {
     "data": {
      "image/png": "[encoded data removed]",
      "text/plain": [
       "<Figure size 576x576 with 1 Axes>"
      ]
     },
     "metadata": {},
     "output_type": "display_data"
    }
   ],
   "source": [
    "plt.figure(facecolor='#ebebeb', figsize=(8, 8))\n",
    "plt.barh([x[0] for x in mention_summary['top_mentions'][:15]][::-1],\n",
    "         [x[1] for x in mention_summary['top_mentions'][:15]][::-1])\n",
    "plt.title('Top Mentions')\n",
    "plt.grid(alpha=0.5)\n",
    "plt.gca().set_frame_on(False)\n",
    "plt.savefig('snapshot/Top Mentions.png');"
   ]
  },
  {
   "cell_type": "code",
   "execution_count": 138,
   "metadata": {},
   "outputs": [
    {
     "data": {
      "text/plain": [
       "Index(['date', 'followers', 'location', 'Tweets', 'word_count', 'char_count',\n",
       "       'avg_word', 'hastags', 'numerics', 'Tweets_clean', 'ACTIONS', 'NOUNS'],\n",
       "      dtype='object')"
      ]
     },
     "execution_count": 138,
     "metadata": {},
     "output_type": "execute_result"
    }
   ],
   "source": [
    "tweets_df.columns"
   ]
  },
  {
   "cell_type": "code",
   "execution_count": 139,
   "metadata": {},
   "outputs": [
    {
     "data": {
      "text/html": [
       "<div>\n",
       "<style scoped>\n",
       "    .dataframe tbody tr th:only-of-type {\n",
       "        vertical-align: middle;\n",
       "    }\n",
       "\n",
       "    .dataframe tbody tr th {\n",
       "        vertical-align: top;\n",
       "    }\n",
       "\n",
       "    .dataframe thead th {\n",
       "        text-align: right;\n",
       "    }\n",
       "</style>\n",
       "<table border=\"1\" class=\"dataframe\">\n",
       "  <thead>\n",
       "    <tr style=\"text-align: right;\">\n",
       "      <th></th>\n",
       "      <th>Tweets</th>\n",
       "      <th>followers</th>\n",
       "      <th>hashtags</th>\n",
       "      <th>hashcounts</th>\n",
       "      <th>mentions</th>\n",
       "      <th>mention_count</th>\n",
       "      <th>emoji</th>\n",
       "      <th>emoji_text</th>\n",
       "      <th>emoji_count</th>\n",
       "    </tr>\n",
       "  </thead>\n",
       "  <tbody>\n",
       "    <tr>\n",
       "      <th>0</th>\n",
       "      <td>@elpanfletope @AlanGarciaPeru chancho no come chancho</td>\n",
       "      <td>92</td>\n",
       "      <td>[]</td>\n",
       "      <td>0</td>\n",
       "      <td>[@elpanfletope, @alangarciaperu]</td>\n",
       "      <td>2</td>\n",
       "      <td>[]</td>\n",
       "      <td>[]</td>\n",
       "      <td>0</td>\n",
       "    </tr>\n",
       "    <tr>\n",
       "      <th>1</th>\n",
       "      <td>@exitosape @JulianaOxenford A DONDE DICE ...</td>\n",
       "      <td>32</td>\n",
       "      <td>[]</td>\n",
       "      <td>0</td>\n",
       "      <td>[@exitosape, @julianaoxenford]</td>\n",
       "      <td>2</td>\n",
       "      <td>[]</td>\n",
       "      <td>[]</td>\n",
       "      <td>0</td>\n",
       "    </tr>\n",
       "    <tr>\n",
       "      <th>2</th>\n",
       "      <td>@anajuliachs kkkk 1 mês</td>\n",
       "      <td>195</td>\n",
       "      <td>[]</td>\n",
       "      <td>0</td>\n",
       "      <td>[@anajuliachs]</td>\n",
       "      <td>1</td>\n",
       "      <td>[]</td>\n",
       "      <td>[]</td>\n",
       "      <td>0</td>\n",
       "    </tr>\n",
       "    <tr>\n",
       "      <th>3</th>\n",
       "      <td>Ultima noche de #SemanaDeMayordomia en la @IASDEsperanza, aprendiendo sobre la importancia de ser fiel a Dios con l…...</td>\n",
       "      <td>228</td>\n",
       "      <td>[#semanademayordomia]</td>\n",
       "      <td>1</td>\n",
       "      <td>[@iasdesperanza]</td>\n",
       "      <td>1</td>\n",
       "      <td>[]</td>\n",
       "      <td>[]</td>\n",
       "      <td>0</td>\n",
       "    </tr>\n",
       "    <tr>\n",
       "      <th>4</th>\n",
       "      <td>@fernando_roman1 Jajaja</td>\n",
       "      <td>123</td>\n",
       "      <td>[]</td>\n",
       "      <td>0</td>\n",
       "      <td>[@fernando_roman1]</td>\n",
       "      <td>1</td>\n",
       "      <td>[]</td>\n",
       "      <td>[]</td>\n",
       "      <td>0</td>\n",
       "    </tr>\n",
       "  </tbody>\n",
       "</table>\n",
       "</div>"
      ],
      "text/plain": [
       "                                                                                                                    Tweets  \\\n",
       "0                                                                    @elpanfletope @AlanGarciaPeru chancho no come chancho   \n",
       "1                                                                             @exitosape @JulianaOxenford A DONDE DICE ...   \n",
       "2                                                                                                  @anajuliachs kkkk 1 mês   \n",
       "3  Ultima noche de #SemanaDeMayordomia en la @IASDEsperanza, aprendiendo sobre la importancia de ser fiel a Dios con l…...   \n",
       "4                                                                                                  @fernando_roman1 Jajaja   \n",
       "\n",
       "   followers               hashtags  hashcounts  \\\n",
       "0         92                     []           0   \n",
       "1         32                     []           0   \n",
       "2        195                     []           0   \n",
       "3        228  [#semanademayordomia]           1   \n",
       "4        123                     []           0   \n",
       "\n",
       "                           mentions  mention_count emoji emoji_text  \\\n",
       "0  [@elpanfletope, @alangarciaperu]              2    []         []   \n",
       "1    [@exitosape, @julianaoxenford]              2    []         []   \n",
       "2                    [@anajuliachs]              1    []         []   \n",
       "3                  [@iasdesperanza]              1    []         []   \n",
       "4                [@fernando_roman1]              1    []         []   \n",
       "\n",
       "   emoji_count  \n",
       "0            0  \n",
       "1            0  \n",
       "2            0  \n",
       "3            0  \n",
       "4            0  "
      ]
     },
     "execution_count": 139,
     "metadata": {},
     "output_type": "execute_result"
    }
   ],
   "source": [
    "extracted_tweets =  (tweets_df[['Tweets', 'followers']]\n",
    " .assign(hashtags=hashtag_summary['hashtags'],\n",
    "         hashcounts=hashtag_summary['hashtag_counts'],\n",
    "         mentions=mention_summary['mentions'],\n",
    "         mention_count=mention_summary['mention_counts'],\n",
    "         emoji=emoji_summary['emoji'],\n",
    "         emoji_text=emoji_summary['emoji_text'],\n",
    "         emoji_count=emoji_summary['emoji_counts'],))\n",
    "extracted_tweets.head()"
   ]
  },
  {
   "cell_type": "code",
   "execution_count": 140,
   "metadata": {},
   "outputs": [
    {
     "data": {
      "text/plain": [
       "Index(['Tweets', 'followers', 'hashtags', 'hashcounts', 'mentions',\n",
       "       'mention_count', 'emoji', 'emoji_text', 'emoji_count'],\n",
       "      dtype='object')"
      ]
     },
     "execution_count": 140,
     "metadata": {},
     "output_type": "execute_result"
    }
   ],
   "source": [
    "extracted_tweets.columns"
   ]
  },
  {
   "cell_type": "code",
   "execution_count": 141,
   "metadata": {},
   "outputs": [
    {
     "data": {
      "text/html": [
       "<div>\n",
       "<style scoped>\n",
       "    .dataframe tbody tr th:only-of-type {\n",
       "        vertical-align: middle;\n",
       "    }\n",
       "\n",
       "    .dataframe tbody tr th {\n",
       "        vertical-align: top;\n",
       "    }\n",
       "\n",
       "    .dataframe thead th {\n",
       "        text-align: right;\n",
       "    }\n",
       "</style>\n",
       "<table border=\"1\" class=\"dataframe\">\n",
       "  <thead>\n",
       "    <tr style=\"text-align: right;\">\n",
       "      <th></th>\n",
       "      <th>word</th>\n",
       "      <th>abs_freq</th>\n",
       "      <th>wtd_freq</th>\n",
       "      <th>rel_value</th>\n",
       "    </tr>\n",
       "  </thead>\n",
       "  <tbody>\n",
       "    <tr>\n",
       "      <th>0</th>\n",
       "      <td>#lima</td>\n",
       "      <td>9</td>\n",
       "      <td>430823</td>\n",
       "      <td>47869.0</td>\n",
       "    </tr>\n",
       "    <tr>\n",
       "      <th>1</th>\n",
       "      <td>#drogas</td>\n",
       "      <td>2</td>\n",
       "      <td>295632</td>\n",
       "      <td>147816.0</td>\n",
       "    </tr>\n",
       "    <tr>\n",
       "      <th>2</th>\n",
       "      <td>#microcomercializar</td>\n",
       "      <td>2</td>\n",
       "      <td>295632</td>\n",
       "      <td>147816.0</td>\n",
       "    </tr>\n",
       "    <tr>\n",
       "      <th>3</th>\n",
       "      <td>#chorrillos</td>\n",
       "      <td>1</td>\n",
       "      <td>147819</td>\n",
       "      <td>147819.0</td>\n",
       "    </tr>\n",
       "    <tr>\n",
       "      <th>4</th>\n",
       "      <td>#esviernesyyonecesito</td>\n",
       "      <td>5</td>\n",
       "      <td>147727</td>\n",
       "      <td>29545.0</td>\n",
       "    </tr>\n",
       "    <tr>\n",
       "      <th>5</th>\n",
       "      <td>#renuncia</td>\n",
       "      <td>1</td>\n",
       "      <td>107446</td>\n",
       "      <td>107446.0</td>\n",
       "    </tr>\n",
       "    <tr>\n",
       "      <th>6</th>\n",
       "      <td>#pérez</td>\n",
       "      <td>1</td>\n",
       "      <td>107446</td>\n",
       "      <td>107446.0</td>\n",
       "    </tr>\n",
       "    <tr>\n",
       "      <th>7</th>\n",
       "      <td>#tablitasexcel</td>\n",
       "      <td>2</td>\n",
       "      <td>92850</td>\n",
       "      <td>46425.0</td>\n",
       "    </tr>\n",
       "    <tr>\n",
       "      <th>8</th>\n",
       "      <td>#22díasparaveracaché</td>\n",
       "      <td>6</td>\n",
       "      <td>40669</td>\n",
       "      <td>6778.0</td>\n",
       "    </tr>\n",
       "    <tr>\n",
       "      <th>9</th>\n",
       "      <td>#burnthestagethemovieinvzla</td>\n",
       "      <td>1</td>\n",
       "      <td>39846</td>\n",
       "      <td>39846.0</td>\n",
       "    </tr>\n",
       "  </tbody>\n",
       "</table>\n",
       "</div>"
      ],
      "text/plain": [
       "                          word  abs_freq  wtd_freq  rel_value\n",
       "0                        #lima         9    430823    47869.0\n",
       "1                      #drogas         2    295632   147816.0\n",
       "2          #microcomercializar         2    295632   147816.0\n",
       "3                  #chorrillos         1    147819   147819.0\n",
       "4        #esviernesyyonecesito         5    147727    29545.0\n",
       "5                    #renuncia         1    107446   107446.0\n",
       "6                       #pérez         1    107446   107446.0\n",
       "7               #tablitasexcel         2     92850    46425.0\n",
       "8         #22díasparaveracaché         6     40669     6778.0\n",
       "9  #burnthestagethemovieinvzla         1     39846    39846.0"
      ]
     },
     "execution_count": 141,
     "metadata": {},
     "output_type": "execute_result"
    }
   ],
   "source": [
    "word_freq_hash = adv.word_frequency(extracted_tweets['hashtags'].str.join(' '), \n",
    "                                    extracted_tweets['followers'].fillna(0))#.sort_values(['abs_freq'], ascending=False).head(20)\n",
    "word_freq_hash.head(10)"
   ]
  },
  {
   "cell_type": "code",
   "execution_count": 142,
   "metadata": {},
   "outputs": [
    {
     "data": {
      "text/html": [
       "<div>\n",
       "<style scoped>\n",
       "    .dataframe tbody tr th:only-of-type {\n",
       "        vertical-align: middle;\n",
       "    }\n",
       "\n",
       "    .dataframe tbody tr th {\n",
       "        vertical-align: top;\n",
       "    }\n",
       "\n",
       "    .dataframe thead th {\n",
       "        text-align: right;\n",
       "    }\n",
       "</style>\n",
       "<table border=\"1\" class=\"dataframe\">\n",
       "  <thead>\n",
       "    <tr style=\"text-align: right;\">\n",
       "      <th></th>\n",
       "      <th>Tweets</th>\n",
       "      <th>followers</th>\n",
       "      <th>hashtags</th>\n",
       "      <th>hashcounts</th>\n",
       "      <th>mentions</th>\n",
       "      <th>mention_count</th>\n",
       "      <th>emoji</th>\n",
       "      <th>emoji_text</th>\n",
       "      <th>emoji_count</th>\n",
       "    </tr>\n",
       "  </thead>\n",
       "  <tbody>\n",
       "    <tr>\n",
       "      <th>6</th>\n",
       "      <td>Cooking with fire in Peru today #cookingclass #seerundo #lima #peru #southamerica @ Lima, Peru https://t.co/llmzIMjMUo</td>\n",
       "      <td>13</td>\n",
       "      <td>[#cookingclass, #seerundo, #lima, #peru, #southamerica]</td>\n",
       "      <td>5</td>\n",
       "      <td>[]</td>\n",
       "      <td>0</td>\n",
       "      <td>[]</td>\n",
       "      <td>[]</td>\n",
       "      <td>0</td>\n",
       "    </tr>\n",
       "    <tr>\n",
       "      <th>23</th>\n",
       "      <td>Shopping for our cooking class today #mercado #seerundo #lima #peru #southamerica @ Mercado N#1 de Surquillo https:/...</td>\n",
       "      <td>13</td>\n",
       "      <td>[#mercado, #seerundo, #lima, #peru, #southamerica, #1]</td>\n",
       "      <td>6</td>\n",
       "      <td>[]</td>\n",
       "      <td>0</td>\n",
       "      <td>[]</td>\n",
       "      <td>[]</td>\n",
       "      <td>0</td>\n",
       "    </tr>\n",
       "    <tr>\n",
       "      <th>252</th>\n",
       "      <td>Feels good to be back home 🇵🇪 #peru #larcomar #lima @ Lima, Peru https://t.co/agFso0gRcs</td>\n",
       "      <td>247</td>\n",
       "      <td>[#peru, #larcomar, #lima]</td>\n",
       "      <td>3</td>\n",
       "      <td>[]</td>\n",
       "      <td>0</td>\n",
       "      <td>[🇵🇪]</td>\n",
       "      <td>[Peru]</td>\n",
       "      <td>1</td>\n",
       "    </tr>\n",
       "    <tr>\n",
       "      <th>330</th>\n",
       "      <td>#esviernesyyonecesito es ahora una tendencia en #Lima\\n\\nhttps://t.co/UOmWB9sTSw https://t.co/oZBAUS7GPe</td>\n",
       "      <td>107446</td>\n",
       "      <td>[#esviernesyyonecesito, #lima]</td>\n",
       "      <td>2</td>\n",
       "      <td>[]</td>\n",
       "      <td>0</td>\n",
       "      <td>[]</td>\n",
       "      <td>[]</td>\n",
       "      <td>0</td>\n",
       "    </tr>\n",
       "    <tr>\n",
       "      <th>389</th>\n",
       "      <td>By @mariotestino 🙌🏼 \\n.\\n.\\n.\\n.\\n.\\n.\\n.\\n.\\n#igersperu #lima #museum #musee #peru #mariotestino #photography #mode...</td>\n",
       "      <td>213</td>\n",
       "      <td>[#igersperu, #lima, #museum, #musee, #peru, #mariotestino, #photography, #mode]</td>\n",
       "      <td>8</td>\n",
       "      <td>[@mariotestino]</td>\n",
       "      <td>1</td>\n",
       "      <td>[🙌🏼]</td>\n",
       "      <td>[raising hands medium-light skin tone]</td>\n",
       "      <td>1</td>\n",
       "    </tr>\n",
       "    <tr>\n",
       "      <th>512</th>\n",
       "      <td>#pérez es ahora una tendencia en #Lima\\n\\nhttps://t.co/CXgZJw73Ty https://t.co/a7wfyKchQU</td>\n",
       "      <td>107446</td>\n",
       "      <td>[#pérez, #lima]</td>\n",
       "      <td>2</td>\n",
       "      <td>[]</td>\n",
       "      <td>0</td>\n",
       "      <td>[]</td>\n",
       "      <td>[]</td>\n",
       "      <td>0</td>\n",
       "    </tr>\n",
       "    <tr>\n",
       "      <th>653</th>\n",
       "      <td>Pequeña\\n#traveler #explorer #flower #lima #pic #nice #photograpy https://t.co/82r1wgHu3w</td>\n",
       "      <td>553</td>\n",
       "      <td>[#traveler, #explorer, #flower, #lima, #pic, #nice, #photograpy]</td>\n",
       "      <td>7</td>\n",
       "      <td>[]</td>\n",
       "      <td>0</td>\n",
       "      <td>[]</td>\n",
       "      <td>[]</td>\n",
       "      <td>0</td>\n",
       "    </tr>\n",
       "    <tr>\n",
       "      <th>749</th>\n",
       "      <td>#renuncia es ahora una tendencia en #Lima\\n\\nhttps://t.co/DhxjeOKeix https://t.co/61jYXcNSwk</td>\n",
       "      <td>107446</td>\n",
       "      <td>[#renuncia, #lima]</td>\n",
       "      <td>2</td>\n",
       "      <td>[]</td>\n",
       "      <td>0</td>\n",
       "      <td>[]</td>\n",
       "      <td>[]</td>\n",
       "      <td>0</td>\n",
       "    </tr>\n",
       "    <tr>\n",
       "      <th>821</th>\n",
       "      <td>'cerradura', 'desconocidos' y 'amedrentamiento' es ahora una tendencia en #Lima\\n\\nhttps://t.co/zpEunuSxrb https://t...</td>\n",
       "      <td>107446</td>\n",
       "      <td>[#lima]</td>\n",
       "      <td>1</td>\n",
       "      <td>[]</td>\n",
       "      <td>0</td>\n",
       "      <td>[]</td>\n",
       "      <td>[]</td>\n",
       "      <td>0</td>\n",
       "    </tr>\n",
       "  </tbody>\n",
       "</table>\n",
       "</div>"
      ],
      "text/plain": [
       "                                                                                                                      Tweets  \\\n",
       "6     Cooking with fire in Peru today #cookingclass #seerundo #lima #peru #southamerica @ Lima, Peru https://t.co/llmzIMjMUo   \n",
       "23   Shopping for our cooking class today #mercado #seerundo #lima #peru #southamerica @ Mercado N#1 de Surquillo https:/...   \n",
       "252                                 Feels good to be back home 🇵🇪 #peru #larcomar #lima @ Lima, Peru https://t.co/agFso0gRcs   \n",
       "330                 #esviernesyyonecesito es ahora una tendencia en #Lima\\n\\nhttps://t.co/UOmWB9sTSw https://t.co/oZBAUS7GPe   \n",
       "389  By @mariotestino 🙌🏼 \\n.\\n.\\n.\\n.\\n.\\n.\\n.\\n.\\n#igersperu #lima #museum #musee #peru #mariotestino #photography #mode...   \n",
       "512                                #pérez es ahora una tendencia en #Lima\\n\\nhttps://t.co/CXgZJw73Ty https://t.co/a7wfyKchQU   \n",
       "653                                Pequeña\\n#traveler #explorer #flower #lima #pic #nice #photograpy https://t.co/82r1wgHu3w   \n",
       "749                             #renuncia es ahora una tendencia en #Lima\\n\\nhttps://t.co/DhxjeOKeix https://t.co/61jYXcNSwk   \n",
       "821  'cerradura', 'desconocidos' y 'amedrentamiento' es ahora una tendencia en #Lima\\n\\nhttps://t.co/zpEunuSxrb https://t...   \n",
       "\n",
       "     followers  \\\n",
       "6           13   \n",
       "23          13   \n",
       "252        247   \n",
       "330     107446   \n",
       "389        213   \n",
       "512     107446   \n",
       "653        553   \n",
       "749     107446   \n",
       "821     107446   \n",
       "\n",
       "                                                                            hashtags  \\\n",
       "6                            [#cookingclass, #seerundo, #lima, #peru, #southamerica]   \n",
       "23                            [#mercado, #seerundo, #lima, #peru, #southamerica, #1]   \n",
       "252                                                        [#peru, #larcomar, #lima]   \n",
       "330                                                   [#esviernesyyonecesito, #lima]   \n",
       "389  [#igersperu, #lima, #museum, #musee, #peru, #mariotestino, #photography, #mode]   \n",
       "512                                                                  [#pérez, #lima]   \n",
       "653                 [#traveler, #explorer, #flower, #lima, #pic, #nice, #photograpy]   \n",
       "749                                                               [#renuncia, #lima]   \n",
       "821                                                                          [#lima]   \n",
       "\n",
       "     hashcounts         mentions  mention_count emoji  \\\n",
       "6             5               []              0    []   \n",
       "23            6               []              0    []   \n",
       "252           3               []              0  [🇵🇪]   \n",
       "330           2               []              0    []   \n",
       "389           8  [@mariotestino]              1  [🙌🏼]   \n",
       "512           2               []              0    []   \n",
       "653           7               []              0    []   \n",
       "749           2               []              0    []   \n",
       "821           1               []              0    []   \n",
       "\n",
       "                                 emoji_text  emoji_count  \n",
       "6                                        []            0  \n",
       "23                                       []            0  \n",
       "252                                  [Peru]            1  \n",
       "330                                      []            0  \n",
       "389  [raising hands medium-light skin tone]            1  \n",
       "512                                      []            0  \n",
       "653                                      []            0  \n",
       "749                                      []            0  \n",
       "821                                      []            0  "
      ]
     },
     "execution_count": 142,
     "metadata": {},
     "output_type": "execute_result"
    }
   ],
   "source": [
    "extracted_tweets[extracted_tweets['hashtags'].str.join(' ')\n",
    "                  .str.contains('lima',case=False)]"
   ]
  },
  {
   "cell_type": "code",
   "execution_count": 143,
   "metadata": {},
   "outputs": [
    {
     "data": {
      "text/html": [
       "<div>\n",
       "<style scoped>\n",
       "    .dataframe tbody tr th:only-of-type {\n",
       "        vertical-align: middle;\n",
       "    }\n",
       "\n",
       "    .dataframe tbody tr th {\n",
       "        vertical-align: top;\n",
       "    }\n",
       "\n",
       "    .dataframe thead th {\n",
       "        text-align: right;\n",
       "    }\n",
       "</style>\n",
       "<table border=\"1\" class=\"dataframe\">\n",
       "  <thead>\n",
       "    <tr style=\"text-align: right;\">\n",
       "      <th></th>\n",
       "      <th>word</th>\n",
       "      <th>abs_freq</th>\n",
       "      <th>wtd_freq</th>\n",
       "      <th>rel_value</th>\n",
       "    </tr>\n",
       "  </thead>\n",
       "  <tbody>\n",
       "    <tr>\n",
       "      <th>0</th>\n",
       "      <td>@gissellereyes</td>\n",
       "      <td>1</td>\n",
       "      <td>214460</td>\n",
       "      <td>214460.0</td>\n",
       "    </tr>\n",
       "    <tr>\n",
       "      <th>1</th>\n",
       "      <td>@ucatolicaec</td>\n",
       "      <td>3</td>\n",
       "      <td>52617</td>\n",
       "      <td>17539.0</td>\n",
       "    </tr>\n",
       "    <tr>\n",
       "      <th>2</th>\n",
       "      <td>@macara_oficial</td>\n",
       "      <td>1</td>\n",
       "      <td>46425</td>\n",
       "      <td>46425.0</td>\n",
       "    </tr>\n",
       "    <tr>\n",
       "      <th>3</th>\n",
       "      <td>@dcm_online</td>\n",
       "      <td>1</td>\n",
       "      <td>44161</td>\n",
       "      <td>44161.0</td>\n",
       "    </tr>\n",
       "    <tr>\n",
       "      <th>4</th>\n",
       "      <td>@brasil247</td>\n",
       "      <td>1</td>\n",
       "      <td>44161</td>\n",
       "      <td>44161.0</td>\n",
       "    </tr>\n",
       "    <tr>\n",
       "      <th>5</th>\n",
       "      <td>@terranoticiasbr</td>\n",
       "      <td>1</td>\n",
       "      <td>44160</td>\n",
       "      <td>44160.0</td>\n",
       "    </tr>\n",
       "    <tr>\n",
       "      <th>6</th>\n",
       "      <td>@canaln_</td>\n",
       "      <td>31</td>\n",
       "      <td>31715</td>\n",
       "      <td>1023.0</td>\n",
       "    </tr>\n",
       "    <tr>\n",
       "      <th>7</th>\n",
       "      <td>@jacquelinabravo</td>\n",
       "      <td>1</td>\n",
       "      <td>31299</td>\n",
       "      <td>31299.0</td>\n",
       "    </tr>\n",
       "    <tr>\n",
       "      <th>8</th>\n",
       "      <td>@alokadalis</td>\n",
       "      <td>2</td>\n",
       "      <td>27305</td>\n",
       "      <td>13652.0</td>\n",
       "    </tr>\n",
       "    <tr>\n",
       "      <th>9</th>\n",
       "      <td>@colrichardkemp</td>\n",
       "      <td>1</td>\n",
       "      <td>23611</td>\n",
       "      <td>23611.0</td>\n",
       "    </tr>\n",
       "  </tbody>\n",
       "</table>\n",
       "</div>"
      ],
      "text/plain": [
       "               word  abs_freq  wtd_freq  rel_value\n",
       "0    @gissellereyes         1    214460   214460.0\n",
       "1      @ucatolicaec         3     52617    17539.0\n",
       "2   @macara_oficial         1     46425    46425.0\n",
       "3       @dcm_online         1     44161    44161.0\n",
       "4        @brasil247         1     44161    44161.0\n",
       "5  @terranoticiasbr         1     44160    44160.0\n",
       "6          @canaln_        31     31715     1023.0\n",
       "7  @jacquelinabravo         1     31299    31299.0\n",
       "8       @alokadalis         2     27305    13652.0\n",
       "9   @colrichardkemp         1     23611    23611.0"
      ]
     },
     "execution_count": 143,
     "metadata": {},
     "output_type": "execute_result"
    }
   ],
   "source": [
    "word_freq_mention = adv.word_frequency(extracted_tweets['mentions'].str.join(' '), \n",
    "                                       extracted_tweets['followers'].fillna(0))\n",
    "                                    #.sort_values(['abs_freq'], ascending=False).head(20)\n",
    "word_freq_mention.head(10)"
   ]
  },
  {
   "cell_type": "code",
   "execution_count": 144,
   "metadata": {},
   "outputs": [
    {
     "data": {
      "text/html": [
       "<div>\n",
       "<style scoped>\n",
       "    .dataframe tbody tr th:only-of-type {\n",
       "        vertical-align: middle;\n",
       "    }\n",
       "\n",
       "    .dataframe tbody tr th {\n",
       "        vertical-align: top;\n",
       "    }\n",
       "\n",
       "    .dataframe thead th {\n",
       "        text-align: right;\n",
       "    }\n",
       "</style>\n",
       "<table border=\"1\" class=\"dataframe\">\n",
       "  <thead>\n",
       "    <tr style=\"text-align: right;\">\n",
       "      <th></th>\n",
       "      <th>word</th>\n",
       "      <th>abs_freq</th>\n",
       "      <th>wtd_freq</th>\n",
       "      <th>rel_value</th>\n",
       "    </tr>\n",
       "  </thead>\n",
       "  <tbody>\n",
       "    <tr>\n",
       "      <th>0</th>\n",
       "      <td>😭</td>\n",
       "      <td>39</td>\n",
       "      <td>434614</td>\n",
       "      <td>11144.0</td>\n",
       "    </tr>\n",
       "    <tr>\n",
       "      <th>1</th>\n",
       "      <td>🖤</td>\n",
       "      <td>1</td>\n",
       "      <td>377740</td>\n",
       "      <td>377740.0</td>\n",
       "    </tr>\n",
       "    <tr>\n",
       "      <th>2</th>\n",
       "      <td>🤔</td>\n",
       "      <td>7</td>\n",
       "      <td>304059</td>\n",
       "      <td>43437.0</td>\n",
       "    </tr>\n",
       "    <tr>\n",
       "      <th>3</th>\n",
       "      <td>📣</td>\n",
       "      <td>3</td>\n",
       "      <td>295880</td>\n",
       "      <td>98627.0</td>\n",
       "    </tr>\n",
       "    <tr>\n",
       "      <th>4</th>\n",
       "      <td>🚔</td>\n",
       "      <td>2</td>\n",
       "      <td>295632</td>\n",
       "      <td>147816.0</td>\n",
       "    </tr>\n",
       "    <tr>\n",
       "      <th>5</th>\n",
       "      <td>👮🏿‍♀️</td>\n",
       "      <td>2</td>\n",
       "      <td>295632</td>\n",
       "      <td>147816.0</td>\n",
       "    </tr>\n",
       "    <tr>\n",
       "      <th>6</th>\n",
       "      <td>👮🏿‍♂️</td>\n",
       "      <td>2</td>\n",
       "      <td>295632</td>\n",
       "      <td>147816.0</td>\n",
       "    </tr>\n",
       "    <tr>\n",
       "      <th>7</th>\n",
       "      <td>👉</td>\n",
       "      <td>7</td>\n",
       "      <td>221454</td>\n",
       "      <td>31636.0</td>\n",
       "    </tr>\n",
       "    <tr>\n",
       "      <th>8</th>\n",
       "      <td>😝</td>\n",
       "      <td>2</td>\n",
       "      <td>214546</td>\n",
       "      <td>107273.0</td>\n",
       "    </tr>\n",
       "    <tr>\n",
       "      <th>9</th>\n",
       "      <td>🇪🇨</td>\n",
       "      <td>4</td>\n",
       "      <td>153264</td>\n",
       "      <td>38316.0</td>\n",
       "    </tr>\n",
       "  </tbody>\n",
       "</table>\n",
       "</div>"
      ],
      "text/plain": [
       "    word  abs_freq  wtd_freq  rel_value\n",
       "0      😭        39    434614    11144.0\n",
       "1      🖤         1    377740   377740.0\n",
       "2      🤔         7    304059    43437.0\n",
       "3      📣         3    295880    98627.0\n",
       "4      🚔         2    295632   147816.0\n",
       "5  👮🏿‍♀️         2    295632   147816.0\n",
       "6  👮🏿‍♂️         2    295632   147816.0\n",
       "7      👉         7    221454    31636.0\n",
       "8      😝         2    214546   107273.0\n",
       "9     🇪🇨         4    153264    38316.0"
      ]
     },
     "execution_count": 144,
     "metadata": {},
     "output_type": "execute_result"
    }
   ],
   "source": [
    "word_freq_emoji = adv.word_frequency(extracted_tweets['emoji'].str.join(' '), \n",
    "                                       extracted_tweets['followers'].fillna(0))#.sort_values(['abs_freq'], ascending=False).head(20)\n",
    "word_freq_emoji.head(10)"
   ]
  },
  {
   "cell_type": "code",
   "execution_count": 145,
   "metadata": {},
   "outputs": [
    {
     "data": {
      "text/plain": [
       "[':loudly_crying_face:',\n",
       " ':black_heart:',\n",
       " ':thinking_face:',\n",
       " ':megaphone:',\n",
       " ':oncoming_police_car:',\n",
       " ':woman_police_officer_dark_skin_tone:',\n",
       " ':man_police_officer_dark_skin_tone:',\n",
       " ':backhand_index_pointing_right:',\n",
       " ':squinting_face_with_tongue:',\n",
       " ':Ecuador:']"
      ]
     },
     "execution_count": 145,
     "metadata": {},
     "output_type": "execute_result"
    }
   ],
   "source": [
    "[adv.emoji_dict.emoji_dict[k] for k in word_freq_emoji['word'][:10]]"
   ]
  },
  {
   "cell_type": "code",
   "execution_count": 146,
   "metadata": {},
   "outputs": [
    {
     "data": {
      "text/html": [
       "<div>\n",
       "<style scoped>\n",
       "    .dataframe tbody tr th:only-of-type {\n",
       "        vertical-align: middle;\n",
       "    }\n",
       "\n",
       "    .dataframe tbody tr th {\n",
       "        vertical-align: top;\n",
       "    }\n",
       "\n",
       "    .dataframe thead th {\n",
       "        text-align: right;\n",
       "    }\n",
       "</style>\n",
       "<table border=\"1\" class=\"dataframe\">\n",
       "  <thead>\n",
       "    <tr style=\"text-align: right;\">\n",
       "      <th></th>\n",
       "      <th>word</th>\n",
       "      <th>abs_freq</th>\n",
       "      <th>wtd_freq</th>\n",
       "      <th>rel_value</th>\n",
       "      <th>emoji_text</th>\n",
       "    </tr>\n",
       "  </thead>\n",
       "  <tbody>\n",
       "    <tr>\n",
       "      <th>0</th>\n",
       "      <td>😭</td>\n",
       "      <td>39</td>\n",
       "      <td>434614</td>\n",
       "      <td>11144.0</td>\n",
       "      <td>:loudly_crying_face:</td>\n",
       "    </tr>\n",
       "    <tr>\n",
       "      <th>1</th>\n",
       "      <td>🖤</td>\n",
       "      <td>1</td>\n",
       "      <td>377740</td>\n",
       "      <td>377740.0</td>\n",
       "      <td>:black_heart:</td>\n",
       "    </tr>\n",
       "    <tr>\n",
       "      <th>2</th>\n",
       "      <td>🤔</td>\n",
       "      <td>7</td>\n",
       "      <td>304059</td>\n",
       "      <td>43437.0</td>\n",
       "      <td>:thinking_face:</td>\n",
       "    </tr>\n",
       "    <tr>\n",
       "      <th>3</th>\n",
       "      <td>📣</td>\n",
       "      <td>3</td>\n",
       "      <td>295880</td>\n",
       "      <td>98627.0</td>\n",
       "      <td>:megaphone:</td>\n",
       "    </tr>\n",
       "    <tr>\n",
       "      <th>4</th>\n",
       "      <td>🚔</td>\n",
       "      <td>2</td>\n",
       "      <td>295632</td>\n",
       "      <td>147816.0</td>\n",
       "      <td>:oncoming_police_car:</td>\n",
       "    </tr>\n",
       "    <tr>\n",
       "      <th>5</th>\n",
       "      <td>👮🏿‍♀️</td>\n",
       "      <td>2</td>\n",
       "      <td>295632</td>\n",
       "      <td>147816.0</td>\n",
       "      <td>:woman_police_officer_dark_skin_tone:</td>\n",
       "    </tr>\n",
       "    <tr>\n",
       "      <th>6</th>\n",
       "      <td>👮🏿‍♂️</td>\n",
       "      <td>2</td>\n",
       "      <td>295632</td>\n",
       "      <td>147816.0</td>\n",
       "      <td>:man_police_officer_dark_skin_tone:</td>\n",
       "    </tr>\n",
       "    <tr>\n",
       "      <th>7</th>\n",
       "      <td>👉</td>\n",
       "      <td>7</td>\n",
       "      <td>221454</td>\n",
       "      <td>31636.0</td>\n",
       "      <td>:backhand_index_pointing_right:</td>\n",
       "    </tr>\n",
       "    <tr>\n",
       "      <th>8</th>\n",
       "      <td>😝</td>\n",
       "      <td>2</td>\n",
       "      <td>214546</td>\n",
       "      <td>107273.0</td>\n",
       "      <td>:squinting_face_with_tongue:</td>\n",
       "    </tr>\n",
       "    <tr>\n",
       "      <th>9</th>\n",
       "      <td>🇪🇨</td>\n",
       "      <td>4</td>\n",
       "      <td>153264</td>\n",
       "      <td>38316.0</td>\n",
       "      <td>:Ecuador:</td>\n",
       "    </tr>\n",
       "  </tbody>\n",
       "</table>\n",
       "</div>"
      ],
      "text/plain": [
       "    word  abs_freq  wtd_freq  rel_value                             emoji_text\n",
       "0      😭        39    434614    11144.0                   :loudly_crying_face:\n",
       "1      🖤         1    377740   377740.0                          :black_heart:\n",
       "2      🤔         7    304059    43437.0                        :thinking_face:\n",
       "3      📣         3    295880    98627.0                            :megaphone:\n",
       "4      🚔         2    295632   147816.0                  :oncoming_police_car:\n",
       "5  👮🏿‍♀️         2    295632   147816.0  :woman_police_officer_dark_skin_tone:\n",
       "6  👮🏿‍♂️         2    295632   147816.0    :man_police_officer_dark_skin_tone:\n",
       "7      👉         7    221454    31636.0        :backhand_index_pointing_right:\n",
       "8      😝         2    214546   107273.0           :squinting_face_with_tongue:\n",
       "9     🇪🇨         4    153264    38316.0                              :Ecuador:"
      ]
     },
     "execution_count": 146,
     "metadata": {},
     "output_type": "execute_result"
    }
   ],
   "source": [
    "word_freq_emoji[:10].assign(emoji_text=[adv.emoji_dict.emoji_dict[k] for k in word_freq_emoji['word'][:10]])"
   ]
  },
  {
   "cell_type": "code",
   "execution_count": 147,
   "metadata": {},
   "outputs": [],
   "source": [
    "sotu_retweets = np.load('tweets_dict.npy')"
   ]
  },
  {
   "cell_type": "code",
   "execution_count": 152,
   "metadata": {},
   "outputs": [
    {
     "data": {
      "text/html": [
       "<div>\n",
       "<style scoped>\n",
       "    .dataframe tbody tr th:only-of-type {\n",
       "        vertical-align: middle;\n",
       "    }\n",
       "\n",
       "    .dataframe tbody tr th {\n",
       "        vertical-align: top;\n",
       "    }\n",
       "\n",
       "    .dataframe thead th {\n",
       "        text-align: right;\n",
       "    }\n",
       "</style>\n",
       "<table border=\"1\" class=\"dataframe\">\n",
       "  <thead>\n",
       "    <tr style=\"text-align: right;\">\n",
       "      <th></th>\n",
       "      <th>contributors</th>\n",
       "      <th>coordinates</th>\n",
       "      <th>coordinates-coordinates</th>\n",
       "      <th>coordinates-type</th>\n",
       "      <th>created_at</th>\n",
       "      <th>display_text_range</th>\n",
       "      <th>entities-hashtags</th>\n",
       "      <th>entities-media</th>\n",
       "      <th>entities-symbols</th>\n",
       "      <th>entities-urls</th>\n",
       "      <th>...</th>\n",
       "      <th>user-profile_text_color</th>\n",
       "      <th>user-profile_use_background_image</th>\n",
       "      <th>user-protected</th>\n",
       "      <th>user-screen_name</th>\n",
       "      <th>user-statuses_count</th>\n",
       "      <th>user-time_zone</th>\n",
       "      <th>user-translator_type</th>\n",
       "      <th>user-url</th>\n",
       "      <th>user-utc_offset</th>\n",
       "      <th>user-verified</th>\n",
       "    </tr>\n",
       "  </thead>\n",
       "  <tbody>\n",
       "    <tr>\n",
       "      <th>0</th>\n",
       "      <td>None</td>\n",
       "      <td>NaN</td>\n",
       "      <td>NaN</td>\n",
       "      <td>NaN</td>\n",
       "      <td>Sat Oct 20 01:57:03 +0000 2018</td>\n",
       "      <td>[30, 53]</td>\n",
       "      <td>[]</td>\n",
       "      <td>NaN</td>\n",
       "      <td>[]</td>\n",
       "      <td>[]</td>\n",
       "      <td>...</td>\n",
       "      <td>333333</td>\n",
       "      <td>True</td>\n",
       "      <td>False</td>\n",
       "      <td>geriitx</td>\n",
       "      <td>293</td>\n",
       "      <td>None</td>\n",
       "      <td>none</td>\n",
       "      <td>https://m.facebook.com/geriita.ab?__user=1571199766</td>\n",
       "      <td>None</td>\n",
       "      <td>False</td>\n",
       "    </tr>\n",
       "    <tr>\n",
       "      <th>1</th>\n",
       "      <td>None</td>\n",
       "      <td>NaN</td>\n",
       "      <td>NaN</td>\n",
       "      <td>NaN</td>\n",
       "      <td>Sat Oct 20 01:57:10 +0000 2018</td>\n",
       "      <td>[28, 44]</td>\n",
       "      <td>[]</td>\n",
       "      <td>NaN</td>\n",
       "      <td>[]</td>\n",
       "      <td>[]</td>\n",
       "      <td>...</td>\n",
       "      <td>333333</td>\n",
       "      <td>True</td>\n",
       "      <td>False</td>\n",
       "      <td>MurgaRodolfo</td>\n",
       "      <td>256</td>\n",
       "      <td>None</td>\n",
       "      <td>none</td>\n",
       "      <td>None</td>\n",
       "      <td>None</td>\n",
       "      <td>False</td>\n",
       "    </tr>\n",
       "    <tr>\n",
       "      <th>2</th>\n",
       "      <td>None</td>\n",
       "      <td>NaN</td>\n",
       "      <td>NaN</td>\n",
       "      <td>NaN</td>\n",
       "      <td>Sat Oct 20 01:57:12 +0000 2018</td>\n",
       "      <td>[13, 23]</td>\n",
       "      <td>[]</td>\n",
       "      <td>NaN</td>\n",
       "      <td>[]</td>\n",
       "      <td>[]</td>\n",
       "      <td>...</td>\n",
       "      <td>333333</td>\n",
       "      <td>True</td>\n",
       "      <td>False</td>\n",
       "      <td>GusRodrigues4</td>\n",
       "      <td>752</td>\n",
       "      <td>None</td>\n",
       "      <td>none</td>\n",
       "      <td>None</td>\n",
       "      <td>None</td>\n",
       "      <td>False</td>\n",
       "    </tr>\n",
       "    <tr>\n",
       "      <th>3</th>\n",
       "      <td>None</td>\n",
       "      <td>NaN</td>\n",
       "      <td>NaN</td>\n",
       "      <td>NaN</td>\n",
       "      <td>Sat Oct 20 01:57:17 +0000 2018</td>\n",
       "      <td>[0, 140]</td>\n",
       "      <td>[{'text': 'SemanaDeMayordomia', 'indices': [16, 35]}]</td>\n",
       "      <td>NaN</td>\n",
       "      <td>[]</td>\n",
       "      <td>[{'url': 'https://t.co/gMo19IEnh6', 'expanded_url': 'https://twitter.com/i/web/status/1053465144875991045', 'display...</td>\n",
       "      <td>...</td>\n",
       "      <td>333333</td>\n",
       "      <td>True</td>\n",
       "      <td>False</td>\n",
       "      <td>IASDEsperanza</td>\n",
       "      <td>698</td>\n",
       "      <td>None</td>\n",
       "      <td>none</td>\n",
       "      <td>None</td>\n",
       "      <td>None</td>\n",
       "      <td>False</td>\n",
       "    </tr>\n",
       "    <tr>\n",
       "      <th>4</th>\n",
       "      <td>None</td>\n",
       "      <td>NaN</td>\n",
       "      <td>NaN</td>\n",
       "      <td>NaN</td>\n",
       "      <td>Sat Oct 20 01:57:18 +0000 2018</td>\n",
       "      <td>[17, 23]</td>\n",
       "      <td>[]</td>\n",
       "      <td>NaN</td>\n",
       "      <td>[]</td>\n",
       "      <td>[]</td>\n",
       "      <td>...</td>\n",
       "      <td>333333</td>\n",
       "      <td>True</td>\n",
       "      <td>False</td>\n",
       "      <td>mcthuglife666</td>\n",
       "      <td>1168</td>\n",
       "      <td>None</td>\n",
       "      <td>none</td>\n",
       "      <td>None</td>\n",
       "      <td>None</td>\n",
       "      <td>False</td>\n",
       "    </tr>\n",
       "  </tbody>\n",
       "</table>\n",
       "<p>5 rows × 125 columns</p>\n",
       "</div>"
      ],
      "text/plain": [
       "  contributors  coordinates coordinates-coordinates coordinates-type  \\\n",
       "0         None          NaN                     NaN              NaN   \n",
       "1         None          NaN                     NaN              NaN   \n",
       "2         None          NaN                     NaN              NaN   \n",
       "3         None          NaN                     NaN              NaN   \n",
       "4         None          NaN                     NaN              NaN   \n",
       "\n",
       "                       created_at display_text_range  \\\n",
       "0  Sat Oct 20 01:57:03 +0000 2018           [30, 53]   \n",
       "1  Sat Oct 20 01:57:10 +0000 2018           [28, 44]   \n",
       "2  Sat Oct 20 01:57:12 +0000 2018           [13, 23]   \n",
       "3  Sat Oct 20 01:57:17 +0000 2018           [0, 140]   \n",
       "4  Sat Oct 20 01:57:18 +0000 2018           [17, 23]   \n",
       "\n",
       "                                       entities-hashtags entities-media  \\\n",
       "0                                                     []            NaN   \n",
       "1                                                     []            NaN   \n",
       "2                                                     []            NaN   \n",
       "3  [{'text': 'SemanaDeMayordomia', 'indices': [16, 35]}]            NaN   \n",
       "4                                                     []            NaN   \n",
       "\n",
       "  entities-symbols  \\\n",
       "0               []   \n",
       "1               []   \n",
       "2               []   \n",
       "3               []   \n",
       "4               []   \n",
       "\n",
       "                                                                                                             entities-urls  \\\n",
       "0                                                                                                                       []   \n",
       "1                                                                                                                       []   \n",
       "2                                                                                                                       []   \n",
       "3  [{'url': 'https://t.co/gMo19IEnh6', 'expanded_url': 'https://twitter.com/i/web/status/1053465144875991045', 'display...   \n",
       "4                                                                                                                       []   \n",
       "\n",
       "       ...       user-profile_text_color user-profile_use_background_image  \\\n",
       "0      ...                        333333                              True   \n",
       "1      ...                        333333                              True   \n",
       "2      ...                        333333                              True   \n",
       "3      ...                        333333                              True   \n",
       "4      ...                        333333                              True   \n",
       "\n",
       "  user-protected user-screen_name user-statuses_count user-time_zone  \\\n",
       "0          False          geriitx                 293           None   \n",
       "1          False     MurgaRodolfo                 256           None   \n",
       "2          False    GusRodrigues4                 752           None   \n",
       "3          False    IASDEsperanza                 698           None   \n",
       "4          False    mcthuglife666                1168           None   \n",
       "\n",
       "   user-translator_type                                             user-url  \\\n",
       "0                  none  https://m.facebook.com/geriita.ab?__user=1571199766   \n",
       "1                  none                                                 None   \n",
       "2                  none                                                 None   \n",
       "3                  none                                                 None   \n",
       "4                  none                                                 None   \n",
       "\n",
       "  user-utc_offset  user-verified  \n",
       "0            None          False  \n",
       "1            None          False  \n",
       "2            None          False  \n",
       "3            None          False  \n",
       "4            None          False  \n",
       "\n",
       "[5 rows x 125 columns]"
      ]
     },
     "execution_count": 152,
     "metadata": {},
     "output_type": "execute_result"
    }
   ],
   "source": [
    "def buildDataFrameFromDict(mapping):\n",
    "    df=[]\n",
    "    for f in mapping:\n",
    "        f_n = {}\n",
    "        for k,item in f.items():\n",
    "            if isinstance(item,dict):\n",
    "                for i,j in item.items():\n",
    "                    f_n[k+'-'+i] = j\n",
    "            else:\n",
    "                f_n[k] = f[k]\n",
    "        df.append(f_n)\n",
    "    \n",
    "    df = pd.DataFrame(df)\n",
    "    return df\n",
    "\n",
    "sotu = buildDataFrameFromDict(sotu_retweets)\n",
    "sotu.head()"
   ]
  },
  {
   "cell_type": "code",
   "execution_count": 156,
   "metadata": {},
   "outputs": [
    {
     "name": "stdout",
     "output_type": "stream",
     "text": [
      "contributors\n",
      "coordinates\n",
      "coordinates-coordinates\n",
      "coordinates-type\n",
      "created_at\n",
      "display_text_range\n",
      "entities-hashtags\n",
      "entities-media\n",
      "entities-symbols\n",
      "entities-urls\n",
      "entities-user_mentions\n",
      "extended_entities-media\n",
      "extended_tweet-display_text_range\n",
      "extended_tweet-entities\n",
      "extended_tweet-extended_entities\n",
      "extended_tweet-full_text\n",
      "favorite_count\n",
      "favorited\n",
      "filter_level\n",
      "geo\n",
      "geo-coordinates\n",
      "geo-type\n",
      "id\n",
      "id_str\n",
      "in_reply_to_screen_name\n",
      "in_reply_to_status_id\n",
      "in_reply_to_status_id_str\n",
      "in_reply_to_user_id\n",
      "in_reply_to_user_id_str\n",
      "is_quote_status\n",
      "lang\n",
      "place-attributes\n",
      "place-bounding_box\n",
      "place-country\n",
      "place-country_code\n",
      "place-full_name\n",
      "place-id\n",
      "place-name\n",
      "place-place_type\n",
      "place-url\n",
      "possibly_sensitive\n",
      "quote_count\n",
      "quoted_status-contributors\n",
      "quoted_status-coordinates\n",
      "quoted_status-created_at\n",
      "quoted_status-display_text_range\n",
      "quoted_status-entities\n",
      "quoted_status-extended_entities\n",
      "quoted_status-extended_tweet\n",
      "quoted_status-favorite_count\n",
      "quoted_status-favorited\n",
      "quoted_status-filter_level\n",
      "quoted_status-geo\n",
      "quoted_status-id\n",
      "quoted_status-id_str\n",
      "quoted_status-in_reply_to_screen_name\n",
      "quoted_status-in_reply_to_status_id\n",
      "quoted_status-in_reply_to_status_id_str\n",
      "quoted_status-in_reply_to_user_id\n",
      "quoted_status-in_reply_to_user_id_str\n",
      "quoted_status-is_quote_status\n",
      "quoted_status-lang\n",
      "quoted_status-place\n",
      "quoted_status-possibly_sensitive\n",
      "quoted_status-quote_count\n",
      "quoted_status-quoted_status_id\n",
      "quoted_status-quoted_status_id_str\n",
      "quoted_status-reply_count\n",
      "quoted_status-retweet_count\n",
      "quoted_status-retweeted\n",
      "quoted_status-source\n",
      "quoted_status-text\n",
      "quoted_status-truncated\n",
      "quoted_status-user\n",
      "quoted_status_id\n",
      "quoted_status_id_str\n",
      "quoted_status_permalink-display\n",
      "quoted_status_permalink-expanded\n",
      "quoted_status_permalink-url\n",
      "reply_count\n",
      "retweet_count\n",
      "retweeted\n",
      "source\n",
      "text\n",
      "timestamp_ms\n",
      "truncated\n",
      "user-contributors_enabled\n",
      "user-created_at\n",
      "user-default_profile\n",
      "user-default_profile_image\n",
      "user-description\n",
      "user-favourites_count\n",
      "user-follow_request_sent\n",
      "user-followers_count\n",
      "user-following\n",
      "user-friends_count\n",
      "user-geo_enabled\n",
      "user-id\n",
      "user-id_str\n",
      "user-is_translator\n",
      "user-lang\n",
      "user-listed_count\n",
      "user-location\n",
      "user-name\n",
      "user-notifications\n",
      "user-profile_background_color\n",
      "user-profile_background_image_url\n",
      "user-profile_background_image_url_https\n",
      "user-profile_background_tile\n",
      "user-profile_banner_url\n",
      "user-profile_image_url\n",
      "user-profile_image_url_https\n",
      "user-profile_link_color\n",
      "user-profile_sidebar_border_color\n",
      "user-profile_sidebar_fill_color\n",
      "user-profile_text_color\n",
      "user-profile_use_background_image\n",
      "user-protected\n",
      "user-screen_name\n",
      "user-statuses_count\n",
      "user-time_zone\n",
      "user-translator_type\n",
      "user-url\n",
      "user-utc_offset\n",
      "user-verified\n"
     ]
    }
   ],
   "source": [
    "for c in sotu.columns:\n",
    "    print(c)"
   ]
  },
  {
   "cell_type": "code",
   "execution_count": 159,
   "metadata": {},
   "outputs": [],
   "source": [
    "data = sotu.sample(10)['user-screen_name']\n",
    "sotu['retweeted_status-user-screen_name'] = np.random.choice(data,len(sotu))"
   ]
  },
  {
   "cell_type": "code",
   "execution_count": 162,
   "metadata": {},
   "outputs": [
    {
     "data": {
      "text/html": [
       "<div>\n",
       "<style scoped>\n",
       "    .dataframe tbody tr th:only-of-type {\n",
       "        vertical-align: middle;\n",
       "    }\n",
       "\n",
       "    .dataframe tbody tr th {\n",
       "        vertical-align: top;\n",
       "    }\n",
       "\n",
       "    .dataframe thead th {\n",
       "        text-align: right;\n",
       "    }\n",
       "</style>\n",
       "<table border=\"1\" class=\"dataframe\">\n",
       "  <thead>\n",
       "    <tr style=\"text-align: right;\">\n",
       "      <th></th>\n",
       "      <th>user-screen_name</th>\n",
       "      <th>retweeted_status-user-screen_name</th>\n",
       "    </tr>\n",
       "  </thead>\n",
       "  <tbody>\n",
       "    <tr>\n",
       "      <th>0</th>\n",
       "      <td>geriitx</td>\n",
       "      <td>hhbacigalupo</td>\n",
       "    </tr>\n",
       "    <tr>\n",
       "      <th>1</th>\n",
       "      <td>MurgaRodolfo</td>\n",
       "      <td>hhbacigalupo</td>\n",
       "    </tr>\n",
       "    <tr>\n",
       "      <th>2</th>\n",
       "      <td>GusRodrigues4</td>\n",
       "      <td>mpauta</td>\n",
       "    </tr>\n",
       "    <tr>\n",
       "      <th>3</th>\n",
       "      <td>IASDEsperanza</td>\n",
       "      <td>hhbacigalupo</td>\n",
       "    </tr>\n",
       "    <tr>\n",
       "      <th>4</th>\n",
       "      <td>mcthuglife666</td>\n",
       "      <td>casidi13243</td>\n",
       "    </tr>\n",
       "  </tbody>\n",
       "</table>\n",
       "</div>"
      ],
      "text/plain": [
       "  user-screen_name retweeted_status-user-screen_name\n",
       "0          geriitx                      hhbacigalupo\n",
       "1     MurgaRodolfo                      hhbacigalupo\n",
       "2    GusRodrigues4                            mpauta\n",
       "3    IASDEsperanza                      hhbacigalupo\n",
       "4    mcthuglife666                       casidi13243"
      ]
     },
     "execution_count": 162,
     "metadata": {},
     "output_type": "execute_result"
    }
   ],
   "source": [
    "sotu[['user-screen_name','retweeted_status-user-screen_name']].head()"
   ]
  },
  {
   "cell_type": "code",
   "execution_count": 161,
   "metadata": {},
   "outputs": [
    {
     "name": "stdout",
     "output_type": "stream",
     "text": [
      "Nodes in RT network: 505\n",
      "Edges in RT network: 855\n"
     ]
    }
   ],
   "source": [
    "G_rt = nx.from_pandas_edgelist(\n",
    "    sotu,\n",
    "    source = 'user-screen_name', \n",
    "    target = 'retweeted_status-user-screen_name',\n",
    "    create_using = nx.DiGraph())\n",
    "    \n",
    "print('Nodes in RT network:', len(G_rt.nodes()))\n",
    "print('Edges in RT network:', len(G_rt.edges()))"
   ]
  },
  {
   "cell_type": "code",
   "execution_count": 166,
   "metadata": {},
   "outputs": [
    {
     "name": "stdout",
     "output_type": "stream",
     "text": [
      "Nodes in reply network: 796\n",
      "Edges in reply network: 708\n"
     ]
    }
   ],
   "source": [
    "G_reply = nx.from_pandas_edgelist(\n",
    "    sotu,\n",
    "    source = 'user-screen_name', \n",
    "    target = 'in_reply_to_screen_name',\n",
    "    create_using = nx.DiGraph())\n",
    "    \n",
    "print('Nodes in reply network:', len(G_reply.nodes()))\n",
    "\n",
    "print('Edges in reply network:', len(G_reply.edges()))"
   ]
  },
  {
   "cell_type": "code",
   "execution_count": 177,
   "metadata": {},
   "outputs": [
    {
     "data": {
      "image/png": "[encoded data removed]",
      "text/plain": [
       "<Figure size 432x288 with 1 Axes>"
      ]
     },
     "metadata": {},
     "output_type": "display_data"
    }
   ],
   "source": [
    "pos = nx.random_layout(G_rt)\n",
    "\n",
    "sizes = [x[1] for x in G_rt.degree()]\n",
    "\n",
    "nx.draw_networkx(G_rt, pos, \n",
    "    with_labels = False, \n",
    "    node_size = sizes,\n",
    "    width = 0.1, alpha = 0.7,\n",
    "    arrowsize = 2, linewidths = 0)\n",
    "\n",
    "plt.savefig('snapshot/lima_tweets_influencing_graph.png')\n",
    "plt.axis('off'); plt.show()"
   ]
  },
  {
   "cell_type": "code",
   "execution_count": 168,
   "metadata": {},
   "outputs": [
    {
     "data": {
      "image/png": "[encoded data removed]",
      "text/plain": [
       "<Figure size 432x288 with 1 Axes>"
      ]
     },
     "metadata": {},
     "output_type": "display_data"
    }
   ],
   "source": [
    "pos = nx.random_layout(G_reply)\n",
    "sizes = [x[1] for x in G_reply.degree()]\n",
    "\n",
    "nx.draw_networkx(G_reply, pos, \n",
    "    with_labels = False, \n",
    "    node_size = sizes,\n",
    "    width = 0.1, alpha = 0.7,\n",
    "    arrowsize = 2, linewidths = 0)\n",
    "\n",
    "plt.axis('off'); plt.show()"
   ]
  },
  {
   "cell_type": "code",
   "execution_count": 172,
   "metadata": {},
   "outputs": [
    {
     "data": {
      "text/html": [
       "<div>\n",
       "<style scoped>\n",
       "    .dataframe tbody tr th:only-of-type {\n",
       "        vertical-align: middle;\n",
       "    }\n",
       "\n",
       "    .dataframe tbody tr th {\n",
       "        vertical-align: top;\n",
       "    }\n",
       "\n",
       "    .dataframe thead th {\n",
       "        text-align: right;\n",
       "    }\n",
       "</style>\n",
       "<table border=\"1\" class=\"dataframe\">\n",
       "  <thead>\n",
       "    <tr style=\"text-align: right;\">\n",
       "      <th></th>\n",
       "      <th>screen_name</th>\n",
       "      <th>degree_centrality</th>\n",
       "    </tr>\n",
       "  </thead>\n",
       "  <tbody>\n",
       "    <tr>\n",
       "      <th>1</th>\n",
       "      <td>hhbacigalupo</td>\n",
       "      <td>0.208333</td>\n",
       "    </tr>\n",
       "    <tr>\n",
       "      <th>12</th>\n",
       "      <td>NOTIELMOMENTO</td>\n",
       "      <td>0.178571</td>\n",
       "    </tr>\n",
       "    <tr>\n",
       "      <th>7</th>\n",
       "      <td>casidi13243</td>\n",
       "      <td>0.176587</td>\n",
       "    </tr>\n",
       "    <tr>\n",
       "      <th>4</th>\n",
       "      <td>mpauta</td>\n",
       "      <td>0.174603</td>\n",
       "    </tr>\n",
       "    <tr>\n",
       "      <th>17</th>\n",
       "      <td>Rockmanita</td>\n",
       "      <td>0.168651</td>\n",
       "    </tr>\n",
       "  </tbody>\n",
       "</table>\n",
       "</div>"
      ],
      "text/plain": [
       "      screen_name  degree_centrality\n",
       "1    hhbacigalupo           0.208333\n",
       "12  NOTIELMOMENTO           0.178571\n",
       "7     casidi13243           0.176587\n",
       "4          mpauta           0.174603\n",
       "17     Rockmanita           0.168651"
      ]
     },
     "metadata": {},
     "output_type": "display_data"
    },
    {
     "data": {
      "text/html": [
       "<div>\n",
       "<style scoped>\n",
       "    .dataframe tbody tr th:only-of-type {\n",
       "        vertical-align: middle;\n",
       "    }\n",
       "\n",
       "    .dataframe tbody tr th {\n",
       "        vertical-align: top;\n",
       "    }\n",
       "\n",
       "    .dataframe thead th {\n",
       "        text-align: right;\n",
       "    }\n",
       "</style>\n",
       "<table border=\"1\" class=\"dataframe\">\n",
       "  <thead>\n",
       "    <tr style=\"text-align: right;\">\n",
       "      <th></th>\n",
       "      <th>screen_name</th>\n",
       "      <th>degree_centrality</th>\n",
       "    </tr>\n",
       "  </thead>\n",
       "  <tbody>\n",
       "    <tr>\n",
       "      <th>7</th>\n",
       "      <td>None</td>\n",
       "      <td>0.441509</td>\n",
       "    </tr>\n",
       "    <tr>\n",
       "      <th>105</th>\n",
       "      <td>canalN_</td>\n",
       "      <td>0.015094</td>\n",
       "    </tr>\n",
       "    <tr>\n",
       "      <th>83</th>\n",
       "      <td>SolCn</td>\n",
       "      <td>0.005031</td>\n",
       "    </tr>\n",
       "    <tr>\n",
       "      <th>400</th>\n",
       "      <td>CesarNakazaki</td>\n",
       "      <td>0.005031</td>\n",
       "    </tr>\n",
       "    <tr>\n",
       "      <th>448</th>\n",
       "      <td>IDL_R</td>\n",
       "      <td>0.003774</td>\n",
       "    </tr>\n",
       "  </tbody>\n",
       "</table>\n",
       "</div>"
      ],
      "text/plain": [
       "       screen_name  degree_centrality\n",
       "7             None           0.441509\n",
       "105        canalN_           0.015094\n",
       "83           SolCn           0.005031\n",
       "400  CesarNakazaki           0.005031\n",
       "448          IDL_R           0.003774"
      ]
     },
     "metadata": {},
     "output_type": "display_data"
    }
   ],
   "source": [
    "column_names = ['screen_name', 'degree_centrality']\n",
    "rt_centrality = nx.in_degree_centrality(G_rt)\n",
    "\n",
    "reply_centrality = nx.in_degree_centrality(G_reply)\n",
    "\n",
    "rt = pd.DataFrame(list(rt_centrality.items()), columns = column_names)\n",
    "reply = pd.DataFrame(list(reply_centrality.items()), columns = column_names)\n",
    "\n",
    "display(rt.sort_values('degree_centrality', ascending = False).head())\n",
    "\n",
    "display(reply.sort_values('degree_centrality', ascending = False).head())"
   ]
  },
  {
   "cell_type": "code",
   "execution_count": 171,
   "metadata": {},
   "outputs": [
    {
     "data": {
      "text/html": [
       "<div>\n",
       "<style scoped>\n",
       "    .dataframe tbody tr th:only-of-type {\n",
       "        vertical-align: middle;\n",
       "    }\n",
       "\n",
       "    .dataframe tbody tr th {\n",
       "        vertical-align: top;\n",
       "    }\n",
       "\n",
       "    .dataframe thead th {\n",
       "        text-align: right;\n",
       "    }\n",
       "</style>\n",
       "<table border=\"1\" class=\"dataframe\">\n",
       "  <thead>\n",
       "    <tr style=\"text-align: right;\">\n",
       "      <th></th>\n",
       "      <th>screen_name</th>\n",
       "      <th>betweenness_centrality</th>\n",
       "    </tr>\n",
       "  </thead>\n",
       "  <tbody>\n",
       "    <tr>\n",
       "      <th>12</th>\n",
       "      <td>NOTIELMOMENTO</td>\n",
       "      <td>0.004589</td>\n",
       "    </tr>\n",
       "    <tr>\n",
       "      <th>27</th>\n",
       "      <td>FedericoClemen8</td>\n",
       "      <td>0.004563</td>\n",
       "    </tr>\n",
       "    <tr>\n",
       "      <th>10</th>\n",
       "      <td>marioporlavida</td>\n",
       "      <td>0.003482</td>\n",
       "    </tr>\n",
       "    <tr>\n",
       "      <th>17</th>\n",
       "      <td>Rockmanita</td>\n",
       "      <td>0.003354</td>\n",
       "    </tr>\n",
       "    <tr>\n",
       "      <th>1</th>\n",
       "      <td>hhbacigalupo</td>\n",
       "      <td>0.003119</td>\n",
       "    </tr>\n",
       "  </tbody>\n",
       "</table>\n",
       "</div>"
      ],
      "text/plain": [
       "        screen_name  betweenness_centrality\n",
       "12    NOTIELMOMENTO                0.004589\n",
       "27  FedericoClemen8                0.004563\n",
       "10   marioporlavida                0.003482\n",
       "17       Rockmanita                0.003354\n",
       "1      hhbacigalupo                0.003119"
      ]
     },
     "metadata": {},
     "output_type": "display_data"
    },
    {
     "data": {
      "text/html": [
       "<div>\n",
       "<style scoped>\n",
       "    .dataframe tbody tr th:only-of-type {\n",
       "        vertical-align: middle;\n",
       "    }\n",
       "\n",
       "    .dataframe tbody tr th {\n",
       "        vertical-align: top;\n",
       "    }\n",
       "\n",
       "    .dataframe thead th {\n",
       "        text-align: right;\n",
       "    }\n",
       "</style>\n",
       "<table border=\"1\" class=\"dataframe\">\n",
       "  <thead>\n",
       "    <tr style=\"text-align: right;\">\n",
       "      <th></th>\n",
       "      <th>screen_name</th>\n",
       "      <th>betweenness_centrality</th>\n",
       "    </tr>\n",
       "  </thead>\n",
       "  <tbody>\n",
       "    <tr>\n",
       "      <th>413</th>\n",
       "      <td>mindreaux</td>\n",
       "      <td>0.000003</td>\n",
       "    </tr>\n",
       "    <tr>\n",
       "      <th>442</th>\n",
       "      <td>famasem</td>\n",
       "      <td>0.000003</td>\n",
       "    </tr>\n",
       "    <tr>\n",
       "      <th>405</th>\n",
       "      <td>Ldavidesc</td>\n",
       "      <td>0.000002</td>\n",
       "    </tr>\n",
       "    <tr>\n",
       "      <th>0</th>\n",
       "      <td>geriitx</td>\n",
       "      <td>0.000000</td>\n",
       "    </tr>\n",
       "    <tr>\n",
       "      <th>526</th>\n",
       "      <td>rolo18al</td>\n",
       "      <td>0.000000</td>\n",
       "    </tr>\n",
       "  </tbody>\n",
       "</table>\n",
       "</div>"
      ],
      "text/plain": [
       "    screen_name  betweenness_centrality\n",
       "413   mindreaux                0.000003\n",
       "442     famasem                0.000003\n",
       "405   Ldavidesc                0.000002\n",
       "0       geriitx                0.000000\n",
       "526    rolo18al                0.000000"
      ]
     },
     "metadata": {},
     "output_type": "display_data"
    }
   ],
   "source": [
    "column_names = ['screen_name', 'betweenness_centrality']\n",
    "# Generate betweenness centrality for retweets \n",
    "rt_centrality = nx.betweenness_centrality(G_rt)\n",
    "\n",
    "# Generate betweenness centrality for replies \n",
    "reply_centrality = nx.betweenness_centrality(G_reply)\n",
    "\n",
    "# Store centralities in data frames\n",
    "rt = pd.DataFrame(list(rt_centrality.items()), columns = column_names)\n",
    "reply = pd.DataFrame(list(reply_centrality.items()), columns = column_names)\n",
    "\n",
    "# Print first five results in descending order of centrality\n",
    "display(rt.sort_values('betweenness_centrality', ascending = False).head())\n",
    "\n",
    "# Print first five results in descending order of centrality\n",
    "display(reply.sort_values('betweenness_centrality', ascending = False).head())"
   ]
  },
  {
   "cell_type": "code",
   "execution_count": 174,
   "metadata": {},
   "outputs": [
    {
     "data": {
      "text/html": [
       "<div>\n",
       "<style scoped>\n",
       "    .dataframe tbody tr th:only-of-type {\n",
       "        vertical-align: middle;\n",
       "    }\n",
       "\n",
       "    .dataframe tbody tr th {\n",
       "        vertical-align: top;\n",
       "    }\n",
       "\n",
       "    .dataframe thead th {\n",
       "        text-align: right;\n",
       "    }\n",
       "</style>\n",
       "<table border=\"1\" class=\"dataframe\">\n",
       "  <thead>\n",
       "    <tr style=\"text-align: right;\">\n",
       "      <th></th>\n",
       "      <th>screen_name</th>\n",
       "      <th>degree_rt</th>\n",
       "      <th>degree_reply</th>\n",
       "      <th>ratio</th>\n",
       "    </tr>\n",
       "  </thead>\n",
       "  <tbody>\n",
       "    <tr>\n",
       "      <th>1</th>\n",
       "      <td>hhbacigalupo</td>\n",
       "      <td>105</td>\n",
       "      <td>0</td>\n",
       "      <td>0.0</td>\n",
       "    </tr>\n",
       "    <tr>\n",
       "      <th>4</th>\n",
       "      <td>mpauta</td>\n",
       "      <td>88</td>\n",
       "      <td>0</td>\n",
       "      <td>0.0</td>\n",
       "    </tr>\n",
       "    <tr>\n",
       "      <th>7</th>\n",
       "      <td>casidi13243</td>\n",
       "      <td>89</td>\n",
       "      <td>0</td>\n",
       "      <td>0.0</td>\n",
       "    </tr>\n",
       "    <tr>\n",
       "      <th>10</th>\n",
       "      <td>marioporlavida</td>\n",
       "      <td>82</td>\n",
       "      <td>0</td>\n",
       "      <td>0.0</td>\n",
       "    </tr>\n",
       "    <tr>\n",
       "      <th>12</th>\n",
       "      <td>NOTIELMOMENTO</td>\n",
       "      <td>90</td>\n",
       "      <td>0</td>\n",
       "      <td>0.0</td>\n",
       "    </tr>\n",
       "  </tbody>\n",
       "</table>\n",
       "</div>"
      ],
      "text/plain": [
       "       screen_name  degree_rt  degree_reply  ratio\n",
       "1     hhbacigalupo        105             0    0.0\n",
       "4           mpauta         88             0    0.0\n",
       "7      casidi13243         89             0    0.0\n",
       "10  marioporlavida         82             0    0.0\n",
       "12   NOTIELMOMENTO         90             0    0.0"
      ]
     },
     "metadata": {},
     "output_type": "display_data"
    }
   ],
   "source": [
    "column_names = ['screen_name', 'degree']\n",
    "\n",
    "degree_rt = pd.DataFrame(list(G_rt.in_degree()), columns = column_names)\n",
    "degree_reply = pd.DataFrame(list(G_reply.in_degree()), columns = column_names)\n",
    "\n",
    "ratio = degree_rt.merge(degree_reply, on = 'screen_name', suffixes = ('_rt', '_reply'))\n",
    "\n",
    "ratio['ratio'] = ratio['degree_reply'] / ratio['degree_rt']\n",
    "\n",
    "ratio = ratio[ratio['degree_rt'] >= 5]\n",
    "\n",
    "display(ratio.sort_values('ratio', ascending = False).head())"
   ]
  },
  {
   "cell_type": "code",
   "execution_count": null,
   "metadata": {},
   "outputs": [],
   "source": []
  }
 ],
 "metadata": {
  "kernelspec": {
   "display_name": "Python 3",
   "language": "python",
   "name": "python3"
  },
  "language_info": {
   "codemirror_mode": {
    "name": "ipython",
    "version": 3
   },
   "file_extension": ".py",
   "mimetype": "text/x-python",
   "name": "python",
   "nbconvert_exporter": "python",
   "pygments_lexer": "ipython3",
   "version": "3.6.7"
  }
 },
 "nbformat": 4,
 "nbformat_minor": 2
}
