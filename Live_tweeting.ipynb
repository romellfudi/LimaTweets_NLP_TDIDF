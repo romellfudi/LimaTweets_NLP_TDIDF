{
  "nbformat": 4,
  "nbformat_minor": 0,
  "metadata": {
    "kernelspec": {
      "display_name": "Python 3",
      "language": "python",
      "name": "python3"
    },
    "language_info": {
      "codemirror_mode": {
        "name": "ipython",
        "version": 3
      },
      "file_extension": ".py",
      "mimetype": "text/x-python",
      "name": "python",
      "nbconvert_exporter": "python",
      "pygments_lexer": "ipython3",
      "version": "3.6.7"
    },
    "colab": {
      "name": "Live tweeting.ipynb",
      "provenance": [],
      "collapsed_sections": [],
      "toc_visible": true
    }
  },
  "cells": [
    {
      "cell_type": "code",
      "metadata": {
        "id": "3lyBiqUTGq-Y",
        "cellView": "form",
        "outputId": "d43b0f44-2a44-4ffc-d703-543739b340e8",
        "colab": {
          "base_uri": "https://localhost:8080/",
          "height": 204
        }
      },
      "source": [
        "#@title @Author and building @date\n",
        "!pip install watermark\n",
        "%load_ext watermark\n",
        "from IPython.display import clear_output;clear_output()\n",
        "%watermark -a \"Romell D.Z.\" -u -d -p tweepy,scipy,nltk,gensim,sklearn,networkx,textblob,spacy"
      ],
      "execution_count": null,
      "outputs": [
        {
          "output_type": "stream",
          "text": [
            "Romell D.Z. \n",
            "last updated: 2020-10-09 \n",
            "\n",
            "tweepy 3.6.0\n",
            "scipy 1.4.1\n",
            "nltk 3.2.5\n",
            "gensim 3.6.0\n",
            "sklearn 0.0\n",
            "networkx 2.5\n",
            "textblob 0.15.3\n",
            "spacy 2.2.4\n"
          ],
          "name": "stdout"
        }
      ]
    },
    {
      "cell_type": "code",
      "metadata": {
        "id": "aQe_NEVKHmlN",
        "cellView": "form"
      },
      "source": [
        "#@title Parameters\n",
        "KEYWORD='podemos' #@param {type: \"string\"}\n",
        "#@title \n",
        "NUMBER_OF_TWEETS = 250  #@param {type: \"slider\", min: 250, max: 5000, step:250}\n",
        "language = \"es\" #@param [\"es\", \"en\"] {allow-input: false}\n",
        "GEO_LOCATION_BOUNDING_BOX = [-82.1,-18.4,-68.3,-3.1] #@param {type: \"string\"}"
      ],
      "execution_count": null,
      "outputs": []
    },
    {
      "cell_type": "code",
      "metadata": {
        "id": "_wIAMCKgl2al",
        "cellView": "form"
      },
      "source": [
        "#@title Insert your gist which contains .netrc\n",
        "%%capture\n",
        "gist = '' #@param {type: \"string\"}\n",
        "!wget https://gist.githubusercontent.com/romellfudi/{gist}/raw/.netrc\n",
        "file = \".netrc\" if os.path.isfile(\".netrc\") else None\n",
        "auth = netrc.netrc(file)\n",
        "ckey,_,csecret=auth.authenticators('tweet_api')\n",
        "atoken,_,asecret=auth.authenticators('tweet_secret')"
      ],
      "execution_count": null,
      "outputs": []
    },
    {
      "cell_type": "code",
      "metadata": {
        "id": "7HkqhZMUGq-j",
        "cellView": "form"
      },
      "source": [
        "#@title Load libraries\n",
        "%%capture\n",
        "!pip install unidecode pyLDAvis pyprind networkx advertools\n",
        "!pip install deplacy\n",
        "if language == 'en':\n",
        "  !python -m spacy download en_core_web_sm\n",
        "else:\n",
        "  !python -m spacy download es_core_news_sm\n",
        "!mkdir snapshot/\n",
        "import os\n",
        "import tweepy\n",
        "from tweepy import Stream\n",
        "import netrc\n",
        "from unidecode import unidecode\n",
        "import re\n",
        "from tweepy import StreamListener\n",
        "from pprint import pprint\n",
        "import pyprind\n",
        "import pandas as pd\n",
        "import random\n",
        "from scipy.stats import beta as beta_distribution\n",
        "import numpy as np\n",
        "from textblob import TextBlob\n",
        "from nltk.corpus import stopwords \n",
        "from nltk import word_tokenize\n",
        "from nltk.data import load\n",
        "from nltk.stem import SnowballStemmer\n",
        "from nltk.stem.wordnet import WordNetLemmatizer\n",
        "import string\n",
        "import gensim\n",
        "from gensim import corpora\n",
        "\n",
        "import pyLDAvis\n",
        "import pyLDAvis.gensim  # don't skip this\n",
        "\n",
        "from gensim.models.ldamodel import LdaModel\n",
        "from string import punctuation\n",
        "from sklearn.feature_extraction.text import CountVectorizer\n",
        "\n",
        "from sklearn.pipeline import Pipeline\n",
        "from sklearn.svm import LinearSVC\n",
        "from sklearn.model_selection import GridSearchCV\n",
        "from textblob import Word\n",
        "from textblob import TextBlob\n",
        "from sklearn.feature_extraction.text import TfidfVectorizer\n",
        "\n",
        "from sklearn.manifold import TSNE\n",
        "import matplotlib.pyplot as plt\n",
        "import advertools as adv\n",
        "import networkx as nx\n",
        "import warnings\n",
        "warnings.simplefilter('ignore')\n",
        "import pkg_resources,imp\n",
        "imp.reload(pkg_resources)\n",
        "import spacy\n",
        "from spacy import displacy\n",
        "if language == 'en':\n",
        "  nlp = spacy.load('en_core_web_sm') \n",
        "else:\n",
        "  nlp = spacy.load('es_core_news_sm')\n",
        "nltk.download('punkt')\n",
        "%matplotlib inline\n",
        "# from textblob import TextBlob\n",
        "# TextBlob(\"bonjour esto es una 我 它\").detect_language()"
      ],
      "execution_count": null,
      "outputs": []
    },
    {
      "cell_type": "markdown",
      "metadata": {
        "id": "NQwcnzYmGq-p"
      },
      "source": [
        "# [BoundingBox](https://boundingbox.klokantech.com/) CSV RAW"
      ]
    },
    {
      "cell_type": "code",
      "metadata": {
        "id": "WdhD7uzcGq-p"
      },
      "source": [
        "auth = tweepy.OAuthHandler(ckey, csecret)\n",
        "auth.set_access_token(atoken, asecret)\n",
        "api = tweepy.API(auth)"
      ],
      "execution_count": null,
      "outputs": []
    },
    {
      "cell_type": "code",
      "metadata": {
        "id": "4YW2y9MKGq-4"
      },
      "source": [
        "class FiniteStreamListener(StreamListener):\n",
        "    \n",
        "    def __init__(self, number_of_tweets):\n",
        "        self.number_of_tweets = number_of_tweets\n",
        "        self.tweets = []\n",
        "        self.tweets_dict = []\n",
        "        pbar = pyprind.ProgBar(number_of_tweets)\n",
        "        super(FiniteStreamListener,self).__init__()\n",
        "        \n",
        "    def on_status(self, status):\n",
        "        if len(self.tweets) < self.number_of_tweets:\n",
        "            # if TextBlob(status.text).detect_language() == 'es':\n",
        "            self.tweets_dict.append(status._json)\n",
        "            place = status._json['place']['name'] if(status._json['place']) else \"\"\n",
        "            self.tweets.append({'date':status.created_at,\n",
        "                                'text':status.text,\n",
        "                                'location':place,\n",
        "                                'followers':status._json['user']['followers_count']})\n",
        "            pbar.update()\n",
        "        else:\n",
        "            return False"
      ],
      "execution_count": null,
      "outputs": []
    },
    {
      "cell_type": "code",
      "metadata": {
        "id": "B4Jo4Pw6Gq-7"
      },
      "source": [
        "finite_stream_listener = FiniteStreamListener(number_of_tweets=NUMBER_OF_TWEETS)\n",
        "streaming_api = Stream(auth=auth, listener=finite_stream_listener,timeout=5) #60"
      ],
      "execution_count": null,
      "outputs": []
    },
    {
      "cell_type": "markdown",
      "metadata": {
        "id": "RVqBos_wGq-_"
      },
      "source": [
        "### The streaming API doesn't allow to filter by location AND keyword simultaneously."
      ]
    },
    {
      "cell_type": "code",
      "metadata": {
        "id": "QK5z4Ou3Gq-_"
      },
      "source": [
        "finite_stream_listener.tweets = []\n",
        "EMOTICONS = \">:] :-) :) :o) :] :3 :c) :> =] 8) =) :} :^) \"\n",
        "EMOTICONS = EMOTICONS.strip().split(' ')\n",
        "# streaming_api.filter(track=EMOTICONS,languages=[language],async=True)\n",
        "# streaming_api.filter(locations=GEO_LOCATION_BOUNDING_BOX,languages=[language],async=True)\n",
        "streaming_api.filter(locations=GEO_LOCATION_BOUNDING_BOX,track=EMOTICONS, languages=[language],async=True)"
      ],
      "execution_count": null,
      "outputs": []
    },
    {
      "cell_type": "code",
      "metadata": {
        "id": "-Kuo8f7eMycB",
        "outputId": "93576c5d-e218-4cca-e3cc-71bed9c83060",
        "colab": {
          "base_uri": "https://localhost:8080/",
          "height": 68
        }
      },
      "source": [
        "print(len(finite_stream_listener.tweets))\n",
        "# 0% [##############################] 100% | ETA: 00:00:00\n",
        "# Total time elapsed: 01:05:42 \n",
        "random.sample([t['text']  for t in finite_stream_listener.tweets],2)"
      ],
      "execution_count": null,
      "outputs": [
        {
          "output_type": "stream",
          "text": [
            "200\n"
          ],
          "name": "stdout"
        },
        {
          "output_type": "execute_result",
          "data": {
            "text/plain": [
              "['RT @ghwtss__: en fin, orgullosa de que esto pasó en Perú :) https://t.co/vSguM7Znti',\n",
              " 'RT @sheila_Corzo: Quiero amigos de twitter :) digan hola.\\U0001f97a']"
            ]
          },
          "metadata": {
            "tags": []
          },
          "execution_count": 65
        }
      ]
    },
    {
      "cell_type": "code",
      "metadata": {
        "id": "kVQU0KViGq_N"
      },
      "source": [
        "np.save('tweets_dict',finite_stream_listener.tweets_dict)"
      ],
      "execution_count": null,
      "outputs": []
    },
    {
      "cell_type": "code",
      "metadata": {
        "id": "HkstNvrtGq_Q"
      },
      "source": [
        "def make_lowercase(tweet):\n",
        "    return tweet.lower()\n",
        "\n",
        "def remove_diacritics(tweet):\n",
        "    return unidecode(tweet)\n",
        "\n",
        "def remove_non_alpha_characters(tweet):\n",
        "    return ''.join(character for character in tweet if character.isalpha() or character == ' ')\n",
        "\n",
        "def remove_web_site(tweet):\n",
        "    return re.sub(r'http\\w+', '', tweet)#, flags=re.MULTILINE)"
      ],
      "execution_count": null,
      "outputs": []
    },
    {
      "cell_type": "code",
      "metadata": {
        "id": "t-8gwW6SGq_T"
      },
      "source": [
        "tweets_df = pd.DataFrame.from_dict(finite_stream_listener.tweets)\n",
        "tweets_df.rename(columns={'text':'Tweets'},inplace=True)"
      ],
      "execution_count": null,
      "outputs": []
    },
    {
      "cell_type": "code",
      "metadata": {
        "id": "CcQmFTC7Gq_V"
      },
      "source": [
        "tweets_df['word_count'] = tweets_df['Tweets'].apply(lambda x: len(str(x).split(\" \")))\n",
        "tweets_df['char_count'] = tweets_df['Tweets'].str.len()\n",
        "\n",
        "def avg_word(sentence):\n",
        "    words = sentence.split()\n",
        "    return (sum(len(word) for word in words)/len(words))\n",
        "\n",
        "tweets_df['avg_word'] = tweets_df['Tweets'].apply(lambda x: avg_word(x))\n",
        "tweets_df['hastags'] = tweets_df['Tweets'].apply(lambda x: len([x for x in x.split() if x.startswith('#')]))\n",
        "tweets_df['numerics'] = tweets_df['Tweets'].apply(lambda x: len([x for x in x.split() if x.isdigit()]))"
      ],
      "execution_count": null,
      "outputs": []
    },
    {
      "cell_type": "code",
      "metadata": {
        "id": "DZHeGLcgGq_a"
      },
      "source": [
        "cleaned_tweets = list(tweets_df['Tweets'])\n",
        "for cleaning_function in \\\n",
        "    [make_lowercase, \n",
        "     remove_diacritics,\n",
        "     remove_non_alpha_characters,\n",
        "     remove_web_site]:\n",
        "    cleaned_tweets = [cleaning_function(tweet) for tweet in cleaned_tweets]"
      ],
      "execution_count": null,
      "outputs": []
    },
    {
      "cell_type": "code",
      "metadata": {
        "id": "jRBvHlfyGq_d",
        "outputId": "aa29d573-cb53-4341-fdd7-20d23807913d",
        "colab": {
          "base_uri": "https://localhost:8080/",
          "height": 68
        }
      },
      "source": [
        "random.sample(cleaned_tweets,3)"
      ],
      "execution_count": null,
      "outputs": [
        {
          "output_type": "execute_result",
          "data": {
            "text/plain": [
              "['lovelymink hola remi nos ensenaras a cocinar ',\n",
              " 'el pedo de acomodar eso  es que esta termina siendo la cena  ',\n",
              " 'tejadaguadalup pa mi sos la o ']"
            ]
          },
          "metadata": {
            "tags": []
          },
          "execution_count": 289
        }
      ]
    },
    {
      "cell_type": "code",
      "metadata": {
        "id": "DbdB1ODOkuEO",
        "outputId": "e0ce4822-89b0-4fca-a9f5-58d5747125b0",
        "colab": {
          "base_uri": "https://localhost:8080/",
          "height": 35
        }
      },
      "source": [
        "KEYWORD = make_lowercase(remove_diacritics(remove_non_alpha_characters(remove_web_site(KEYWORD))))\n",
        "KEYWORD"
      ],
      "execution_count": null,
      "outputs": [
        {
          "output_type": "execute_result",
          "data": {
            "application/vnd.google.colaboratory.intrinsic+json": {
              "type": "string"
            },
            "text/plain": [
              "'podemos'"
            ]
          },
          "metadata": {
            "tags": []
          },
          "execution_count": 108
        }
      ]
    },
    {
      "cell_type": "code",
      "metadata": {
        "id": "zisW-O4bGq_g",
        "outputId": "1cd26ed3-a5ce-4cbc-a87e-c8a13dfd1f11",
        "colab": {
          "base_uri": "https://localhost:8080/",
          "height": 51
        }
      },
      "source": [
        "number_of_occurences = sum('peru' in tweet for tweet in cleaned_tweets)\n",
        "print('Nuestra palabra clave aparece: {} veces'.format(number_of_occurences))\n",
        "print('Nuestra palabra clave apareció en: {}% de los tweets'.format(100 * number_of_occurences/NUMBER_OF_TWEETS))"
      ],
      "execution_count": null,
      "outputs": [
        {
          "output_type": "stream",
          "text": [
            "Nuestra palabra clave aparece: 5 veces\n",
            "Nuestra palabra clave apareció en: 2.5% de los tweets\n"
          ],
          "name": "stdout"
        }
      ]
    },
    {
      "cell_type": "code",
      "metadata": {
        "id": "qo2z0PJ0Gq_j",
        "outputId": "144fca34-ca4c-4fac-b848-640dcc8566b2",
        "colab": {
          "base_uri": "https://localhost:8080/",
          "height": 119
        }
      },
      "source": [
        "pprint([tweet for tweet in cleaned_tweets if KEYWORD in tweet][:number_of_occurences//2+1])"
      ],
      "execution_count": null,
      "outputs": [
        {
          "output_type": "stream",
          "text": [
            "['rt romerotroll vamos amigoooos si podemos logra ese numero  canciones para '\n",
            " 'mi ex rt ',\n",
            " 'rt romerotroll vamos amigoooos si podemos logra ese numero  canciones para '\n",
            " 'mi ex rt ',\n",
            " 'rt romerotroll vamos amigoooos si podemos logra ese numero  canciones para '\n",
            " 'mi ex rt ']\n"
          ],
          "name": "stdout"
        }
      ]
    },
    {
      "cell_type": "code",
      "metadata": {
        "id": "5r_LrvUBGq_5",
        "outputId": "4ea63b9f-ef5d-466a-96f9-bd428927e569",
        "colab": {
          "base_uri": "https://localhost:8080/",
          "height": 34
        }
      },
      "source": [
        "indices_of_tweets_containing_keyword=[index for index, tweet in enumerate(cleaned_tweets) if KEYWORD in tweet]\n",
        "print('index de los 10 tweets:%s'%(indices_of_tweets_containing_keyword))"
      ],
      "execution_count": null,
      "outputs": [
        {
          "output_type": "stream",
          "text": [
            "index de los 10 tweets:[0, 2, 20, 22, 24, 30, 41, 65, 86, 116, 121, 130, 139, 148]\n"
          ],
          "name": "stdout"
        }
      ]
    },
    {
      "cell_type": "code",
      "metadata": {
        "id": "6TZPwnPhGq__"
      },
      "source": [
        "distances_between_indices_of_tweets_containing_keyword = [\n",
        "    second_index - first_index for first_index, second_index in \\\n",
        "        zip(indices_of_tweets_containing_keyword[:-1], indices_of_tweets_containing_keyword[1:])\n",
        "]"
      ],
      "execution_count": null,
      "outputs": []
    },
    {
      "cell_type": "code",
      "metadata": {
        "id": "PYv77BARGrAG",
        "outputId": "fb678f3b-9a12-447e-8ecf-506a6fc69714",
        "colab": {
          "base_uri": "https://localhost:8080/",
          "height": 265
        }
      },
      "source": [
        "pd.Series(distances_between_indices_of_tweets_containing_keyword).hist()\n",
        "plt.savefig('snapshot/lima_tweets_hist.png')"
      ],
      "execution_count": null,
      "outputs": [
        {
          "output_type": "display_data",
          "data": {
            "image/png": "[encoded data removed]",
            "text/plain": [
              "<Figure size 432x288 with 1 Axes>"
            ]
          },
          "metadata": {
            "tags": [],
            "needs_background": "light"
          }
        }
      ]
    },
    {
      "cell_type": "code",
      "metadata": {
        "id": "9NE14naYGrAM"
      },
      "source": [
        "alpha = 1 + number_of_occurences\n",
        "beta = 1 + (NUMBER_OF_TWEETS - number_of_occurences)\n",
        "\n",
        "x_values = np.linspace(0, 1, 1002)[1:-1]\n",
        "pdf_y_values = beta_distribution(alpha, beta).pdf(x_values)\n",
        "cdf_y_values = np.cumsum(pdf_y_values) / np.sum(pdf_y_values)"
      ],
      "execution_count": null,
      "outputs": []
    },
    {
      "cell_type": "code",
      "metadata": {
        "id": "pwon85MZGrAS",
        "outputId": "1d2ce622-bad8-424d-e2a9-ef1aa3dd1fce",
        "colab": {
          "base_uri": "https://localhost:8080/",
          "height": 404
        }
      },
      "source": [
        "plt.figure(figsize=(18, 6))\n",
        "plt.subplot(121)\n",
        "plt.plot(x_values, pdf_y_values, label=(r'$\\alpha=%.1f,\\ \\beta=%.1f$' % (alpha, beta)))\n",
        "\n",
        "plt.xlim(0, 1)\n",
        "plt.xlabel('Probability of tweet containing keyword')\n",
        "plt.ylabel('Probability density')\n",
        "plt.title('Beta Distribution PDF')\n",
        "plt.legend(loc=1)\n",
        "\n",
        "plt.subplot(122)\n",
        "plt.plot(x_values, cdf_y_values)\n",
        "plt.xlim(0, 1)\n",
        "plt.ylim(0, 1.005)\n",
        "plt.yticks(np.linspace(0, 1, 21))\n",
        "plt.xlabel('Probability of tweet containing keyword')\n",
        "plt.ylabel('Cumulative probability')\n",
        "plt.title('Beta Distribution CDF')\n",
        "plt.savefig('snapshot/Beta Distribution CDF.png');"
      ],
      "execution_count": null,
      "outputs": [
        {
          "output_type": "display_data",
          "data": {
            "image/png": "[encoded data removed]",
            "text/plain": [
              "<Figure size 1296x432 with 2 Axes>"
            ]
          },
          "metadata": {
            "tags": [],
            "needs_background": "light"
          }
        }
      ]
    },
    {
      "cell_type": "code",
      "metadata": {
        "id": "17S1ekByGrAX"
      },
      "source": [
        "ix = [n for n,b in enumerate((cdf_y_values>.5)&(cdf_y_values<.95)) if b]"
      ],
      "execution_count": null,
      "outputs": []
    },
    {
      "cell_type": "code",
      "metadata": {
        "id": "_TrWznl_GrAb"
      },
      "source": [
        "range_ =cdf_y_values[ix]"
      ],
      "execution_count": null,
      "outputs": []
    },
    {
      "cell_type": "code",
      "metadata": {
        "id": "gjTYPbyoGrAh"
      },
      "source": [
        "a=np.c_[x_values[ix],cdf_y_values[ix]]\n",
        "max_ix,_ = np.unravel_index(a.argmax(), a.shape)\n",
        "min_ix,_ = np.unravel_index(a.argmin(), a.shape)\n",
        "fifth_percentile, ninety_fifth_percentile = x_values[max_ix],x_values[min_ix]"
      ],
      "execution_count": null,
      "outputs": []
    },
    {
      "cell_type": "code",
      "metadata": {
        "id": "fXPKRlrgGrAr",
        "outputId": "ad9a4588-fc26-4487-8b2c-00822faf73e4",
        "colab": {
          "base_uri": "https://localhost:8080/",
          "height": 34
        }
      },
      "source": [
        "print('Con 90% de certeza digamos que la verdadera probabilidad se encuentra entre: {} y {}'.format(\n",
        "    round(fifth_percentile, 10), round(ninety_fifth_percentile, 10)))"
      ],
      "execution_count": null,
      "outputs": [
        {
          "output_type": "stream",
          "text": [
            "Con 90% de certeza digamos que la verdadera probabilidad se encuentra entre: 0.023976024 y 0.000999001\n"
          ],
          "name": "stdout"
        }
      ]
    },
    {
      "cell_type": "code",
      "metadata": {
        "id": "dCK4CLU9GrAw",
        "outputId": "18877da0-99a0-40f5-dcde-e55b29c62e07",
        "colab": {
          "base_uri": "https://localhost:8080/",
          "height": 34
        }
      },
      "source": [
        "def compute_total_probability_that_probability_less_than_p(p):\n",
        "    return max(cumulative_prob for cumulative_prob, x_value in zip(cdf_y_values, x_values) if x_value < p)\n",
        "\n",
        "print('La probabilidad que la verdadera probabilidad es > .1 es: {}'.format(\n",
        "    1 - compute_total_probability_that_probability_less_than_p(.1)))"
      ],
      "execution_count": null,
      "outputs": [
        {
          "output_type": "stream",
          "text": [
            "La probabilidad que la verdadera probabilidad es > .1 es: 3.328883511244385e-05\n"
          ],
          "name": "stdout"
        }
      ]
    },
    {
      "cell_type": "code",
      "metadata": {
        "id": "NQwp8QP1pPpb"
      },
      "source": [
        "tweets_has_location_df = tweets_df[tweets_df['location']!='']"
      ],
      "execution_count": null,
      "outputs": []
    },
    {
      "cell_type": "code",
      "metadata": {
        "id": "DQ9ECRsdGrA1",
        "outputId": "97bce4f1-8b45-4b42-c3a4-ac39c8416293",
        "colab": {
          "base_uri": "https://localhost:8080/",
          "height": 297
        }
      },
      "source": [
        "tweets_has_location_df.value_counts(subset=['location'],ascending=True).plot(kind='barh')\n",
        "plt.title('Most Frequent locations')\n",
        "plt.xlabel('Cantidad')\n",
        "plt.tight_layout()\n",
        "plt.savefig('snapshot/most Frequent locations.png');"
      ],
      "execution_count": null,
      "outputs": [
        {
          "output_type": "display_data",
          "data": {
            "image/png": "[encoded data removed]",
            "text/plain": [
              "<Figure size 432x288 with 1 Axes>"
            ]
          },
          "metadata": {
            "tags": [],
            "needs_background": "light"
          }
        }
      ]
    },
    {
      "cell_type": "code",
      "metadata": {
        "id": "7uftv9GkGrBK"
      },
      "source": [
        "tweets_df.to_csv('lima_tweets.csv',index=None)\n",
        "tweets_has_location_df.to_csv('lima_tweets_location.csv',index=None)"
      ],
      "execution_count": null,
      "outputs": []
    },
    {
      "cell_type": "code",
      "metadata": {
        "id": "EFeMp4-OGrBM"
      },
      "source": [
        "tweets_df = pd.read_csv('lima_tweets.csv')\n",
        "tweets_has_location_df = pd.read_csv('lima_tweets_location.csv')"
      ],
      "execution_count": null,
      "outputs": []
    },
    {
      "cell_type": "code",
      "metadata": {
        "id": "qwmkja1aGrBP",
        "outputId": "02bf116c-f439-4ab3-e570-82caf367109d",
        "colab": {
          "base_uri": "https://localhost:8080/",
          "height": 85
        }
      },
      "source": [
        "import nltk\n",
        "nltk.download('stopwords')\n",
        "nltk.download('wordnet')\n",
        "stop = stopwords.words('spanish') "
      ],
      "execution_count": null,
      "outputs": [
        {
          "output_type": "stream",
          "text": [
            "[nltk_data] Downloading package stopwords to /root/nltk_data...\n",
            "[nltk_data]   Unzipping corpora/stopwords.zip.\n",
            "[nltk_data] Downloading package wordnet to /root/nltk_data...\n",
            "[nltk_data]   Unzipping corpora/wordnet.zip.\n"
          ],
          "name": "stdout"
        }
      ]
    },
    {
      "cell_type": "code",
      "metadata": {
        "id": "JedRxzniGrBS"
      },
      "source": [
        "doc_complete = tweets_df.Tweets.values\n",
        "exclude = set(string.punctuation) \n",
        "lemma = WordNetLemmatizer()\n",
        "def clean(doc):\n",
        "    stop_free = \" \".join([i for i in doc.lower().split() if i not in stop])\n",
        "    punc_free = ''.join(ch for ch in stop_free if ch not in exclude)\n",
        "    normalized = \" \".join(lemma.lemmatize(word) for word in punc_free.split())\n",
        "    return normalized\n",
        "\n",
        "doc_clean = [clean(doc).split() for doc in doc_complete]   \n",
        "tweets_df.dropna(inplace=True)"
      ],
      "execution_count": null,
      "outputs": []
    },
    {
      "cell_type": "code",
      "metadata": {
        "id": "rtatm1ZEGrBU"
      },
      "source": [
        "tweets_df['Tweets_clean'] = pd.Series(doc_clean).apply(lambda x:' '.join(x))\n",
        "tweets_df['word_count'] = tweets_df['Tweets_clean'].apply(lambda x: len(str(x).split(\" \")))\n",
        "tweets_df['char_count'] = tweets_df['Tweets_clean'].str.len()"
      ],
      "execution_count": null,
      "outputs": []
    },
    {
      "cell_type": "code",
      "metadata": {
        "id": "HXsnnCa6GrBW",
        "outputId": "92409e67-eb49-4038-e5fd-dea5d1d8406f",
        "colab": {
          "base_uri": "https://localhost:8080/",
          "height": 261
        }
      },
      "source": [
        "def avg_word(sentence):\n",
        "    words = sentence.split()\n",
        "    if len(words)==0:\n",
        "        return 0\n",
        "    return (sum(len(word) for word in words)/len(words))\n",
        "\n",
        "tweets_df['avg_word'] = tweets_df['Tweets_clean'].apply(lambda x: avg_word(x))\n",
        "tweets_df['hastags'] = tweets_df['Tweets'].apply(lambda x: len([x for x in x.split() if x.startswith('#')]))\n",
        "tweets_df['numerics'] = tweets_df['Tweets'].apply(lambda x: len([x for x in x.split() if x.isdigit()]))\n",
        "tweets_df.head(3)"
      ],
      "execution_count": null,
      "outputs": [
        {
          "output_type": "execute_result",
          "data": {
            "text/html": [
              "<div>\n",
              "<style scoped>\n",
              "    .dataframe tbody tr th:only-of-type {\n",
              "        vertical-align: middle;\n",
              "    }\n",
              "\n",
              "    .dataframe tbody tr th {\n",
              "        vertical-align: top;\n",
              "    }\n",
              "\n",
              "    .dataframe thead th {\n",
              "        text-align: right;\n",
              "    }\n",
              "</style>\n",
              "<table border=\"1\" class=\"dataframe\">\n",
              "  <thead>\n",
              "    <tr style=\"text-align: right;\">\n",
              "      <th></th>\n",
              "      <th>date</th>\n",
              "      <th>Tweets</th>\n",
              "      <th>location</th>\n",
              "      <th>followers</th>\n",
              "      <th>word_count</th>\n",
              "      <th>char_count</th>\n",
              "      <th>avg_word</th>\n",
              "      <th>hastags</th>\n",
              "      <th>numerics</th>\n",
              "      <th>Tweets_clean</th>\n",
              "    </tr>\n",
              "  </thead>\n",
              "  <tbody>\n",
              "    <tr>\n",
              "      <th>4</th>\n",
              "      <td>2020-10-09 04:11:20</td>\n",
              "      <td>Poco a poco todo se va acomodando</td>\n",
              "      <td>Santa Anita</td>\n",
              "      <td>170</td>\n",
              "      <td>2</td>\n",
              "      <td>13</td>\n",
              "      <td>6.000000</td>\n",
              "      <td>0</td>\n",
              "      <td>0</td>\n",
              "      <td>va acomodando</td>\n",
              "    </tr>\n",
              "    <tr>\n",
              "      <th>11</th>\n",
              "      <td>2020-10-09 04:11:25</td>\n",
              "      <td>Hay gente que han perdido la vergüenza, preten...</td>\n",
              "      <td>Jesús Maria</td>\n",
              "      <td>51</td>\n",
              "      <td>7</td>\n",
              "      <td>51</td>\n",
              "      <td>6.428571</td>\n",
              "      <td>0</td>\n",
              "      <td>0</td>\n",
              "      <td>gente perdido vergüenza pretender ser candidat...</td>\n",
              "    </tr>\n",
              "    <tr>\n",
              "      <th>12</th>\n",
              "      <td>2020-10-09 04:11:25</td>\n",
              "      <td>Éste Viernes de Sankirtana, nos visita Hanumat...</td>\n",
              "      <td>Lurigancho</td>\n",
              "      <td>401</td>\n",
              "      <td>14</td>\n",
              "      <td>116</td>\n",
              "      <td>7.357143</td>\n",
              "      <td>0</td>\n",
              "      <td>0</td>\n",
              "      <td>éste viernes sankirtana visita hanumat prana d...</td>\n",
              "    </tr>\n",
              "  </tbody>\n",
              "</table>\n",
              "</div>"
            ],
            "text/plain": [
              "                   date  ...                                       Tweets_clean\n",
              "4   2020-10-09 04:11:20  ...                                      va acomodando\n",
              "11  2020-10-09 04:11:25  ...  gente perdido vergüenza pretender ser candidat...\n",
              "12  2020-10-09 04:11:25  ...  éste viernes sankirtana visita hanumat prana d...\n",
              "\n",
              "[3 rows x 10 columns]"
            ]
          },
          "metadata": {
            "tags": []
          },
          "execution_count": 167
        }
      ]
    },
    {
      "cell_type": "code",
      "metadata": {
        "id": "JbKK0bseGrBa",
        "outputId": "c31bee2b-84fd-46ad-869b-abc785a6d0a3",
        "colab": {
          "base_uri": "https://localhost:8080/",
          "height": 297
        }
      },
      "source": [
        "freq = pd.Series(' '.join(tweets_df['Tweets_clean']).split()).value_counts()[:5]\n",
        "freq.plot(kind='barh')\n",
        "plt.title('Most Frequent words')\n",
        "plt.xlabel('Count')\n",
        "plt.tight_layout()\n",
        "plt.savefig('snapshot/most Frequent words.png');"
      ],
      "execution_count": null,
      "outputs": [
        {
          "output_type": "display_data",
          "data": {
            "image/png": "[encoded data removed]",
            "text/plain": [
              "<Figure size 432x288 with 1 Axes>"
            ]
          },
          "metadata": {
            "tags": [],
            "needs_background": "light"
          }
        }
      ]
    },
    {
      "cell_type": "code",
      "metadata": {
        "id": "xGq7C0LVGrBd",
        "outputId": "54d2b5cf-e01d-43b3-c7f3-babbd193edd5",
        "colab": {
          "base_uri": "https://localhost:8080/",
          "height": 68
        }
      },
      "source": [
        "pprint(tweets_df['Tweets_clean'][:2])"
      ],
      "execution_count": null,
      "outputs": [
        {
          "output_type": "stream",
          "text": [
            "4                                         va acomodando\n",
            "11    gente perdido vergüenza pretender ser candidat...\n",
            "Name: Tweets_clean, dtype: object\n"
          ],
          "name": "stdout"
        }
      ]
    },
    {
      "cell_type": "code",
      "metadata": {
        "id": "Fr2Zd6ReGrBf"
      },
      "source": [
        "dictionary = corpora.Dictionary(tweets_df['Tweets_clean'].apply(lambda x:x.split()))\n",
        "# Converting list of documents (corpus) into Document Term Matrix using dictionary prepared above.\n",
        "doc_term_matrix = [dictionary.doc2bow(doc) for doc in doc_clean]"
      ],
      "execution_count": null,
      "outputs": []
    },
    {
      "cell_type": "code",
      "metadata": {
        "id": "Cwvv6PmRGrBi",
        "outputId": "91f75786-bc53-461c-f57b-becad4394419",
        "colab": {
          "base_uri": "https://localhost:8080/",
          "height": 34
        }
      },
      "source": [
        "pprint(doc_term_matrix[:2])"
      ],
      "execution_count": null,
      "outputs": [
        {
          "output_type": "stream",
          "text": [
            "[[], [(86, 1)]]\n"
          ],
          "name": "stdout"
        }
      ]
    },
    {
      "cell_type": "code",
      "metadata": {
        "id": "hoxzAYYmGrBk"
      },
      "source": [
        "Lda = gensim.models.ldamodel.LdaModel\n",
        "ldamodel = Lda(doc_term_matrix, num_topics=3, id2word = dictionary, passes=50)"
      ],
      "execution_count": null,
      "outputs": []
    },
    {
      "cell_type": "code",
      "metadata": {
        "id": "yK9YfL5XGrBn",
        "outputId": "8767584f-98a2-40fb-b180-fd5b041097f0",
        "colab": {
          "base_uri": "https://localhost:8080/",
          "height": 68
        }
      },
      "source": [
        "from pprint import pprint\n",
        "pprint(ldamodel.print_topics(num_topics=3, num_words=3))"
      ],
      "execution_count": null,
      "outputs": [
        {
          "output_type": "stream",
          "text": [
            "[(0, '0.056*\"va\" + 0.056*\"da\" + 0.035*\"ser\"'),\n",
            " (1, '0.061*\"gusta\" + 0.028*\"haciendo\" + 0.028*\"hizo\"'),\n",
            " (2, '0.077*\"buenas\" + 0.056*\"noches\" + 0.056*\"amigo\"')]\n"
          ],
          "name": "stdout"
        }
      ]
    },
    {
      "cell_type": "code",
      "metadata": {
        "id": "UpkZb_smGrBq"
      },
      "source": [
        "# from gensim.test.utils import datapath\n",
        "# fname = datapath(\"lda_lima_tweet_model\")\n",
        "ldamodel.save(\"lda_lima_tweet_model\")"
      ],
      "execution_count": null,
      "outputs": []
    },
    {
      "cell_type": "code",
      "metadata": {
        "id": "we2vTlmGGrBx"
      },
      "source": [
        "from gensim.models.ldamodel import LdaModel\n",
        "ldamodel = LdaModel.load(\"lda_lima_tweet_model\")"
      ],
      "execution_count": null,
      "outputs": []
    },
    {
      "cell_type": "code",
      "metadata": {
        "id": "yfMGAm44GrB0"
      },
      "source": [
        "doc_lda = ldamodel[doc_term_matrix]"
      ],
      "execution_count": null,
      "outputs": []
    },
    {
      "cell_type": "code",
      "metadata": {
        "id": "38jMYB9jGrB3",
        "outputId": "133b0f1c-333e-408a-dab0-4bca0108093a",
        "colab": {
          "base_uri": "https://localhost:8080/",
          "height": 34
        }
      },
      "source": [
        "print('Perplexity: ', ldamodel.log_perplexity(doc_term_matrix))  # a measure of how good the model is. lower the better"
      ],
      "execution_count": null,
      "outputs": [
        {
          "output_type": "stream",
          "text": [
            "Perplexity:  -5.379126834037385\n"
          ],
          "name": "stdout"
        }
      ]
    },
    {
      "cell_type": "code",
      "metadata": {
        "id": "zwVZoVuoGrB7",
        "outputId": "f8398a5a-203c-40e5-b24b-e137cfe4414a",
        "colab": {
          "base_uri": "https://localhost:8080/",
          "height": 881
        }
      },
      "source": [
        "pyLDAvis.enable_notebook()\n",
        "vis = pyLDAvis.gensim.prepare(ldamodel, doc_term_matrix, dictionary)\n",
        "vis"
      ],
      "execution_count": null,
      "outputs": [
        {
          "output_type": "execute_result",
          "data": {
            "text/html": [
              "\n",
              "<link rel=\"stylesheet\" type=\"text/css\" href=\"https://cdn.rawgit.com/bmabey/pyLDAvis/files/ldavis.v1.0.0.css\">\n",
              "\n",
              "\n",
              "<div id=\"ldavis_el971396375021248246791669563\"></div>\n",
              "<script type=\"text/javascript\">\n",
              "\n",
              "var ldavis_el971396375021248246791669563_data = {\"mdsDat\": {\"x\": [0.10028181226339207, -0.12432732555092443, 0.024045513287532464], \"y\": [-0.07588880102607513, -0.03899285994145078, 0.11488166096752593], \"topics\": [1, 2, 3], \"cluster\": [1, 1, 1], \"Freq\": [41.99936960877943, 29.245486528914515, 28.755143862306042]}, \"tinfo\": {\"Term\": [\"buenas\", \"noches\", \"va\", \"amigo\", \"gusta\", \"da\", \"ser\", \"muchas\", \"casi\", \"solo\", \"radiante\", \"comer\", \"candidato\", \"caso\", \"gente\", \"haciendo\", \"hago\", \"hizo\", \"crowley\", \"buenos\", \"empec\\u00e9\", \"bromance\", \"god\", \"omen\", \"aziraphale\", \"parece\", \"relaci\\u00f3n\", \"tierna\", \"ver\", \"bendici\\u00f3nes\", \"gusta\", \"haciendo\", \"hago\", \"cu\\u00eddate\", \"per\\u00fa\", \"siempre\", \"hora\", \"estan\", \"mismo\", \"hizo\", \"gran\", \"m\\u00e9xico\", \"sankirtana\", \"hanumat\", \"colombi\\u2026\", \"\\u00e9ste\", \"sankirtanero\", \"visita\", \"entusiasta\", \"viernes\", \"httpstco4hqv9gupmk\", \"prana\", \"recuerda\", \"emilia\", \"best\", \"r\\u2026\", \"anja\", \"untkcqr\", \"rezero\", \"emilia14614784\", \"muchas\", \"da\", \"luvwaifus\", \"buenas\", \"noches\", \"amigo\", \"casi\", \"solo\", \"radiante\", \"bromance\", \"ver\", \"tierna\", \"relaci\\u00f3n\", \"omen\", \"god\", \"empec\\u00e9\", \"crowley\", \"buenos\", \"parece\", \"aziraphale\", \"\\ud83c\\udf1b\", \"bendici\\u00f3nes\", \"exacto\", \"manago72\", \"\\ud83d\\udc4f\\ud83d\\udc4f\\ud83d\\udc4f\", \"\\ud83d\\ude4f\", \"\\ud83e\\udd26\\ud83c\\udffb\\u200d\\u2642\\ufe0fxd\", \"c\\u00f3licos\", \"feminista\", \"melody260515\", \"mujeres\", \"\\ud83d\\ude0d\", \"httpstcob9alfqkrys\", \"gente\", \"va\", \"ser\", \"comer\", \"candidato\", \"caso\", \"da\", \"httpstcoqr9zyv6wmk\", \"\\ud83c\\uddf5\\ud83c\\uddea\", \"capital\", \"\\u2764\", \"sc\", \"peru\", \"ciudad\", \"lima\", \"verg\\u00fcenza\", \"upp\", \"pretender\", \"perdido\", \"daniloruiz1924\", \"universitario\", \"aria\", \"r\\u00e1pido\", \"alexis\", \"peruanoooooooooooooooooo\", \"hagan\", \"cindeli\", \"cat\\u00e1strofe\", \"ojal\\u00e1\", \"dio\", \"c\\u00f3lera\", \"muchas\", \"gente\", \"hizo\"], \"Freq\": [4.0, 3.0, 3.0, 3.0, 5.0, 3.0, 2.0, 2.0, 1.0, 1.0, 1.0, 1.0, 1.0, 1.0, 2.0, 2.0, 2.0, 3.0, 1.0, 1.0, 1.0, 1.0, 1.0, 1.0, 1.0, 1.0, 1.0, 1.0, 1.0, 1.0, 4.668867720755617, 2.121809212371921, 2.1174710119293443, 1.4861011474584982, 1.4844941679525772, 1.4842784246906242, 1.4842784246906242, 1.48427484567168, 1.4842747025109222, 2.119896012005139, 0.8491820141147557, 0.8491820141147557, 0.8491820141147557, 0.8491820141147557, 0.8491820141147557, 0.8491819425343767, 0.8491819425343767, 0.8491819425343767, 0.8491818709539979, 0.8491818709539979, 0.8491818709539979, 0.849181799373619, 0.8491797235426314, 0.8491796519622525, 0.8491795803818737, 0.8491795803818737, 0.8491795803818737, 0.8491795088014947, 0.8491795088014947, 0.8491795088014947, 0.8677888325427131, 0.8531638158508746, 0.8491794372211159, 4.143993722671188, 3.0138425801956257, 2.990863448923146, 1.3176698334958172, 1.3175693486433036, 1.3174732500343518, 0.7535163204359391, 0.7535163204359391, 0.7535163204359391, 0.7535163204359391, 0.7535163204359391, 0.7535163204359391, 0.7535163204359391, 0.7535163204359391, 0.7535163204359391, 0.7535163204359391, 0.7535163204359391, 0.7534062157537947, 0.7534062157537947, 0.7534062157537947, 0.7534062157537947, 0.7534062157537947, 0.7534062157537947, 0.753307924023062, 0.753307924023062, 0.753307924023062, 0.753307924023062, 0.753307924023062, 0.7531086988467239, 0.7531086988467239, 1.2855910412043254, 2.9310025662367725, 1.8315160767234684, 1.2823832753142985, 1.2818646729136034, 1.2817803791951006, 2.9286409698953726, 0.7329881832182528, 0.7329881832182528, 0.7329881832182528, 0.7329881832182528, 0.7329881832182528, 0.7329881832182528, 0.7329881832182528, 0.7329881832182528, 0.7329205032035713, 0.7329205032035713, 0.7329205032035713, 0.7329204541955954, 0.7328129306965286, 0.7328129306965286, 0.7328129306965286, 0.7328129306965286, 0.7328129306965286, 0.7328129306965286, 0.7328129306965286, 0.7328129306965286, 0.7328129306965286, 0.7328129306965286, 0.7327453486977988, 0.7327453486977988, 1.802959325213788, 0.7645162883051532, 0.7354895993148205], \"Total\": [4.0, 3.0, 3.0, 3.0, 5.0, 3.0, 2.0, 2.0, 1.0, 1.0, 1.0, 1.0, 1.0, 1.0, 2.0, 2.0, 2.0, 3.0, 1.0, 1.0, 1.0, 1.0, 1.0, 1.0, 1.0, 1.0, 1.0, 1.0, 1.0, 1.0, 5.043498536849024, 2.495216021663624, 2.4947246022833065, 1.858277261299806, 1.8580766034866376, 1.858049957377206, 1.858049968793499, 1.8580493947066905, 1.8580493377277407, 3.0449135383364787, 1.2211869659467012, 1.2211869900328387, 1.2211869902417638, 1.2211869904506891, 1.2211870145368267, 1.2211869302866032, 1.2211869433742981, 1.2211869682961365, 1.2211869336806649, 1.2211869457237337, 1.2211869575578769, 1.2211869609519388, 1.22118690801295, 1.221186885440547, 1.22118691187612, 1.22118691187612, 1.2211869243370392, 1.221186864799729, 1.2211868772606482, 1.221186889512642, 2.8739871457033583, 3.971524000333568, 1.221186903696221, 4.541034227140654, 3.410484363915334, 3.412526956415709, 1.7146979359781904, 1.714702096810803, 1.7147060802945981, 1.149385334508321, 1.149385334508321, 1.149385334508321, 1.149385334508321, 1.149385334508321, 1.149385334508321, 1.149385334508321, 1.149385334508321, 1.149385334508321, 1.149385334508321, 1.149385334508321, 1.149389858667445, 1.1493898831714329, 1.1493898831714329, 1.1493898831714329, 1.1493898831714329, 1.1493898831714329, 1.1493939815856213, 1.1493939815856213, 1.1493939815856213, 1.1493939815856213, 1.149393999480716, 1.1494019777991713, 1.1494019900511652, 2.2638860858591894, 3.3340464232342697, 2.2341078478505274, 1.684087189375187, 1.6841299821650693, 1.6841401768578526, 3.971524000333568, 1.134087279811109, 1.1340872977062038, 1.1340872977062038, 1.1340872977062038, 1.1340872977062038, 1.1340872977062038, 1.1340872977062038, 1.1340872977062038, 1.134091511772231, 1.134091511772231, 1.134091511772231, 1.1340914752251743, 1.1341020482303117, 1.1341020482303117, 1.1341020482303117, 1.1341020482303117, 1.1341020482303117, 1.1341020840205012, 1.1341020840205012, 1.1341020840205012, 1.1341020840205012, 1.1341020964814204, 1.1341127341241228, 1.1341127341241228, 2.8739871457033583, 2.2638860858591894, 3.0449135383364787], \"Category\": [\"Default\", \"Default\", \"Default\", \"Default\", \"Default\", \"Default\", \"Default\", \"Default\", \"Default\", \"Default\", \"Default\", \"Default\", \"Default\", \"Default\", \"Default\", \"Default\", \"Default\", \"Default\", \"Default\", \"Default\", \"Default\", \"Default\", \"Default\", \"Default\", \"Default\", \"Default\", \"Default\", \"Default\", \"Default\", \"Default\", \"Topic1\", \"Topic1\", \"Topic1\", \"Topic1\", \"Topic1\", \"Topic1\", \"Topic1\", \"Topic1\", \"Topic1\", \"Topic1\", \"Topic1\", \"Topic1\", \"Topic1\", \"Topic1\", \"Topic1\", \"Topic1\", \"Topic1\", \"Topic1\", \"Topic1\", \"Topic1\", \"Topic1\", \"Topic1\", \"Topic1\", \"Topic1\", \"Topic1\", \"Topic1\", \"Topic1\", \"Topic1\", \"Topic1\", \"Topic1\", \"Topic1\", \"Topic1\", \"Topic1\", \"Topic2\", \"Topic2\", \"Topic2\", \"Topic2\", \"Topic2\", \"Topic2\", \"Topic2\", \"Topic2\", \"Topic2\", \"Topic2\", \"Topic2\", \"Topic2\", \"Topic2\", \"Topic2\", \"Topic2\", \"Topic2\", \"Topic2\", \"Topic2\", \"Topic2\", \"Topic2\", \"Topic2\", \"Topic2\", \"Topic2\", \"Topic2\", \"Topic2\", \"Topic2\", \"Topic2\", \"Topic2\", \"Topic2\", \"Topic2\", \"Topic2\", \"Topic3\", \"Topic3\", \"Topic3\", \"Topic3\", \"Topic3\", \"Topic3\", \"Topic3\", \"Topic3\", \"Topic3\", \"Topic3\", \"Topic3\", \"Topic3\", \"Topic3\", \"Topic3\", \"Topic3\", \"Topic3\", \"Topic3\", \"Topic3\", \"Topic3\", \"Topic3\", \"Topic3\", \"Topic3\", \"Topic3\", \"Topic3\", \"Topic3\", \"Topic3\", \"Topic3\", \"Topic3\", \"Topic3\", \"Topic3\", \"Topic3\", \"Topic3\", \"Topic3\"], \"logprob\": [30.0, 29.0, 28.0, 27.0, 26.0, 25.0, 24.0, 23.0, 22.0, 21.0, 20.0, 19.0, 18.0, 17.0, 16.0, 15.0, 14.0, 13.0, 12.0, 11.0, 10.0, 9.0, 8.0, 7.0, 6.0, 5.0, 4.0, 3.0, 2.0, 1.0, -2.801100015640259, -3.5896999835968018, -3.5917000770568848, -3.9458000659942627, -3.946899890899658, -3.947000026702881, -3.947000026702881, -3.947000026702881, -3.947000026702881, -3.59060001373291, -4.505499839782715, -4.505499839782715, -4.505499839782715, -4.505499839782715, -4.505499839782715, -4.505499839782715, -4.505499839782715, -4.505499839782715, -4.505499839782715, -4.505499839782715, -4.505499839782715, -4.505499839782715, -4.505499839782715, -4.505499839782715, -4.505499839782715, -4.505499839782715, -4.505499839782715, -4.505499839782715, -4.505499839782715, -4.505499839782715, -4.483799934387207, -4.500800132751465, -4.505499839782715, -2.5583999156951904, -2.876800060272217, -2.884500026702881, -3.704200029373169, -3.7042999267578125, -3.7042999267578125, -4.263000011444092, -4.263000011444092, -4.263000011444092, -4.263000011444092, -4.263000011444092, -4.263000011444092, -4.263000011444092, -4.263000011444092, -4.263000011444092, -4.263000011444092, -4.263000011444092, -4.263199806213379, -4.263199806213379, -4.263199806213379, -4.263199806213379, -4.263199806213379, -4.263199806213379, -4.263299942016602, -4.263299942016602, -4.263299942016602, -4.263299942016602, -4.263299942016602, -4.263599872589111, -4.263599872589111, -3.728800058364868, -2.8877999782562256, -3.3580000400543213, -3.714400053024292, -3.7147998809814453, -3.714900016784668, -2.8886001110076904, -4.273799896240234, -4.273799896240234, -4.273799896240234, -4.273799896240234, -4.273799896240234, -4.273799896240234, -4.273799896240234, -4.273799896240234, -4.273900032043457, -4.273900032043457, -4.273900032043457, -4.273900032043457, -4.27400016784668, -4.27400016784668, -4.27400016784668, -4.27400016784668, -4.27400016784668, -4.27400016784668, -4.27400016784668, -4.27400016784668, -4.27400016784668, -4.27400016784668, -4.274099826812744, -4.274099826812744, -3.373699903488159, -4.231599807739258, -4.270400047302246], \"loglift\": [30.0, 29.0, 28.0, 27.0, 26.0, 25.0, 24.0, 23.0, 22.0, 21.0, 20.0, 19.0, 18.0, 17.0, 16.0, 15.0, 14.0, 13.0, 12.0, 11.0, 10.0, 9.0, 8.0, 7.0, 6.0, 5.0, 4.0, 3.0, 2.0, 1.0, 0.7903, 0.7054, 0.7036, 0.644, 0.643, 0.6429, 0.6429, 0.6429, 0.6429, 0.5054, 0.5042, 0.5042, 0.5042, 0.5042, 0.5042, 0.5042, 0.5042, 0.5042, 0.5042, 0.5042, 0.5042, 0.5042, 0.5042, 0.5042, 0.5042, 0.5042, 0.5042, 0.5042, 0.5042, 0.5042, -0.33, -0.6704, 0.5042, 1.138, 1.1058, 1.0976, 0.9661, 0.966, 0.9659, 0.8072, 0.8072, 0.8072, 0.8072, 0.8072, 0.8072, 0.8072, 0.8072, 0.8072, 0.8072, 0.8072, 0.8071, 0.8071, 0.8071, 0.8071, 0.8071, 0.8071, 0.8069, 0.8069, 0.8069, 0.8069, 0.8069, 0.8067, 0.8067, 0.6636, 1.1175, 1.0477, 0.9739, 0.9734, 0.9733, 0.9417, 0.8099, 0.8099, 0.8099, 0.8099, 0.8099, 0.8099, 0.8099, 0.8099, 0.8098, 0.8098, 0.8098, 0.8098, 0.8096, 0.8096, 0.8096, 0.8096, 0.8096, 0.8096, 0.8096, 0.8096, 0.8096, 0.8096, 0.8095, 0.8095, 0.7801, 0.1608, -0.1743]}, \"token.table\": {\"Topic\": [3, 2, 1, 3, 2, 2, 1, 2, 2, 2, 3, 3, 2, 3, 3, 3, 3, 1, 3, 2, 1, 3, 2, 1, 3, 3, 3, 1, 1, 2, 1, 1, 2, 2, 2, 3, 2, 1, 1, 1, 3, 1, 1, 1, 3, 1, 1, 2, 3, 3, 1, 2, 2, 1, 1, 3, 2, 1, 2, 3, 2, 2, 3, 3, 3, 1, 1, 3, 2, 1, 2, 1, 3, 1, 1, 1, 3, 3, 1, 2, 2, 3, 1, 3, 3, 2, 3, 1, 1, 1, 3, 3, 2, 2, 2, 2, 2], \"Freq\": [0.881754866381232, 0.879113934722145, 0.8188754563867299, 0.881754866381232, 0.8700302413618107, 0.8700267982529726, 0.8188754647424867, 0.8700302413618107, 0.8808566066498631, 0.8700302413618107, 0.5937783963173844, 0.8817663349396403, 0.5831930971734249, 0.5937748019679264, 0.8817548385546596, 0.8817548385546596, 0.8817663349396403, 0.8188753959026344, 0.593793484273822, 0.8700302413618107, 0.5381328291670167, 0.881746558266363, 0.8700236959832275, 0.25179251086384224, 0.7553775325915266, 0.881754866381232, 0.881746558266363, 0.8188754824690464, 0.8188754797384743, 0.8700302413618107, 0.8188754501212963, 0.5381988244493677, 0.8700267982529726, 0.8700236959832275, 0.441718338323759, 0.441718338323759, 0.8700302413618107, 0.8188754284850802, 0.9913753247807621, 0.8015338081496244, 0.8817548385546596, 0.8016916970191789, 0.8188754120537607, 0.6568331004540299, 0.32841655022701494, 0.5381986581605969, 0.8188754341102649, 0.8700176340876923, 0.8817663488532891, 0.8817663349396403, 0.8188754702275756, 0.8700267982529726, 0.8700236959832275, 0.5381988409537753, 0.3479486682795401, 0.6958973365590801, 0.8700236824376927, 0.8188754123339532, 0.8796404498262862, 0.8817548288663998, 0.8700302413618107, 0.8700302413618107, 0.8817630868810205, 0.8817663349396403, 0.8817548385546596, 0.5381909433246849, 0.818875431834353, 0.8817630584654603, 0.583190327189015, 0.8188754673329626, 0.8700302413618107, 0.8188754879541352, 0.881754866381232, 0.8188754647424867, 0.8188754121938571, 0.8188754436211626, 0.8817663349396403, 0.8952119307598483, 0.5381986614674151, 0.583191682018651, 0.8700302413618107, 0.881754866381232, 0.8188754963098928, 0.8817630584654603, 0.8998075069062116, 0.8700302413618107, 0.8817630584654603, 0.8188754420457323, 0.81887542690965, 0.818875452397208, 0.8817663349396403, 0.8817663349396403, 0.8700268168011841, 0.8700267982529726, 0.8700176433616025, 0.8700267982529726, 0.8700236959832275], \"Term\": [\"alexis\", \"amigo\", \"anja\", \"aria\", \"aziraphale\", \"bendici\\u00f3nes\", \"best\", \"bromance\", \"buenas\", \"buenos\", \"candidato\", \"capital\", \"casi\", \"caso\", \"cat\\u00e1strofe\", \"cindeli\", \"ciudad\", \"colombi\\u2026\", \"comer\", \"crowley\", \"cu\\u00eddate\", \"c\\u00f3lera\", \"c\\u00f3licos\", \"da\", \"da\", \"daniloruiz1924\", \"dio\", \"emilia\", \"emilia14614784\", \"empec\\u00e9\", \"entusiasta\", \"estan\", \"exacto\", \"feminista\", \"gente\", \"gente\", \"god\", \"gran\", \"gusta\", \"haciendo\", \"hagan\", \"hago\", \"hanumat\", \"hizo\", \"hizo\", \"hora\", \"httpstco4hqv9gupmk\", \"httpstcob9alfqkrys\", \"httpstcoqr9zyv6wmk\", \"lima\", \"luvwaifus\", \"manago72\", \"melody260515\", \"mismo\", \"muchas\", \"muchas\", \"mujeres\", \"m\\u00e9xico\", \"noches\", \"ojal\\u00e1\", \"omen\", \"parece\", \"perdido\", \"peru\", \"peruanoooooooooooooooooo\", \"per\\u00fa\", \"prana\", \"pretender\", \"radiante\", \"recuerda\", \"relaci\\u00f3n\", \"rezero\", \"r\\u00e1pido\", \"r\\u2026\", \"sankirtana\", \"sankirtanero\", \"sc\", \"ser\", \"siempre\", \"solo\", \"tierna\", \"universitario\", \"untkcqr\", \"upp\", \"va\", \"ver\", \"verg\\u00fcenza\", \"viernes\", \"visita\", \"\\u00e9ste\", \"\\u2764\", \"\\ud83c\\uddf5\\ud83c\\uddea\", \"\\ud83c\\udf1b\", \"\\ud83d\\udc4f\\ud83d\\udc4f\\ud83d\\udc4f\", \"\\ud83d\\ude0d\", \"\\ud83d\\ude4f\", \"\\ud83e\\udd26\\ud83c\\udffb\\u200d\\u2642\\ufe0fxd\"]}, \"R\": 30, \"lambda.step\": 0.01, \"plot.opts\": {\"xlab\": \"PC1\", \"ylab\": \"PC2\"}, \"topic.order\": [2, 3, 1]};\n",
              "\n",
              "function LDAvis_load_lib(url, callback){\n",
              "  var s = document.createElement('script');\n",
              "  s.src = url;\n",
              "  s.async = true;\n",
              "  s.onreadystatechange = s.onload = callback;\n",
              "  s.onerror = function(){console.warn(\"failed to load library \" + url);};\n",
              "  document.getElementsByTagName(\"head\")[0].appendChild(s);\n",
              "}\n",
              "\n",
              "if(typeof(LDAvis) !== \"undefined\"){\n",
              "   // already loaded: just create the visualization\n",
              "   !function(LDAvis){\n",
              "       new LDAvis(\"#\" + \"ldavis_el971396375021248246791669563\", ldavis_el971396375021248246791669563_data);\n",
              "   }(LDAvis);\n",
              "}else if(typeof define === \"function\" && define.amd){\n",
              "   // require.js is available: use it to load d3/LDAvis\n",
              "   require.config({paths: {d3: \"https://cdnjs.cloudflare.com/ajax/libs/d3/3.5.5/d3.min\"}});\n",
              "   require([\"d3\"], function(d3){\n",
              "      window.d3 = d3;\n",
              "      LDAvis_load_lib(\"https://cdn.rawgit.com/bmabey/pyLDAvis/files/ldavis.v1.0.0.js\", function(){\n",
              "        new LDAvis(\"#\" + \"ldavis_el971396375021248246791669563\", ldavis_el971396375021248246791669563_data);\n",
              "      });\n",
              "    });\n",
              "}else{\n",
              "    // require.js not available: dynamically load d3 & LDAvis\n",
              "    LDAvis_load_lib(\"https://cdnjs.cloudflare.com/ajax/libs/d3/3.5.5/d3.min.js\", function(){\n",
              "         LDAvis_load_lib(\"https://cdn.rawgit.com/bmabey/pyLDAvis/files/ldavis.v1.0.0.js\", function(){\n",
              "                 new LDAvis(\"#\" + \"ldavis_el971396375021248246791669563\", ldavis_el971396375021248246791669563_data);\n",
              "            })\n",
              "         });\n",
              "}\n",
              "</script>"
            ],
            "text/plain": [
              "PreparedData(topic_coordinates=              x         y  topics  cluster       Freq\n",
              "topic                                                \n",
              "1      0.100282 -0.075889       1        1  41.999370\n",
              "2     -0.124327 -0.038993       2        1  29.245487\n",
              "0      0.024046  0.114882       3        1  28.755144, topic_info=       Term      Freq     Total Category  logprob  loglift\n",
              "119  buenas  4.000000  4.000000  Default  30.0000  30.0000\n",
              "122  noches  3.000000  3.000000  Default  29.0000  29.0000\n",
              "1        va  3.000000  3.000000  Default  28.0000  28.0000\n",
              "54    amigo  3.000000  3.000000  Default  27.0000  27.0000\n",
              "86    gusta  5.000000  5.000000  Default  26.0000  26.0000\n",
              "..      ...       ...       ...      ...      ...      ...\n",
              "42      dio  0.732745  1.134113   Topic3  -4.2741   0.8095\n",
              "41   cólera  0.732745  1.134113   Topic3  -4.2741   0.8095\n",
              "31   muchas  1.802959  2.873987   Topic3  -3.3737   0.7801\n",
              "3     gente  0.764516  2.263886   Topic3  -4.2316   0.1608\n",
              "43     hizo  0.735490  3.044914   Topic3  -4.2704  -0.1743\n",
              "\n",
              "[127 rows x 6 columns], token_table=      Topic      Freq        Term\n",
              "term                             \n",
              "77        3  0.881755      alexis\n",
              "54        2  0.879114       amigo\n",
              "23        1  0.818875        anja\n",
              "78        3  0.881755        aria\n",
              "55        2  0.870030  aziraphale\n",
              "...     ...       ...         ...\n",
              "123       2  0.870027           🌛\n",
              "124       2  0.870027         👏👏👏\n",
              "48        2  0.870018           😍\n",
              "125       2  0.870027           🙏\n",
              "76        2  0.870024     🤦🏻‍♂️xd\n",
              "\n",
              "[97 rows x 3 columns], R=30, lambda_step=0.01, plot_opts={'xlab': 'PC1', 'ylab': 'PC2'}, topic_order=[2, 3, 1])"
            ]
          },
          "metadata": {
            "tags": []
          },
          "execution_count": 184
        }
      ]
    },
    {
      "cell_type": "code",
      "metadata": {
        "id": "2CZ_1VveGrB-",
        "outputId": "f1def4b8-f9bd-49d1-8410-93388f57f2f4",
        "colab": {
          "base_uri": "https://localhost:8080/",
          "height": 34
        }
      },
      "source": [
        "def lemmatization(texts, allowed_postags=['NOUN', 'ADJ', 'VERB', 'ADV']):\n",
        "    texts_out = []\n",
        "    for sent in texts:\n",
        "        doc_ = nlp(sent)\n",
        "        texts_out.append(list(set([str(c.head) for c in doc_ if c.head.tag_.startswith(tuple(allowed_postags))])))\n",
        "    return texts_out\n",
        "\n",
        "lemmatization(tweets_df['Tweets_clean'][:5],['VERB'])"
      ],
      "execution_count": null,
      "outputs": [
        {
          "output_type": "execute_result",
          "data": {
            "text/plain": [
              "[['acomodando'], ['pretender'], ['da'], [], ['cuídate']]"
            ]
          },
          "metadata": {
            "tags": []
          },
          "execution_count": 185
        }
      ]
    },
    {
      "cell_type": "code",
      "metadata": {
        "id": "IUKd4S9VGrCA"
      },
      "source": [
        "def join_comma(row_list):\n",
        "    if row_list == []:\n",
        "        return np.NaN\n",
        "    else:\n",
        "        return ', '.join(row_list)\n",
        "\n",
        "tweets_df['ACTIONS']=pd.Series(lemmatization(tweets_df['Tweets_clean'],['VERB'])).apply(join_comma)\n",
        "tweets_df['NOUNS']=pd.Series(lemmatization(tweets_df['Tweets_clean'],['NOUN'])).apply(join_comma)"
      ],
      "execution_count": null,
      "outputs": []
    },
    {
      "cell_type": "code",
      "metadata": {
        "id": "ctE8O8UkGrCD",
        "outputId": "82fac4e9-c861-48a9-abff-9c28bf801273",
        "colab": {
          "base_uri": "https://localhost:8080/",
          "height": 204
        }
      },
      "source": [
        "tweets_df[['Tweets_clean','NOUNS','ACTIONS']].head()"
      ],
      "execution_count": null,
      "outputs": [
        {
          "output_type": "execute_result",
          "data": {
            "text/html": [
              "<div>\n",
              "<style scoped>\n",
              "    .dataframe tbody tr th:only-of-type {\n",
              "        vertical-align: middle;\n",
              "    }\n",
              "\n",
              "    .dataframe tbody tr th {\n",
              "        vertical-align: top;\n",
              "    }\n",
              "\n",
              "    .dataframe thead th {\n",
              "        text-align: right;\n",
              "    }\n",
              "</style>\n",
              "<table border=\"1\" class=\"dataframe\">\n",
              "  <thead>\n",
              "    <tr style=\"text-align: right;\">\n",
              "      <th></th>\n",
              "      <th>Tweets_clean</th>\n",
              "      <th>NOUNS</th>\n",
              "      <th>ACTIONS</th>\n",
              "    </tr>\n",
              "  </thead>\n",
              "  <tbody>\n",
              "    <tr>\n",
              "      <th>4</th>\n",
              "      <td>va acomodando</td>\n",
              "      <td>desgracia</td>\n",
              "      <td>cuídate</td>\n",
              "    </tr>\n",
              "    <tr>\n",
              "      <th>11</th>\n",
              "      <td>gente perdido vergüenza pretender ser candidat...</td>\n",
              "      <td>NaN</td>\n",
              "      <td>NaN</td>\n",
              "    </tr>\n",
              "    <tr>\n",
              "      <th>12</th>\n",
              "      <td>éste viernes sankirtana visita hanumat prana d...</td>\n",
              "      <td>piqueos, basura</td>\n",
              "      <td>comer</td>\n",
              "    </tr>\n",
              "    <tr>\n",
              "      <th>14</th>\n",
              "      <td>untkcqr emilia14614784 luvwaifus cuídate anja ...</td>\n",
              "      <td>NaN</td>\n",
              "      <td>hagan</td>\n",
              "    </tr>\n",
              "    <tr>\n",
              "      <th>33</th>\n",
              "      <td>ohohuh1 cuídate mucho desgracia todo</td>\n",
              "      <td>NaN</td>\n",
              "      <td>NaN</td>\n",
              "    </tr>\n",
              "  </tbody>\n",
              "</table>\n",
              "</div>"
            ],
            "text/plain": [
              "                                         Tweets_clean            NOUNS  ACTIONS\n",
              "4                                       va acomodando        desgracia  cuídate\n",
              "11  gente perdido vergüenza pretender ser candidat...              NaN      NaN\n",
              "12  éste viernes sankirtana visita hanumat prana d...  piqueos, basura    comer\n",
              "14  untkcqr emilia14614784 luvwaifus cuídate anja ...              NaN    hagan\n",
              "33               ohohuh1 cuídate mucho desgracia todo              NaN      NaN"
            ]
          },
          "metadata": {
            "tags": []
          },
          "execution_count": 187
        }
      ]
    },
    {
      "cell_type": "code",
      "metadata": {
        "id": "VOUx5UBjGrCF",
        "outputId": "7f711ad6-2cb6-48b6-ef85-4793b7796bfa",
        "colab": {
          "base_uri": "https://localhost:8080/",
          "height": 425
        }
      },
      "source": [
        "tweets_df.head()"
      ],
      "execution_count": null,
      "outputs": [
        {
          "output_type": "execute_result",
          "data": {
            "text/html": [
              "<div>\n",
              "<style scoped>\n",
              "    .dataframe tbody tr th:only-of-type {\n",
              "        vertical-align: middle;\n",
              "    }\n",
              "\n",
              "    .dataframe tbody tr th {\n",
              "        vertical-align: top;\n",
              "    }\n",
              "\n",
              "    .dataframe thead th {\n",
              "        text-align: right;\n",
              "    }\n",
              "</style>\n",
              "<table border=\"1\" class=\"dataframe\">\n",
              "  <thead>\n",
              "    <tr style=\"text-align: right;\">\n",
              "      <th></th>\n",
              "      <th>date</th>\n",
              "      <th>Tweets</th>\n",
              "      <th>location</th>\n",
              "      <th>followers</th>\n",
              "      <th>word_count</th>\n",
              "      <th>char_count</th>\n",
              "      <th>avg_word</th>\n",
              "      <th>hastags</th>\n",
              "      <th>numerics</th>\n",
              "      <th>Tweets_clean</th>\n",
              "      <th>ACTIONS</th>\n",
              "      <th>NOUNS</th>\n",
              "    </tr>\n",
              "  </thead>\n",
              "  <tbody>\n",
              "    <tr>\n",
              "      <th>4</th>\n",
              "      <td>2020-10-09 04:11:20</td>\n",
              "      <td>Poco a poco todo se va acomodando</td>\n",
              "      <td>Santa Anita</td>\n",
              "      <td>170</td>\n",
              "      <td>2</td>\n",
              "      <td>13</td>\n",
              "      <td>6.000000</td>\n",
              "      <td>0</td>\n",
              "      <td>0</td>\n",
              "      <td>va acomodando</td>\n",
              "      <td>cuídate</td>\n",
              "      <td>desgracia</td>\n",
              "    </tr>\n",
              "    <tr>\n",
              "      <th>11</th>\n",
              "      <td>2020-10-09 04:11:25</td>\n",
              "      <td>Hay gente que han perdido la vergüenza, preten...</td>\n",
              "      <td>Jesús Maria</td>\n",
              "      <td>51</td>\n",
              "      <td>7</td>\n",
              "      <td>51</td>\n",
              "      <td>6.428571</td>\n",
              "      <td>0</td>\n",
              "      <td>0</td>\n",
              "      <td>gente perdido vergüenza pretender ser candidat...</td>\n",
              "      <td>NaN</td>\n",
              "      <td>NaN</td>\n",
              "    </tr>\n",
              "    <tr>\n",
              "      <th>12</th>\n",
              "      <td>2020-10-09 04:11:25</td>\n",
              "      <td>Éste Viernes de Sankirtana, nos visita Hanumat...</td>\n",
              "      <td>Lurigancho</td>\n",
              "      <td>401</td>\n",
              "      <td>14</td>\n",
              "      <td>116</td>\n",
              "      <td>7.357143</td>\n",
              "      <td>0</td>\n",
              "      <td>0</td>\n",
              "      <td>éste viernes sankirtana visita hanumat prana d...</td>\n",
              "      <td>comer</td>\n",
              "      <td>piqueos, basura</td>\n",
              "    </tr>\n",
              "    <tr>\n",
              "      <th>14</th>\n",
              "      <td>2020-10-09 04:11:27</td>\n",
              "      <td>@UnTkCqr @Emilia14614784 @LuvWaifus Cuídate mu...</td>\n",
              "      <td>Villa el Salvador</td>\n",
              "      <td>371</td>\n",
              "      <td>13</td>\n",
              "      <td>107</td>\n",
              "      <td>7.307692</td>\n",
              "      <td>0</td>\n",
              "      <td>0</td>\n",
              "      <td>untkcqr emilia14614784 luvwaifus cuídate anja ...</td>\n",
              "      <td>hagan</td>\n",
              "      <td>NaN</td>\n",
              "    </tr>\n",
              "    <tr>\n",
              "      <th>33</th>\n",
              "      <td>2020-10-09 04:11:43</td>\n",
              "      <td>@ohohuh1 :( cuídate mucho.\\n\\nQué desgracia, t...</td>\n",
              "      <td>Magdalena del Mar</td>\n",
              "      <td>196</td>\n",
              "      <td>5</td>\n",
              "      <td>36</td>\n",
              "      <td>6.400000</td>\n",
              "      <td>0</td>\n",
              "      <td>0</td>\n",
              "      <td>ohohuh1 cuídate mucho desgracia todo</td>\n",
              "      <td>NaN</td>\n",
              "      <td>NaN</td>\n",
              "    </tr>\n",
              "  </tbody>\n",
              "</table>\n",
              "</div>"
            ],
            "text/plain": [
              "                   date  ...            NOUNS\n",
              "4   2020-10-09 04:11:20  ...        desgracia\n",
              "11  2020-10-09 04:11:25  ...              NaN\n",
              "12  2020-10-09 04:11:25  ...  piqueos, basura\n",
              "14  2020-10-09 04:11:27  ...              NaN\n",
              "33  2020-10-09 04:11:43  ...              NaN\n",
              "\n",
              "[5 rows x 12 columns]"
            ]
          },
          "metadata": {
            "tags": []
          },
          "execution_count": 188
        }
      ]
    },
    {
      "cell_type": "code",
      "metadata": {
        "id": "FlBB6cxMGrCH"
      },
      "source": [
        "tweets_df.to_csv('tweets_solutions.csv',index=None)"
      ],
      "execution_count": null,
      "outputs": []
    },
    {
      "cell_type": "code",
      "metadata": {
        "id": "VrTbtR9EGrCL"
      },
      "source": [
        "tweets_df = pd.read_csv('tweets_solutions.csv')\n",
        "tweets_df.dropna(inplace=True)"
      ],
      "execution_count": null,
      "outputs": []
    },
    {
      "cell_type": "code",
      "metadata": {
        "id": "h5_y9mqtGrCP",
        "outputId": "ea701c0c-977c-435a-c860-92c9eb376909",
        "colab": {
          "base_uri": "https://localhost:8080/",
          "height": 68
        }
      },
      "source": [
        "tweets_df['Tweets_clean']"
      ],
      "execution_count": null,
      "outputs": [
        {
          "output_type": "execute_result",
          "data": {
            "text/plain": [
              "0                                        va acomodando\n",
              "2    éste viernes sankirtana visita hanumat prana d...\n",
              "Name: Tweets_clean, dtype: object"
            ]
          },
          "metadata": {
            "tags": []
          },
          "execution_count": 191
        }
      ]
    },
    {
      "cell_type": "code",
      "metadata": {
        "id": "uXm8kPtqGrCT",
        "outputId": "fa4e715b-1b75-410b-fb57-3e5c48dafbde",
        "colab": {
          "base_uri": "https://localhost:8080/",
          "height": 85
        }
      },
      "source": [
        "tweets_df['Tweets_clean'] = tweets_df['Tweets_clean'].apply(lambda x: \" \".join([Word(word).lemmatize() for word in x.split()]))\n",
        "print(tweets_df.shape)\n",
        "tweets_df['Tweets_clean'].head()"
      ],
      "execution_count": null,
      "outputs": [
        {
          "output_type": "stream",
          "text": [
            "(2, 12)\n"
          ],
          "name": "stdout"
        },
        {
          "output_type": "execute_result",
          "data": {
            "text/plain": [
              "0                                        va acomodando\n",
              "2    éste viernes sankirtana visita hanumat prana d...\n",
              "Name: Tweets_clean, dtype: object"
            ]
          },
          "metadata": {
            "tags": []
          },
          "execution_count": 192
        }
      ]
    },
    {
      "cell_type": "code",
      "metadata": {
        "id": "SsJLbnTeGrCW"
      },
      "source": [
        "# displacy.serve(doc, style=\"dep\")"
      ],
      "execution_count": null,
      "outputs": []
    },
    {
      "cell_type": "code",
      "metadata": {
        "id": "bOSJ2BGSGrCd",
        "outputId": "4d49e8f1-2c95-4f97-9698-dd90d0f1c1b5",
        "colab": {
          "base_uri": "https://localhost:8080/",
          "height": 378
        }
      },
      "source": [
        "doc = nlp(tweets_df['Tweets_clean'].iloc[-1])\n",
        "from IPython.display import HTML, Image, display\n",
        "displacy.render(doc, style=\"dep\",jupyter=True,options={'distance':100})"
      ],
      "execution_count": null,
      "outputs": [
        {
          "output_type": "display_data",
          "data": {
            "text/html": [
              "<span class=\"tex2jax_ignore\"><svg xmlns=\"http://www.w3.org/2000/svg\" xmlns:xlink=\"http://www.w3.org/1999/xlink\" xml:lang=\"es\" id=\"3ce51d42bea54cf39272eb89a029b8e7-0\" class=\"displacy\" width=\"1450\" height=\"337.0\" direction=\"ltr\" style=\"max-width: none; height: 337.0px; color: #000000; background: #ffffff; font-family: Arial; direction: ltr\">\n",
              "<text class=\"displacy-token\" fill=\"currentColor\" text-anchor=\"middle\" y=\"247.0\">\n",
              "    <tspan class=\"displacy-word\" fill=\"currentColor\" x=\"50\">éste</tspan>\n",
              "    <tspan class=\"displacy-tag\" dy=\"2em\" fill=\"currentColor\" x=\"50\">PRON</tspan>\n",
              "</text>\n",
              "\n",
              "<text class=\"displacy-token\" fill=\"currentColor\" text-anchor=\"middle\" y=\"247.0\">\n",
              "    <tspan class=\"displacy-word\" fill=\"currentColor\" x=\"150\">viernes</tspan>\n",
              "    <tspan class=\"displacy-tag\" dy=\"2em\" fill=\"currentColor\" x=\"150\">NOUN</tspan>\n",
              "</text>\n",
              "\n",
              "<text class=\"displacy-token\" fill=\"currentColor\" text-anchor=\"middle\" y=\"247.0\">\n",
              "    <tspan class=\"displacy-word\" fill=\"currentColor\" x=\"250\">sankirtana</tspan>\n",
              "    <tspan class=\"displacy-tag\" dy=\"2em\" fill=\"currentColor\" x=\"250\">ADJ</tspan>\n",
              "</text>\n",
              "\n",
              "<text class=\"displacy-token\" fill=\"currentColor\" text-anchor=\"middle\" y=\"247.0\">\n",
              "    <tspan class=\"displacy-word\" fill=\"currentColor\" x=\"350\">visita</tspan>\n",
              "    <tspan class=\"displacy-tag\" dy=\"2em\" fill=\"currentColor\" x=\"350\">NOUN</tspan>\n",
              "</text>\n",
              "\n",
              "<text class=\"displacy-token\" fill=\"currentColor\" text-anchor=\"middle\" y=\"247.0\">\n",
              "    <tspan class=\"displacy-word\" fill=\"currentColor\" x=\"450\">hanumat</tspan>\n",
              "    <tspan class=\"displacy-tag\" dy=\"2em\" fill=\"currentColor\" x=\"450\">PROPN</tspan>\n",
              "</text>\n",
              "\n",
              "<text class=\"displacy-token\" fill=\"currentColor\" text-anchor=\"middle\" y=\"247.0\">\n",
              "    <tspan class=\"displacy-word\" fill=\"currentColor\" x=\"550\">prana</tspan>\n",
              "    <tspan class=\"displacy-tag\" dy=\"2em\" fill=\"currentColor\" x=\"550\">PROPN</tspan>\n",
              "</text>\n",
              "\n",
              "<text class=\"displacy-token\" fill=\"currentColor\" text-anchor=\"middle\" y=\"247.0\">\n",
              "    <tspan class=\"displacy-word\" fill=\"currentColor\" x=\"650\">da</tspan>\n",
              "    <tspan class=\"displacy-tag\" dy=\"2em\" fill=\"currentColor\" x=\"650\">VERB</tspan>\n",
              "</text>\n",
              "\n",
              "<text class=\"displacy-token\" fill=\"currentColor\" text-anchor=\"middle\" y=\"247.0\">\n",
              "    <tspan class=\"displacy-word\" fill=\"currentColor\" x=\"750\">gran</tspan>\n",
              "    <tspan class=\"displacy-tag\" dy=\"2em\" fill=\"currentColor\" x=\"750\">ADJ</tspan>\n",
              "</text>\n",
              "\n",
              "<text class=\"displacy-token\" fill=\"currentColor\" text-anchor=\"middle\" y=\"247.0\">\n",
              "    <tspan class=\"displacy-word\" fill=\"currentColor\" x=\"850\">entusiasta</tspan>\n",
              "    <tspan class=\"displacy-tag\" dy=\"2em\" fill=\"currentColor\" x=\"850\">ADJ</tspan>\n",
              "</text>\n",
              "\n",
              "<text class=\"displacy-token\" fill=\"currentColor\" text-anchor=\"middle\" y=\"247.0\">\n",
              "    <tspan class=\"displacy-word\" fill=\"currentColor\" x=\"950\">sankirtanero</tspan>\n",
              "    <tspan class=\"displacy-tag\" dy=\"2em\" fill=\"currentColor\" x=\"950\">PROPN</tspan>\n",
              "</text>\n",
              "\n",
              "<text class=\"displacy-token\" fill=\"currentColor\" text-anchor=\"middle\" y=\"247.0\">\n",
              "    <tspan class=\"displacy-word\" fill=\"currentColor\" x=\"1050\">perú</tspan>\n",
              "    <tspan class=\"displacy-tag\" dy=\"2em\" fill=\"currentColor\" x=\"1050\">PROPN</tspan>\n",
              "</text>\n",
              "\n",
              "<text class=\"displacy-token\" fill=\"currentColor\" text-anchor=\"middle\" y=\"247.0\">\n",
              "    <tspan class=\"displacy-word\" fill=\"currentColor\" x=\"1150\">méxico</tspan>\n",
              "    <tspan class=\"displacy-tag\" dy=\"2em\" fill=\"currentColor\" x=\"1150\">PROPN</tspan>\n",
              "</text>\n",
              "\n",
              "<text class=\"displacy-token\" fill=\"currentColor\" text-anchor=\"middle\" y=\"247.0\">\n",
              "    <tspan class=\"displacy-word\" fill=\"currentColor\" x=\"1250\">colombi…</tspan>\n",
              "    <tspan class=\"displacy-tag\" dy=\"2em\" fill=\"currentColor\" x=\"1250\">PROPN</tspan>\n",
              "</text>\n",
              "\n",
              "<text class=\"displacy-token\" fill=\"currentColor\" text-anchor=\"middle\" y=\"247.0\">\n",
              "    <tspan class=\"displacy-word\" fill=\"currentColor\" x=\"1350\">httpstco4hqv9gupmk</tspan>\n",
              "    <tspan class=\"displacy-tag\" dy=\"2em\" fill=\"currentColor\" x=\"1350\">PROPN</tspan>\n",
              "</text>\n",
              "\n",
              "<g class=\"displacy-arrow\">\n",
              "    <path class=\"displacy-arc\" id=\"arrow-3ce51d42bea54cf39272eb89a029b8e7-0-0\" stroke-width=\"2px\" d=\"M70,202.0 C70,52.0 345.0,52.0 345.0,202.0\" fill=\"none\" stroke=\"currentColor\"/>\n",
              "    <text dy=\"1.25em\" style=\"font-size: 0.8em; letter-spacing: 1px\">\n",
              "        <textPath xlink:href=\"#arrow-3ce51d42bea54cf39272eb89a029b8e7-0-0\" class=\"displacy-label\" startOffset=\"50%\" side=\"left\" fill=\"currentColor\" text-anchor=\"middle\">nsubj</textPath>\n",
              "    </text>\n",
              "    <path class=\"displacy-arrowhead\" d=\"M70,204.0 L62,192.0 78,192.0\" fill=\"currentColor\"/>\n",
              "</g>\n",
              "\n",
              "<g class=\"displacy-arrow\">\n",
              "    <path class=\"displacy-arc\" id=\"arrow-3ce51d42bea54cf39272eb89a029b8e7-0-1\" stroke-width=\"2px\" d=\"M170,202.0 C170,152.0 235.0,152.0 235.0,202.0\" fill=\"none\" stroke=\"currentColor\"/>\n",
              "    <text dy=\"1.25em\" style=\"font-size: 0.8em; letter-spacing: 1px\">\n",
              "        <textPath xlink:href=\"#arrow-3ce51d42bea54cf39272eb89a029b8e7-0-1\" class=\"displacy-label\" startOffset=\"50%\" side=\"left\" fill=\"currentColor\" text-anchor=\"middle\">obl</textPath>\n",
              "    </text>\n",
              "    <path class=\"displacy-arrowhead\" d=\"M170,204.0 L162,192.0 178,192.0\" fill=\"currentColor\"/>\n",
              "</g>\n",
              "\n",
              "<g class=\"displacy-arrow\">\n",
              "    <path class=\"displacy-arc\" id=\"arrow-3ce51d42bea54cf39272eb89a029b8e7-0-2\" stroke-width=\"2px\" d=\"M270,202.0 C270,152.0 335.0,152.0 335.0,202.0\" fill=\"none\" stroke=\"currentColor\"/>\n",
              "    <text dy=\"1.25em\" style=\"font-size: 0.8em; letter-spacing: 1px\">\n",
              "        <textPath xlink:href=\"#arrow-3ce51d42bea54cf39272eb89a029b8e7-0-2\" class=\"displacy-label\" startOffset=\"50%\" side=\"left\" fill=\"currentColor\" text-anchor=\"middle\">amod</textPath>\n",
              "    </text>\n",
              "    <path class=\"displacy-arrowhead\" d=\"M270,204.0 L262,192.0 278,192.0\" fill=\"currentColor\"/>\n",
              "</g>\n",
              "\n",
              "<g class=\"displacy-arrow\">\n",
              "    <path class=\"displacy-arc\" id=\"arrow-3ce51d42bea54cf39272eb89a029b8e7-0-3\" stroke-width=\"2px\" d=\"M370,202.0 C370,52.0 645.0,52.0 645.0,202.0\" fill=\"none\" stroke=\"currentColor\"/>\n",
              "    <text dy=\"1.25em\" style=\"font-size: 0.8em; letter-spacing: 1px\">\n",
              "        <textPath xlink:href=\"#arrow-3ce51d42bea54cf39272eb89a029b8e7-0-3\" class=\"displacy-label\" startOffset=\"50%\" side=\"left\" fill=\"currentColor\" text-anchor=\"middle\">nsubj</textPath>\n",
              "    </text>\n",
              "    <path class=\"displacy-arrowhead\" d=\"M370,204.0 L362,192.0 378,192.0\" fill=\"currentColor\"/>\n",
              "</g>\n",
              "\n",
              "<g class=\"displacy-arrow\">\n",
              "    <path class=\"displacy-arc\" id=\"arrow-3ce51d42bea54cf39272eb89a029b8e7-0-4\" stroke-width=\"2px\" d=\"M370,202.0 C370,152.0 435.0,152.0 435.0,202.0\" fill=\"none\" stroke=\"currentColor\"/>\n",
              "    <text dy=\"1.25em\" style=\"font-size: 0.8em; letter-spacing: 1px\">\n",
              "        <textPath xlink:href=\"#arrow-3ce51d42bea54cf39272eb89a029b8e7-0-4\" class=\"displacy-label\" startOffset=\"50%\" side=\"left\" fill=\"currentColor\" text-anchor=\"middle\">amod</textPath>\n",
              "    </text>\n",
              "    <path class=\"displacy-arrowhead\" d=\"M435.0,204.0 L443.0,192.0 427.0,192.0\" fill=\"currentColor\"/>\n",
              "</g>\n",
              "\n",
              "<g class=\"displacy-arrow\">\n",
              "    <path class=\"displacy-arc\" id=\"arrow-3ce51d42bea54cf39272eb89a029b8e7-0-5\" stroke-width=\"2px\" d=\"M470,202.0 C470,152.0 535.0,152.0 535.0,202.0\" fill=\"none\" stroke=\"currentColor\"/>\n",
              "    <text dy=\"1.25em\" style=\"font-size: 0.8em; letter-spacing: 1px\">\n",
              "        <textPath xlink:href=\"#arrow-3ce51d42bea54cf39272eb89a029b8e7-0-5\" class=\"displacy-label\" startOffset=\"50%\" side=\"left\" fill=\"currentColor\" text-anchor=\"middle\">flat</textPath>\n",
              "    </text>\n",
              "    <path class=\"displacy-arrowhead\" d=\"M535.0,204.0 L543.0,192.0 527.0,192.0\" fill=\"currentColor\"/>\n",
              "</g>\n",
              "\n",
              "<g class=\"displacy-arrow\">\n",
              "    <path class=\"displacy-arc\" id=\"arrow-3ce51d42bea54cf39272eb89a029b8e7-0-6\" stroke-width=\"2px\" d=\"M770,202.0 C770,152.0 835.0,152.0 835.0,202.0\" fill=\"none\" stroke=\"currentColor\"/>\n",
              "    <text dy=\"1.25em\" style=\"font-size: 0.8em; letter-spacing: 1px\">\n",
              "        <textPath xlink:href=\"#arrow-3ce51d42bea54cf39272eb89a029b8e7-0-6\" class=\"displacy-label\" startOffset=\"50%\" side=\"left\" fill=\"currentColor\" text-anchor=\"middle\">amod</textPath>\n",
              "    </text>\n",
              "    <path class=\"displacy-arrowhead\" d=\"M770,204.0 L762,192.0 778,192.0\" fill=\"currentColor\"/>\n",
              "</g>\n",
              "\n",
              "<g class=\"displacy-arrow\">\n",
              "    <path class=\"displacy-arc\" id=\"arrow-3ce51d42bea54cf39272eb89a029b8e7-0-7\" stroke-width=\"2px\" d=\"M670,202.0 C670,102.0 840.0,102.0 840.0,202.0\" fill=\"none\" stroke=\"currentColor\"/>\n",
              "    <text dy=\"1.25em\" style=\"font-size: 0.8em; letter-spacing: 1px\">\n",
              "        <textPath xlink:href=\"#arrow-3ce51d42bea54cf39272eb89a029b8e7-0-7\" class=\"displacy-label\" startOffset=\"50%\" side=\"left\" fill=\"currentColor\" text-anchor=\"middle\">obj</textPath>\n",
              "    </text>\n",
              "    <path class=\"displacy-arrowhead\" d=\"M840.0,204.0 L848.0,192.0 832.0,192.0\" fill=\"currentColor\"/>\n",
              "</g>\n",
              "\n",
              "<g class=\"displacy-arrow\">\n",
              "    <path class=\"displacy-arc\" id=\"arrow-3ce51d42bea54cf39272eb89a029b8e7-0-8\" stroke-width=\"2px\" d=\"M670,202.0 C670,52.0 945.0,52.0 945.0,202.0\" fill=\"none\" stroke=\"currentColor\"/>\n",
              "    <text dy=\"1.25em\" style=\"font-size: 0.8em; letter-spacing: 1px\">\n",
              "        <textPath xlink:href=\"#arrow-3ce51d42bea54cf39272eb89a029b8e7-0-8\" class=\"displacy-label\" startOffset=\"50%\" side=\"left\" fill=\"currentColor\" text-anchor=\"middle\">obj</textPath>\n",
              "    </text>\n",
              "    <path class=\"displacy-arrowhead\" d=\"M945.0,204.0 L953.0,192.0 937.0,192.0\" fill=\"currentColor\"/>\n",
              "</g>\n",
              "\n",
              "<g class=\"displacy-arrow\">\n",
              "    <path class=\"displacy-arc\" id=\"arrow-3ce51d42bea54cf39272eb89a029b8e7-0-9\" stroke-width=\"2px\" d=\"M670,202.0 C670,2.0 1050.0,2.0 1050.0,202.0\" fill=\"none\" stroke=\"currentColor\"/>\n",
              "    <text dy=\"1.25em\" style=\"font-size: 0.8em; letter-spacing: 1px\">\n",
              "        <textPath xlink:href=\"#arrow-3ce51d42bea54cf39272eb89a029b8e7-0-9\" class=\"displacy-label\" startOffset=\"50%\" side=\"left\" fill=\"currentColor\" text-anchor=\"middle\">obj</textPath>\n",
              "    </text>\n",
              "    <path class=\"displacy-arrowhead\" d=\"M1050.0,204.0 L1058.0,192.0 1042.0,192.0\" fill=\"currentColor\"/>\n",
              "</g>\n",
              "\n",
              "<g class=\"displacy-arrow\">\n",
              "    <path class=\"displacy-arc\" id=\"arrow-3ce51d42bea54cf39272eb89a029b8e7-0-10\" stroke-width=\"2px\" d=\"M1070,202.0 C1070,152.0 1135.0,152.0 1135.0,202.0\" fill=\"none\" stroke=\"currentColor\"/>\n",
              "    <text dy=\"1.25em\" style=\"font-size: 0.8em; letter-spacing: 1px\">\n",
              "        <textPath xlink:href=\"#arrow-3ce51d42bea54cf39272eb89a029b8e7-0-10\" class=\"displacy-label\" startOffset=\"50%\" side=\"left\" fill=\"currentColor\" text-anchor=\"middle\">flat</textPath>\n",
              "    </text>\n",
              "    <path class=\"displacy-arrowhead\" d=\"M1135.0,204.0 L1143.0,192.0 1127.0,192.0\" fill=\"currentColor\"/>\n",
              "</g>\n",
              "\n",
              "<g class=\"displacy-arrow\">\n",
              "    <path class=\"displacy-arc\" id=\"arrow-3ce51d42bea54cf39272eb89a029b8e7-0-11\" stroke-width=\"2px\" d=\"M1070,202.0 C1070,102.0 1240.0,102.0 1240.0,202.0\" fill=\"none\" stroke=\"currentColor\"/>\n",
              "    <text dy=\"1.25em\" style=\"font-size: 0.8em; letter-spacing: 1px\">\n",
              "        <textPath xlink:href=\"#arrow-3ce51d42bea54cf39272eb89a029b8e7-0-11\" class=\"displacy-label\" startOffset=\"50%\" side=\"left\" fill=\"currentColor\" text-anchor=\"middle\">flat</textPath>\n",
              "    </text>\n",
              "    <path class=\"displacy-arrowhead\" d=\"M1240.0,204.0 L1248.0,192.0 1232.0,192.0\" fill=\"currentColor\"/>\n",
              "</g>\n",
              "\n",
              "<g class=\"displacy-arrow\">\n",
              "    <path class=\"displacy-arc\" id=\"arrow-3ce51d42bea54cf39272eb89a029b8e7-0-12\" stroke-width=\"2px\" d=\"M1070,202.0 C1070,52.0 1345.0,52.0 1345.0,202.0\" fill=\"none\" stroke=\"currentColor\"/>\n",
              "    <text dy=\"1.25em\" style=\"font-size: 0.8em; letter-spacing: 1px\">\n",
              "        <textPath xlink:href=\"#arrow-3ce51d42bea54cf39272eb89a029b8e7-0-12\" class=\"displacy-label\" startOffset=\"50%\" side=\"left\" fill=\"currentColor\" text-anchor=\"middle\">flat</textPath>\n",
              "    </text>\n",
              "    <path class=\"displacy-arrowhead\" d=\"M1345.0,204.0 L1353.0,192.0 1337.0,192.0\" fill=\"currentColor\"/>\n",
              "</g>\n",
              "</svg></span>"
            ],
            "text/plain": [
              "<IPython.core.display.HTML object>"
            ]
          },
          "metadata": {
            "tags": []
          }
        }
      ]
    },
    {
      "cell_type": "code",
      "metadata": {
        "id": "BB6t0TIcGrCg",
        "outputId": "010a3c75-05c6-45a7-b07e-8a72608bb5b6",
        "colab": {
          "base_uri": "https://localhost:8080/",
          "height": 52
        }
      },
      "source": [
        "displacy.render(doc, style=\"ent\",jupyter=True,)"
      ],
      "execution_count": null,
      "outputs": [
        {
          "output_type": "display_data",
          "data": {
            "text/html": [
              "<span class=\"tex2jax_ignore\"><div class=\"entities\" style=\"line-height: 2.5; direction: ltr\">éste viernes sankirtana visita hanumat prana da gran entusiasta sankirtanero perú méxico colombi\n",
              "<mark class=\"entity\" style=\"background: #ddd; padding: 0.45em 0.6em; margin: 0 0.25em; line-height: 1; border-radius: 0.35em;\">\n",
              "    … httpstco4hqv9gupmk\n",
              "    <span style=\"font-size: 0.8em; font-weight: bold; line-height: 1; border-radius: 0.35em; text-transform: uppercase; vertical-align: middle; margin-left: 0.5rem\">MISC</span>\n",
              "</mark>\n",
              "</div></span>"
            ],
            "text/plain": [
              "<IPython.core.display.HTML object>"
            ]
          },
          "metadata": {
            "tags": []
          }
        }
      ]
    },
    {
      "cell_type": "code",
      "metadata": {
        "id": "dsjGrCmMGrCi",
        "outputId": "c05b27ad-32e6-4f18-95b1-cf3da79665d6",
        "colab": {
          "base_uri": "https://localhost:8080/",
          "height": 238
        }
      },
      "source": [
        "TextBlob(tweets_df['Tweets_clean'].iloc[-1]).ngrams(2)"
      ],
      "execution_count": null,
      "outputs": [
        {
          "output_type": "execute_result",
          "data": {
            "text/plain": [
              "[WordList(['éste', 'viernes']),\n",
              " WordList(['viernes', 'sankirtana']),\n",
              " WordList(['sankirtana', 'visita']),\n",
              " WordList(['visita', 'hanumat']),\n",
              " WordList(['hanumat', 'prana']),\n",
              " WordList(['prana', 'da']),\n",
              " WordList(['da', 'gran']),\n",
              " WordList(['gran', 'entusiasta']),\n",
              " WordList(['entusiasta', 'sankirtanero']),\n",
              " WordList(['sankirtanero', 'perú']),\n",
              " WordList(['perú', 'méxico']),\n",
              " WordList(['méxico', 'colombi…']),\n",
              " WordList(['colombi…', 'httpstco4hqv9gupmk'])]"
            ]
          },
          "metadata": {
            "tags": []
          },
          "execution_count": 205
        }
      ]
    },
    {
      "cell_type": "code",
      "metadata": {
        "id": "b7RrEC-IGrCk",
        "outputId": "fcfe9870-2515-4f57-d00b-755f68033409",
        "colab": {
          "base_uri": "https://localhost:8080/",
          "height": 376
        }
      },
      "source": [
        "tf1 = (tweets_df['Tweets_clean']).apply(lambda x: pd.value_counts(x.split(\" \"))).sum(axis = 0).reset_index()\n",
        "tf1.columns = ['words','tf']\n",
        "for i,word in enumerate(tf1['words']):\n",
        "    tf1.loc[i, 'idf'] = np.log(tweets_df.shape[0]/(len(tweets_df[tweets_df['Tweets_clean'].str.contains(word)])))\n",
        "\n",
        "tf1['tfidf'] = tf1['tf'] * tf1['idf']\n",
        "print(tf1.shape)\n",
        "tf1.head(10)"
      ],
      "execution_count": null,
      "outputs": [
        {
          "output_type": "stream",
          "text": [
            "(16, 4)\n"
          ],
          "name": "stdout"
        },
        {
          "output_type": "execute_result",
          "data": {
            "text/html": [
              "<div>\n",
              "<style scoped>\n",
              "    .dataframe tbody tr th:only-of-type {\n",
              "        vertical-align: middle;\n",
              "    }\n",
              "\n",
              "    .dataframe tbody tr th {\n",
              "        vertical-align: top;\n",
              "    }\n",
              "\n",
              "    .dataframe thead th {\n",
              "        text-align: right;\n",
              "    }\n",
              "</style>\n",
              "<table border=\"1\" class=\"dataframe\">\n",
              "  <thead>\n",
              "    <tr style=\"text-align: right;\">\n",
              "      <th></th>\n",
              "      <th>words</th>\n",
              "      <th>tf</th>\n",
              "      <th>idf</th>\n",
              "      <th>tfidf</th>\n",
              "    </tr>\n",
              "  </thead>\n",
              "  <tbody>\n",
              "    <tr>\n",
              "      <th>0</th>\n",
              "      <td>acomodando</td>\n",
              "      <td>1.0</td>\n",
              "      <td>0.693147</td>\n",
              "      <td>0.693147</td>\n",
              "    </tr>\n",
              "    <tr>\n",
              "      <th>1</th>\n",
              "      <td>va</td>\n",
              "      <td>1.0</td>\n",
              "      <td>0.693147</td>\n",
              "      <td>0.693147</td>\n",
              "    </tr>\n",
              "    <tr>\n",
              "      <th>2</th>\n",
              "      <td>perú</td>\n",
              "      <td>1.0</td>\n",
              "      <td>0.693147</td>\n",
              "      <td>0.693147</td>\n",
              "    </tr>\n",
              "    <tr>\n",
              "      <th>3</th>\n",
              "      <td>gran</td>\n",
              "      <td>1.0</td>\n",
              "      <td>0.693147</td>\n",
              "      <td>0.693147</td>\n",
              "    </tr>\n",
              "    <tr>\n",
              "      <th>4</th>\n",
              "      <td>sankirtanero</td>\n",
              "      <td>1.0</td>\n",
              "      <td>0.693147</td>\n",
              "      <td>0.693147</td>\n",
              "    </tr>\n",
              "    <tr>\n",
              "      <th>5</th>\n",
              "      <td>da</td>\n",
              "      <td>1.0</td>\n",
              "      <td>0.000000</td>\n",
              "      <td>0.000000</td>\n",
              "    </tr>\n",
              "    <tr>\n",
              "      <th>6</th>\n",
              "      <td>méxico</td>\n",
              "      <td>1.0</td>\n",
              "      <td>0.693147</td>\n",
              "      <td>0.693147</td>\n",
              "    </tr>\n",
              "    <tr>\n",
              "      <th>7</th>\n",
              "      <td>hanumat</td>\n",
              "      <td>1.0</td>\n",
              "      <td>0.693147</td>\n",
              "      <td>0.693147</td>\n",
              "    </tr>\n",
              "    <tr>\n",
              "      <th>8</th>\n",
              "      <td>éste</td>\n",
              "      <td>1.0</td>\n",
              "      <td>0.693147</td>\n",
              "      <td>0.693147</td>\n",
              "    </tr>\n",
              "    <tr>\n",
              "      <th>9</th>\n",
              "      <td>colombi…</td>\n",
              "      <td>1.0</td>\n",
              "      <td>0.693147</td>\n",
              "      <td>0.693147</td>\n",
              "    </tr>\n",
              "  </tbody>\n",
              "</table>\n",
              "</div>"
            ],
            "text/plain": [
              "          words   tf       idf     tfidf\n",
              "0    acomodando  1.0  0.693147  0.693147\n",
              "1            va  1.0  0.693147  0.693147\n",
              "2          perú  1.0  0.693147  0.693147\n",
              "3          gran  1.0  0.693147  0.693147\n",
              "4  sankirtanero  1.0  0.693147  0.693147\n",
              "5            da  1.0  0.000000  0.000000\n",
              "6        méxico  1.0  0.693147  0.693147\n",
              "7       hanumat  1.0  0.693147  0.693147\n",
              "8          éste  1.0  0.693147  0.693147\n",
              "9      colombi…  1.0  0.693147  0.693147"
            ]
          },
          "metadata": {
            "tags": []
          },
          "execution_count": 206
        }
      ]
    },
    {
      "cell_type": "code",
      "metadata": {
        "id": "104JtA-sGrCn"
      },
      "source": [
        "stop = set(stopwords.words('spanish'))\n",
        "stop |= set(['lima','si','ser'])"
      ],
      "execution_count": null,
      "outputs": []
    },
    {
      "cell_type": "code",
      "metadata": {
        "id": "OOXx4IfXGrCo",
        "outputId": "2224b188-a14e-4713-eae9-06eb25599032",
        "colab": {
          "base_uri": "https://localhost:8080/",
          "height": 51
        }
      },
      "source": [
        "tfidf = TfidfVectorizer(max_features=1000, lowercase=True, analyzer='word', stop_words= stop,ngram_range=(1,1))\n",
        "train_vect = tfidf.fit_transform(tweets_df['Tweets_clean'])\n",
        "train_vect"
      ],
      "execution_count": null,
      "outputs": [
        {
          "output_type": "execute_result",
          "data": {
            "text/plain": [
              "<2x16 sparse matrix of type '<class 'numpy.float64'>'\n",
              "\twith 16 stored elements in Compressed Sparse Row format>"
            ]
          },
          "metadata": {
            "tags": []
          },
          "execution_count": 208
        }
      ]
    },
    {
      "cell_type": "code",
      "metadata": {
        "id": "wRUM6oA4GrCt",
        "outputId": "38b634c0-f8f0-41a3-90e0-d13fee1fd4dd",
        "colab": {
          "base_uri": "https://localhost:8080/",
          "height": 68
        }
      },
      "source": [
        "from sklearn.feature_extraction.text import CountVectorizer\n",
        "bow = CountVectorizer(max_features=1000, lowercase=True, ngram_range=(1,1),analyzer = \"word\")\n",
        "train_bow = bow.fit_transform(tweets_df['Tweets_clean'])\n",
        "print(train_bow.shape)\n",
        "train_bow"
      ],
      "execution_count": null,
      "outputs": [
        {
          "output_type": "stream",
          "text": [
            "(2, 16)\n"
          ],
          "name": "stdout"
        },
        {
          "output_type": "execute_result",
          "data": {
            "text/plain": [
              "<2x16 sparse matrix of type '<class 'numpy.int64'>'\n",
              "\twith 16 stored elements in Compressed Sparse Row format>"
            ]
          },
          "metadata": {
            "tags": []
          },
          "execution_count": 209
        }
      ]
    },
    {
      "cell_type": "code",
      "metadata": {
        "id": "P236la94GrCv"
      },
      "source": [
        "from sklearn.metrics.pairwise import linear_kernel\n",
        "\n",
        "def find_similar(tfidf_matrix, index, top_n = 5):\n",
        "    cosine_similarities = linear_kernel(tfidf_matrix[index:index+1], tfidf_matrix).flatten()\n",
        "    related_docs_indices = [i for i in cosine_similarities.argsort()[::-1] if i != index]\n",
        "    return [(index, cosine_similarities[index]) for index in related_docs_indices][0:top_n]"
      ],
      "execution_count": null,
      "outputs": []
    },
    {
      "cell_type": "code",
      "metadata": {
        "id": "aaSpWD5oGrCy",
        "outputId": "f005cd42-0fe5-442b-afec-d7f6fe6db560",
        "colab": {
          "base_uri": "https://localhost:8080/",
          "height": 131
        }
      },
      "source": [
        "tweet = tweets_df.sample(1)\n",
        "tweet"
      ],
      "execution_count": null,
      "outputs": [
        {
          "output_type": "execute_result",
          "data": {
            "text/html": [
              "<div>\n",
              "<style scoped>\n",
              "    .dataframe tbody tr th:only-of-type {\n",
              "        vertical-align: middle;\n",
              "    }\n",
              "\n",
              "    .dataframe tbody tr th {\n",
              "        vertical-align: top;\n",
              "    }\n",
              "\n",
              "    .dataframe thead th {\n",
              "        text-align: right;\n",
              "    }\n",
              "</style>\n",
              "<table border=\"1\" class=\"dataframe\">\n",
              "  <thead>\n",
              "    <tr style=\"text-align: right;\">\n",
              "      <th></th>\n",
              "      <th>date</th>\n",
              "      <th>Tweets</th>\n",
              "      <th>location</th>\n",
              "      <th>followers</th>\n",
              "      <th>word_count</th>\n",
              "      <th>char_count</th>\n",
              "      <th>avg_word</th>\n",
              "      <th>hastags</th>\n",
              "      <th>numerics</th>\n",
              "      <th>Tweets_clean</th>\n",
              "      <th>ACTIONS</th>\n",
              "      <th>NOUNS</th>\n",
              "    </tr>\n",
              "  </thead>\n",
              "  <tbody>\n",
              "    <tr>\n",
              "      <th>2</th>\n",
              "      <td>2020-10-09 04:11:25</td>\n",
              "      <td>Éste Viernes de Sankirtana, nos visita Hanumat...</td>\n",
              "      <td>Lurigancho</td>\n",
              "      <td>401</td>\n",
              "      <td>14</td>\n",
              "      <td>116</td>\n",
              "      <td>7.357143</td>\n",
              "      <td>0</td>\n",
              "      <td>0</td>\n",
              "      <td>éste viernes sankirtana visita hanumat prana d...</td>\n",
              "      <td>comer</td>\n",
              "      <td>piqueos, basura</td>\n",
              "    </tr>\n",
              "  </tbody>\n",
              "</table>\n",
              "</div>"
            ],
            "text/plain": [
              "                  date  ...            NOUNS\n",
              "2  2020-10-09 04:11:25  ...  piqueos, basura\n",
              "\n",
              "[1 rows x 12 columns]"
            ]
          },
          "metadata": {
            "tags": []
          },
          "execution_count": 211
        }
      ]
    },
    {
      "cell_type": "code",
      "metadata": {
        "id": "l0xeCmaEGrC1",
        "outputId": "39a9dea1-a252-449a-f316-8b670ba86b05",
        "colab": {
          "base_uri": "https://localhost:8080/",
          "height": 54
        }
      },
      "source": [
        "print(tweet['Tweets'].values)"
      ],
      "execution_count": null,
      "outputs": [
        {
          "output_type": "stream",
          "text": [
            "['Éste Viernes de Sankirtana, nos visita Hanumat Prana Das, un gran y entusiasta sankirtanero. \\nPerú /México /Colombi… https://t.co/4hqv9gupmK']\n"
          ],
          "name": "stdout"
        }
      ]
    },
    {
      "cell_type": "code",
      "metadata": {
        "id": "KbwXoco7GrC3"
      },
      "source": [
        "tweet.reset_index(drop=True,inplace=True)"
      ],
      "execution_count": null,
      "outputs": []
    },
    {
      "cell_type": "code",
      "metadata": {
        "id": "5reTsQtQGrC6",
        "outputId": "1f03f6a6-3d32-4e87-8173-2c2d03990476",
        "colab": {
          "base_uri": "https://localhost:8080/",
          "height": 111
        }
      },
      "source": [
        "pd.options.display.max_colwidth = 120\n",
        "vals = pd.DataFrame()\n",
        "for index, score in find_similar(train_vect, tweet.index[0],top_n = 5):\n",
        "    vals = vals.append(tweets_df.iloc[index:index+1,:])\n",
        "    vals.loc[index,'score'] = score\n",
        "    \n",
        "vals[['Tweets','score']].head()"
      ],
      "execution_count": null,
      "outputs": [
        {
          "output_type": "execute_result",
          "data": {
            "text/html": [
              "<div>\n",
              "<style scoped>\n",
              "    .dataframe tbody tr th:only-of-type {\n",
              "        vertical-align: middle;\n",
              "    }\n",
              "\n",
              "    .dataframe tbody tr th {\n",
              "        vertical-align: top;\n",
              "    }\n",
              "\n",
              "    .dataframe thead th {\n",
              "        text-align: right;\n",
              "    }\n",
              "</style>\n",
              "<table border=\"1\" class=\"dataframe\">\n",
              "  <thead>\n",
              "    <tr style=\"text-align: right;\">\n",
              "      <th></th>\n",
              "      <th>Tweets</th>\n",
              "      <th>score</th>\n",
              "    </tr>\n",
              "  </thead>\n",
              "  <tbody>\n",
              "    <tr>\n",
              "      <th>2</th>\n",
              "      <td>Éste Viernes de Sankirtana, nos visita Hanumat Prana Das, un gran y entusiasta sankirtanero. \\nPerú /México /Colombi...</td>\n",
              "      <td>NaN</td>\n",
              "    </tr>\n",
              "    <tr>\n",
              "      <th>1</th>\n",
              "      <td>NaN</td>\n",
              "      <td>0.0</td>\n",
              "    </tr>\n",
              "  </tbody>\n",
              "</table>\n",
              "</div>"
            ],
            "text/plain": [
              "                                                                                                                    Tweets  score\n",
              "2  Éste Viernes de Sankirtana, nos visita Hanumat Prana Das, un gran y entusiasta sankirtanero. \\nPerú /México /Colombi...    NaN\n",
              "1                                                                                                                      NaN    0.0"
            ]
          },
          "metadata": {
            "tags": []
          },
          "execution_count": 214
        }
      ]
    },
    {
      "cell_type": "code",
      "metadata": {
        "id": "d2F9cn2eGrC-"
      },
      "source": [
        "corpus = nlp('\\n'.join(tweets_df['NOUNS'].dropna()))"
      ],
      "execution_count": null,
      "outputs": []
    },
    {
      "cell_type": "code",
      "metadata": {
        "id": "DcV2upsFGrDD",
        "outputId": "808101e6-e786-4f86-e24a-66a786d78350",
        "colab": {
          "base_uri": "https://localhost:8080/",
          "height": 142
        }
      },
      "source": [
        "visited = {}\n",
        "nouns = []\n",
        "for word in corpus:\n",
        "    if word.pos_.startswith('N') and len(word.string) < 15 and len(word.string) > 2:\n",
        "        token = word.string.strip().lower()\n",
        "        if token in visited:\n",
        "            visited[token] += 1\n",
        "            continue\n",
        "        else:\n",
        "            visited[token] = 1\n",
        "            nouns.append(word)\n",
        "nouns = sorted(nouns, key=lambda w: -visited[w.string.strip().lower()])[:150]\n",
        "pd.DataFrame([[w.text, visited[w.string.strip().lower()]] for w in nouns], columns=['Noun', 'Freq'])"
      ],
      "execution_count": null,
      "outputs": [
        {
          "output_type": "execute_result",
          "data": {
            "text/html": [
              "<div>\n",
              "<style scoped>\n",
              "    .dataframe tbody tr th:only-of-type {\n",
              "        vertical-align: middle;\n",
              "    }\n",
              "\n",
              "    .dataframe tbody tr th {\n",
              "        vertical-align: top;\n",
              "    }\n",
              "\n",
              "    .dataframe thead th {\n",
              "        text-align: right;\n",
              "    }\n",
              "</style>\n",
              "<table border=\"1\" class=\"dataframe\">\n",
              "  <thead>\n",
              "    <tr style=\"text-align: right;\">\n",
              "      <th></th>\n",
              "      <th>Noun</th>\n",
              "      <th>Freq</th>\n",
              "    </tr>\n",
              "  </thead>\n",
              "  <tbody>\n",
              "    <tr>\n",
              "      <th>0</th>\n",
              "      <td>desgracia</td>\n",
              "      <td>1</td>\n",
              "    </tr>\n",
              "    <tr>\n",
              "      <th>1</th>\n",
              "      <td>piqueos</td>\n",
              "      <td>1</td>\n",
              "    </tr>\n",
              "    <tr>\n",
              "      <th>2</th>\n",
              "      <td>basura</td>\n",
              "      <td>1</td>\n",
              "    </tr>\n",
              "  </tbody>\n",
              "</table>\n",
              "</div>"
            ],
            "text/plain": [
              "        Noun  Freq\n",
              "0  desgracia     1\n",
              "1    piqueos     1\n",
              "2     basura     1"
            ]
          },
          "metadata": {
            "tags": []
          },
          "execution_count": 216
        }
      ]
    },
    {
      "cell_type": "code",
      "metadata": {
        "id": "IG1DDB3XGrDG",
        "outputId": "a05546d1-c8eb-4ba5-d184-fce555496cde",
        "colab": {
          "base_uri": "https://localhost:8080/",
          "height": 296
        }
      },
      "source": [
        "def plot_with_labels(low_dim_embs, labels, filename='tsne.png'):\n",
        "    assert low_dim_embs.shape[0] >= len(labels), \"More labels than embeddings\"\n",
        "    plt.figure() # in inches\n",
        "    for i, label in enumerate(labels):\n",
        "        x, y = low_dim_embs[i, :]\n",
        "        plt.scatter(x, y, s=2.0)\n",
        "        plt.annotate(label, xy=(x, y), xytext=(5, 2),\n",
        "                 textcoords='offset points',ha='right',va='bottom')\n",
        "    plt.tight_layout()\n",
        "    plt.savefig('snapshot/lima_words_TSNE.png')\n",
        "    plt.show()\n",
        "\n",
        "# Creating the tsne plot [Warning: will take time]\n",
        "tsne = TSNE(perplexity=50.0, n_components=2, init='pca', n_iter=10000)\n",
        "\n",
        "low_dim_embedding = tsne.fit_transform(np.array([word.vector for word in nouns]))\n",
        "\n",
        "# Finally plotting and saving the fig \n",
        "plot_with_labels(low_dim_embedding, [word.text for word in nouns])"
      ],
      "execution_count": null,
      "outputs": [
        {
          "output_type": "display_data",
          "data": {
            "image/png": "[encoded data removed]",
            "text/plain": [
              "<Figure size 432x288 with 1 Axes>"
            ]
          },
          "metadata": {
            "tags": [],
            "needs_background": "light"
          }
        }
      ]
    },
    {
      "cell_type": "code",
      "metadata": {
        "id": "EvmqBsLMGrDJ",
        "outputId": "bb9681d9-8ab6-4779-8065-fd41f14051cf",
        "colab": {
          "base_uri": "https://localhost:8080/",
          "height": 97
        }
      },
      "source": [
        "tweets_df = pd.read_csv('tweets_solutions.csv')\n",
        "tweets_df.head(1)"
      ],
      "execution_count": null,
      "outputs": [
        {
          "output_type": "execute_result",
          "data": {
            "text/html": [
              "<div>\n",
              "<style scoped>\n",
              "    .dataframe tbody tr th:only-of-type {\n",
              "        vertical-align: middle;\n",
              "    }\n",
              "\n",
              "    .dataframe tbody tr th {\n",
              "        vertical-align: top;\n",
              "    }\n",
              "\n",
              "    .dataframe thead th {\n",
              "        text-align: right;\n",
              "    }\n",
              "</style>\n",
              "<table border=\"1\" class=\"dataframe\">\n",
              "  <thead>\n",
              "    <tr style=\"text-align: right;\">\n",
              "      <th></th>\n",
              "      <th>date</th>\n",
              "      <th>Tweets</th>\n",
              "      <th>location</th>\n",
              "      <th>followers</th>\n",
              "      <th>word_count</th>\n",
              "      <th>char_count</th>\n",
              "      <th>avg_word</th>\n",
              "      <th>hastags</th>\n",
              "      <th>numerics</th>\n",
              "      <th>Tweets_clean</th>\n",
              "      <th>ACTIONS</th>\n",
              "      <th>NOUNS</th>\n",
              "    </tr>\n",
              "  </thead>\n",
              "  <tbody>\n",
              "    <tr>\n",
              "      <th>0</th>\n",
              "      <td>2020-10-09 04:11:20</td>\n",
              "      <td>Poco a poco todo se va acomodando</td>\n",
              "      <td>Santa Anita</td>\n",
              "      <td>170</td>\n",
              "      <td>2</td>\n",
              "      <td>13</td>\n",
              "      <td>6.0</td>\n",
              "      <td>0</td>\n",
              "      <td>0</td>\n",
              "      <td>va acomodando</td>\n",
              "      <td>cuídate</td>\n",
              "      <td>desgracia</td>\n",
              "    </tr>\n",
              "  </tbody>\n",
              "</table>\n",
              "</div>"
            ],
            "text/plain": [
              "                  date                             Tweets  ...  ACTIONS      NOUNS\n",
              "0  2020-10-09 04:11:20  Poco a poco todo se va acomodando  ...  cuídate  desgracia\n",
              "\n",
              "[1 rows x 12 columns]"
            ]
          },
          "metadata": {
            "tags": []
          },
          "execution_count": 219
        }
      ]
    },
    {
      "cell_type": "code",
      "metadata": {
        "id": "QsjXRKTGGrDP",
        "outputId": "a842c15b-3558-4ed7-c451-a73f9e3eca4d",
        "colab": {
          "base_uri": "https://localhost:8080/",
          "height": 34
        }
      },
      "source": [
        "hashtag_summary = adv.extract_hashtags(tweets_df['Tweets'])\n",
        "hashtag_summary.keys()"
      ],
      "execution_count": null,
      "outputs": [
        {
          "output_type": "execute_result",
          "data": {
            "text/plain": [
              "dict_keys(['hashtags', 'hashtags_flat', 'hashtag_counts', 'hashtag_freq', 'top_hashtags', 'overview'])"
            ]
          },
          "metadata": {
            "tags": []
          },
          "execution_count": 220
        }
      ]
    },
    {
      "cell_type": "code",
      "metadata": {
        "id": "lDnYMAfZGrDR",
        "outputId": "8715a1a1-29d1-4810-bc50-b9b71d0ba0ff",
        "colab": {
          "base_uri": "https://localhost:8080/",
          "height": 85
        }
      },
      "source": [
        "hashtag_summary['overview']"
      ],
      "execution_count": null,
      "outputs": [
        {
          "output_type": "execute_result",
          "data": {
            "text/plain": [
              "{'hashtags_per_post': 0.0,\n",
              " 'num_hashtags': 0,\n",
              " 'num_posts': 20,\n",
              " 'unique_hashtags': 0}"
            ]
          },
          "metadata": {
            "tags": []
          },
          "execution_count": 221
        }
      ]
    },
    {
      "cell_type": "code",
      "metadata": {
        "id": "gU45Lg8tGrDX",
        "outputId": "c94f7da2-282a-426f-eaca-86dc1da07dc5",
        "colab": {
          "base_uri": "https://localhost:8080/",
          "height": 34
        }
      },
      "source": [
        "hashtag_summary['hashtags'][:5]"
      ],
      "execution_count": null,
      "outputs": [
        {
          "output_type": "execute_result",
          "data": {
            "text/plain": [
              "[[], [], [], [], []]"
            ]
          },
          "metadata": {
            "tags": []
          },
          "execution_count": 224
        }
      ]
    },
    {
      "cell_type": "code",
      "metadata": {
        "id": "jt6G_xdIGrDa",
        "outputId": "f50f66f4-ac95-4dac-96c7-fe52737635d9",
        "colab": {
          "base_uri": "https://localhost:8080/",
          "height": 34
        }
      },
      "source": [
        "hashtag_summary['hashtag_counts'][:20]"
      ],
      "execution_count": null,
      "outputs": [
        {
          "output_type": "execute_result",
          "data": {
            "text/plain": [
              "[0, 0, 0, 0, 0, 0, 0, 0, 0, 0, 0, 0, 0, 0, 0, 0, 0, 0, 0, 0]"
            ]
          },
          "metadata": {
            "tags": []
          },
          "execution_count": 225
        }
      ]
    },
    {
      "cell_type": "code",
      "metadata": {
        "id": "4IfQjn5SGrDc",
        "outputId": "f9b34c34-60f6-4019-8a31-567af409b67c",
        "colab": {
          "base_uri": "https://localhost:8080/",
          "height": 34
        }
      },
      "source": [
        "hashtag_summary['hashtag_freq'][:20]"
      ],
      "execution_count": null,
      "outputs": [
        {
          "output_type": "execute_result",
          "data": {
            "text/plain": [
              "[(0, 20)]"
            ]
          },
          "metadata": {
            "tags": []
          },
          "execution_count": 226
        }
      ]
    },
    {
      "cell_type": "code",
      "metadata": {
        "id": "0xHt2ZTTGrDf",
        "outputId": "a4503634-52f5-4c8b-def6-0c4f977c33ae",
        "colab": {
          "base_uri": "https://localhost:8080/",
          "height": 513
        }
      },
      "source": [
        "plt.figure(facecolor='#ebebeb', figsize=(11, 8))\n",
        "plt.bar([x[0] for x in hashtag_summary['hashtag_freq'][:15]],\n",
        "        [x[1] for x in hashtag_summary['hashtag_freq'][:15]])\n",
        "plt.title('Hashtag frequency')\n",
        "plt.xlabel('Hashtags per tweet')\n",
        "plt.ylabel('Number of tweets')\n",
        "plt.yscale('log')\n",
        "plt.grid(alpha=0.5)\n",
        "plt.gca().set_frame_on(False)"
      ],
      "execution_count": null,
      "outputs": [
        {
          "output_type": "display_data",
          "data": {
            "image/png": "[encoded data removed]",
            "text/plain": [
              "<Figure size 792x576 with 1 Axes>"
            ]
          },
          "metadata": {
            "tags": []
          }
        }
      ]
    },
    {
      "cell_type": "code",
      "metadata": {
        "id": "fDMLUKHJGrDh",
        "outputId": "b0026fd3-1f13-4299-8448-5e5d0cc4e1c8",
        "colab": {
          "base_uri": "https://localhost:8080/",
          "height": 34
        }
      },
      "source": [
        "hashtag_summary['top_hashtags'][:10]"
      ],
      "execution_count": null,
      "outputs": [
        {
          "output_type": "execute_result",
          "data": {
            "text/plain": [
              "[]"
            ]
          },
          "metadata": {
            "tags": []
          },
          "execution_count": 228
        }
      ]
    },
    {
      "cell_type": "code",
      "metadata": {
        "id": "xcCIfwJfGrDm",
        "outputId": "16f4f1dc-12c0-4fee-f5f9-dc422dc12aee",
        "colab": {
          "base_uri": "https://localhost:8080/",
          "height": 716
        }
      },
      "source": [
        "plt.figure(facecolor='#ebebeb', figsize=(8, 12))\n",
        "plt.barh([x[0] for x in hashtag_summary['top_hashtags'][2:][:5]][::-1],\n",
        "         [x[1] for x in hashtag_summary['top_hashtags'][2:][:5]][::-1])\n",
        "plt.title('Top Hashtags')\n",
        "# plt.xticks(range(3))\n",
        "plt.grid(alpha=0.5)\n",
        "plt.gca().set_frame_on(False)"
      ],
      "execution_count": null,
      "outputs": [
        {
          "output_type": "display_data",
          "data": {
            "image/png": "[encoded data removed]",
            "text/plain": [
              "<Figure size 576x864 with 1 Axes>"
            ]
          },
          "metadata": {
            "tags": []
          }
        }
      ]
    },
    {
      "cell_type": "code",
      "metadata": {
        "id": "5YUuqGkrGrDp",
        "outputId": "10229d7e-4e66-4859-dda1-b4468b180b81",
        "colab": {
          "base_uri": "https://localhost:8080/",
          "height": 54
        }
      },
      "source": [
        "emoji_summary = adv.extract_emoji(tweets_df['Tweets'])\n",
        "emoji_summary.keys()"
      ],
      "execution_count": null,
      "outputs": [
        {
          "output_type": "execute_result",
          "data": {
            "text/plain": [
              "dict_keys(['emoji', 'emoji_text', 'emoji_flat', 'emoji_flat_text', 'emoji_counts', 'emoji_freq', 'top_emoji', 'top_emoji_text', 'top_emoji_groups', 'top_emoji_sub_groups', 'overview'])"
            ]
          },
          "metadata": {
            "tags": []
          },
          "execution_count": 230
        }
      ]
    },
    {
      "cell_type": "code",
      "metadata": {
        "id": "K8tpiBK0GrDs",
        "outputId": "4bab7c31-3ea1-4f95-e5ec-b183fb076384",
        "colab": {
          "base_uri": "https://localhost:8080/",
          "height": 34
        }
      },
      "source": [
        "emoji_summary['overview']"
      ],
      "execution_count": null,
      "outputs": [
        {
          "output_type": "execute_result",
          "data": {
            "text/plain": [
              "{'emoji_per_post': 1.15, 'num_emoji': 23, 'num_posts': 20, 'unique_emoji': 14}"
            ]
          },
          "metadata": {
            "tags": []
          },
          "execution_count": 231
        }
      ]
    },
    {
      "cell_type": "code",
      "metadata": {
        "id": "r_KbiZTfGrDw",
        "outputId": "aa550026-6fd6-4d98-c7ef-e9cc742be443",
        "colab": {
          "base_uri": "https://localhost:8080/",
          "height": 34
        }
      },
      "source": [
        "emoji_summary['emoji'][50:80]"
      ],
      "execution_count": null,
      "outputs": [
        {
          "output_type": "execute_result",
          "data": {
            "text/plain": [
              "[]"
            ]
          },
          "metadata": {
            "tags": []
          },
          "execution_count": 232
        }
      ]
    },
    {
      "cell_type": "code",
      "metadata": {
        "id": "7vBQAxJeGrDz",
        "outputId": "517cb2e3-abb6-473c-9b1d-d9ff091dfafd",
        "colab": {
          "base_uri": "https://localhost:8080/",
          "height": 34
        }
      },
      "source": [
        "emoji_summary['emoji_text'][50:80]"
      ],
      "execution_count": null,
      "outputs": [
        {
          "output_type": "execute_result",
          "data": {
            "text/plain": [
              "[]"
            ]
          },
          "metadata": {
            "tags": []
          },
          "execution_count": 233
        }
      ]
    },
    {
      "cell_type": "code",
      "metadata": {
        "id": "kny_YTO8GrD1",
        "outputId": "f7bacd24-27b5-4370-cae2-0198b52f4ca8",
        "colab": {
          "base_uri": "https://localhost:8080/",
          "height": 34
        }
      },
      "source": [
        "emoji_summary['emoji_flat'][:10]"
      ],
      "execution_count": null,
      "outputs": [
        {
          "output_type": "execute_result",
          "data": {
            "text/plain": [
              "['😍', '\\U0001f97a', '🙏', '🍔', '😋', '🤣', '🤣', '🤣', '🤣', '🤣']"
            ]
          },
          "metadata": {
            "tags": []
          },
          "execution_count": 234
        }
      ]
    },
    {
      "cell_type": "code",
      "metadata": {
        "id": "u_0OcMZXGrD6",
        "outputId": "296fae10-b5a9-49b3-cce8-b76cc4c34dcd",
        "colab": {
          "base_uri": "https://localhost:8080/",
          "height": 187
        }
      },
      "source": [
        "emoji_summary['emoji_flat_text'][:10]"
      ],
      "execution_count": null,
      "outputs": [
        {
          "output_type": "execute_result",
          "data": {
            "text/plain": [
              "['smiling face with heart-eyes',\n",
              " 'pleading face',\n",
              " 'folded hands',\n",
              " 'hamburger',\n",
              " 'face savoring food',\n",
              " 'rolling on the floor laughing',\n",
              " 'rolling on the floor laughing',\n",
              " 'rolling on the floor laughing',\n",
              " 'rolling on the floor laughing',\n",
              " 'rolling on the floor laughing']"
            ]
          },
          "metadata": {
            "tags": []
          },
          "execution_count": 235
        }
      ]
    },
    {
      "cell_type": "code",
      "metadata": {
        "id": "gw47wHBJGrD9",
        "outputId": "41d8045e-9be9-4915-a18e-896ee3b0626d",
        "colab": {
          "base_uri": "https://localhost:8080/",
          "height": 187
        }
      },
      "source": [
        "list(zip(emoji_summary['emoji_flat'][:10], emoji_summary['emoji_flat_text'][:10]))"
      ],
      "execution_count": null,
      "outputs": [
        {
          "output_type": "execute_result",
          "data": {
            "text/plain": [
              "[('😍', 'smiling face with heart-eyes'),\n",
              " ('\\U0001f97a', 'pleading face'),\n",
              " ('🙏', 'folded hands'),\n",
              " ('🍔', 'hamburger'),\n",
              " ('😋', 'face savoring food'),\n",
              " ('🤣', 'rolling on the floor laughing'),\n",
              " ('🤣', 'rolling on the floor laughing'),\n",
              " ('🤣', 'rolling on the floor laughing'),\n",
              " ('🤣', 'rolling on the floor laughing'),\n",
              " ('🤣', 'rolling on the floor laughing')]"
            ]
          },
          "metadata": {
            "tags": []
          },
          "execution_count": 236
        }
      ]
    },
    {
      "cell_type": "code",
      "metadata": {
        "id": "runlNSfHGrEB",
        "outputId": "30642476-a7f2-4bee-e3af-9444a33e8aac",
        "colab": {
          "base_uri": "https://localhost:8080/",
          "height": 34
        }
      },
      "source": [
        "emoji_summary['emoji_counts'][:15]"
      ],
      "execution_count": null,
      "outputs": [
        {
          "output_type": "execute_result",
          "data": {
            "text/plain": [
              "[0, 0, 0, 0, 0, 0, 1, 4, 0, 7, 1, 0, 1, 2, 0]"
            ]
          },
          "metadata": {
            "tags": []
          },
          "execution_count": 237
        }
      ]
    },
    {
      "cell_type": "code",
      "metadata": {
        "id": "HGTxPQsFGrED",
        "outputId": "ade2ebed-590d-4f3f-9e61-f590ec13e782",
        "colab": {
          "base_uri": "https://localhost:8080/",
          "height": 34
        }
      },
      "source": [
        "emoji_summary['emoji_freq'][:15]"
      ],
      "execution_count": null,
      "outputs": [
        {
          "output_type": "execute_result",
          "data": {
            "text/plain": [
              "[(0, 12), (1, 3), (2, 2), (4, 1), (5, 1), (7, 1)]"
            ]
          },
          "metadata": {
            "tags": []
          },
          "execution_count": 238
        }
      ]
    },
    {
      "cell_type": "code",
      "metadata": {
        "id": "5I8nB82wGrEG",
        "outputId": "70c5e85d-eb6e-4433-d8d8-b5971eee2ee5",
        "colab": {
          "base_uri": "https://localhost:8080/",
          "height": 513
        }
      },
      "source": [
        "plt.figure(facecolor='#ebebeb', figsize=(8, 8))\n",
        "plt.bar([x[0] for x in emoji_summary['emoji_freq'][:15]],\n",
        "        [x[1] for x in emoji_summary['emoji_freq'][:15]])\n",
        "plt.title('Emoji frequency')\n",
        "plt.xlabel('Emoji per tweet')\n",
        "plt.ylabel('Number of tweets')\n",
        "plt.yscale('log')\n",
        "plt.grid(alpha=0.5)\n",
        "plt.gca().set_frame_on(False)"
      ],
      "execution_count": null,
      "outputs": [
        {
          "output_type": "display_data",
          "data": {
            "image/png": "[encoded data removed]",
            "text/plain": [
              "<Figure size 576x576 with 1 Axes>"
            ]
          },
          "metadata": {
            "tags": []
          }
        }
      ]
    },
    {
      "cell_type": "code",
      "metadata": {
        "id": "NfgaWrSjGrEJ",
        "outputId": "b398d457-31f8-4593-f3c2-4c4e05d00e5c",
        "colab": {
          "base_uri": "https://localhost:8080/",
          "height": 153
        }
      },
      "source": [
        "emoji_summary['top_emoji'][:8]"
      ],
      "execution_count": null,
      "outputs": [
        {
          "output_type": "execute_result",
          "data": {
            "text/plain": [
              "[('🤣', 7),\n",
              " ('👏', 3),\n",
              " ('🙏', 2),\n",
              " ('😍', 1),\n",
              " ('\\U0001f97a', 1),\n",
              " ('🍔', 1),\n",
              " ('😋', 1),\n",
              " ('🤦🏻\\u200d♂️', 1)]"
            ]
          },
          "metadata": {
            "tags": []
          },
          "execution_count": 240
        }
      ]
    },
    {
      "cell_type": "code",
      "metadata": {
        "id": "vQXFyGqwGrEN",
        "outputId": "7d070c6b-3d81-4566-d166-6f624c06574d",
        "colab": {
          "base_uri": "https://localhost:8080/",
          "height": 153
        }
      },
      "source": [
        "emoji_summary['top_emoji_text'][:8]"
      ],
      "execution_count": null,
      "outputs": [
        {
          "output_type": "execute_result",
          "data": {
            "text/plain": [
              "[('rolling on the floor laughing', 7),\n",
              " ('clapping hands', 3),\n",
              " ('folded hands', 2),\n",
              " ('smiling face with heart-eyes', 1),\n",
              " ('pleading face', 1),\n",
              " ('hamburger', 1),\n",
              " ('face savoring food', 1),\n",
              " ('man facepalming: light skin tone', 1)]"
            ]
          },
          "metadata": {
            "tags": []
          },
          "execution_count": 241
        }
      ]
    },
    {
      "cell_type": "code",
      "metadata": {
        "id": "SDAf-JyfGrEP",
        "outputId": "1bf667ac-15ff-44a0-b963-441ff11a28c8",
        "colab": {
          "base_uri": "https://localhost:8080/",
          "height": 499
        }
      },
      "source": [
        "plt.figure(facecolor='#ebebeb', figsize=(8, 8))\n",
        "plt.barh([x[0] for x in emoji_summary['top_emoji_text'][:8]][::-1],\n",
        "         [x[1] for x in emoji_summary['top_emoji_text'][:8]][::-1])\n",
        "plt.title('Top Emoji')\n",
        "plt.grid(alpha=0.5)\n",
        "plt.gca().set_frame_on(False)"
      ],
      "execution_count": null,
      "outputs": [
        {
          "output_type": "display_data",
          "data": {
            "image/png": "[encoded data removed]",
            "text/plain": [
              "<Figure size 576x576 with 1 Axes>"
            ]
          },
          "metadata": {
            "tags": []
          }
        }
      ]
    },
    {
      "cell_type": "code",
      "metadata": {
        "id": "eBuvxltgGrET",
        "outputId": "f089602b-55d0-4898-80c2-48a84b3e5c67",
        "colab": {
          "base_uri": "https://localhost:8080/",
          "height": 34
        }
      },
      "source": [
        "mention_summary = adv.extract_mentions(tweets_df.Tweets)\n",
        "mention_summary.keys()"
      ],
      "execution_count": null,
      "outputs": [
        {
          "output_type": "execute_result",
          "data": {
            "text/plain": [
              "dict_keys(['mentions', 'mentions_flat', 'mention_counts', 'mention_freq', 'top_mentions', 'overview'])"
            ]
          },
          "metadata": {
            "tags": []
          },
          "execution_count": 243
        }
      ]
    },
    {
      "cell_type": "code",
      "metadata": {
        "id": "aibfhLKsGrEW",
        "outputId": "2995eee9-1276-40c2-cf7b-88da46dd9561",
        "colab": {
          "base_uri": "https://localhost:8080/",
          "height": 85
        }
      },
      "source": [
        "mention_summary['overview']"
      ],
      "execution_count": null,
      "outputs": [
        {
          "output_type": "execute_result",
          "data": {
            "text/plain": [
              "{'mentions_per_post': 0.85,\n",
              " 'num_mentions': 17,\n",
              " 'num_posts': 20,\n",
              " 'unique_mentions': 17}"
            ]
          },
          "metadata": {
            "tags": []
          },
          "execution_count": 244
        }
      ]
    },
    {
      "cell_type": "code",
      "metadata": {
        "id": "WAVuQkuzGrEY",
        "outputId": "91b1a379-81c0-4f93-da5e-88659262ac3d",
        "colab": {
          "base_uri": "https://localhost:8080/",
          "height": 272
        }
      },
      "source": [
        "mention_summary['mentions'][:15]"
      ],
      "execution_count": null,
      "outputs": [
        {
          "output_type": "execute_result",
          "data": {
            "text/plain": [
              "[[],\n",
              " [],\n",
              " [],\n",
              " ['@untkcqr', '@emilia14614784', '@luvwaifus'],\n",
              " ['@ohohuh1'],\n",
              " ['@sobrinov_edu'],\n",
              " ['@alelegabi'],\n",
              " ['@gordoomx'],\n",
              " [],\n",
              " [],\n",
              " ['@melody260515'],\n",
              " ['@daniloruiz1924', '@universitario'],\n",
              " [],\n",
              " [],\n",
              " ['@cin_deli']]"
            ]
          },
          "metadata": {
            "tags": []
          },
          "execution_count": 245
        }
      ]
    },
    {
      "cell_type": "code",
      "metadata": {
        "id": "gQhMYNGTGrEc",
        "outputId": "4c1a1c2b-af7e-4e1b-8473-2352d800177c",
        "colab": {
          "base_uri": "https://localhost:8080/",
          "height": 187
        }
      },
      "source": [
        "mention_summary['mentions_flat'][:10]"
      ],
      "execution_count": null,
      "outputs": [
        {
          "output_type": "execute_result",
          "data": {
            "text/plain": [
              "['@untkcqr',\n",
              " '@emilia14614784',\n",
              " '@luvwaifus',\n",
              " '@ohohuh1',\n",
              " '@sobrinov_edu',\n",
              " '@alelegabi',\n",
              " '@gordoomx',\n",
              " '@melody260515',\n",
              " '@daniloruiz1924',\n",
              " '@universitario']"
            ]
          },
          "metadata": {
            "tags": []
          },
          "execution_count": 246
        }
      ]
    },
    {
      "cell_type": "code",
      "metadata": {
        "id": "NHlbSDfoGrEe",
        "outputId": "5a6b7c96-3b24-4493-fa21-776bb205ef22",
        "colab": {
          "base_uri": "https://localhost:8080/",
          "height": 34
        }
      },
      "source": [
        "mention_summary['mention_counts'][:20]"
      ],
      "execution_count": null,
      "outputs": [
        {
          "output_type": "execute_result",
          "data": {
            "text/plain": [
              "[0, 0, 0, 3, 1, 1, 1, 1, 0, 0, 1, 2, 0, 0, 1, 0, 2, 2, 1, 1]"
            ]
          },
          "metadata": {
            "tags": []
          },
          "execution_count": 247
        }
      ]
    },
    {
      "cell_type": "code",
      "metadata": {
        "id": "c1cnepuYGrEg",
        "outputId": "6dd840cf-dddc-494f-b24f-e74052e355de",
        "colab": {
          "base_uri": "https://localhost:8080/",
          "height": 34
        }
      },
      "source": [
        "mention_summary['mention_freq'][:15]"
      ],
      "execution_count": null,
      "outputs": [
        {
          "output_type": "execute_result",
          "data": {
            "text/plain": [
              "[(0, 8), (1, 8), (2, 3), (3, 1)]"
            ]
          },
          "metadata": {
            "tags": []
          },
          "execution_count": 248
        }
      ]
    },
    {
      "cell_type": "code",
      "metadata": {
        "id": "hbJlkp0tGrEj",
        "outputId": "e28dee7c-2f9e-49c5-f7f6-4804c9894d9d",
        "colab": {
          "base_uri": "https://localhost:8080/",
          "height": 513
        }
      },
      "source": [
        "plt.figure(facecolor='#ebebeb', figsize=(8, 8))\n",
        "plt.bar([x[0] for x in mention_summary['mention_freq'][:15]],\n",
        "        [x[1] for x in mention_summary['mention_freq'][:15]])\n",
        "plt.title('Mention frequency')\n",
        "plt.xlabel('Mention per tweet')\n",
        "plt.ylabel('Number of tweets')\n",
        "plt.grid(alpha=0.5)\n",
        "plt.yscale('log')\n",
        "plt.gca().set_frame_on(False)\n",
        "plt.savefig('snapshot/Mention Frequency.png');"
      ],
      "execution_count": null,
      "outputs": [
        {
          "output_type": "display_data",
          "data": {
            "image/png": "[encoded data removed]",
            "text/plain": [
              "<Figure size 576x576 with 1 Axes>"
            ]
          },
          "metadata": {
            "tags": []
          }
        }
      ]
    },
    {
      "cell_type": "code",
      "metadata": {
        "id": "_Pw8z76HGrEn",
        "outputId": "8c986dd8-a85f-4e1e-ff4a-ef64bb9ab6e8",
        "colab": {
          "base_uri": "https://localhost:8080/",
          "height": 187
        }
      },
      "source": [
        "mention_summary['top_mentions'][:10]"
      ],
      "execution_count": null,
      "outputs": [
        {
          "output_type": "execute_result",
          "data": {
            "text/plain": [
              "[('@untkcqr', 1),\n",
              " ('@emilia14614784', 1),\n",
              " ('@luvwaifus', 1),\n",
              " ('@ohohuh1', 1),\n",
              " ('@sobrinov_edu', 1),\n",
              " ('@alelegabi', 1),\n",
              " ('@gordoomx', 1),\n",
              " ('@melody260515', 1),\n",
              " ('@daniloruiz1924', 1),\n",
              " ('@universitario', 1)]"
            ]
          },
          "metadata": {
            "tags": []
          },
          "execution_count": 250
        }
      ]
    },
    {
      "cell_type": "code",
      "metadata": {
        "id": "i1vc7iY9GrEp",
        "outputId": "bde27274-6c93-4942-d074-5eb6f7fda164",
        "colab": {
          "base_uri": "https://localhost:8080/",
          "height": 499
        }
      },
      "source": [
        "plt.figure(facecolor='#ebebeb', figsize=(8, 8))\n",
        "plt.barh([x[0] for x in mention_summary['top_mentions'][:15]][::-1],\n",
        "         [x[1] for x in mention_summary['top_mentions'][:15]][::-1])\n",
        "plt.title('Top Mentions')\n",
        "plt.grid(alpha=0.5)\n",
        "plt.gca().set_frame_on(False)\n",
        "plt.savefig('snapshot/Top Mentions.png');"
      ],
      "execution_count": null,
      "outputs": [
        {
          "output_type": "display_data",
          "data": {
            "image/png": "[encoded data removed]",
            "text/plain": [
              "<Figure size 576x576 with 1 Axes>"
            ]
          },
          "metadata": {
            "tags": []
          }
        }
      ]
    },
    {
      "cell_type": "code",
      "metadata": {
        "id": "FzAtCJKhGrEu",
        "outputId": "2629cec7-2ef5-4888-f466-b0ec0805d3c3",
        "colab": {
          "base_uri": "https://localhost:8080/",
          "height": 68
        }
      },
      "source": [
        "tweets_df.columns"
      ],
      "execution_count": null,
      "outputs": [
        {
          "output_type": "execute_result",
          "data": {
            "text/plain": [
              "Index(['date', 'Tweets', 'location', 'followers', 'word_count', 'char_count',\n",
              "       'avg_word', 'hastags', 'numerics', 'Tweets_clean', 'ACTIONS', 'NOUNS'],\n",
              "      dtype='object')"
            ]
          },
          "metadata": {
            "tags": []
          },
          "execution_count": 252
        }
      ]
    },
    {
      "cell_type": "code",
      "metadata": {
        "id": "UwKUY9mYGrEx",
        "outputId": "4cc0f2e7-82ad-44ee-ccb7-784dfd683b37",
        "colab": {
          "base_uri": "https://localhost:8080/",
          "height": 306
        }
      },
      "source": [
        "extracted_tweets =  (tweets_df[['Tweets', 'followers']]\n",
        " .assign(hashtags=hashtag_summary['hashtags'],\n",
        "         hashcounts=hashtag_summary['hashtag_counts'],\n",
        "         mentions=mention_summary['mentions'],\n",
        "         mention_count=mention_summary['mention_counts'],\n",
        "         emoji=emoji_summary['emoji'],\n",
        "         emoji_text=emoji_summary['emoji_text'],\n",
        "         emoji_count=emoji_summary['emoji_counts'],))\n",
        "extracted_tweets.head()"
      ],
      "execution_count": null,
      "outputs": [
        {
          "output_type": "execute_result",
          "data": {
            "text/html": [
              "<div>\n",
              "<style scoped>\n",
              "    .dataframe tbody tr th:only-of-type {\n",
              "        vertical-align: middle;\n",
              "    }\n",
              "\n",
              "    .dataframe tbody tr th {\n",
              "        vertical-align: top;\n",
              "    }\n",
              "\n",
              "    .dataframe thead th {\n",
              "        text-align: right;\n",
              "    }\n",
              "</style>\n",
              "<table border=\"1\" class=\"dataframe\">\n",
              "  <thead>\n",
              "    <tr style=\"text-align: right;\">\n",
              "      <th></th>\n",
              "      <th>Tweets</th>\n",
              "      <th>followers</th>\n",
              "      <th>hashtags</th>\n",
              "      <th>hashcounts</th>\n",
              "      <th>mentions</th>\n",
              "      <th>mention_count</th>\n",
              "      <th>emoji</th>\n",
              "      <th>emoji_text</th>\n",
              "      <th>emoji_count</th>\n",
              "    </tr>\n",
              "  </thead>\n",
              "  <tbody>\n",
              "    <tr>\n",
              "      <th>0</th>\n",
              "      <td>Poco a poco todo se va acomodando</td>\n",
              "      <td>170</td>\n",
              "      <td>[]</td>\n",
              "      <td>0</td>\n",
              "      <td>[]</td>\n",
              "      <td>0</td>\n",
              "      <td>[]</td>\n",
              "      <td>[]</td>\n",
              "      <td>0</td>\n",
              "    </tr>\n",
              "    <tr>\n",
              "      <th>1</th>\n",
              "      <td>Hay gente que han perdido la vergüenza, pretender ser candidato de UPP.</td>\n",
              "      <td>51</td>\n",
              "      <td>[]</td>\n",
              "      <td>0</td>\n",
              "      <td>[]</td>\n",
              "      <td>0</td>\n",
              "      <td>[]</td>\n",
              "      <td>[]</td>\n",
              "      <td>0</td>\n",
              "    </tr>\n",
              "    <tr>\n",
              "      <th>2</th>\n",
              "      <td>Éste Viernes de Sankirtana, nos visita Hanumat Prana Das, un gran y entusiasta sankirtanero. \\nPerú /México /Colombi...</td>\n",
              "      <td>401</td>\n",
              "      <td>[]</td>\n",
              "      <td>0</td>\n",
              "      <td>[]</td>\n",
              "      <td>0</td>\n",
              "      <td>[]</td>\n",
              "      <td>[]</td>\n",
              "      <td>0</td>\n",
              "    </tr>\n",
              "    <tr>\n",
              "      <th>3</th>\n",
              "      <td>@UnTkCqr @Emilia14614784 @LuvWaifus Cuídate mucho Anja. Recuerda que Emilia es la Best Girl de Re:Zero por muchas r…...</td>\n",
              "      <td>371</td>\n",
              "      <td>[]</td>\n",
              "      <td>0</td>\n",
              "      <td>[@untkcqr, @emilia14614784, @luvwaifus]</td>\n",
              "      <td>3</td>\n",
              "      <td>[]</td>\n",
              "      <td>[]</td>\n",
              "      <td>0</td>\n",
              "    </tr>\n",
              "    <tr>\n",
              "      <th>4</th>\n",
              "      <td>@ohohuh1 :( cuídate mucho.\\n\\nQué desgracia, todo...</td>\n",
              "      <td>196</td>\n",
              "      <td>[]</td>\n",
              "      <td>0</td>\n",
              "      <td>[@ohohuh1]</td>\n",
              "      <td>1</td>\n",
              "      <td>[]</td>\n",
              "      <td>[]</td>\n",
              "      <td>0</td>\n",
              "    </tr>\n",
              "  </tbody>\n",
              "</table>\n",
              "</div>"
            ],
            "text/plain": [
              "                                                                                                                    Tweets  ...  emoji_count\n",
              "0                                                                                        Poco a poco todo se va acomodando  ...            0\n",
              "1                                                  Hay gente que han perdido la vergüenza, pretender ser candidato de UPP.  ...            0\n",
              "2  Éste Viernes de Sankirtana, nos visita Hanumat Prana Das, un gran y entusiasta sankirtanero. \\nPerú /México /Colombi...  ...            0\n",
              "3  @UnTkCqr @Emilia14614784 @LuvWaifus Cuídate mucho Anja. Recuerda que Emilia es la Best Girl de Re:Zero por muchas r…...  ...            0\n",
              "4                                                                     @ohohuh1 :( cuídate mucho.\\n\\nQué desgracia, todo...  ...            0\n",
              "\n",
              "[5 rows x 9 columns]"
            ]
          },
          "metadata": {
            "tags": []
          },
          "execution_count": 253
        }
      ]
    },
    {
      "cell_type": "code",
      "metadata": {
        "id": "qI_rHEfEGrEz",
        "outputId": "e20083ea-6557-4c62-a77b-7eadb2b8c244",
        "colab": {
          "base_uri": "https://localhost:8080/",
          "height": 68
        }
      },
      "source": [
        "extracted_tweets.columns"
      ],
      "execution_count": null,
      "outputs": [
        {
          "output_type": "execute_result",
          "data": {
            "text/plain": [
              "Index(['Tweets', 'followers', 'hashtags', 'hashcounts', 'mentions',\n",
              "       'mention_count', 'emoji', 'emoji_text', 'emoji_count'],\n",
              "      dtype='object')"
            ]
          },
          "metadata": {
            "tags": []
          },
          "execution_count": 254
        }
      ]
    },
    {
      "cell_type": "code",
      "metadata": {
        "id": "C_GRXb6oGrE1",
        "outputId": "29674214-d82b-43e2-fb83-ee99bd05367c",
        "colab": {
          "base_uri": "https://localhost:8080/",
          "height": 49
        }
      },
      "source": [
        "word_freq_hash = adv.word_frequency(extracted_tweets['hashtags'].str.join(' '), \n",
        "                                    extracted_tweets['followers'].fillna(0))#.sort_values(['abs_freq'], ascending=False).head(20)\n",
        "word_freq_hash.head(10)"
      ],
      "execution_count": null,
      "outputs": [
        {
          "output_type": "execute_result",
          "data": {
            "text/html": [
              "<div>\n",
              "<style scoped>\n",
              "    .dataframe tbody tr th:only-of-type {\n",
              "        vertical-align: middle;\n",
              "    }\n",
              "\n",
              "    .dataframe tbody tr th {\n",
              "        vertical-align: top;\n",
              "    }\n",
              "\n",
              "    .dataframe thead th {\n",
              "        text-align: right;\n",
              "    }\n",
              "</style>\n",
              "<table border=\"1\" class=\"dataframe\">\n",
              "  <thead>\n",
              "    <tr style=\"text-align: right;\">\n",
              "      <th></th>\n",
              "      <th>word</th>\n",
              "      <th>abs_freq</th>\n",
              "      <th>wtd_freq</th>\n",
              "      <th>rel_value</th>\n",
              "    </tr>\n",
              "  </thead>\n",
              "  <tbody>\n",
              "  </tbody>\n",
              "</table>\n",
              "</div>"
            ],
            "text/plain": [
              "Empty DataFrame\n",
              "Columns: [word, abs_freq, wtd_freq, rel_value]\n",
              "Index: []"
            ]
          },
          "metadata": {
            "tags": []
          },
          "execution_count": 255
        }
      ]
    },
    {
      "cell_type": "code",
      "metadata": {
        "id": "v2Yar4ZhGrE3",
        "outputId": "473d7456-a1db-4b1b-9244-7ca8e794f4d7",
        "colab": {
          "base_uri": "https://localhost:8080/",
          "height": 49
        }
      },
      "source": [
        "extracted_tweets[extracted_tweets['hashtags'].str.join(' ')\n",
        "                  .str.contains('lima',case=False)]"
      ],
      "execution_count": null,
      "outputs": [
        {
          "output_type": "execute_result",
          "data": {
            "text/html": [
              "<div>\n",
              "<style scoped>\n",
              "    .dataframe tbody tr th:only-of-type {\n",
              "        vertical-align: middle;\n",
              "    }\n",
              "\n",
              "    .dataframe tbody tr th {\n",
              "        vertical-align: top;\n",
              "    }\n",
              "\n",
              "    .dataframe thead th {\n",
              "        text-align: right;\n",
              "    }\n",
              "</style>\n",
              "<table border=\"1\" class=\"dataframe\">\n",
              "  <thead>\n",
              "    <tr style=\"text-align: right;\">\n",
              "      <th></th>\n",
              "      <th>Tweets</th>\n",
              "      <th>followers</th>\n",
              "      <th>hashtags</th>\n",
              "      <th>hashcounts</th>\n",
              "      <th>mentions</th>\n",
              "      <th>mention_count</th>\n",
              "      <th>emoji</th>\n",
              "      <th>emoji_text</th>\n",
              "      <th>emoji_count</th>\n",
              "    </tr>\n",
              "  </thead>\n",
              "  <tbody>\n",
              "  </tbody>\n",
              "</table>\n",
              "</div>"
            ],
            "text/plain": [
              "Empty DataFrame\n",
              "Columns: [Tweets, followers, hashtags, hashcounts, mentions, mention_count, emoji, emoji_text, emoji_count]\n",
              "Index: []"
            ]
          },
          "metadata": {
            "tags": []
          },
          "execution_count": 256
        }
      ]
    },
    {
      "cell_type": "code",
      "metadata": {
        "id": "DxiJ0t74GrE5",
        "outputId": "26d556f6-c43a-465b-bca4-68e82785668b",
        "colab": {
          "base_uri": "https://localhost:8080/",
          "height": 359
        }
      },
      "source": [
        "word_freq_mention = adv.word_frequency(extracted_tweets['mentions'].str.join(' '), \n",
        "                                       extracted_tweets['followers'].fillna(0))\n",
        "                                    #.sort_values(['abs_freq'], ascending=False).head(20)\n",
        "word_freq_mention.head(10)"
      ],
      "execution_count": null,
      "outputs": [
        {
          "output_type": "execute_result",
          "data": {
            "text/html": [
              "<div>\n",
              "<style scoped>\n",
              "    .dataframe tbody tr th:only-of-type {\n",
              "        vertical-align: middle;\n",
              "    }\n",
              "\n",
              "    .dataframe tbody tr th {\n",
              "        vertical-align: top;\n",
              "    }\n",
              "\n",
              "    .dataframe thead th {\n",
              "        text-align: right;\n",
              "    }\n",
              "</style>\n",
              "<table border=\"1\" class=\"dataframe\">\n",
              "  <thead>\n",
              "    <tr style=\"text-align: right;\">\n",
              "      <th></th>\n",
              "      <th>word</th>\n",
              "      <th>abs_freq</th>\n",
              "      <th>wtd_freq</th>\n",
              "      <th>rel_value</th>\n",
              "    </tr>\n",
              "  </thead>\n",
              "  <tbody>\n",
              "    <tr>\n",
              "      <th>0</th>\n",
              "      <td>@daniloruiz1924</td>\n",
              "      <td>1</td>\n",
              "      <td>6014</td>\n",
              "      <td>6014.0</td>\n",
              "    </tr>\n",
              "    <tr>\n",
              "      <th>1</th>\n",
              "      <td>@universitario</td>\n",
              "      <td>1</td>\n",
              "      <td>6014</td>\n",
              "      <td>6014.0</td>\n",
              "    </tr>\n",
              "    <tr>\n",
              "      <th>2</th>\n",
              "      <td>@gordoomx</td>\n",
              "      <td>1</td>\n",
              "      <td>2161</td>\n",
              "      <td>2161.0</td>\n",
              "    </tr>\n",
              "    <tr>\n",
              "      <th>3</th>\n",
              "      <td>@manago72</td>\n",
              "      <td>1</td>\n",
              "      <td>2161</td>\n",
              "      <td>2161.0</td>\n",
              "    </tr>\n",
              "    <tr>\n",
              "      <th>4</th>\n",
              "      <td>@emilia14614784</td>\n",
              "      <td>1</td>\n",
              "      <td>371</td>\n",
              "      <td>371.0</td>\n",
              "    </tr>\n",
              "    <tr>\n",
              "      <th>5</th>\n",
              "      <td>@untkcqr</td>\n",
              "      <td>1</td>\n",
              "      <td>371</td>\n",
              "      <td>371.0</td>\n",
              "    </tr>\n",
              "    <tr>\n",
              "      <th>6</th>\n",
              "      <td>@luvwaifus</td>\n",
              "      <td>1</td>\n",
              "      <td>371</td>\n",
              "      <td>371.0</td>\n",
              "    </tr>\n",
              "    <tr>\n",
              "      <th>7</th>\n",
              "      <td>@marlovilela</td>\n",
              "      <td>1</td>\n",
              "      <td>329</td>\n",
              "      <td>329.0</td>\n",
              "    </tr>\n",
              "    <tr>\n",
              "      <th>8</th>\n",
              "      <td>@seleccionperu</td>\n",
              "      <td>1</td>\n",
              "      <td>329</td>\n",
              "      <td>329.0</td>\n",
              "    </tr>\n",
              "    <tr>\n",
              "      <th>9</th>\n",
              "      <td>@ohohuh1</td>\n",
              "      <td>1</td>\n",
              "      <td>196</td>\n",
              "      <td>196.0</td>\n",
              "    </tr>\n",
              "  </tbody>\n",
              "</table>\n",
              "</div>"
            ],
            "text/plain": [
              "              word  abs_freq  wtd_freq  rel_value\n",
              "0  @daniloruiz1924         1      6014     6014.0\n",
              "1   @universitario         1      6014     6014.0\n",
              "2        @gordoomx         1      2161     2161.0\n",
              "3        @manago72         1      2161     2161.0\n",
              "4  @emilia14614784         1       371      371.0\n",
              "5         @untkcqr         1       371      371.0\n",
              "6       @luvwaifus         1       371      371.0\n",
              "7     @marlovilela         1       329      329.0\n",
              "8   @seleccionperu         1       329      329.0\n",
              "9         @ohohuh1         1       196      196.0"
            ]
          },
          "metadata": {
            "tags": []
          },
          "execution_count": 257
        }
      ]
    },
    {
      "cell_type": "code",
      "metadata": {
        "id": "vZ71uAioGrE8",
        "outputId": "5b929965-0714-442d-827c-c381022d2c8f",
        "colab": {
          "base_uri": "https://localhost:8080/",
          "height": 359
        }
      },
      "source": [
        "word_freq_emoji = adv.word_frequency(extracted_tweets['emoji'].str.join(' '), \n",
        "                                       extracted_tweets['followers'].fillna(0))#.sort_values(['abs_freq'], ascending=False).head(20)\n",
        "word_freq_emoji.head(10)"
      ],
      "execution_count": null,
      "outputs": [
        {
          "output_type": "execute_result",
          "data": {
            "text/html": [
              "<div>\n",
              "<style scoped>\n",
              "    .dataframe tbody tr th:only-of-type {\n",
              "        vertical-align: middle;\n",
              "    }\n",
              "\n",
              "    .dataframe tbody tr th {\n",
              "        vertical-align: top;\n",
              "    }\n",
              "\n",
              "    .dataframe thead th {\n",
              "        text-align: right;\n",
              "    }\n",
              "</style>\n",
              "<table border=\"1\" class=\"dataframe\">\n",
              "  <thead>\n",
              "    <tr style=\"text-align: right;\">\n",
              "      <th></th>\n",
              "      <th>word</th>\n",
              "      <th>abs_freq</th>\n",
              "      <th>wtd_freq</th>\n",
              "      <th>rel_value</th>\n",
              "    </tr>\n",
              "  </thead>\n",
              "  <tbody>\n",
              "    <tr>\n",
              "      <th>0</th>\n",
              "      <td>👏</td>\n",
              "      <td>3</td>\n",
              "      <td>6483</td>\n",
              "      <td>2161.0</td>\n",
              "    </tr>\n",
              "    <tr>\n",
              "      <th>1</th>\n",
              "      <td>🙏</td>\n",
              "      <td>2</td>\n",
              "      <td>4322</td>\n",
              "      <td>2161.0</td>\n",
              "    </tr>\n",
              "    <tr>\n",
              "      <th>2</th>\n",
              "      <td>🥺</td>\n",
              "      <td>1</td>\n",
              "      <td>2161</td>\n",
              "      <td>2161.0</td>\n",
              "    </tr>\n",
              "    <tr>\n",
              "      <th>3</th>\n",
              "      <td>🍔</td>\n",
              "      <td>1</td>\n",
              "      <td>2161</td>\n",
              "      <td>2161.0</td>\n",
              "    </tr>\n",
              "    <tr>\n",
              "      <th>4</th>\n",
              "      <td>😋</td>\n",
              "      <td>1</td>\n",
              "      <td>2161</td>\n",
              "      <td>2161.0</td>\n",
              "    </tr>\n",
              "    <tr>\n",
              "      <th>5</th>\n",
              "      <td>🌛</td>\n",
              "      <td>1</td>\n",
              "      <td>2161</td>\n",
              "      <td>2161.0</td>\n",
              "    </tr>\n",
              "    <tr>\n",
              "      <th>6</th>\n",
              "      <td>🤣</td>\n",
              "      <td>7</td>\n",
              "      <td>1946</td>\n",
              "      <td>278.0</td>\n",
              "    </tr>\n",
              "    <tr>\n",
              "      <th>7</th>\n",
              "      <td>😍</td>\n",
              "      <td>1</td>\n",
              "      <td>155</td>\n",
              "      <td>155.0</td>\n",
              "    </tr>\n",
              "    <tr>\n",
              "      <th>8</th>\n",
              "      <td>🤦🏻‍♂️</td>\n",
              "      <td>1</td>\n",
              "      <td>136</td>\n",
              "      <td>136.0</td>\n",
              "    </tr>\n",
              "    <tr>\n",
              "      <th>9</th>\n",
              "      <td>😪</td>\n",
              "      <td>1</td>\n",
              "      <td>135</td>\n",
              "      <td>135.0</td>\n",
              "    </tr>\n",
              "  </tbody>\n",
              "</table>\n",
              "</div>"
            ],
            "text/plain": [
              "    word  abs_freq  wtd_freq  rel_value\n",
              "0      👏         3      6483     2161.0\n",
              "1      🙏         2      4322     2161.0\n",
              "2      🥺         1      2161     2161.0\n",
              "3      🍔         1      2161     2161.0\n",
              "4      😋         1      2161     2161.0\n",
              "5      🌛         1      2161     2161.0\n",
              "6      🤣         7      1946      278.0\n",
              "7      😍         1       155      155.0\n",
              "8  🤦🏻‍♂️         1       136      136.0\n",
              "9      😪         1       135      135.0"
            ]
          },
          "metadata": {
            "tags": []
          },
          "execution_count": 258
        }
      ]
    },
    {
      "cell_type": "code",
      "metadata": {
        "id": "iHIxbDOcGrFA",
        "outputId": "4d21763c-e07f-40b4-fffd-119dbb38212c",
        "colab": {
          "base_uri": "https://localhost:8080/",
          "height": 187
        }
      },
      "source": [
        "[adv.extract_emoji(k)['emoji_flat_text'][0] for k in word_freq_emoji['word'][:10]]"
      ],
      "execution_count": null,
      "outputs": [
        {
          "output_type": "execute_result",
          "data": {
            "text/plain": [
              "['clapping hands',\n",
              " 'folded hands',\n",
              " 'pleading face',\n",
              " 'hamburger',\n",
              " 'face savoring food',\n",
              " 'first quarter moon face',\n",
              " 'rolling on the floor laughing',\n",
              " 'smiling face with heart-eyes',\n",
              " 'person facepalming',\n",
              " 'sleepy face']"
            ]
          },
          "metadata": {
            "tags": []
          },
          "execution_count": 272
        }
      ]
    },
    {
      "cell_type": "code",
      "metadata": {
        "id": "c2KTfLl9GrFC",
        "outputId": "622abc67-815e-4313-8e0c-26ac1086562b",
        "colab": {
          "base_uri": "https://localhost:8080/",
          "height": 359
        }
      },
      "source": [
        "word_freq_emoji[:10].assign(emoji_text=[adv.extract_emoji(k)['emoji_flat_text'][0] for k in word_freq_emoji['word'][:10]])"
      ],
      "execution_count": null,
      "outputs": [
        {
          "output_type": "execute_result",
          "data": {
            "text/html": [
              "<div>\n",
              "<style scoped>\n",
              "    .dataframe tbody tr th:only-of-type {\n",
              "        vertical-align: middle;\n",
              "    }\n",
              "\n",
              "    .dataframe tbody tr th {\n",
              "        vertical-align: top;\n",
              "    }\n",
              "\n",
              "    .dataframe thead th {\n",
              "        text-align: right;\n",
              "    }\n",
              "</style>\n",
              "<table border=\"1\" class=\"dataframe\">\n",
              "  <thead>\n",
              "    <tr style=\"text-align: right;\">\n",
              "      <th></th>\n",
              "      <th>word</th>\n",
              "      <th>abs_freq</th>\n",
              "      <th>wtd_freq</th>\n",
              "      <th>rel_value</th>\n",
              "      <th>emoji_text</th>\n",
              "    </tr>\n",
              "  </thead>\n",
              "  <tbody>\n",
              "    <tr>\n",
              "      <th>0</th>\n",
              "      <td>👏</td>\n",
              "      <td>3</td>\n",
              "      <td>6483</td>\n",
              "      <td>2161.0</td>\n",
              "      <td>clapping hands</td>\n",
              "    </tr>\n",
              "    <tr>\n",
              "      <th>1</th>\n",
              "      <td>🙏</td>\n",
              "      <td>2</td>\n",
              "      <td>4322</td>\n",
              "      <td>2161.0</td>\n",
              "      <td>folded hands</td>\n",
              "    </tr>\n",
              "    <tr>\n",
              "      <th>2</th>\n",
              "      <td>🥺</td>\n",
              "      <td>1</td>\n",
              "      <td>2161</td>\n",
              "      <td>2161.0</td>\n",
              "      <td>pleading face</td>\n",
              "    </tr>\n",
              "    <tr>\n",
              "      <th>3</th>\n",
              "      <td>🍔</td>\n",
              "      <td>1</td>\n",
              "      <td>2161</td>\n",
              "      <td>2161.0</td>\n",
              "      <td>hamburger</td>\n",
              "    </tr>\n",
              "    <tr>\n",
              "      <th>4</th>\n",
              "      <td>😋</td>\n",
              "      <td>1</td>\n",
              "      <td>2161</td>\n",
              "      <td>2161.0</td>\n",
              "      <td>face savoring food</td>\n",
              "    </tr>\n",
              "    <tr>\n",
              "      <th>5</th>\n",
              "      <td>🌛</td>\n",
              "      <td>1</td>\n",
              "      <td>2161</td>\n",
              "      <td>2161.0</td>\n",
              "      <td>first quarter moon face</td>\n",
              "    </tr>\n",
              "    <tr>\n",
              "      <th>6</th>\n",
              "      <td>🤣</td>\n",
              "      <td>7</td>\n",
              "      <td>1946</td>\n",
              "      <td>278.0</td>\n",
              "      <td>rolling on the floor laughing</td>\n",
              "    </tr>\n",
              "    <tr>\n",
              "      <th>7</th>\n",
              "      <td>😍</td>\n",
              "      <td>1</td>\n",
              "      <td>155</td>\n",
              "      <td>155.0</td>\n",
              "      <td>smiling face with heart-eyes</td>\n",
              "    </tr>\n",
              "    <tr>\n",
              "      <th>8</th>\n",
              "      <td>🤦🏻‍♂️</td>\n",
              "      <td>1</td>\n",
              "      <td>136</td>\n",
              "      <td>136.0</td>\n",
              "      <td>person facepalming</td>\n",
              "    </tr>\n",
              "    <tr>\n",
              "      <th>9</th>\n",
              "      <td>😪</td>\n",
              "      <td>1</td>\n",
              "      <td>135</td>\n",
              "      <td>135.0</td>\n",
              "      <td>sleepy face</td>\n",
              "    </tr>\n",
              "  </tbody>\n",
              "</table>\n",
              "</div>"
            ],
            "text/plain": [
              "    word  abs_freq  wtd_freq  rel_value                     emoji_text\n",
              "0      👏         3      6483     2161.0                 clapping hands\n",
              "1      🙏         2      4322     2161.0                   folded hands\n",
              "2      🥺         1      2161     2161.0                  pleading face\n",
              "3      🍔         1      2161     2161.0                      hamburger\n",
              "4      😋         1      2161     2161.0             face savoring food\n",
              "5      🌛         1      2161     2161.0        first quarter moon face\n",
              "6      🤣         7      1946      278.0  rolling on the floor laughing\n",
              "7      😍         1       155      155.0   smiling face with heart-eyes\n",
              "8  🤦🏻‍♂️         1       136      136.0             person facepalming\n",
              "9      😪         1       135      135.0                    sleepy face"
            ]
          },
          "metadata": {
            "tags": []
          },
          "execution_count": 273
        }
      ]
    },
    {
      "cell_type": "code",
      "metadata": {
        "id": "_L20I1tJGrFF"
      },
      "source": [
        "sotu_retweets = np.load('tweets_dict.npy',allow_pickle=True)"
      ],
      "execution_count": null,
      "outputs": []
    },
    {
      "cell_type": "code",
      "metadata": {
        "id": "vGohnLcbGrFJ",
        "outputId": "237508bb-54eb-409e-d6d4-edb044848b6e",
        "colab": {
          "base_uri": "https://localhost:8080/",
          "height": 497
        }
      },
      "source": [
        "def buildDataFrameFromDict(mapping):\n",
        "    df=[]\n",
        "    for f in mapping:\n",
        "        f_n = {}\n",
        "        for k,item in f.items():\n",
        "            if isinstance(item,dict):\n",
        "                for i,j in item.items():\n",
        "                    f_n[k+'-'+i] = j\n",
        "            else:\n",
        "                f_n[k] = f[k]\n",
        "        df.append(f_n)\n",
        "    \n",
        "    df = pd.DataFrame(df)\n",
        "    return df\n",
        "\n",
        "sotu = buildDataFrameFromDict(sotu_retweets)\n",
        "sotu.head(3)"
      ],
      "execution_count": null,
      "outputs": [
        {
          "output_type": "execute_result",
          "data": {
            "text/html": [
              "<div>\n",
              "<style scoped>\n",
              "    .dataframe tbody tr th:only-of-type {\n",
              "        vertical-align: middle;\n",
              "    }\n",
              "\n",
              "    .dataframe tbody tr th {\n",
              "        vertical-align: top;\n",
              "    }\n",
              "\n",
              "    .dataframe thead th {\n",
              "        text-align: right;\n",
              "    }\n",
              "</style>\n",
              "<table border=\"1\" class=\"dataframe\">\n",
              "  <thead>\n",
              "    <tr style=\"text-align: right;\">\n",
              "      <th></th>\n",
              "      <th>created_at</th>\n",
              "      <th>id</th>\n",
              "      <th>id_str</th>\n",
              "      <th>text</th>\n",
              "      <th>source</th>\n",
              "      <th>truncated</th>\n",
              "      <th>in_reply_to_status_id</th>\n",
              "      <th>in_reply_to_status_id_str</th>\n",
              "      <th>in_reply_to_user_id</th>\n",
              "      <th>in_reply_to_user_id_str</th>\n",
              "      <th>in_reply_to_screen_name</th>\n",
              "      <th>user-id</th>\n",
              "      <th>user-id_str</th>\n",
              "      <th>user-name</th>\n",
              "      <th>user-screen_name</th>\n",
              "      <th>user-location</th>\n",
              "      <th>user-url</th>\n",
              "      <th>user-description</th>\n",
              "      <th>user-translator_type</th>\n",
              "      <th>user-protected</th>\n",
              "      <th>user-verified</th>\n",
              "      <th>user-followers_count</th>\n",
              "      <th>user-friends_count</th>\n",
              "      <th>user-listed_count</th>\n",
              "      <th>user-favourites_count</th>\n",
              "      <th>user-statuses_count</th>\n",
              "      <th>user-created_at</th>\n",
              "      <th>user-utc_offset</th>\n",
              "      <th>user-time_zone</th>\n",
              "      <th>user-geo_enabled</th>\n",
              "      <th>user-lang</th>\n",
              "      <th>user-contributors_enabled</th>\n",
              "      <th>user-is_translator</th>\n",
              "      <th>user-profile_background_color</th>\n",
              "      <th>user-profile_background_image_url</th>\n",
              "      <th>user-profile_background_image_url_https</th>\n",
              "      <th>user-profile_background_tile</th>\n",
              "      <th>user-profile_link_color</th>\n",
              "      <th>user-profile_sidebar_border_color</th>\n",
              "      <th>user-profile_sidebar_fill_color</th>\n",
              "      <th>...</th>\n",
              "      <th>quoted_status-is_quote_status</th>\n",
              "      <th>quoted_status-quote_count</th>\n",
              "      <th>quoted_status-reply_count</th>\n",
              "      <th>quoted_status-retweet_count</th>\n",
              "      <th>quoted_status-favorite_count</th>\n",
              "      <th>quoted_status-entities</th>\n",
              "      <th>quoted_status-favorited</th>\n",
              "      <th>quoted_status-retweeted</th>\n",
              "      <th>quoted_status-filter_level</th>\n",
              "      <th>quoted_status-lang</th>\n",
              "      <th>quoted_status_permalink-url</th>\n",
              "      <th>quoted_status_permalink-expanded</th>\n",
              "      <th>quoted_status_permalink-display</th>\n",
              "      <th>quoted_status-extended_tweet</th>\n",
              "      <th>quoted_status-possibly_sensitive</th>\n",
              "      <th>display_text_range</th>\n",
              "      <th>extended_tweet-full_text</th>\n",
              "      <th>extended_tweet-display_text_range</th>\n",
              "      <th>extended_tweet-entities</th>\n",
              "      <th>possibly_sensitive</th>\n",
              "      <th>retweeted_status-extended_entities</th>\n",
              "      <th>entities-media</th>\n",
              "      <th>extended_entities-media</th>\n",
              "      <th>quoted_status-extended_entities</th>\n",
              "      <th>quoted_status-quoted_status_id</th>\n",
              "      <th>quoted_status-quoted_status_id_str</th>\n",
              "      <th>extended_tweet-extended_entities</th>\n",
              "      <th>place-id</th>\n",
              "      <th>place-url</th>\n",
              "      <th>place-place_type</th>\n",
              "      <th>place-name</th>\n",
              "      <th>place-full_name</th>\n",
              "      <th>place-country_code</th>\n",
              "      <th>place-country</th>\n",
              "      <th>place-bounding_box</th>\n",
              "      <th>place-attributes</th>\n",
              "      <th>geo-type</th>\n",
              "      <th>geo-coordinates</th>\n",
              "      <th>coordinates-type</th>\n",
              "      <th>coordinates-coordinates</th>\n",
              "    </tr>\n",
              "  </thead>\n",
              "  <tbody>\n",
              "    <tr>\n",
              "      <th>0</th>\n",
              "      <td>Fri Oct 09 03:56:50 +0000 2020</td>\n",
              "      <td>1314414491648565248</td>\n",
              "      <td>1314414491648565248</td>\n",
              "      <td>RT @lovtyholic: ‼️‼️ayuden a reportar esta cuenta NO INTERACTUAR NO CITAR NO RESPONDER solo reporten el tweet y la c...</td>\n",
              "      <td>&lt;a href=\"http://twitter.com/download/android\" rel=\"nofollow\"&gt;Twitter for Android&lt;/a&gt;</td>\n",
              "      <td>False</td>\n",
              "      <td>NaN</td>\n",
              "      <td>None</td>\n",
              "      <td>NaN</td>\n",
              "      <td>None</td>\n",
              "      <td>None</td>\n",
              "      <td>3276878238</td>\n",
              "      <td>3276878238</td>\n",
              "      <td>HELLO JONGDAE 𐂅</td>\n",
              "      <td>moonsootyong</td>\n",
              "      <td>None</td>\n",
              "      <td>https://invisiblestring.carrd.co</td>\n",
              "      <td>#도경수 🐧 -108 ۵she/her۵MoonDanSe|Tyongf♥️                                                         #문태일 #태용 #정한 #เตนล์ ...</td>\n",
              "      <td>none</td>\n",
              "      <td>False</td>\n",
              "      <td>False</td>\n",
              "      <td>143</td>\n",
              "      <td>198</td>\n",
              "      <td>3</td>\n",
              "      <td>90612</td>\n",
              "      <td>20735</td>\n",
              "      <td>Sun Jul 12 01:50:27 +0000 2015</td>\n",
              "      <td>None</td>\n",
              "      <td>None</td>\n",
              "      <td>False</td>\n",
              "      <td>None</td>\n",
              "      <td>False</td>\n",
              "      <td>False</td>\n",
              "      <td>000000</td>\n",
              "      <td>http://abs.twimg.com/images/themes/theme1/bg.png</td>\n",
              "      <td>https://abs.twimg.com/images/themes/theme1/bg.png</td>\n",
              "      <td>False</td>\n",
              "      <td>F58EA8</td>\n",
              "      <td>000000</td>\n",
              "      <td>000000</td>\n",
              "      <td>...</td>\n",
              "      <td>NaN</td>\n",
              "      <td>NaN</td>\n",
              "      <td>NaN</td>\n",
              "      <td>NaN</td>\n",
              "      <td>NaN</td>\n",
              "      <td>NaN</td>\n",
              "      <td>NaN</td>\n",
              "      <td>NaN</td>\n",
              "      <td>NaN</td>\n",
              "      <td>NaN</td>\n",
              "      <td>NaN</td>\n",
              "      <td>NaN</td>\n",
              "      <td>NaN</td>\n",
              "      <td>NaN</td>\n",
              "      <td>NaN</td>\n",
              "      <td>NaN</td>\n",
              "      <td>NaN</td>\n",
              "      <td>NaN</td>\n",
              "      <td>NaN</td>\n",
              "      <td>NaN</td>\n",
              "      <td>NaN</td>\n",
              "      <td>NaN</td>\n",
              "      <td>NaN</td>\n",
              "      <td>NaN</td>\n",
              "      <td>NaN</td>\n",
              "      <td>NaN</td>\n",
              "      <td>NaN</td>\n",
              "      <td>NaN</td>\n",
              "      <td>NaN</td>\n",
              "      <td>NaN</td>\n",
              "      <td>NaN</td>\n",
              "      <td>NaN</td>\n",
              "      <td>NaN</td>\n",
              "      <td>NaN</td>\n",
              "      <td>NaN</td>\n",
              "      <td>NaN</td>\n",
              "      <td>NaN</td>\n",
              "      <td>NaN</td>\n",
              "      <td>NaN</td>\n",
              "      <td>NaN</td>\n",
              "    </tr>\n",
              "    <tr>\n",
              "      <th>1</th>\n",
              "      <td>Fri Oct 09 03:56:50 +0000 2020</td>\n",
              "      <td>1314414494039314432</td>\n",
              "      <td>1314414494039314432</td>\n",
              "      <td>¿qué hora es en su país cuando ven este tweet??? aquí son las 10:56</td>\n",
              "      <td>&lt;a href=\"http://twitter.com/download/iphone\" rel=\"nofollow\"&gt;Twitter for iPhone&lt;/a&gt;</td>\n",
              "      <td>False</td>\n",
              "      <td>NaN</td>\n",
              "      <td>None</td>\n",
              "      <td>NaN</td>\n",
              "      <td>None</td>\n",
              "      <td>None</td>\n",
              "      <td>1230697673105133570</td>\n",
              "      <td>1230697673105133570</td>\n",
              "      <td>𝐋𝐢𝐬𝐚 ♡𝐀𝐑𝐌𝐘</td>\n",
              "      <td>Winter_bear1997</td>\n",
              "      <td>None</td>\n",
              "      <td>None</td>\n",
              "      <td>𝑌𝑜𝑢’𝑣𝑒 𝑠𝘩𝑜𝑤𝑛 𝑚𝑒 𝐼 𝘩𝑎𝑣𝑒 𝑟𝑒𝑎𝑠𝑜𝑛𝑠 𝐼 𝑠𝘩𝑜𝑢𝑙𝑑 𝑙𝑜𝑣𝑒 𝑚𝑦𝑠𝑒𝑙f 𝐎𝐓𝟕 𝐒𝐭𝐚𝐧 𝐹𝑎𝑛 𝑎𝑐𝑐𝑜𝑢𝑛𝑡</td>\n",
              "      <td>none</td>\n",
              "      <td>False</td>\n",
              "      <td>False</td>\n",
              "      <td>3503</td>\n",
              "      <td>1969</td>\n",
              "      <td>35</td>\n",
              "      <td>13784</td>\n",
              "      <td>8151</td>\n",
              "      <td>Fri Feb 21 03:36:22 +0000 2020</td>\n",
              "      <td>None</td>\n",
              "      <td>None</td>\n",
              "      <td>False</td>\n",
              "      <td>None</td>\n",
              "      <td>False</td>\n",
              "      <td>False</td>\n",
              "      <td>F5F8FA</td>\n",
              "      <td></td>\n",
              "      <td></td>\n",
              "      <td>False</td>\n",
              "      <td>1DA1F2</td>\n",
              "      <td>C0DEED</td>\n",
              "      <td>DDEEF6</td>\n",
              "      <td>...</td>\n",
              "      <td>NaN</td>\n",
              "      <td>NaN</td>\n",
              "      <td>NaN</td>\n",
              "      <td>NaN</td>\n",
              "      <td>NaN</td>\n",
              "      <td>NaN</td>\n",
              "      <td>NaN</td>\n",
              "      <td>NaN</td>\n",
              "      <td>NaN</td>\n",
              "      <td>NaN</td>\n",
              "      <td>NaN</td>\n",
              "      <td>NaN</td>\n",
              "      <td>NaN</td>\n",
              "      <td>NaN</td>\n",
              "      <td>NaN</td>\n",
              "      <td>NaN</td>\n",
              "      <td>NaN</td>\n",
              "      <td>NaN</td>\n",
              "      <td>NaN</td>\n",
              "      <td>NaN</td>\n",
              "      <td>NaN</td>\n",
              "      <td>NaN</td>\n",
              "      <td>NaN</td>\n",
              "      <td>NaN</td>\n",
              "      <td>NaN</td>\n",
              "      <td>NaN</td>\n",
              "      <td>NaN</td>\n",
              "      <td>NaN</td>\n",
              "      <td>NaN</td>\n",
              "      <td>NaN</td>\n",
              "      <td>NaN</td>\n",
              "      <td>NaN</td>\n",
              "      <td>NaN</td>\n",
              "      <td>NaN</td>\n",
              "      <td>NaN</td>\n",
              "      <td>NaN</td>\n",
              "      <td>NaN</td>\n",
              "      <td>NaN</td>\n",
              "      <td>NaN</td>\n",
              "      <td>NaN</td>\n",
              "    </tr>\n",
              "    <tr>\n",
              "      <th>2</th>\n",
              "      <td>Fri Oct 09 03:56:51 +0000 2020</td>\n",
              "      <td>1314414496002322432</td>\n",
              "      <td>1314414496002322432</td>\n",
              "      <td>RT @Juuandedios_p: Este tweet podra llegar a 500 comentarios con la siguiente frase:\\n\\nCANCIONES PARA MI EX\\n\\n15 c...</td>\n",
              "      <td>&lt;a href=\"http://twitter.com/download/android\" rel=\"nofollow\"&gt;Twitter for Android&lt;/a&gt;</td>\n",
              "      <td>False</td>\n",
              "      <td>NaN</td>\n",
              "      <td>None</td>\n",
              "      <td>NaN</td>\n",
              "      <td>None</td>\n",
              "      <td>None</td>\n",
              "      <td>1268048343202009088</td>\n",
              "      <td>1268048343202009088</td>\n",
              "      <td>𝙚𝙙𝙖🦋</td>\n",
              "      <td>edaloveskenia</td>\n",
              "      <td>None</td>\n",
              "      <td>None</td>\n",
              "      <td>•𝐜𝐮𝐞𝐧𝐭𝐚 𝐩𝐚𝐫𝐚 𝐯𝐨𝐭𝐨𝐬•\\n𝐜𝐮𝐞𝐧𝐭𝐚 𝐩𝐫𝐢𝐧𝐜𝐢𝐩𝐚𝐥: @edapdc1\\n 𝐟𝐚𝐧 𝐚𝐜𝐜𝐨𝐮𝐧𝐭</td>\n",
              "      <td>none</td>\n",
              "      <td>False</td>\n",
              "      <td>False</td>\n",
              "      <td>107</td>\n",
              "      <td>136</td>\n",
              "      <td>0</td>\n",
              "      <td>80</td>\n",
              "      <td>3584</td>\n",
              "      <td>Wed Jun 03 05:14:31 +0000 2020</td>\n",
              "      <td>None</td>\n",
              "      <td>None</td>\n",
              "      <td>False</td>\n",
              "      <td>None</td>\n",
              "      <td>False</td>\n",
              "      <td>False</td>\n",
              "      <td>F5F8FA</td>\n",
              "      <td></td>\n",
              "      <td></td>\n",
              "      <td>False</td>\n",
              "      <td>1DA1F2</td>\n",
              "      <td>C0DEED</td>\n",
              "      <td>DDEEF6</td>\n",
              "      <td>...</td>\n",
              "      <td>NaN</td>\n",
              "      <td>NaN</td>\n",
              "      <td>NaN</td>\n",
              "      <td>NaN</td>\n",
              "      <td>NaN</td>\n",
              "      <td>NaN</td>\n",
              "      <td>NaN</td>\n",
              "      <td>NaN</td>\n",
              "      <td>NaN</td>\n",
              "      <td>NaN</td>\n",
              "      <td>NaN</td>\n",
              "      <td>NaN</td>\n",
              "      <td>NaN</td>\n",
              "      <td>NaN</td>\n",
              "      <td>NaN</td>\n",
              "      <td>NaN</td>\n",
              "      <td>NaN</td>\n",
              "      <td>NaN</td>\n",
              "      <td>NaN</td>\n",
              "      <td>NaN</td>\n",
              "      <td>NaN</td>\n",
              "      <td>NaN</td>\n",
              "      <td>NaN</td>\n",
              "      <td>NaN</td>\n",
              "      <td>NaN</td>\n",
              "      <td>NaN</td>\n",
              "      <td>NaN</td>\n",
              "      <td>NaN</td>\n",
              "      <td>NaN</td>\n",
              "      <td>NaN</td>\n",
              "      <td>NaN</td>\n",
              "      <td>NaN</td>\n",
              "      <td>NaN</td>\n",
              "      <td>NaN</td>\n",
              "      <td>NaN</td>\n",
              "      <td>NaN</td>\n",
              "      <td>NaN</td>\n",
              "      <td>NaN</td>\n",
              "      <td>NaN</td>\n",
              "      <td>NaN</td>\n",
              "    </tr>\n",
              "  </tbody>\n",
              "</table>\n",
              "<p>3 rows × 160 columns</p>\n",
              "</div>"
            ],
            "text/plain": [
              "                       created_at  ...  coordinates-coordinates\n",
              "0  Fri Oct 09 03:56:50 +0000 2020  ...                      NaN\n",
              "1  Fri Oct 09 03:56:50 +0000 2020  ...                      NaN\n",
              "2  Fri Oct 09 03:56:51 +0000 2020  ...                      NaN\n",
              "\n",
              "[3 rows x 160 columns]"
            ]
          },
          "metadata": {
            "tags": []
          },
          "execution_count": 277
        }
      ]
    },
    {
      "cell_type": "code",
      "metadata": {
        "id": "atLOTuX4GrFO",
        "outputId": "e0b0f80f-ca77-4268-a05c-b29669cb05aa",
        "colab": {
          "base_uri": "https://localhost:8080/",
          "height": 1000
        }
      },
      "source": [
        "pprint(sotu.columns.values)"
      ],
      "execution_count": null,
      "outputs": [
        {
          "output_type": "stream",
          "text": [
            "array(['created_at', 'id', 'id_str', 'text', 'source', 'truncated',\n",
            "       'in_reply_to_status_id', 'in_reply_to_status_id_str',\n",
            "       'in_reply_to_user_id', 'in_reply_to_user_id_str',\n",
            "       'in_reply_to_screen_name', 'user-id', 'user-id_str', 'user-name',\n",
            "       'user-screen_name', 'user-location', 'user-url',\n",
            "       'user-description', 'user-translator_type', 'user-protected',\n",
            "       'user-verified', 'user-followers_count', 'user-friends_count',\n",
            "       'user-listed_count', 'user-favourites_count',\n",
            "       'user-statuses_count', 'user-created_at', 'user-utc_offset',\n",
            "       'user-time_zone', 'user-geo_enabled', 'user-lang',\n",
            "       'user-contributors_enabled', 'user-is_translator',\n",
            "       'user-profile_background_color',\n",
            "       'user-profile_background_image_url',\n",
            "       'user-profile_background_image_url_https',\n",
            "       'user-profile_background_tile', 'user-profile_link_color',\n",
            "       'user-profile_sidebar_border_color',\n",
            "       'user-profile_sidebar_fill_color', 'user-profile_text_color',\n",
            "       'user-profile_use_background_image', 'user-profile_image_url',\n",
            "       'user-profile_image_url_https', 'user-profile_banner_url',\n",
            "       'user-default_profile', 'user-default_profile_image',\n",
            "       'user-following', 'user-follow_request_sent', 'user-notifications',\n",
            "       'geo', 'coordinates', 'place', 'contributors',\n",
            "       'retweeted_status-created_at', 'retweeted_status-id',\n",
            "       'retweeted_status-id_str', 'retweeted_status-text',\n",
            "       'retweeted_status-display_text_range', 'retweeted_status-source',\n",
            "       'retweeted_status-truncated',\n",
            "       'retweeted_status-in_reply_to_status_id',\n",
            "       'retweeted_status-in_reply_to_status_id_str',\n",
            "       'retweeted_status-in_reply_to_user_id',\n",
            "       'retweeted_status-in_reply_to_user_id_str',\n",
            "       'retweeted_status-in_reply_to_screen_name',\n",
            "       'retweeted_status-user', 'retweeted_status-geo',\n",
            "       'retweeted_status-coordinates', 'retweeted_status-place',\n",
            "       'retweeted_status-contributors',\n",
            "       'retweeted_status-is_quote_status',\n",
            "       'retweeted_status-extended_tweet', 'retweeted_status-quote_count',\n",
            "       'retweeted_status-reply_count', 'retweeted_status-retweet_count',\n",
            "       'retweeted_status-favorite_count', 'retweeted_status-entities',\n",
            "       'retweeted_status-favorited', 'retweeted_status-retweeted',\n",
            "       'retweeted_status-possibly_sensitive',\n",
            "       'retweeted_status-filter_level', 'retweeted_status-lang',\n",
            "       'is_quote_status', 'quote_count', 'reply_count', 'retweet_count',\n",
            "       'favorite_count', 'entities-hashtags', 'entities-urls',\n",
            "       'entities-user_mentions', 'entities-symbols', 'favorited',\n",
            "       'retweeted', 'filter_level', 'lang', 'timestamp_ms',\n",
            "       'retweeted_status-quoted_status_id',\n",
            "       'retweeted_status-quoted_status_id_str',\n",
            "       'retweeted_status-quoted_status',\n",
            "       'retweeted_status-quoted_status_permalink', 'quoted_status_id',\n",
            "       'quoted_status_id_str', 'quoted_status-created_at',\n",
            "       'quoted_status-id', 'quoted_status-id_str', 'quoted_status-text',\n",
            "       'quoted_status-display_text_range', 'quoted_status-source',\n",
            "       'quoted_status-truncated', 'quoted_status-in_reply_to_status_id',\n",
            "       'quoted_status-in_reply_to_status_id_str',\n",
            "       'quoted_status-in_reply_to_user_id',\n",
            "       'quoted_status-in_reply_to_user_id_str',\n",
            "       'quoted_status-in_reply_to_screen_name', 'quoted_status-user',\n",
            "       'quoted_status-geo', 'quoted_status-coordinates',\n",
            "       'quoted_status-place', 'quoted_status-contributors',\n",
            "       'quoted_status-is_quote_status', 'quoted_status-quote_count',\n",
            "       'quoted_status-reply_count', 'quoted_status-retweet_count',\n",
            "       'quoted_status-favorite_count', 'quoted_status-entities',\n",
            "       'quoted_status-favorited', 'quoted_status-retweeted',\n",
            "       'quoted_status-filter_level', 'quoted_status-lang',\n",
            "       'quoted_status_permalink-url', 'quoted_status_permalink-expanded',\n",
            "       'quoted_status_permalink-display', 'quoted_status-extended_tweet',\n",
            "       'quoted_status-possibly_sensitive', 'display_text_range',\n",
            "       'extended_tweet-full_text', 'extended_tweet-display_text_range',\n",
            "       'extended_tweet-entities', 'possibly_sensitive',\n",
            "       'retweeted_status-extended_entities', 'entities-media',\n",
            "       'extended_entities-media', 'quoted_status-extended_entities',\n",
            "       'quoted_status-quoted_status_id',\n",
            "       'quoted_status-quoted_status_id_str',\n",
            "       'extended_tweet-extended_entities', 'place-id', 'place-url',\n",
            "       'place-place_type', 'place-name', 'place-full_name',\n",
            "       'place-country_code', 'place-country', 'place-bounding_box',\n",
            "       'place-attributes', 'geo-type', 'geo-coordinates',\n",
            "       'coordinates-type', 'coordinates-coordinates',\n",
            "       'retweeted_status-user-screen_name'], dtype=object)\n"
          ],
          "name": "stdout"
        }
      ]
    },
    {
      "cell_type": "code",
      "metadata": {
        "id": "F2vISmP3GrFQ"
      },
      "source": [
        "data = sotu.sample(10)['user-screen_name']\n",
        "sotu['retweeted_status-user-screen_name'] = np.random.choice(data,len(sotu))"
      ],
      "execution_count": null,
      "outputs": []
    },
    {
      "cell_type": "code",
      "metadata": {
        "id": "kSEctOb2GrFS",
        "outputId": "628dff3e-74ff-47d2-8f53-df6c24e1ebbe",
        "colab": {
          "base_uri": "https://localhost:8080/",
          "height": 204
        }
      },
      "source": [
        "sotu[['user-screen_name','retweeted_status-user-screen_name']].head()"
      ],
      "execution_count": null,
      "outputs": [
        {
          "output_type": "execute_result",
          "data": {
            "text/html": [
              "<div>\n",
              "<style scoped>\n",
              "    .dataframe tbody tr th:only-of-type {\n",
              "        vertical-align: middle;\n",
              "    }\n",
              "\n",
              "    .dataframe tbody tr th {\n",
              "        vertical-align: top;\n",
              "    }\n",
              "\n",
              "    .dataframe thead th {\n",
              "        text-align: right;\n",
              "    }\n",
              "</style>\n",
              "<table border=\"1\" class=\"dataframe\">\n",
              "  <thead>\n",
              "    <tr style=\"text-align: right;\">\n",
              "      <th></th>\n",
              "      <th>user-screen_name</th>\n",
              "      <th>retweeted_status-user-screen_name</th>\n",
              "    </tr>\n",
              "  </thead>\n",
              "  <tbody>\n",
              "    <tr>\n",
              "      <th>0</th>\n",
              "      <td>moonsootyong</td>\n",
              "      <td>whotamelonsugar</td>\n",
              "    </tr>\n",
              "    <tr>\n",
              "      <th>1</th>\n",
              "      <td>Winter_bear1997</td>\n",
              "      <td>YoceOs</td>\n",
              "    </tr>\n",
              "    <tr>\n",
              "      <th>2</th>\n",
              "      <td>edaloveskenia</td>\n",
              "      <td>Constanpr</td>\n",
              "    </tr>\n",
              "    <tr>\n",
              "      <th>3</th>\n",
              "      <td>LeeBer37753434</td>\n",
              "      <td>leonXD__</td>\n",
              "    </tr>\n",
              "    <tr>\n",
              "      <th>4</th>\n",
              "      <td>FelipeCucalon</td>\n",
              "      <td>Michi_Ca_Pin</td>\n",
              "    </tr>\n",
              "  </tbody>\n",
              "</table>\n",
              "</div>"
            ],
            "text/plain": [
              "  user-screen_name retweeted_status-user-screen_name\n",
              "0     moonsootyong                   whotamelonsugar\n",
              "1  Winter_bear1997                            YoceOs\n",
              "2    edaloveskenia                         Constanpr\n",
              "3   LeeBer37753434                          leonXD__\n",
              "4    FelipeCucalon                      Michi_Ca_Pin"
            ]
          },
          "metadata": {
            "tags": []
          },
          "execution_count": 279
        }
      ]
    },
    {
      "cell_type": "code",
      "metadata": {
        "id": "gRs2rtruGrFW",
        "outputId": "125bab97-5989-4687-d3b8-7a4e39424579",
        "colab": {
          "base_uri": "https://localhost:8080/",
          "height": 51
        }
      },
      "source": [
        "G_rt = nx.from_pandas_edgelist(\n",
        "    sotu,\n",
        "    source = 'user-screen_name', \n",
        "    target = 'retweeted_status-user-screen_name',\n",
        "    create_using = nx.DiGraph())\n",
        "    \n",
        "print('Nodes in RT network:', len(G_rt.nodes()))\n",
        "print('Edges in RT network:', len(G_rt.edges()))"
      ],
      "execution_count": null,
      "outputs": [
        {
          "output_type": "stream",
          "text": [
            "Nodes in RT network: 589\n",
            "Edges in RT network: 609\n"
          ],
          "name": "stdout"
        }
      ]
    },
    {
      "cell_type": "code",
      "metadata": {
        "id": "D_rZumXjGrFX",
        "outputId": "d9a80ab8-0fbb-4738-eedb-2137ab3bfaf1",
        "colab": {
          "base_uri": "https://localhost:8080/",
          "height": 51
        }
      },
      "source": [
        "G_reply = nx.from_pandas_edgelist(\n",
        "    sotu,\n",
        "    source = 'user-screen_name', \n",
        "    target = 'in_reply_to_screen_name',\n",
        "    create_using = nx.DiGraph())\n",
        "    \n",
        "print('Nodes in reply network:', len(G_reply.nodes()))\n",
        "\n",
        "print('Edges in reply network:', len(G_reply.edges()))"
      ],
      "execution_count": null,
      "outputs": [
        {
          "output_type": "stream",
          "text": [
            "Nodes in reply network: 749\n",
            "Edges in reply network: 598\n"
          ],
          "name": "stdout"
        }
      ]
    },
    {
      "cell_type": "code",
      "metadata": {
        "id": "xkk0qnxRGrFZ",
        "outputId": "0fd3c035-22e6-4782-9b5e-40e9ee838f90",
        "colab": {
          "base_uri": "https://localhost:8080/",
          "height": 248
        }
      },
      "source": [
        "pos = nx.random_layout(G_rt)\n",
        "\n",
        "sizes = [x[1] for x in G_rt.degree()]\n",
        "\n",
        "nx.draw_networkx(G_rt, pos, \n",
        "    with_labels = False, \n",
        "    node_size = sizes,\n",
        "    width = 0.1, alpha = 0.7,\n",
        "    arrowsize = 2, linewidths = 0)\n",
        "\n",
        "plt.savefig('snapshot/lima_tweets_influencing_graph.png')\n",
        "plt.axis('off'); plt.show()"
      ],
      "execution_count": null,
      "outputs": [
        {
          "output_type": "display_data",
          "data": {
            "image/png": "[encoded data removed]",
            "text/plain": [
              "<Figure size 432x288 with 1 Axes>"
            ]
          },
          "metadata": {
            "tags": []
          }
        }
      ]
    },
    {
      "cell_type": "code",
      "metadata": {
        "id": "2MrzgNFfGrFb",
        "outputId": "9b8c7c7e-79b2-406b-d59c-d4a317baa626",
        "colab": {
          "base_uri": "https://localhost:8080/",
          "height": 248
        }
      },
      "source": [
        "pos = nx.random_layout(G_reply)\n",
        "sizes = [x[1] for x in G_reply.degree()]\n",
        "\n",
        "nx.draw_networkx(G_reply, pos, \n",
        "    with_labels = False, \n",
        "    node_size = sizes,\n",
        "    width = 0.1, alpha = 0.7,\n",
        "    arrowsize = 2, linewidths = 0)\n",
        "\n",
        "plt.axis('off'); plt.show()"
      ],
      "execution_count": null,
      "outputs": [
        {
          "output_type": "display_data",
          "data": {
            "image/png": "[encoded data removed]",
            "text/plain": [
              "<Figure size 432x288 with 1 Axes>"
            ]
          },
          "metadata": {
            "tags": []
          }
        }
      ]
    },
    {
      "cell_type": "code",
      "metadata": {
        "id": "iyJEPk8tGrFe",
        "outputId": "ebb15d1e-95d2-4ed2-ffb6-1fb256499ee4",
        "colab": {
          "base_uri": "https://localhost:8080/",
          "height": 391
        }
      },
      "source": [
        "column_names = ['screen_name', 'degree_centrality']\n",
        "rt_centrality = nx.in_degree_centrality(G_rt)\n",
        "\n",
        "reply_centrality = nx.in_degree_centrality(G_reply)\n",
        "\n",
        "rt = pd.DataFrame(list(rt_centrality.items()), columns = column_names)\n",
        "reply = pd.DataFrame(list(reply_centrality.items()), columns = column_names)\n",
        "\n",
        "display(rt.sort_values('degree_centrality', ascending = False).head())\n",
        "\n",
        "display(reply.sort_values('degree_centrality', ascending = False).head())"
      ],
      "execution_count": null,
      "outputs": [
        {
          "output_type": "display_data",
          "data": {
            "text/html": [
              "<div>\n",
              "<style scoped>\n",
              "    .dataframe tbody tr th:only-of-type {\n",
              "        vertical-align: middle;\n",
              "    }\n",
              "\n",
              "    .dataframe tbody tr th {\n",
              "        vertical-align: top;\n",
              "    }\n",
              "\n",
              "    .dataframe thead th {\n",
              "        text-align: right;\n",
              "    }\n",
              "</style>\n",
              "<table border=\"1\" class=\"dataframe\">\n",
              "  <thead>\n",
              "    <tr style=\"text-align: right;\">\n",
              "      <th></th>\n",
              "      <th>screen_name</th>\n",
              "      <th>degree_centrality</th>\n",
              "    </tr>\n",
              "  </thead>\n",
              "  <tbody>\n",
              "    <tr>\n",
              "      <th>14</th>\n",
              "      <td>corzin443</td>\n",
              "      <td>0.134354</td>\n",
              "    </tr>\n",
              "    <tr>\n",
              "      <th>7</th>\n",
              "      <td>leonXD__</td>\n",
              "      <td>0.127551</td>\n",
              "    </tr>\n",
              "    <tr>\n",
              "      <th>1</th>\n",
              "      <td>whotamelonsugar</td>\n",
              "      <td>0.119048</td>\n",
              "    </tr>\n",
              "    <tr>\n",
              "      <th>5</th>\n",
              "      <td>Constanpr</td>\n",
              "      <td>0.103741</td>\n",
              "    </tr>\n",
              "    <tr>\n",
              "      <th>34</th>\n",
              "      <td>Danna_ArdilaO</td>\n",
              "      <td>0.102041</td>\n",
              "    </tr>\n",
              "  </tbody>\n",
              "</table>\n",
              "</div>"
            ],
            "text/plain": [
              "        screen_name  degree_centrality\n",
              "14        corzin443           0.134354\n",
              "7          leonXD__           0.127551\n",
              "1   whotamelonsugar           0.119048\n",
              "5         Constanpr           0.103741\n",
              "34    Danna_ArdilaO           0.102041"
            ]
          },
          "metadata": {
            "tags": []
          }
        },
        {
          "output_type": "display_data",
          "data": {
            "text/html": [
              "<div>\n",
              "<style scoped>\n",
              "    .dataframe tbody tr th:only-of-type {\n",
              "        vertical-align: middle;\n",
              "    }\n",
              "\n",
              "    .dataframe tbody tr th {\n",
              "        vertical-align: top;\n",
              "    }\n",
              "\n",
              "    .dataframe thead th {\n",
              "        text-align: right;\n",
              "    }\n",
              "</style>\n",
              "<table border=\"1\" class=\"dataframe\">\n",
              "  <thead>\n",
              "    <tr style=\"text-align: right;\">\n",
              "      <th></th>\n",
              "      <th>screen_name</th>\n",
              "      <th>degree_centrality</th>\n",
              "    </tr>\n",
              "  </thead>\n",
              "  <tbody>\n",
              "    <tr>\n",
              "      <th>1</th>\n",
              "      <td>None</td>\n",
              "      <td>0.570856</td>\n",
              "    </tr>\n",
              "    <tr>\n",
              "      <th>111</th>\n",
              "      <td>leoni70803995</td>\n",
              "      <td>0.002674</td>\n",
              "    </tr>\n",
              "    <tr>\n",
              "      <th>369</th>\n",
              "      <td>lovely_min_k</td>\n",
              "      <td>0.002674</td>\n",
              "    </tr>\n",
              "    <tr>\n",
              "      <th>546</th>\n",
              "      <td>jmvalerapiedras</td>\n",
              "      <td>0.002674</td>\n",
              "    </tr>\n",
              "    <tr>\n",
              "      <th>62</th>\n",
              "      <td>jimenaajimenezr</td>\n",
              "      <td>0.002674</td>\n",
              "    </tr>\n",
              "  </tbody>\n",
              "</table>\n",
              "</div>"
            ],
            "text/plain": [
              "         screen_name  degree_centrality\n",
              "1               None           0.570856\n",
              "111    leoni70803995           0.002674\n",
              "369     lovely_min_k           0.002674\n",
              "546  jmvalerapiedras           0.002674\n",
              "62   jimenaajimenezr           0.002674"
            ]
          },
          "metadata": {
            "tags": []
          }
        }
      ]
    },
    {
      "cell_type": "code",
      "metadata": {
        "id": "9fT6t9GOGrFf",
        "outputId": "cbb824d4-3f20-485e-f560-686e43584b40",
        "colab": {
          "base_uri": "https://localhost:8080/",
          "height": 391
        }
      },
      "source": [
        "column_names = ['screen_name', 'betweenness_centrality']\n",
        "# Generate betweenness centrality for retweets \n",
        "rt_centrality = nx.betweenness_centrality(G_rt)\n",
        "\n",
        "# Generate betweenness centrality for replies \n",
        "reply_centrality = nx.betweenness_centrality(G_reply)\n",
        "\n",
        "# Store centralities in data frames\n",
        "rt = pd.DataFrame(list(rt_centrality.items()), columns = column_names)\n",
        "reply = pd.DataFrame(list(reply_centrality.items()), columns = column_names)\n",
        "\n",
        "# Print first five results in descending order of centrality\n",
        "display(rt.sort_values('betweenness_centrality', ascending = False).head())\n",
        "\n",
        "# Print first five results in descending order of centrality\n",
        "display(reply.sort_values('betweenness_centrality', ascending = False).head())"
      ],
      "execution_count": null,
      "outputs": [
        {
          "output_type": "display_data",
          "data": {
            "text/html": [
              "<div>\n",
              "<style scoped>\n",
              "    .dataframe tbody tr th:only-of-type {\n",
              "        vertical-align: middle;\n",
              "    }\n",
              "\n",
              "    .dataframe tbody tr th {\n",
              "        vertical-align: top;\n",
              "    }\n",
              "\n",
              "    .dataframe thead th {\n",
              "        text-align: right;\n",
              "    }\n",
              "</style>\n",
              "<table border=\"1\" class=\"dataframe\">\n",
              "  <thead>\n",
              "    <tr style=\"text-align: right;\">\n",
              "      <th></th>\n",
              "      <th>screen_name</th>\n",
              "      <th>betweenness_centrality</th>\n",
              "    </tr>\n",
              "  </thead>\n",
              "  <tbody>\n",
              "    <tr>\n",
              "      <th>14</th>\n",
              "      <td>corzin443</td>\n",
              "      <td>0.004016</td>\n",
              "    </tr>\n",
              "    <tr>\n",
              "      <th>51</th>\n",
              "      <td>kmiilinn</td>\n",
              "      <td>0.002161</td>\n",
              "    </tr>\n",
              "    <tr>\n",
              "      <th>9</th>\n",
              "      <td>Michi_Ca_Pin</td>\n",
              "      <td>0.001792</td>\n",
              "    </tr>\n",
              "    <tr>\n",
              "      <th>1</th>\n",
              "      <td>whotamelonsugar</td>\n",
              "      <td>0.001751</td>\n",
              "    </tr>\n",
              "    <tr>\n",
              "      <th>28</th>\n",
              "      <td>Crackalaka2</td>\n",
              "      <td>0.001686</td>\n",
              "    </tr>\n",
              "  </tbody>\n",
              "</table>\n",
              "</div>"
            ],
            "text/plain": [
              "        screen_name  betweenness_centrality\n",
              "14        corzin443                0.004016\n",
              "51         kmiilinn                0.002161\n",
              "9      Michi_Ca_Pin                0.001792\n",
              "1   whotamelonsugar                0.001751\n",
              "28      Crackalaka2                0.001686"
            ]
          },
          "metadata": {
            "tags": []
          }
        },
        {
          "output_type": "display_data",
          "data": {
            "text/html": [
              "<div>\n",
              "<style scoped>\n",
              "    .dataframe tbody tr th:only-of-type {\n",
              "        vertical-align: middle;\n",
              "    }\n",
              "\n",
              "    .dataframe tbody tr th {\n",
              "        vertical-align: top;\n",
              "    }\n",
              "\n",
              "    .dataframe thead th {\n",
              "        text-align: right;\n",
              "    }\n",
              "</style>\n",
              "<table border=\"1\" class=\"dataframe\">\n",
              "  <thead>\n",
              "    <tr style=\"text-align: right;\">\n",
              "      <th></th>\n",
              "      <th>screen_name</th>\n",
              "      <th>betweenness_centrality</th>\n",
              "    </tr>\n",
              "  </thead>\n",
              "  <tbody>\n",
              "    <tr>\n",
              "      <th>261</th>\n",
              "      <td>rosamt5</td>\n",
              "      <td>0.000002</td>\n",
              "    </tr>\n",
              "    <tr>\n",
              "      <th>509</th>\n",
              "      <td>stigmxjk</td>\n",
              "      <td>0.000002</td>\n",
              "    </tr>\n",
              "    <tr>\n",
              "      <th>76</th>\n",
              "      <td>LuSKabeche</td>\n",
              "      <td>0.000002</td>\n",
              "    </tr>\n",
              "    <tr>\n",
              "      <th>0</th>\n",
              "      <td>moonsootyong</td>\n",
              "      <td>0.000000</td>\n",
              "    </tr>\n",
              "    <tr>\n",
              "      <th>502</th>\n",
              "      <td>Castelopio</td>\n",
              "      <td>0.000000</td>\n",
              "    </tr>\n",
              "  </tbody>\n",
              "</table>\n",
              "</div>"
            ],
            "text/plain": [
              "      screen_name  betweenness_centrality\n",
              "261       rosamt5                0.000002\n",
              "509      stigmxjk                0.000002\n",
              "76     LuSKabeche                0.000002\n",
              "0    moonsootyong                0.000000\n",
              "502    Castelopio                0.000000"
            ]
          },
          "metadata": {
            "tags": []
          }
        }
      ]
    },
    {
      "cell_type": "code",
      "metadata": {
        "id": "Kq-0BfOAGrFh",
        "outputId": "f8dc3f76-b6a1-4078-c300-9dd914436054",
        "colab": {
          "base_uri": "https://localhost:8080/",
          "height": 204
        }
      },
      "source": [
        "column_names = ['screen_name', 'degree']\n",
        "\n",
        "degree_rt = pd.DataFrame(list(G_rt.in_degree()), columns = column_names)\n",
        "degree_reply = pd.DataFrame(list(G_reply.in_degree()), columns = column_names)\n",
        "\n",
        "ratio = degree_rt.merge(degree_reply, on = 'screen_name', suffixes = ('_rt', '_reply'))\n",
        "\n",
        "ratio['ratio'] = ratio['degree_reply'] / ratio['degree_rt']\n",
        "\n",
        "ratio = ratio[ratio['degree_rt'] >= 5]\n",
        "\n",
        "display(ratio.sort_values('ratio', ascending = False).head())"
      ],
      "execution_count": null,
      "outputs": [
        {
          "output_type": "display_data",
          "data": {
            "text/html": [
              "<div>\n",
              "<style scoped>\n",
              "    .dataframe tbody tr th:only-of-type {\n",
              "        vertical-align: middle;\n",
              "    }\n",
              "\n",
              "    .dataframe tbody tr th {\n",
              "        vertical-align: top;\n",
              "    }\n",
              "\n",
              "    .dataframe thead th {\n",
              "        text-align: right;\n",
              "    }\n",
              "</style>\n",
              "<table border=\"1\" class=\"dataframe\">\n",
              "  <thead>\n",
              "    <tr style=\"text-align: right;\">\n",
              "      <th></th>\n",
              "      <th>screen_name</th>\n",
              "      <th>degree_rt</th>\n",
              "      <th>degree_reply</th>\n",
              "      <th>ratio</th>\n",
              "    </tr>\n",
              "  </thead>\n",
              "  <tbody>\n",
              "    <tr>\n",
              "      <th>14</th>\n",
              "      <td>corzin443</td>\n",
              "      <td>79</td>\n",
              "      <td>1</td>\n",
              "      <td>0.012658</td>\n",
              "    </tr>\n",
              "    <tr>\n",
              "      <th>1</th>\n",
              "      <td>whotamelonsugar</td>\n",
              "      <td>70</td>\n",
              "      <td>0</td>\n",
              "      <td>0.000000</td>\n",
              "    </tr>\n",
              "    <tr>\n",
              "      <th>3</th>\n",
              "      <td>YoceOs</td>\n",
              "      <td>51</td>\n",
              "      <td>0</td>\n",
              "      <td>0.000000</td>\n",
              "    </tr>\n",
              "    <tr>\n",
              "      <th>5</th>\n",
              "      <td>Constanpr</td>\n",
              "      <td>61</td>\n",
              "      <td>0</td>\n",
              "      <td>0.000000</td>\n",
              "    </tr>\n",
              "    <tr>\n",
              "      <th>7</th>\n",
              "      <td>leonXD__</td>\n",
              "      <td>75</td>\n",
              "      <td>0</td>\n",
              "      <td>0.000000</td>\n",
              "    </tr>\n",
              "  </tbody>\n",
              "</table>\n",
              "</div>"
            ],
            "text/plain": [
              "        screen_name  degree_rt  degree_reply     ratio\n",
              "14        corzin443         79             1  0.012658\n",
              "1   whotamelonsugar         70             0  0.000000\n",
              "3            YoceOs         51             0  0.000000\n",
              "5         Constanpr         61             0  0.000000\n",
              "7          leonXD__         75             0  0.000000"
            ]
          },
          "metadata": {
            "tags": []
          }
        }
      ]
    },
    {
      "cell_type": "markdown",
      "metadata": {
        "id": "asL98x9G607w"
      },
      "source": [
        "```py\n",
        "!jupyter nbconvert --to html {FILE_HTML_nb} --output {FILE_HTML}\n",
        "with open(FILE_HTML, 'r') as file:\n",
        "    content = file.read()\n",
        "content = content.replace(\"div.input_area {\",\"div.input_area {\\n\\tdisplay: none;\")    \n",
        "content = content.replace(\".prompt {\",\".prompt {\\n\\tdisplay: none;\")\n",
        "f = open(FILE_HTML, 'w')\n",
        "f.write(content)\n",
        "f.close()\n",
        "```"
      ]
    },
    {
      "cell_type": "code",
      "metadata": {
        "id": "FfhGw7JmGrFj"
      },
      "source": [
        ""
      ],
      "execution_count": null,
      "outputs": []
    }
  ]
}